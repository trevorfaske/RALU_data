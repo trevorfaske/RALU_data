{
 "cells": [
  {
   "cell_type": "code",
   "execution_count": 1,
   "metadata": {
    "ExecuteTime": {}
   },
   "outputs": [
    {
     "name": "stdout",
     "output_type": "stream",
     "text": [
      "/usr/bin/sh: line 0: source: activate: file not found\r\n"
     ]
    }
   ],
   "source": [
    "!source activate py36"
   ]
  },
  {
   "cell_type": "code",
   "execution_count": 2,
   "metadata": {
    "ExecuteTime": {}
   },
   "outputs": [],
   "source": [
    "import sys\n",
    "\n",
    "#sys.path.append('/home/faske/g/anaconda3/envs/py34/lib/python3.4/site-packages')\n",
    "sys.path.append('/data/gpfs/assoc/parchmanlab/tfaske/anaconda3/envs/py36/lib/python3.6/site-packages')\n",
    "sys.path.append(\"/data/gpfs/assoc/parchmanlab/tfaske/ipynb/include_utils\")\n",
    "\n",
    "import ipyparallel as ipp\n",
    "import os, time\n",
    "from os import environ\n",
    "import include_utils as u\n",
    "import pandas as pd\n",
    "import numpy as np\n",
    "import scipy as sp\n",
    "import numbers\n",
    "import matplotlib.pyplot as plt\n",
    "import matplotlib.patches as mpatches\n",
    "import matplotlib.cm as cm\n",
    "import matplotlib.colors as mcolors\n",
    "#import vcf\n",
    "from sklearn import preprocessing\n",
    "from subprocess import Popen, PIPE, call, check_output\n",
    "import seaborn as sns\n",
    "from IPython.display import FileLink\n",
    "import urllib.request as urllib2\n",
    "import dill\n",
    "import traceback\n",
    "from pandas import Series, DataFrame\n",
    "import gzip\n",
    "import warnings\n",
    "warnings.filterwarnings('ignore',category=pd.io.pytables.PerformanceWarning)\n",
    "%config InlineBackend.figure_format = 'retina'\n",
    "from Bio import SeqIO\n",
    "#import pysam\n",
    "from collections import OrderedDict, namedtuple, Counter\n",
    "import operator\n",
    "import multiprocessing as mp\n",
    "import shutil\n",
    "import tempfile\n",
    "#from ipyparallel import Client\n",
    "import scandir\n",
    "import glob\n",
    "from Bio.SeqIO.QualityIO import FastqGeneralIterator\n",
    "import pickle\n",
    "import re\n",
    "from itertools import chain\n",
    "#import Levenshtein as lv"
   ]
  },
  {
   "cell_type": "code",
   "execution_count": 3,
   "metadata": {
    "ExecuteTime": {}
   },
   "outputs": [],
   "source": [
    "root = \"/data/gpfs/assoc/denovo/tfaske/frogs\""
   ]
  },
  {
   "cell_type": "code",
   "execution_count": 4,
   "metadata": {
    "ExecuteTime": {}
   },
   "outputs": [
    {
     "name": "stdout",
     "output_type": "stream",
     "text": [
      "/data/gpfs/assoc/denovo/tfaske/frogs\n"
     ]
    }
   ],
   "source": [
    "cd $root"
   ]
  },
  {
   "cell_type": "code",
   "execution_count": 5,
   "metadata": {
    "ExecuteTime": {}
   },
   "outputs": [
    {
     "data": {
      "text/plain": [
       "'/data/gpfs/assoc/denovo/tfaske/frogs'"
      ]
     },
     "execution_count": 5,
     "metadata": {},
     "output_type": "execute_result"
    }
   ],
   "source": [
    "pwd"
   ]
  },
  {
   "cell_type": "markdown",
   "metadata": {},
   "source": [
    "## Assembly\n",
    "\n",
    "with dDocent c=.92, k1=6, k2=6"
   ]
  },
  {
   "cell_type": "code",
   "execution_count": 6,
   "metadata": {
    "ExecuteTime": {}
   },
   "outputs": [],
   "source": [
    "assembly = \"/data/gpfs/assoc/denovo/tfaske/frogs/assembly/reference.fasta\""
   ]
  },
  {
   "cell_type": "code",
   "execution_count": 8,
   "metadata": {},
   "outputs": [],
   "source": [
    "!samtools faidx $assembly"
   ]
  },
  {
   "cell_type": "markdown",
   "metadata": {},
   "source": [
    "## Actual Mapping \n",
    " "
   ]
  },
  {
   "cell_type": "code",
   "execution_count": 12,
   "metadata": {
    "ExecuteTime": {}
   },
   "outputs": [],
   "source": [
    "fastq_files = []\n",
    "files = !find newFastq -name '*fq.gz'\n",
    "files = [os.path.abspath(x) for x in files]\n",
    "for x in files:\n",
    "    fastq_files.append(x)\n",
    "fastq_files = sorted(fastq_files)"
   ]
  },
  {
   "cell_type": "code",
   "execution_count": 13,
   "metadata": {
    "ExecuteTime": {}
   },
   "outputs": [
    {
     "data": {
      "text/plain": [
       "(323, '/data/gpfs/assoc/denovo/tfaske/frogs/newFastq/RL_AD1C_200.F.fq.gz')"
      ]
     },
     "execution_count": 13,
     "metadata": {},
     "output_type": "execute_result"
    }
   ],
   "source": [
    "len(fastq_files),fastq_files[0]"
   ]
  },
  {
   "cell_type": "code",
   "execution_count": 11,
   "metadata": {},
   "outputs": [
    {
     "name": "stdout",
     "output_type": "stream",
     "text": [
      "/data/gpfs/assoc/denovo/tfaske/CHDO\n"
     ]
    }
   ],
   "source": [
    "cd $root"
   ]
  },
  {
   "cell_type": "code",
   "execution_count": 12,
   "metadata": {
    "ExecuteTime": {}
   },
   "outputs": [],
   "source": [
    "# -k INT minimum seed length [19]\n",
    "# -w INT band width for banded alignment [100]\n",
    "# -r FLOAT look for internal seeds inside a seed longer than {-k} * FLOAT [1.5]\n",
    "# -T INT minimum score to output [30]\n",
    "# -R STR read group header line such as '@RG\\tID:foo\\tSM:bar' [null]\n",
    "\n",
    "#@lview.remote()\n",
    "def run_bwamem(args):\n",
    "    import os, multiprocessing, socket\n",
    "    cpus = 1\n",
    "    assembly, fq, outdir = args\n",
    "    ID = fq.split('/')[8] ### need to change this to match your ID \n",
    "    ID = ID.split('.F.')[0] ### This too \n",
    "    sam = os.path.join(outdir, \"{}.sam\".format(os.path.basename(ID)))\n",
    "    bam = sam.replace('.sam','.bam')\n",
    "    bam_sorted = \"%s_sorted.bam\" % bam.replace(\".bam\", \"\")\n",
    "    bwa_cmd = r\"bwa mem -k 20 -w 100 -r 1.3 -T 30 -R '@RG\\tID:%s\\tLB:%s\\tSM:%s\\tPL:ILLUMINA' %s %s > %s\" % (ID,ID,ID,assembly,fq,sam)\n",
    "    s2b_cmd =  \"samtools view -b %s -o %s\\n\\nsamtools sort -@ %s %s -o %s\\n\\nsamtools index %s\\n\\n\" % (sam,bam,cpus,bam,bam_sorted,bam_sorted)                                                              \n",
    "    return  bwa_cmd,s2b_cmd "
   ]
  },
  {
   "cell_type": "code",
   "execution_count": 13,
   "metadata": {},
   "outputs": [],
   "source": [
    "!mkdir SNPcall"
   ]
  },
  {
   "cell_type": "code",
   "execution_count": 14,
   "metadata": {},
   "outputs": [],
   "source": [
    "!mkdir SNPcall/bwa"
   ]
  },
  {
   "cell_type": "code",
   "execution_count": 15,
   "metadata": {},
   "outputs": [],
   "source": [
    "!mkdir SNPcall/bwa/shdir"
   ]
  },
  {
   "cell_type": "code",
   "execution_count": 16,
   "metadata": {},
   "outputs": [],
   "source": [
    "bwa_dir = os.path.join(root,\"SNPcall/bwa/\")\n",
    "assert(bwa_dir)"
   ]
  },
  {
   "cell_type": "code",
   "execution_count": 17,
   "metadata": {},
   "outputs": [],
   "source": [
    "### creates a list of commands for bwa-mem for each fastq file\n",
    "res_bwa = []\n",
    "res_s2b = []\n",
    "for f in fastq_files:\n",
    "    r1,r2 = run_bwamem((assembly, f, bwa_dir))\n",
    "    res_bwa.append(r1)\n",
    "    res_s2b.append(r2)"
   ]
  },
  {
   "cell_type": "code",
   "execution_count": 18,
   "metadata": {},
   "outputs": [
    {
     "data": {
      "text/plain": [
       "(274,\n",
       " \"bwa mem -k 20 -w 100 -r 1.3 -T 30 -R '@RG\\\\tID:CD2_IP_1\\\\tLB:CD2_IP_1\\\\tSM:CD2_IP_1\\\\tPL:ILLUMINA' /data/gpfs/assoc/denovo/tfaske/CHDO/assembly/reference.fasta /data/gpfs/assoc/denovo/tfaske/CHDO/fastq_known/CD2_IP_1.F.fq.gz > /data/gpfs/assoc/denovo/tfaske/CHDO/SNPcall/bwa/CD2_IP_1.sam\")"
      ]
     },
     "execution_count": 18,
     "metadata": {},
     "output_type": "execute_result"
    }
   ],
   "source": [
    "len(res_bwa),res_bwa[0]"
   ]
  },
  {
   "cell_type": "code",
   "execution_count": 19,
   "metadata": {},
   "outputs": [
    {
     "data": {
      "text/plain": [
       "(274,\n",
       " 'samtools view -b /data/gpfs/assoc/denovo/tfaske/CHDO/SNPcall/bwa/CD2_IP_1.sam -o /data/gpfs/assoc/denovo/tfaske/CHDO/SNPcall/bwa/CD2_IP_1.bam\\n\\nsamtools sort -@ 1 /data/gpfs/assoc/denovo/tfaske/CHDO/SNPcall/bwa/CD2_IP_1.bam -o /data/gpfs/assoc/denovo/tfaske/CHDO/SNPcall/bwa/CD2_IP_1_sorted.bam\\n\\nsamtools index /data/gpfs/assoc/denovo/tfaske/CHDO/SNPcall/bwa/CD2_IP_1_sorted.bam\\n\\n')"
      ]
     },
     "execution_count": 19,
     "metadata": {},
     "output_type": "execute_result"
    }
   ],
   "source": [
    "len(res_s2b),res_s2b[0]"
   ]
  },
  {
   "cell_type": "code",
   "execution_count": 20,
   "metadata": {},
   "outputs": [
    {
     "name": "stdout",
     "output_type": "stream",
     "text": [
      "/data/gpfs/assoc/denovo/tfaske/CHDO/SNPcall/bwa\n"
     ]
    }
   ],
   "source": [
    "cd $bwa_dir"
   ]
  },
  {
   "cell_type": "markdown",
   "metadata": {},
   "source": [
    "#### Below selects options for slurm submission and is a function for creating a slurm script per fastq"
   ]
  },
  {
   "cell_type": "code",
   "execution_count": 21,
   "metadata": {},
   "outputs": [],
   "source": [
    "fq_ID = [fq.split('/')[8].split('.F.')[0] for fq in fastq_files]"
   ]
  },
  {
   "cell_type": "code",
   "execution_count": 22,
   "metadata": {},
   "outputs": [
    {
     "data": {
      "text/plain": [
       "(274, 'CD2_IP_1')"
      ]
     },
     "execution_count": 22,
     "metadata": {},
     "output_type": "execute_result"
    }
   ],
   "source": [
    "len(fq_ID), fq_ID[0]"
   ]
  },
  {
   "cell_type": "code",
   "execution_count": 23,
   "metadata": {},
   "outputs": [],
   "source": [
    "### select options for slurm submission\n",
    "account = 'cpu-s5-denovo-0'\n",
    "partition = 'cpu-core-0'\n",
    "jobname = 'bwa_ARTR'\n",
    "time = '1-00:00:00' #time limit 1 day\n",
    "cpus = 1\n",
    "mem_cpu = 10000\n",
    "email = 'tfaske@nevada.unr.edu'"
   ]
  },
  {
   "cell_type": "code",
   "execution_count": 24,
   "metadata": {},
   "outputs": [],
   "source": [
    "def write_bwamem_ind_sh(account,partition,time,jobname,cpus,mem_cpu,email,fq_ID,bwa_cmds,s2b_cmds):\n",
    "    #print(account)\n",
    "    #print(partition)\n",
    "    #print(cpus)\n",
    "    #print(email)\n",
    "    #print(cmds[0])\n",
    "    for i in range(0,len(bwa_cmds)):\n",
    "        with open(\"shdir/run_bwamem_%s.sh\" % (fq_ID[i]), \"w\") as o:\n",
    "            o.write(\"\"\"#!/usr/bin/env bash\n",
    "#SBATCH --account=%s\n",
    "#SBATCH --partition=%s\n",
    "#SBATCH --time=%s\n",
    "#SBATCH --ntasks 1\n",
    "#SBATCH --cpus-per-task %d\n",
    "#SBATCH --mem-per-cpu=%d\n",
    "#SBATCH --job-name %s_bwamem\n",
    "#SBATCH --output bwa/shdir/output_bwamem_%s.txt\n",
    "#SBATCH --mail-type=FAIL\n",
    "#SBATCH --mail-user=%s \\n\\n\n",
    "    \n",
    "%s \\n\\n\n",
    "%s \\n\"\"\" % (account,partition,time,int(cpus),int(mem_cpu),fq_ID[i],fq_ID[i],email,bwa_cmds[i],s2b_cmds[i]))"
   ]
  },
  {
   "cell_type": "code",
   "execution_count": 25,
   "metadata": {},
   "outputs": [],
   "source": [
    "write_bwamem_ind_sh(account,partition,time,jobname,cpus,mem_cpu,email,fq_ID,res_bwa,res_s2b)"
   ]
  },
  {
   "cell_type": "markdown",
   "metadata": {},
   "source": [
    "#### finds all bwa slurm scripts and writes bash script to sbatch them"
   ]
  },
  {
   "cell_type": "code",
   "execution_count": 26,
   "metadata": {},
   "outputs": [],
   "source": [
    "shbwa_files = []\n",
    "files = !find ./shdir -name '*.sh'\n",
    "files = [os.path.abspath(x) for x in files]\n",
    "for x in files:\n",
    "        shbwa_files.append(x)\n",
    "shbwa_files = sorted(shbwa_files)"
   ]
  },
  {
   "cell_type": "code",
   "execution_count": 27,
   "metadata": {},
   "outputs": [
    {
     "data": {
      "text/plain": [
       "(274,\n",
       " '/data/gpfs/assoc/denovo/tfaske/CHDO/SNPcall/bwa/shdir/run_bwamem_CD2_IP_1.sh')"
      ]
     },
     "execution_count": 27,
     "metadata": {},
     "output_type": "execute_result"
    }
   ],
   "source": [
    "len(shbwa_files),shbwa_files[0]"
   ]
  },
  {
   "cell_type": "code",
   "execution_count": 28,
   "metadata": {},
   "outputs": [],
   "source": [
    "def write_bash_bwamem_sh(sh_files):\n",
    "    with open(\"SNPcall/run_bash_bwa.sh\", \"w\") as o:\n",
    "        o.write(\"\"\"#!/usr/bin/env bash \\n\\n\"\"\")\n",
    "        for f in sh_files:\n",
    "            o.write(\"sbatch %s \\n\" % (f))    "
   ]
  },
  {
   "cell_type": "code",
   "execution_count": 29,
   "metadata": {},
   "outputs": [
    {
     "name": "stdout",
     "output_type": "stream",
     "text": [
      "/data/gpfs/assoc/denovo/tfaske/CHDO\n"
     ]
    }
   ],
   "source": [
    "cd $root"
   ]
  },
  {
   "cell_type": "code",
   "execution_count": 30,
   "metadata": {},
   "outputs": [],
   "source": [
    "write_bash_bwamem_sh(shbwa_files)"
   ]
  },
  {
   "cell_type": "markdown",
   "metadata": {},
   "source": [
    "# Run run_bash_bwamem_sh locally\n",
    "    cd /data/gpfs/assoc/denovo/tfaske/sagebrush/SNPcall \n",
    "    source activate py36\n",
    "    bash run_bash_bwa.sh\n",
    "    \n",
    "## Remove sam files and unsorted bams\n",
    "\n",
    "       whatever, run in terminal. Move sorted bams, rm bam, mv back"
   ]
  },
  {
   "cell_type": "code",
   "execution_count": 31,
   "metadata": {},
   "outputs": [
    {
     "name": "stdout",
     "output_type": "stream",
     "text": [
      "/data/gpfs/assoc/denovo/tfaske/CHDO/SNPcall/bwa\n"
     ]
    }
   ],
   "source": [
    "cd $bwa_dir"
   ]
  },
  {
   "cell_type": "code",
   "execution_count": 32,
   "metadata": {},
   "outputs": [],
   "source": [
    "sams = !find $bwa_dir -name \"*.sam\""
   ]
  },
  {
   "cell_type": "code",
   "execution_count": 33,
   "metadata": {},
   "outputs": [
    {
     "data": {
      "text/plain": [
       "(274, 274)"
      ]
     },
     "execution_count": 33,
     "metadata": {},
     "output_type": "execute_result"
    }
   ],
   "source": [
    "len(fastq_files), len(sams)"
   ]
  },
  {
   "cell_type": "code",
   "execution_count": 34,
   "metadata": {},
   "outputs": [],
   "source": [
    "!rm *.sam"
   ]
  },
  {
   "cell_type": "code",
   "execution_count": 35,
   "metadata": {},
   "outputs": [
    {
     "data": {
      "text/plain": [
       "[]"
      ]
     },
     "execution_count": 35,
     "metadata": {},
     "output_type": "execute_result"
    }
   ],
   "source": [
    "sams = !find $bwa_dir -name \"*.sam\"\n",
    "sams"
   ]
  },
  {
   "cell_type": "markdown",
   "metadata": {},
   "source": [
    "# Calculates coverage from bam_files (do later, after SNP call) \n",
    "\n",
    "need to rewrite to calculate individually, save data, and write mean to outfile. \n",
    "\n",
    "also outputs a file called \"bam_coverage.csv\" in the bam folder\n",
    "\n",
    "samtools depth -a AT2_BB_10_mapped.bam  |  awk '{sum+=$3} END { print \"Average = \",sum/NR}'"
   ]
  },
  {
   "cell_type": "code",
   "execution_count": 120,
   "metadata": {},
   "outputs": [],
   "source": [
    "samtools = \"samtools\""
   ]
  },
  {
   "cell_type": "code",
   "execution_count": 176,
   "metadata": {},
   "outputs": [
    {
     "name": "stdout",
     "output_type": "stream",
     "text": [
      "/data/gpfs/assoc/denovo/tfaske/sagebrush/SNPcall/bwa\n"
     ]
    }
   ],
   "source": [
    "cd $bwa_dir"
   ]
  },
  {
   "cell_type": "code",
   "execution_count": 177,
   "metadata": {},
   "outputs": [],
   "source": [
    "!mkdir bam_coverage"
   ]
  },
  {
   "cell_type": "code",
   "execution_count": 178,
   "metadata": {},
   "outputs": [],
   "source": [
    "!mkdir bam_coverage/shdir"
   ]
  },
  {
   "cell_type": "code",
   "execution_count": 179,
   "metadata": {},
   "outputs": [
    {
     "data": {
      "text/plain": [
       "(708, 708)"
      ]
     },
     "execution_count": 179,
     "metadata": {},
     "output_type": "execute_result"
    }
   ],
   "source": [
    "bam_files = []\n",
    "files = !find . -type f -name '*sorted.bam'\n",
    "files = [os.path.abspath(x) for x in files if 'bam' in x]\n",
    "for x in files:\n",
    "    bam_files.append(x)\n",
    "bam_files = sorted(bam_files)\n",
    "\n",
    "len(bam_files), len(fastq_files)\n",
    "#missing 3 bam files from lane1"
   ]
  },
  {
   "cell_type": "code",
   "execution_count": 180,
   "metadata": {},
   "outputs": [
    {
     "data": {
      "text/plain": [
       "(708,\n",
       " '/data/gpfs/assoc/denovo/tfaske/sagebrush/SNPcall/bwa/AT2_BB_10_sorted.bam')"
      ]
     },
     "execution_count": 180,
     "metadata": {},
     "output_type": "execute_result"
    }
   ],
   "source": [
    "len(bam_files), bam_files[0]"
   ]
  },
  {
   "cell_type": "code",
   "execution_count": 60,
   "metadata": {},
   "outputs": [
    {
     "name": "stdout",
     "output_type": "stream",
     "text": [
      "/data/gpfs/assoc/denovo/tfaske/sagebrush/SNPcall/bwa/AT2_BB_10_sorted.bam\n",
      "39.555471422859505 AT2_BB_10_sorted.bam\n",
      "/data/gpfs/assoc/denovo/tfaske/sagebrush/SNPcall/bwa/AT2_BB_11_sorted.bam\n",
      "29.41701112783531 AT2_BB_11_sorted.bam\n",
      "/data/gpfs/assoc/denovo/tfaske/sagebrush/SNPcall/bwa/AT2_BB_12_sorted.bam\n",
      "24.936499152389548 AT2_BB_12_sorted.bam\n",
      "/data/gpfs/assoc/denovo/tfaske/sagebrush/SNPcall/bwa/AT2_BB_13_sorted.bam\n",
      "35.26101766764322 AT2_BB_13_sorted.bam\n",
      "/data/gpfs/assoc/denovo/tfaske/sagebrush/SNPcall/bwa/AT2_BB_14_sorted.bam\n",
      "47.64388271295441 AT2_BB_14_sorted.bam\n",
      "/data/gpfs/assoc/denovo/tfaske/sagebrush/SNPcall/bwa/AT2_BB_15_sorted.bam\n",
      "41.79557078249646 AT2_BB_15_sorted.bam\n",
      "/data/gpfs/assoc/denovo/tfaske/sagebrush/SNPcall/bwa/AT2_BB_16_sorted.bam\n",
      "35.319190940329 AT2_BB_16_sorted.bam\n",
      "/data/gpfs/assoc/denovo/tfaske/sagebrush/SNPcall/bwa/AT2_BB_17_sorted.bam\n",
      "31.162225364379623 AT2_BB_17_sorted.bam\n",
      "/data/gpfs/assoc/denovo/tfaske/sagebrush/SNPcall/bwa/AT2_BB_1_sorted.bam\n",
      "36.4088546654945 AT2_BB_1_sorted.bam\n",
      "/data/gpfs/assoc/denovo/tfaske/sagebrush/SNPcall/bwa/AT2_BB_2_sorted.bam\n",
      "32.201677659711066 AT2_BB_2_sorted.bam\n",
      "/data/gpfs/assoc/denovo/tfaske/sagebrush/SNPcall/bwa/AT2_BB_3_sorted.bam\n",
      "26.45235809620867 AT2_BB_3_sorted.bam\n",
      "/data/gpfs/assoc/denovo/tfaske/sagebrush/SNPcall/bwa/AT2_BB_4_sorted.bam\n",
      "26.443022848143737 AT2_BB_4_sorted.bam\n",
      "/data/gpfs/assoc/denovo/tfaske/sagebrush/SNPcall/bwa/AT2_BB_5_sorted.bam\n",
      "23.99276810331411 AT2_BB_5_sorted.bam\n",
      "/data/gpfs/assoc/denovo/tfaske/sagebrush/SNPcall/bwa/AT2_BB_6_sorted.bam\n",
      "39.516486846347355 AT2_BB_6_sorted.bam\n",
      "/data/gpfs/assoc/denovo/tfaske/sagebrush/SNPcall/bwa/AT2_BB_7_sorted.bam\n",
      "33.57366469329296 AT2_BB_7_sorted.bam\n",
      "/data/gpfs/assoc/denovo/tfaske/sagebrush/SNPcall/bwa/AT2_BB_8_sorted.bam\n",
      "38.79266367213762 AT2_BB_8_sorted.bam\n",
      "/data/gpfs/assoc/denovo/tfaske/sagebrush/SNPcall/bwa/AT2_BB_9_sorted.bam\n",
      "36.83653577029164 AT2_BB_9_sorted.bam\n",
      "/data/gpfs/assoc/denovo/tfaske/sagebrush/SNPcall/bwa/AT2_BC_17_sorted.bam\n",
      "29.746450811377947 AT2_BC_17_sorted.bam\n",
      "/data/gpfs/assoc/denovo/tfaske/sagebrush/SNPcall/bwa/AT2_BC_18_sorted.bam\n",
      "39.5213147170669 AT2_BC_18_sorted.bam\n",
      "/data/gpfs/assoc/denovo/tfaske/sagebrush/SNPcall/bwa/AT2_BC_19_sorted.bam\n",
      "30.848746237518963 AT2_BC_19_sorted.bam\n",
      "/data/gpfs/assoc/denovo/tfaske/sagebrush/SNPcall/bwa/AT2_BC_20_sorted.bam\n",
      "47.09375877675545 AT2_BC_20_sorted.bam\n",
      "/data/gpfs/assoc/denovo/tfaske/sagebrush/SNPcall/bwa/AT2_BC_21_sorted.bam\n",
      "32.71008939437482 AT2_BC_21_sorted.bam\n",
      "/data/gpfs/assoc/denovo/tfaske/sagebrush/SNPcall/bwa/AT2_BC_22_sorted.bam\n",
      "25.3359953720864 AT2_BC_22_sorted.bam\n",
      "/data/gpfs/assoc/denovo/tfaske/sagebrush/SNPcall/bwa/AT2_BC_23_sorted.bam\n",
      "27.91317222706877 AT2_BC_23_sorted.bam\n",
      "/data/gpfs/assoc/denovo/tfaske/sagebrush/SNPcall/bwa/AT2_BT_1_sorted.bam\n",
      "31.76005576927338 AT2_BT_1_sorted.bam\n",
      "/data/gpfs/assoc/denovo/tfaske/sagebrush/SNPcall/bwa/AT2_BT_2_sorted.bam\n",
      "31.665009412378545 AT2_BT_2_sorted.bam\n",
      "/data/gpfs/assoc/denovo/tfaske/sagebrush/SNPcall/bwa/AT2_BT_3_sorted.bam\n",
      "38.18600628180603 AT2_BT_3_sorted.bam\n",
      "/data/gpfs/assoc/denovo/tfaske/sagebrush/SNPcall/bwa/AT2_BT_4_sorted.bam\n",
      "31.324098564013422 AT2_BT_4_sorted.bam\n",
      "/data/gpfs/assoc/denovo/tfaske/sagebrush/SNPcall/bwa/AT2_BT_57_sorted.bam\n",
      "23.75762964140855 AT2_BT_57_sorted.bam\n",
      "/data/gpfs/assoc/denovo/tfaske/sagebrush/SNPcall/bwa/AT2_BT_58_sorted.bam\n",
      "22.631571528510122 AT2_BT_58_sorted.bam\n",
      "/data/gpfs/assoc/denovo/tfaske/sagebrush/SNPcall/bwa/AT2_BT_59_sorted.bam\n",
      "41.56167639791036 AT2_BT_59_sorted.bam\n",
      "/data/gpfs/assoc/denovo/tfaske/sagebrush/SNPcall/bwa/AT2_BT_5_sorted.bam\n",
      "19.043500115881795 AT2_BT_5_sorted.bam\n",
      "/data/gpfs/assoc/denovo/tfaske/sagebrush/SNPcall/bwa/AT2_BT_60_sorted.bam\n",
      "29.929497080461438 AT2_BT_60_sorted.bam\n",
      "/data/gpfs/assoc/denovo/tfaske/sagebrush/SNPcall/bwa/AT2_BT_61_sorted.bam\n",
      "40.36370412992373 AT2_BT_61_sorted.bam\n",
      "/data/gpfs/assoc/denovo/tfaske/sagebrush/SNPcall/bwa/AT2_BT_62_sorted.bam\n",
      "24.5803217525559 AT2_BT_62_sorted.bam\n",
      "/data/gpfs/assoc/denovo/tfaske/sagebrush/SNPcall/bwa/AT2_BT_63_sorted.bam\n",
      "53.93238561944175 AT2_BT_63_sorted.bam\n",
      "/data/gpfs/assoc/denovo/tfaske/sagebrush/SNPcall/bwa/AT2_BT_64_sorted.bam\n",
      "34.47237393853725 AT2_BT_64_sorted.bam\n",
      "/data/gpfs/assoc/denovo/tfaske/sagebrush/SNPcall/bwa/AT2_BT_6_sorted.bam\n",
      "44.53077108594942 AT2_BT_6_sorted.bam\n",
      "/data/gpfs/assoc/denovo/tfaske/sagebrush/SNPcall/bwa/AT2_BT_7_sorted.bam\n",
      "43.7539036061207 AT2_BT_7_sorted.bam\n",
      "/data/gpfs/assoc/denovo/tfaske/sagebrush/SNPcall/bwa/AT2_BW_1_sorted.bam\n",
      "22.59147301844032 AT2_BW_1_sorted.bam\n",
      "/data/gpfs/assoc/denovo/tfaske/sagebrush/SNPcall/bwa/AT2_BW_65_sorted.bam\n",
      "23.07060064540177 AT2_BW_65_sorted.bam\n",
      "/data/gpfs/assoc/denovo/tfaske/sagebrush/SNPcall/bwa/AT2_BW_66_sorted.bam\n",
      "25.942173773044466 AT2_BW_66_sorted.bam\n",
      "/data/gpfs/assoc/denovo/tfaske/sagebrush/SNPcall/bwa/AT2_BW_67_sorted.bam\n",
      "25.314776312741735 AT2_BW_67_sorted.bam\n",
      "/data/gpfs/assoc/denovo/tfaske/sagebrush/SNPcall/bwa/AT2_BW_68_sorted.bam\n",
      "22.533263859463258 AT2_BW_68_sorted.bam\n",
      "/data/gpfs/assoc/denovo/tfaske/sagebrush/SNPcall/bwa/AT2_BW_69_sorted.bam\n",
      "26.460681724174336 AT2_BW_69_sorted.bam\n",
      "/data/gpfs/assoc/denovo/tfaske/sagebrush/SNPcall/bwa/AT2_BW_70_sorted.bam\n",
      "39.46243406433807 AT2_BW_70_sorted.bam\n",
      "/data/gpfs/assoc/denovo/tfaske/sagebrush/SNPcall/bwa/AT2_BW_71_sorted.bam\n",
      "52.57966094188043 AT2_BW_71_sorted.bam\n",
      "/data/gpfs/assoc/denovo/tfaske/sagebrush/SNPcall/bwa/AT2_BW_72_sorted.bam\n",
      "40.271929917169594 AT2_BW_72_sorted.bam\n",
      "/data/gpfs/assoc/denovo/tfaske/sagebrush/SNPcall/bwa/AT2_CB_24_sorted.bam\n",
      "41.09483380017947 AT2_CB_24_sorted.bam\n",
      "/data/gpfs/assoc/denovo/tfaske/sagebrush/SNPcall/bwa/AT2_CB_25_sorted.bam\n",
      "32.20128770272237 AT2_CB_25_sorted.bam\n",
      "/data/gpfs/assoc/denovo/tfaske/sagebrush/SNPcall/bwa/AT2_CB_26_sorted.bam\n",
      "28.302288871699904 AT2_CB_26_sorted.bam\n",
      "/data/gpfs/assoc/denovo/tfaske/sagebrush/SNPcall/bwa/AT2_CB_27_sorted.bam\n",
      "31.372530730108892 AT2_CB_27_sorted.bam\n",
      "/data/gpfs/assoc/denovo/tfaske/sagebrush/SNPcall/bwa/AT2_CB_28_sorted.bam\n",
      "29.733525061448063 AT2_CB_28_sorted.bam\n",
      "/data/gpfs/assoc/denovo/tfaske/sagebrush/SNPcall/bwa/AT2_CB_29_sorted.bam\n",
      "15.397650800314041 AT2_CB_29_sorted.bam\n",
      "/data/gpfs/assoc/denovo/tfaske/sagebrush/SNPcall/bwa/AT2_CB_30_sorted.bam\n",
      "29.42074702481429 AT2_CB_30_sorted.bam\n",
      "/data/gpfs/assoc/denovo/tfaske/sagebrush/SNPcall/bwa/AT2_CB_31_sorted.bam\n",
      "25.06478766459703 AT2_CB_31_sorted.bam\n",
      "/data/gpfs/assoc/denovo/tfaske/sagebrush/SNPcall/bwa/AT2_CB_32_sorted.bam\n",
      "30.68702229848135 AT2_CB_32_sorted.bam\n",
      "/data/gpfs/assoc/denovo/tfaske/sagebrush/SNPcall/bwa/AT2_DK_16_sorted.bam\n",
      "29.357462312092025 AT2_DK_16_sorted.bam\n",
      "/data/gpfs/assoc/denovo/tfaske/sagebrush/SNPcall/bwa/AT2_DK_17_sorted.bam\n",
      "24.388374190502145 AT2_DK_17_sorted.bam\n",
      "/data/gpfs/assoc/denovo/tfaske/sagebrush/SNPcall/bwa/AT2_DK_18_sorted.bam\n",
      "27.173809900977297 AT2_DK_18_sorted.bam\n",
      "/data/gpfs/assoc/denovo/tfaske/sagebrush/SNPcall/bwa/AT2_DK_19_sorted.bam\n",
      "30.28414346268981 AT2_DK_19_sorted.bam\n",
      "/data/gpfs/assoc/denovo/tfaske/sagebrush/SNPcall/bwa/AT2_DK_20_sorted.bam\n",
      "19.137049524214945 AT2_DK_20_sorted.bam\n",
      "/data/gpfs/assoc/denovo/tfaske/sagebrush/SNPcall/bwa/AT2_DK_21_sorted.bam\n",
      "16.237689895691922 AT2_DK_21_sorted.bam\n",
      "/data/gpfs/assoc/denovo/tfaske/sagebrush/SNPcall/bwa/AT2_DK_22_sorted.bam\n",
      "18.10796492687088 AT2_DK_22_sorted.bam\n",
      "/data/gpfs/assoc/denovo/tfaske/sagebrush/SNPcall/bwa/AT2_DK_23_sorted.bam\n",
      "24.123971066776335 AT2_DK_23_sorted.bam\n",
      "/data/gpfs/assoc/denovo/tfaske/sagebrush/SNPcall/bwa/AT2_DK_24_sorted.bam\n",
      "18.034041602865756 AT2_DK_24_sorted.bam\n",
      "/data/gpfs/assoc/denovo/tfaske/sagebrush/SNPcall/bwa/AT2_DK_25_sorted.bam\n",
      "17.973449524681932 AT2_DK_25_sorted.bam\n",
      "/data/gpfs/assoc/denovo/tfaske/sagebrush/SNPcall/bwa/AT2_DK_26_sorted.bam\n",
      "22.06897842967895 AT2_DK_26_sorted.bam\n",
      "/data/gpfs/assoc/denovo/tfaske/sagebrush/SNPcall/bwa/AT2_DK_27_sorted.bam\n",
      "16.91920840234515 AT2_DK_27_sorted.bam\n",
      "/data/gpfs/assoc/denovo/tfaske/sagebrush/SNPcall/bwa/AT2_DK_28_sorted.bam\n",
      "40.25856426568958 AT2_DK_28_sorted.bam\n",
      "/data/gpfs/assoc/denovo/tfaske/sagebrush/SNPcall/bwa/AT2_DK_29_sorted.bam\n",
      "29.21879736296704 AT2_DK_29_sorted.bam\n",
      "/data/gpfs/assoc/denovo/tfaske/sagebrush/SNPcall/bwa/AT2_DK_30_sorted.bam\n",
      "34.3125352658017 AT2_DK_30_sorted.bam\n",
      "/data/gpfs/assoc/denovo/tfaske/sagebrush/SNPcall/bwa/AT2_DT_10_sorted.bam\n"
     ]
    },
    {
     "name": "stdout",
     "output_type": "stream",
     "text": [
      "30.39540311436112 AT2_DT_10_sorted.bam\n",
      "/data/gpfs/assoc/denovo/tfaske/sagebrush/SNPcall/bwa/AT2_DT_11_sorted.bam\n",
      "31.37376813657656 AT2_DT_11_sorted.bam\n",
      "/data/gpfs/assoc/denovo/tfaske/sagebrush/SNPcall/bwa/AT2_DT_12_sorted.bam\n",
      "33.433832077832704 AT2_DT_12_sorted.bam\n",
      "/data/gpfs/assoc/denovo/tfaske/sagebrush/SNPcall/bwa/AT2_DT_13_sorted.bam\n",
      "31.44142157481142 AT2_DT_13_sorted.bam\n",
      "/data/gpfs/assoc/denovo/tfaske/sagebrush/SNPcall/bwa/AT2_DT_14_sorted.bam\n",
      "36.765185524938644 AT2_DT_14_sorted.bam\n",
      "/data/gpfs/assoc/denovo/tfaske/sagebrush/SNPcall/bwa/AT2_DT_15_sorted.bam\n",
      "26.385242060046497 AT2_DT_15_sorted.bam\n",
      "/data/gpfs/assoc/denovo/tfaske/sagebrush/SNPcall/bwa/AT2_DT_1_sorted.bam\n",
      "28.220705357165155 AT2_DT_1_sorted.bam\n",
      "/data/gpfs/assoc/denovo/tfaske/sagebrush/SNPcall/bwa/AT2_DT_2_sorted.bam\n",
      "22.14296066044988 AT2_DT_2_sorted.bam\n",
      "/data/gpfs/assoc/denovo/tfaske/sagebrush/SNPcall/bwa/AT2_DT_3_sorted.bam\n",
      "26.338381764482527 AT2_DT_3_sorted.bam\n",
      "/data/gpfs/assoc/denovo/tfaske/sagebrush/SNPcall/bwa/AT2_DT_4_sorted.bam\n",
      "48.18874147599915 AT2_DT_4_sorted.bam\n",
      "/data/gpfs/assoc/denovo/tfaske/sagebrush/SNPcall/bwa/AT2_DT_5_sorted.bam\n",
      "33.20508071059706 AT2_DT_5_sorted.bam\n",
      "/data/gpfs/assoc/denovo/tfaske/sagebrush/SNPcall/bwa/AT2_DT_6_sorted.bam\n",
      "27.403150579124514 AT2_DT_6_sorted.bam\n",
      "/data/gpfs/assoc/denovo/tfaske/sagebrush/SNPcall/bwa/AT2_DT_7_sorted.bam\n",
      "26.88371924923629 AT2_DT_7_sorted.bam\n",
      "/data/gpfs/assoc/denovo/tfaske/sagebrush/SNPcall/bwa/AT2_DT_8_sorted.bam\n",
      "27.901749401267814 AT2_DT_8_sorted.bam\n",
      "/data/gpfs/assoc/denovo/tfaske/sagebrush/SNPcall/bwa/AT2_DT_9_sorted.bam\n",
      "34.38620630927293 AT2_DT_9_sorted.bam\n",
      "/data/gpfs/assoc/denovo/tfaske/sagebrush/SNPcall/bwa/AT2_EC_45_sorted.bam\n",
      "32.22872506490704 AT2_EC_45_sorted.bam\n",
      "/data/gpfs/assoc/denovo/tfaske/sagebrush/SNPcall/bwa/AT2_EC_46_sorted.bam\n",
      "31.143506694971517 AT2_EC_46_sorted.bam\n",
      "/data/gpfs/assoc/denovo/tfaske/sagebrush/SNPcall/bwa/AT2_EC_47_sorted.bam\n",
      "33.130990714421486 AT2_EC_47_sorted.bam\n",
      "/data/gpfs/assoc/denovo/tfaske/sagebrush/SNPcall/bwa/AT2_EC_48_sorted.bam\n",
      "28.010263298353905 AT2_EC_48_sorted.bam\n",
      "/data/gpfs/assoc/denovo/tfaske/sagebrush/SNPcall/bwa/AT2_EC_49_sorted.bam\n",
      "48.70839080515991 AT2_EC_49_sorted.bam\n",
      "/data/gpfs/assoc/denovo/tfaske/sagebrush/SNPcall/bwa/AT2_EC_50_sorted.bam\n",
      "34.886847387485936 AT2_EC_50_sorted.bam\n",
      "/data/gpfs/assoc/denovo/tfaske/sagebrush/SNPcall/bwa/AT2_EC_51_sorted.bam\n",
      "31.82216868466215 AT2_EC_51_sorted.bam\n",
      "/data/gpfs/assoc/denovo/tfaske/sagebrush/SNPcall/bwa/AT2_EC_52_sorted.bam\n",
      "30.301226451163966 AT2_EC_52_sorted.bam\n",
      "/data/gpfs/assoc/denovo/tfaske/sagebrush/SNPcall/bwa/AT2_EC_53_sorted.bam\n",
      "37.929599534021555 AT2_EC_53_sorted.bam\n",
      "/data/gpfs/assoc/denovo/tfaske/sagebrush/SNPcall/bwa/AT2_EW_31_sorted.bam\n",
      "17.747034745429143 AT2_EW_31_sorted.bam\n",
      "/data/gpfs/assoc/denovo/tfaske/sagebrush/SNPcall/bwa/AT2_EW_32_sorted.bam\n",
      "44.36226733820128 AT2_EW_32_sorted.bam\n",
      "/data/gpfs/assoc/denovo/tfaske/sagebrush/SNPcall/bwa/AT2_EW_33_sorted.bam\n",
      "40.27904009983759 AT2_EW_33_sorted.bam\n",
      "/data/gpfs/assoc/denovo/tfaske/sagebrush/SNPcall/bwa/AT2_EW_34_sorted.bam\n",
      "31.408655948960234 AT2_EW_34_sorted.bam\n",
      "/data/gpfs/assoc/denovo/tfaske/sagebrush/SNPcall/bwa/AT2_EW_35_sorted.bam\n",
      "37.160850883227155 AT2_EW_35_sorted.bam\n",
      "/data/gpfs/assoc/denovo/tfaske/sagebrush/SNPcall/bwa/AT2_EW_36_sorted.bam\n",
      "33.49152015577745 AT2_EW_36_sorted.bam\n",
      "/data/gpfs/assoc/denovo/tfaske/sagebrush/SNPcall/bwa/AT2_EW_37_sorted.bam\n",
      "25.0754053754677 AT2_EW_37_sorted.bam\n",
      "/data/gpfs/assoc/denovo/tfaske/sagebrush/SNPcall/bwa/AT2_EW_38_sorted.bam\n",
      "7.177351406544201 AT2_EW_38_sorted.bam\n",
      "/data/gpfs/assoc/denovo/tfaske/sagebrush/SNPcall/bwa/AT2_EW_39_sorted.bam\n",
      "31.18500186290284 AT2_EW_39_sorted.bam\n",
      "/data/gpfs/assoc/denovo/tfaske/sagebrush/SNPcall/bwa/AT2_EW_40_sorted.bam\n",
      "33.77027698662158 AT2_EW_40_sorted.bam\n",
      "/data/gpfs/assoc/denovo/tfaske/sagebrush/SNPcall/bwa/AT2_HC_1_sorted.bam\n",
      "32.814029179884486 AT2_HC_1_sorted.bam\n",
      "/data/gpfs/assoc/denovo/tfaske/sagebrush/SNPcall/bwa/AT2_HC_2_sorted.bam\n",
      "30.641980326392037 AT2_HC_2_sorted.bam\n",
      "/data/gpfs/assoc/denovo/tfaske/sagebrush/SNPcall/bwa/AT2_HC_3_sorted.bam\n",
      "34.22215758717769 AT2_HC_3_sorted.bam\n",
      "/data/gpfs/assoc/denovo/tfaske/sagebrush/SNPcall/bwa/AT2_HC_4_sorted.bam\n",
      "27.467331320299937 AT2_HC_4_sorted.bam\n",
      "/data/gpfs/assoc/denovo/tfaske/sagebrush/SNPcall/bwa/AT2_HC_5_sorted.bam\n",
      "27.33224684334605 AT2_HC_5_sorted.bam\n",
      "/data/gpfs/assoc/denovo/tfaske/sagebrush/SNPcall/bwa/AT2_HC_6_sorted.bam\n",
      "30.31495572169735 AT2_HC_6_sorted.bam\n",
      "/data/gpfs/assoc/denovo/tfaske/sagebrush/SNPcall/bwa/AT2_HC_7_sorted.bam\n",
      "29.497522682764412 AT2_HC_7_sorted.bam\n",
      "/data/gpfs/assoc/denovo/tfaske/sagebrush/SNPcall/bwa/AT2_HC_8_sorted.bam\n",
      "40.7125304407146 AT2_HC_8_sorted.bam\n",
      "/data/gpfs/assoc/denovo/tfaske/sagebrush/SNPcall/bwa/AT2_JV_1_sorted.bam\n",
      "29.623363298313553 AT2_JV_1_sorted.bam\n",
      "/data/gpfs/assoc/denovo/tfaske/sagebrush/SNPcall/bwa/AT2_JV_2_sorted.bam\n",
      "33.3188643668248 AT2_JV_2_sorted.bam\n",
      "/data/gpfs/assoc/denovo/tfaske/sagebrush/SNPcall/bwa/AT2_JV_37_sorted.bam\n",
      "33.087181438971086 AT2_JV_37_sorted.bam\n",
      "/data/gpfs/assoc/denovo/tfaske/sagebrush/SNPcall/bwa/AT2_JV_38_sorted.bam\n",
      "26.52932049873219 AT2_JV_38_sorted.bam\n",
      "/data/gpfs/assoc/denovo/tfaske/sagebrush/SNPcall/bwa/AT2_JV_39_sorted.bam\n",
      "28.259064039745216 AT2_JV_39_sorted.bam\n",
      "/data/gpfs/assoc/denovo/tfaske/sagebrush/SNPcall/bwa/AT2_JV_3_sorted.bam\n",
      "33.27533939555341 AT2_JV_3_sorted.bam\n",
      "/data/gpfs/assoc/denovo/tfaske/sagebrush/SNPcall/bwa/AT2_JV_40_sorted.bam\n",
      "34.16450631849869 AT2_JV_40_sorted.bam\n",
      "/data/gpfs/assoc/denovo/tfaske/sagebrush/SNPcall/bwa/AT2_JV_41_sorted.bam\n",
      "37.427447449532835 AT2_JV_41_sorted.bam\n",
      "/data/gpfs/assoc/denovo/tfaske/sagebrush/SNPcall/bwa/AT2_JV_42_sorted.bam\n",
      "42.06978083701674 AT2_JV_42_sorted.bam\n",
      "/data/gpfs/assoc/denovo/tfaske/sagebrush/SNPcall/bwa/AT2_JV_43_sorted.bam\n",
      "44.21149196041594 AT2_JV_43_sorted.bam\n",
      "/data/gpfs/assoc/denovo/tfaske/sagebrush/SNPcall/bwa/AT2_JV_44_sorted.bam\n",
      "36.404594966006236 AT2_JV_44_sorted.bam\n",
      "/data/gpfs/assoc/denovo/tfaske/sagebrush/SNPcall/bwa/AT2_JV_4_sorted.bam\n",
      "39.37632258324513 AT2_JV_4_sorted.bam\n",
      "/data/gpfs/assoc/denovo/tfaske/sagebrush/SNPcall/bwa/AT2_JV_5_sorted.bam\n",
      "38.9582939326544 AT2_JV_5_sorted.bam\n",
      "/data/gpfs/assoc/denovo/tfaske/sagebrush/SNPcall/bwa/AT2_JV_6_sorted.bam\n",
      "34.80120813726905 AT2_JV_6_sorted.bam\n",
      "/data/gpfs/assoc/denovo/tfaske/sagebrush/SNPcall/bwa/AT2_JV_7_sorted.bam\n",
      "37.2874788223777 AT2_JV_7_sorted.bam\n",
      "/data/gpfs/assoc/denovo/tfaske/sagebrush/SNPcall/bwa/AT2_KN_80_sorted.bam\n",
      "38.666656133299625 AT2_KN_80_sorted.bam\n",
      "/data/gpfs/assoc/denovo/tfaske/sagebrush/SNPcall/bwa/AT2_KN_81_sorted.bam\n",
      "32.12281520721743 AT2_KN_81_sorted.bam\n",
      "/data/gpfs/assoc/denovo/tfaske/sagebrush/SNPcall/bwa/AT2_KN_82_sorted.bam\n",
      "34.55728479526423 AT2_KN_82_sorted.bam\n",
      "/data/gpfs/assoc/denovo/tfaske/sagebrush/SNPcall/bwa/AT2_KN_83_sorted.bam\n",
      "34.74612472163194 AT2_KN_83_sorted.bam\n",
      "/data/gpfs/assoc/denovo/tfaske/sagebrush/SNPcall/bwa/AT2_KN_84_sorted.bam\n",
      "32.70117770621202 AT2_KN_84_sorted.bam\n",
      "/data/gpfs/assoc/denovo/tfaske/sagebrush/SNPcall/bwa/AT2_KN_85_sorted.bam\n",
      "35.74358048410704 AT2_KN_85_sorted.bam\n",
      "/data/gpfs/assoc/denovo/tfaske/sagebrush/SNPcall/bwa/AT2_KN_86_sorted.bam\n",
      "47.16992319023347 AT2_KN_86_sorted.bam\n",
      "/data/gpfs/assoc/denovo/tfaske/sagebrush/SNPcall/bwa/AT2_KN_87_sorted.bam\n",
      "46.902732822437265 AT2_KN_87_sorted.bam\n",
      "/data/gpfs/assoc/denovo/tfaske/sagebrush/SNPcall/bwa/AT2_KN_88_sorted.bam\n",
      "41.48158678424123 AT2_KN_88_sorted.bam\n",
      "/data/gpfs/assoc/denovo/tfaske/sagebrush/SNPcall/bwa/AT2_KN_89_sorted.bam\n",
      "43.99298607257063 AT2_KN_89_sorted.bam\n",
      "/data/gpfs/assoc/denovo/tfaske/sagebrush/SNPcall/bwa/AT2_KN_90_sorted.bam\n",
      "13.227607067801106 AT2_KN_90_sorted.bam\n",
      "/data/gpfs/assoc/denovo/tfaske/sagebrush/SNPcall/bwa/AT2_KN_91_sorted.bam\n",
      "37.61921606120557 AT2_KN_91_sorted.bam\n",
      "/data/gpfs/assoc/denovo/tfaske/sagebrush/SNPcall/bwa/AT2_KN_92_sorted.bam\n",
      "38.06735766244427 AT2_KN_92_sorted.bam\n",
      "/data/gpfs/assoc/denovo/tfaske/sagebrush/SNPcall/bwa/AT2_KN_93_sorted.bam\n",
      "38.25921480717562 AT2_KN_93_sorted.bam\n",
      "/data/gpfs/assoc/denovo/tfaske/sagebrush/SNPcall/bwa/AT2_KN_94_sorted.bam\n",
      "56.041359849837626 AT2_KN_94_sorted.bam\n",
      "/data/gpfs/assoc/denovo/tfaske/sagebrush/SNPcall/bwa/AT2_LB_1_sorted.bam\n",
      "23.78931052149 AT2_LB_1_sorted.bam\n",
      "/data/gpfs/assoc/denovo/tfaske/sagebrush/SNPcall/bwa/AT2_LB_2_sorted.bam\n"
     ]
    },
    {
     "name": "stdout",
     "output_type": "stream",
     "text": [
      "34.17544805251062 AT2_LB_2_sorted.bam\n",
      "/data/gpfs/assoc/denovo/tfaske/sagebrush/SNPcall/bwa/AT2_LB_3_sorted.bam\n",
      "33.43111016258225 AT2_LB_3_sorted.bam\n",
      "/data/gpfs/assoc/denovo/tfaske/sagebrush/SNPcall/bwa/AT2_LB_4_sorted.bam\n",
      "33.60687063824361 AT2_LB_4_sorted.bam\n",
      "/data/gpfs/assoc/denovo/tfaske/sagebrush/SNPcall/bwa/AT2_LB_5_sorted.bam\n",
      "48.982514317094065 AT2_LB_5_sorted.bam\n",
      "/data/gpfs/assoc/denovo/tfaske/sagebrush/SNPcall/bwa/AT2_LB_6_sorted.bam\n",
      "48.56647896922481 AT2_LB_6_sorted.bam\n",
      "/data/gpfs/assoc/denovo/tfaske/sagebrush/SNPcall/bwa/AT2_LB_7_sorted.bam\n",
      "29.35464523677861 AT2_LB_7_sorted.bam\n",
      "/data/gpfs/assoc/denovo/tfaske/sagebrush/SNPcall/bwa/AT2_LB_8_sorted.bam\n",
      "30.893374548613608 AT2_LB_8_sorted.bam\n",
      "/data/gpfs/assoc/denovo/tfaske/sagebrush/SNPcall/bwa/AT2_LB_9_sorted.bam\n",
      "28.42812447591818 AT2_LB_9_sorted.bam\n",
      "/data/gpfs/assoc/denovo/tfaske/sagebrush/SNPcall/bwa/AT2_LN_1_sorted.bam\n",
      "21.308687942109533 AT2_LN_1_sorted.bam\n",
      "/data/gpfs/assoc/denovo/tfaske/sagebrush/SNPcall/bwa/AT2_LN_2_sorted.bam\n",
      "25.817649921866806 AT2_LN_2_sorted.bam\n",
      "/data/gpfs/assoc/denovo/tfaske/sagebrush/SNPcall/bwa/AT2_LN_3_sorted.bam\n",
      "32.80157394145597 AT2_LN_3_sorted.bam\n",
      "/data/gpfs/assoc/denovo/tfaske/sagebrush/SNPcall/bwa/AT2_LN_4_sorted.bam\n",
      "25.99392337212236 AT2_LN_4_sorted.bam\n",
      "/data/gpfs/assoc/denovo/tfaske/sagebrush/SNPcall/bwa/AT2_LN_5_sorted.bam\n",
      "29.790531987111148 AT2_LN_5_sorted.bam\n",
      "/data/gpfs/assoc/denovo/tfaske/sagebrush/SNPcall/bwa/AT2_LN_6_sorted.bam\n",
      "33.73206998332587 AT2_LN_6_sorted.bam\n",
      "/data/gpfs/assoc/denovo/tfaske/sagebrush/SNPcall/bwa/AT2_LN_95_sorted.bam\n",
      "11.388859480029165 AT2_LN_95_sorted.bam\n",
      "/data/gpfs/assoc/denovo/tfaske/sagebrush/SNPcall/bwa/AT2_LN_96_sorted.bam\n",
      "37.864925894300164 AT2_LN_96_sorted.bam\n",
      "/data/gpfs/assoc/denovo/tfaske/sagebrush/SNPcall/bwa/AT2_LN_97_sorted.bam\n",
      "2.807796476982516 AT2_LN_97_sorted.bam\n",
      "/data/gpfs/assoc/denovo/tfaske/sagebrush/SNPcall/bwa/AT2_LN_98_sorted.bam\n",
      "42.17930725163426 AT2_LN_98_sorted.bam\n",
      "/data/gpfs/assoc/denovo/tfaske/sagebrush/SNPcall/bwa/AT2_OC_15_sorted.bam\n",
      "31.420532503016737 AT2_OC_15_sorted.bam\n",
      "/data/gpfs/assoc/denovo/tfaske/sagebrush/SNPcall/bwa/AT2_OC_16_sorted.bam\n",
      "42.196952544934504 AT2_OC_16_sorted.bam\n",
      "/data/gpfs/assoc/denovo/tfaske/sagebrush/SNPcall/bwa/AT2_OC_1_sorted.bam\n",
      "2.356271913837726 AT2_OC_1_sorted.bam\n",
      "/data/gpfs/assoc/denovo/tfaske/sagebrush/SNPcall/bwa/AT2_OC_2_sorted.bam\n",
      "36.972235548142756 AT2_OC_2_sorted.bam\n",
      "/data/gpfs/assoc/denovo/tfaske/sagebrush/SNPcall/bwa/AT2_OC_3_sorted.bam\n",
      "36.31396266160181 AT2_OC_3_sorted.bam\n",
      "/data/gpfs/assoc/denovo/tfaske/sagebrush/SNPcall/bwa/AT2_OC_4_sorted.bam\n",
      "39.53915621058071 AT2_OC_4_sorted.bam\n",
      "/data/gpfs/assoc/denovo/tfaske/sagebrush/SNPcall/bwa/AT2_OC_5_sorted.bam\n",
      "36.87565836331504 AT2_OC_5_sorted.bam\n",
      "/data/gpfs/assoc/denovo/tfaske/sagebrush/SNPcall/bwa/AT2_OC_6_sorted.bam\n",
      "35.34388655041717 AT2_OC_6_sorted.bam\n",
      "/data/gpfs/assoc/denovo/tfaske/sagebrush/SNPcall/bwa/AT2_OC_7_sorted.bam\n",
      "38.36073935921837 AT2_OC_7_sorted.bam\n",
      "/data/gpfs/assoc/denovo/tfaske/sagebrush/SNPcall/bwa/AT2_OC_8_sorted.bam\n",
      "18.175501151761683 AT2_OC_8_sorted.bam\n",
      "/data/gpfs/assoc/denovo/tfaske/sagebrush/SNPcall/bwa/AT2_OT_11_sorted.bam\n",
      "50.290012945404804 AT2_OT_11_sorted.bam\n",
      "/data/gpfs/assoc/denovo/tfaske/sagebrush/SNPcall/bwa/AT2_OT_12_sorted.bam\n",
      "37.02593032230375 AT2_OT_12_sorted.bam\n",
      "/data/gpfs/assoc/denovo/tfaske/sagebrush/SNPcall/bwa/AT2_OT_13_sorted.bam\n",
      "30.170669137143125 AT2_OT_13_sorted.bam\n",
      "/data/gpfs/assoc/denovo/tfaske/sagebrush/SNPcall/bwa/AT2_OT_14_sorted.bam\n",
      "35.345905055577724 AT2_OT_14_sorted.bam\n",
      "/data/gpfs/assoc/denovo/tfaske/sagebrush/SNPcall/bwa/AT2_OT_5_sorted.bam\n",
      "35.291795099594225 AT2_OT_5_sorted.bam\n",
      "/data/gpfs/assoc/denovo/tfaske/sagebrush/SNPcall/bwa/AT2_OT_6_sorted.bam\n",
      "37.27172982866377 AT2_OT_6_sorted.bam\n",
      "/data/gpfs/assoc/denovo/tfaske/sagebrush/SNPcall/bwa/AT2_OT_7_sorted.bam\n",
      "26.25386891205514 AT2_OT_7_sorted.bam\n",
      "/data/gpfs/assoc/denovo/tfaske/sagebrush/SNPcall/bwa/AT2_OT_8_sorted.bam\n",
      "31.97818071431267 AT2_OT_8_sorted.bam\n",
      "/data/gpfs/assoc/denovo/tfaske/sagebrush/SNPcall/bwa/AT2_OT_9_sorted.bam\n",
      "43.21673058534429 AT2_OT_9_sorted.bam\n",
      "/data/gpfs/assoc/denovo/tfaske/sagebrush/SNPcall/bwa/AT2_RB_100_sorted.bam\n",
      "29.479075981937637 AT2_RB_100_sorted.bam\n",
      "/data/gpfs/assoc/denovo/tfaske/sagebrush/SNPcall/bwa/AT2_RB_101_sorted.bam\n",
      "39.270438242767376 AT2_RB_101_sorted.bam\n",
      "/data/gpfs/assoc/denovo/tfaske/sagebrush/SNPcall/bwa/AT2_RB_102_sorted.bam\n",
      "42.661884560193805 AT2_RB_102_sorted.bam\n",
      "/data/gpfs/assoc/denovo/tfaske/sagebrush/SNPcall/bwa/AT2_RB_103_sorted.bam\n",
      "31.132107112941807 AT2_RB_103_sorted.bam\n",
      "/data/gpfs/assoc/denovo/tfaske/sagebrush/SNPcall/bwa/AT2_RB_104_sorted.bam\n",
      "44.96781515452513 AT2_RB_104_sorted.bam\n",
      "/data/gpfs/assoc/denovo/tfaske/sagebrush/SNPcall/bwa/AT2_RB_105_sorted.bam\n",
      "41.01469967005576 AT2_RB_105_sorted.bam\n",
      "/data/gpfs/assoc/denovo/tfaske/sagebrush/SNPcall/bwa/AT2_RB_106_sorted.bam\n",
      "36.87799894279168 AT2_RB_106_sorted.bam\n",
      "/data/gpfs/assoc/denovo/tfaske/sagebrush/SNPcall/bwa/AT2_RB_107_sorted.bam\n",
      "37.263021817592346 AT2_RB_107_sorted.bam\n",
      "/data/gpfs/assoc/denovo/tfaske/sagebrush/SNPcall/bwa/AT2_RB_108_sorted.bam\n",
      "22.769053101531316 AT2_RB_108_sorted.bam\n",
      "/data/gpfs/assoc/denovo/tfaske/sagebrush/SNPcall/bwa/AT2_RB_1_sorted.bam\n",
      "45.815288238754654 AT2_RB_1_sorted.bam\n",
      "/data/gpfs/assoc/denovo/tfaske/sagebrush/SNPcall/bwa/AT2_RB_2_sorted.bam\n",
      "13.687292459573571 AT2_RB_2_sorted.bam\n",
      "/data/gpfs/assoc/denovo/tfaske/sagebrush/SNPcall/bwa/AT2_RB_3_sorted.bam\n",
      "36.66755402824396 AT2_RB_3_sorted.bam\n",
      "/data/gpfs/assoc/denovo/tfaske/sagebrush/SNPcall/bwa/AT2_RB_4_sorted.bam\n",
      "38.636343358141005 AT2_RB_4_sorted.bam\n",
      "/data/gpfs/assoc/denovo/tfaske/sagebrush/SNPcall/bwa/AT2_RB_5_sorted.bam\n",
      "31.126920682878385 AT2_RB_5_sorted.bam\n",
      "/data/gpfs/assoc/denovo/tfaske/sagebrush/SNPcall/bwa/AT2_RB_6_sorted.bam\n",
      "36.481317591073015 AT2_RB_6_sorted.bam\n",
      "/data/gpfs/assoc/denovo/tfaske/sagebrush/SNPcall/bwa/AT2_RB_7_sorted.bam\n",
      "33.08657202207703 AT2_RB_7_sorted.bam\n",
      "/data/gpfs/assoc/denovo/tfaske/sagebrush/SNPcall/bwa/AT2_RB_99_sorted.bam\n",
      "40.406595949015326 AT2_RB_99_sorted.bam\n",
      "/data/gpfs/assoc/denovo/tfaske/sagebrush/SNPcall/bwa/AT2_RK_1_sorted.bam\n",
      "32.25575767935634 AT2_RK_1_sorted.bam\n",
      "/data/gpfs/assoc/denovo/tfaske/sagebrush/SNPcall/bwa/AT2_RK_2_sorted.bam\n",
      "39.74208550209686 AT2_RK_2_sorted.bam\n",
      "/data/gpfs/assoc/denovo/tfaske/sagebrush/SNPcall/bwa/AT2_RK_3_sorted.bam\n",
      "57.1980355007943 AT2_RK_3_sorted.bam\n",
      "/data/gpfs/assoc/denovo/tfaske/sagebrush/SNPcall/bwa/AT2_RK_4_sorted.bam\n",
      "33.46681981193228 AT2_RK_4_sorted.bam\n",
      "/data/gpfs/assoc/denovo/tfaske/sagebrush/SNPcall/bwa/AT2_RK_5_sorted.bam\n",
      "32.915059404140365 AT2_RK_5_sorted.bam\n",
      "/data/gpfs/assoc/denovo/tfaske/sagebrush/SNPcall/bwa/AT2_RK_6_sorted.bam\n",
      "30.31826846339931 AT2_RK_6_sorted.bam\n",
      "/data/gpfs/assoc/denovo/tfaske/sagebrush/SNPcall/bwa/AT2_RK_7_sorted.bam\n",
      "20.527863562484914 AT2_RK_7_sorted.bam\n",
      "/data/gpfs/assoc/denovo/tfaske/sagebrush/SNPcall/bwa/AT2_SS_10_sorted.bam\n",
      "43.702090503933306 AT2_SS_10_sorted.bam\n",
      "/data/gpfs/assoc/denovo/tfaske/sagebrush/SNPcall/bwa/AT2_SS_1_sorted.bam\n",
      "22.243313677431992 AT2_SS_1_sorted.bam\n",
      "/data/gpfs/assoc/denovo/tfaske/sagebrush/SNPcall/bwa/AT2_SS_2_sorted.bam\n",
      "26.53224005172515 AT2_SS_2_sorted.bam\n",
      "/data/gpfs/assoc/denovo/tfaske/sagebrush/SNPcall/bwa/AT2_SS_3_sorted.bam\n",
      "26.91235775731499 AT2_SS_3_sorted.bam\n",
      "/data/gpfs/assoc/denovo/tfaske/sagebrush/SNPcall/bwa/AT2_SS_4_sorted.bam\n",
      "26.937735583342246 AT2_SS_4_sorted.bam\n",
      "/data/gpfs/assoc/denovo/tfaske/sagebrush/SNPcall/bwa/AT2_SS_5_sorted.bam\n",
      "32.98727144857559 AT2_SS_5_sorted.bam\n",
      "/data/gpfs/assoc/denovo/tfaske/sagebrush/SNPcall/bwa/AT2_SS_6_sorted.bam\n",
      "33.280613080222736 AT2_SS_6_sorted.bam\n",
      "/data/gpfs/assoc/denovo/tfaske/sagebrush/SNPcall/bwa/AT2_SS_7_sorted.bam\n",
      "19.459112313344363 AT2_SS_7_sorted.bam\n",
      "/data/gpfs/assoc/denovo/tfaske/sagebrush/SNPcall/bwa/AT2_SS_8_sorted.bam\n",
      "6.779657853123154 AT2_SS_8_sorted.bam\n",
      "/data/gpfs/assoc/denovo/tfaske/sagebrush/SNPcall/bwa/AT2_SS_9_sorted.bam\n",
      "3.809214045862437 AT2_SS_9_sorted.bam\n",
      "/data/gpfs/assoc/denovo/tfaske/sagebrush/SNPcall/bwa/AT2_VM_10_sorted.bam\n",
      "22.251237856012537 AT2_VM_10_sorted.bam\n",
      "/data/gpfs/assoc/denovo/tfaske/sagebrush/SNPcall/bwa/AT2_VM_1_sorted.bam\n",
      "44.21607306185687 AT2_VM_1_sorted.bam\n",
      "/data/gpfs/assoc/denovo/tfaske/sagebrush/SNPcall/bwa/AT2_VM_2_sorted.bam\n"
     ]
    },
    {
     "name": "stdout",
     "output_type": "stream",
     "text": [
      "27.798661133371617 AT2_VM_2_sorted.bam\n",
      "/data/gpfs/assoc/denovo/tfaske/sagebrush/SNPcall/bwa/AT2_VM_3_sorted.bam\n",
      "22.13121629532804 AT2_VM_3_sorted.bam\n",
      "/data/gpfs/assoc/denovo/tfaske/sagebrush/SNPcall/bwa/AT2_VM_4_sorted.bam\n",
      "20.289640527669746 AT2_VM_4_sorted.bam\n",
      "/data/gpfs/assoc/denovo/tfaske/sagebrush/SNPcall/bwa/AT2_VM_5_sorted.bam\n",
      "21.105280588289634 AT2_VM_5_sorted.bam\n",
      "/data/gpfs/assoc/denovo/tfaske/sagebrush/SNPcall/bwa/AT2_VM_6_sorted.bam\n",
      "20.33058274066202 AT2_VM_6_sorted.bam\n",
      "/data/gpfs/assoc/denovo/tfaske/sagebrush/SNPcall/bwa/AT2_VM_7_sorted.bam\n",
      "20.11614403337189 AT2_VM_7_sorted.bam\n",
      "/data/gpfs/assoc/denovo/tfaske/sagebrush/SNPcall/bwa/AT2_VM_8_sorted.bam\n",
      "27.170556772786835 AT2_VM_8_sorted.bam\n",
      "/data/gpfs/assoc/denovo/tfaske/sagebrush/SNPcall/bwa/AT2_VM_9_sorted.bam\n",
      "21.115282478625 AT2_VM_9_sorted.bam\n",
      "/data/gpfs/assoc/denovo/tfaske/sagebrush/SNPcall/bwa/AT2_YB_1_sorted.bam\n",
      "31.116245064534183 AT2_YB_1_sorted.bam\n",
      "/data/gpfs/assoc/denovo/tfaske/sagebrush/SNPcall/bwa/AT2_YB_2_sorted.bam\n",
      "29.305165452539907 AT2_YB_2_sorted.bam\n",
      "/data/gpfs/assoc/denovo/tfaske/sagebrush/SNPcall/bwa/AT2_YB_73_sorted.bam\n",
      "28.123989090367306 AT2_YB_73_sorted.bam\n",
      "/data/gpfs/assoc/denovo/tfaske/sagebrush/SNPcall/bwa/AT2_YB_74_sorted.bam\n",
      "25.36346635686604 AT2_YB_74_sorted.bam\n",
      "/data/gpfs/assoc/denovo/tfaske/sagebrush/SNPcall/bwa/AT2_YB_75_sorted.bam\n",
      "33.3805824230584 AT2_YB_75_sorted.bam\n",
      "/data/gpfs/assoc/denovo/tfaske/sagebrush/SNPcall/bwa/AT2_YB_76_sorted.bam\n",
      "36.53329062112026 AT2_YB_76_sorted.bam\n",
      "/data/gpfs/assoc/denovo/tfaske/sagebrush/SNPcall/bwa/AT2_YB_77_sorted.bam\n",
      "28.239183098615356 AT2_YB_77_sorted.bam\n",
      "/data/gpfs/assoc/denovo/tfaske/sagebrush/SNPcall/bwa/AT2_YB_78_sorted.bam\n",
      "36.12835776241533 AT2_YB_78_sorted.bam\n",
      "/data/gpfs/assoc/denovo/tfaske/sagebrush/SNPcall/bwa/AT2_YB_79_sorted.bam\n",
      "37.608934345829596 AT2_YB_79_sorted.bam\n",
      "/data/gpfs/assoc/denovo/tfaske/sagebrush/SNPcall/bwa/AT4_DS_10_sorted.bam\n",
      "36.330886448510064 AT4_DS_10_sorted.bam\n",
      "/data/gpfs/assoc/denovo/tfaske/sagebrush/SNPcall/bwa/AT4_DS_1_sorted.bam\n",
      "35.44546129500839 AT4_DS_1_sorted.bam\n",
      "/data/gpfs/assoc/denovo/tfaske/sagebrush/SNPcall/bwa/AT4_DS_2_sorted.bam\n",
      "45.81801120539766 AT4_DS_2_sorted.bam\n",
      "/data/gpfs/assoc/denovo/tfaske/sagebrush/SNPcall/bwa/AT4_DS_3_sorted.bam\n",
      "50.7530626389083 AT4_DS_3_sorted.bam\n",
      "/data/gpfs/assoc/denovo/tfaske/sagebrush/SNPcall/bwa/AT4_DS_4_sorted.bam\n",
      "46.136066103023914 AT4_DS_4_sorted.bam\n",
      "/data/gpfs/assoc/denovo/tfaske/sagebrush/SNPcall/bwa/AT4_DS_5_sorted.bam\n",
      "43.392159602478394 AT4_DS_5_sorted.bam\n",
      "/data/gpfs/assoc/denovo/tfaske/sagebrush/SNPcall/bwa/AT4_DS_6_sorted.bam\n",
      "53.799669887442576 AT4_DS_6_sorted.bam\n",
      "/data/gpfs/assoc/denovo/tfaske/sagebrush/SNPcall/bwa/AT4_DS_7_sorted.bam\n",
      "46.36576599506801 AT4_DS_7_sorted.bam\n",
      "/data/gpfs/assoc/denovo/tfaske/sagebrush/SNPcall/bwa/AT4_DS_8_sorted.bam\n",
      "36.25196368192195 AT4_DS_8_sorted.bam\n",
      "/data/gpfs/assoc/denovo/tfaske/sagebrush/SNPcall/bwa/AT4_DS_9_sorted.bam\n",
      "3.987880595036941 AT4_DS_9_sorted.bam\n",
      "/data/gpfs/assoc/denovo/tfaske/sagebrush/SNPcall/bwa/AT4_SL_1_sorted.bam\n",
      "37.64642966863555 AT4_SL_1_sorted.bam\n",
      "/data/gpfs/assoc/denovo/tfaske/sagebrush/SNPcall/bwa/AT4_SL_284_sorted.bam\n",
      "43.18309943906821 AT4_SL_284_sorted.bam\n",
      "/data/gpfs/assoc/denovo/tfaske/sagebrush/SNPcall/bwa/AT4_SL_285_sorted.bam\n",
      "30.382603168896008 AT4_SL_285_sorted.bam\n",
      "/data/gpfs/assoc/denovo/tfaske/sagebrush/SNPcall/bwa/AT4_SL_286_sorted.bam\n",
      "36.1285118577542 AT4_SL_286_sorted.bam\n",
      "/data/gpfs/assoc/denovo/tfaske/sagebrush/SNPcall/bwa/AT4_SL_2_sorted.bam\n",
      "34.5663851225321 AT4_SL_2_sorted.bam\n",
      "/data/gpfs/assoc/denovo/tfaske/sagebrush/SNPcall/bwa/AT4_SL_3_sorted.bam\n",
      "29.40699014823454 AT4_SL_3_sorted.bam\n",
      "/data/gpfs/assoc/denovo/tfaske/sagebrush/SNPcall/bwa/AT4_SL_4_sorted.bam\n",
      "21.444592436316398 AT4_SL_4_sorted.bam\n",
      "/data/gpfs/assoc/denovo/tfaske/sagebrush/SNPcall/bwa/AT4_SL_5_sorted.bam\n",
      "32.98333430969495 AT4_SL_5_sorted.bam\n",
      "/data/gpfs/assoc/denovo/tfaske/sagebrush/SNPcall/bwa/AT4_SL_6_sorted.bam\n",
      "52.841038482029745 AT4_SL_6_sorted.bam\n",
      "/data/gpfs/assoc/denovo/tfaske/sagebrush/SNPcall/bwa/AT4_SL_7_sorted.bam\n",
      "42.150886910879706 AT4_SL_7_sorted.bam\n",
      "/data/gpfs/assoc/denovo/tfaske/sagebrush/SNPcall/bwa/AT4_WT_1_sorted.bam\n",
      "11.957807269055227 AT4_WT_1_sorted.bam\n",
      "/data/gpfs/assoc/denovo/tfaske/sagebrush/SNPcall/bwa/AT4_WT_2_sorted.bam\n",
      "39.88404811753895 AT4_WT_2_sorted.bam\n",
      "/data/gpfs/assoc/denovo/tfaske/sagebrush/SNPcall/bwa/AT4_WT_3_sorted.bam\n",
      "48.010044819764424 AT4_WT_3_sorted.bam\n",
      "/data/gpfs/assoc/denovo/tfaske/sagebrush/SNPcall/bwa/AT4_WT_4_sorted.bam\n",
      "36.96490872959291 AT4_WT_4_sorted.bam\n",
      "/data/gpfs/assoc/denovo/tfaske/sagebrush/SNPcall/bwa/AT4_WT_5_sorted.bam\n",
      "35.46853310652262 AT4_WT_5_sorted.bam\n",
      "/data/gpfs/assoc/denovo/tfaske/sagebrush/SNPcall/bwa/AT4_WT_6_sorted.bam\n",
      "50.1329204180194 AT4_WT_6_sorted.bam\n",
      "/data/gpfs/assoc/denovo/tfaske/sagebrush/SNPcall/bwa/AT4_WT_7_sorted.bam\n",
      "32.419588468216986 AT4_WT_7_sorted.bam\n",
      "/data/gpfs/assoc/denovo/tfaske/sagebrush/SNPcall/bwa/AV2_AN_1_sorted.bam\n",
      "41.15023202059907 AV2_AN_1_sorted.bam\n",
      "/data/gpfs/assoc/denovo/tfaske/sagebrush/SNPcall/bwa/AV2_AN_2_sorted.bam\n",
      "32.8043355936988 AV2_AN_2_sorted.bam\n",
      "/data/gpfs/assoc/denovo/tfaske/sagebrush/SNPcall/bwa/AV2_AN_3_sorted.bam\n",
      "30.43415492563318 AV2_AN_3_sorted.bam\n",
      "/data/gpfs/assoc/denovo/tfaske/sagebrush/SNPcall/bwa/AV2_AN_4_sorted.bam\n",
      "31.39233742814415 AV2_AN_4_sorted.bam\n",
      "/data/gpfs/assoc/denovo/tfaske/sagebrush/SNPcall/bwa/AV2_AN_5_sorted.bam\n",
      "27.829484121149342 AV2_AN_5_sorted.bam\n",
      "/data/gpfs/assoc/denovo/tfaske/sagebrush/SNPcall/bwa/AV2_AN_6_sorted.bam\n",
      "28.053341154163988 AV2_AN_6_sorted.bam\n",
      "/data/gpfs/assoc/denovo/tfaske/sagebrush/SNPcall/bwa/AV2_AN_7_sorted.bam\n",
      "29.10781760889488 AV2_AN_7_sorted.bam\n",
      "/data/gpfs/assoc/denovo/tfaske/sagebrush/SNPcall/bwa/AV2_AN_8_sorted.bam\n",
      "36.09211955422717 AV2_AN_8_sorted.bam\n",
      "/data/gpfs/assoc/denovo/tfaske/sagebrush/SNPcall/bwa/AV2_AS_61_sorted.bam\n",
      "46.47202117375593 AV2_AS_61_sorted.bam\n",
      "/data/gpfs/assoc/denovo/tfaske/sagebrush/SNPcall/bwa/AV2_AS_62_sorted.bam\n",
      "38.50357349122313 AV2_AS_62_sorted.bam\n",
      "/data/gpfs/assoc/denovo/tfaske/sagebrush/SNPcall/bwa/AV2_AS_63_sorted.bam\n",
      "29.033825174622745 AV2_AS_63_sorted.bam\n",
      "/data/gpfs/assoc/denovo/tfaske/sagebrush/SNPcall/bwa/AV2_AS_64_sorted.bam\n",
      "20.280326120575538 AV2_AS_64_sorted.bam\n",
      "/data/gpfs/assoc/denovo/tfaske/sagebrush/SNPcall/bwa/AV2_AS_65_sorted.bam\n",
      "34.939514013471886 AV2_AS_65_sorted.bam\n",
      "/data/gpfs/assoc/denovo/tfaske/sagebrush/SNPcall/bwa/AV2_AS_66_sorted.bam\n",
      "22.719835855038728 AV2_AS_66_sorted.bam\n",
      "/data/gpfs/assoc/denovo/tfaske/sagebrush/SNPcall/bwa/AV2_AS_67_sorted.bam\n",
      "19.716292938630705 AV2_AS_67_sorted.bam\n",
      "/data/gpfs/assoc/denovo/tfaske/sagebrush/SNPcall/bwa/AV2_AS_68_sorted.bam\n",
      "28.1687728192022 AV2_AS_68_sorted.bam\n",
      "/data/gpfs/assoc/denovo/tfaske/sagebrush/SNPcall/bwa/AV2_AS_69_sorted.bam\n",
      "47.18923034674023 AV2_AS_69_sorted.bam\n",
      "/data/gpfs/assoc/denovo/tfaske/sagebrush/SNPcall/bwa/AV2_AS_70_sorted.bam\n",
      "28.915043615952793 AV2_AS_70_sorted.bam\n",
      "/data/gpfs/assoc/denovo/tfaske/sagebrush/SNPcall/bwa/AV2_AS_71_sorted.bam\n",
      "29.7215177390788 AV2_AS_71_sorted.bam\n",
      "/data/gpfs/assoc/denovo/tfaske/sagebrush/SNPcall/bwa/AV2_AS_72_sorted.bam\n",
      "33.26000601131882 AV2_AS_72_sorted.bam\n",
      "/data/gpfs/assoc/denovo/tfaske/sagebrush/SNPcall/bwa/AV2_AS_73_sorted.bam\n",
      "32.05413298915731 AV2_AS_73_sorted.bam\n",
      "/data/gpfs/assoc/denovo/tfaske/sagebrush/SNPcall/bwa/AV2_AS_74_sorted.bam\n",
      "25.006405875690643 AV2_AS_74_sorted.bam\n",
      "/data/gpfs/assoc/denovo/tfaske/sagebrush/SNPcall/bwa/AV2_AS_75_sorted.bam\n",
      "31.927420216259367 AV2_AS_75_sorted.bam\n",
      "/data/gpfs/assoc/denovo/tfaske/sagebrush/SNPcall/bwa/AV2_BM_76_sorted.bam\n",
      "23.206033205850137 AV2_BM_76_sorted.bam\n",
      "/data/gpfs/assoc/denovo/tfaske/sagebrush/SNPcall/bwa/AV2_BM_77_sorted.bam\n",
      "35.96127792674346 AV2_BM_77_sorted.bam\n",
      "/data/gpfs/assoc/denovo/tfaske/sagebrush/SNPcall/bwa/AV2_BM_78_sorted.bam\n",
      "27.79584000559542 AV2_BM_78_sorted.bam\n",
      "/data/gpfs/assoc/denovo/tfaske/sagebrush/SNPcall/bwa/AV2_BM_79_sorted.bam\n",
      "21.7368391783173 AV2_BM_79_sorted.bam\n",
      "/data/gpfs/assoc/denovo/tfaske/sagebrush/SNPcall/bwa/AV2_BM_80_sorted.bam\n",
      "30.41481266372792 AV2_BM_80_sorted.bam\n",
      "/data/gpfs/assoc/denovo/tfaske/sagebrush/SNPcall/bwa/AV2_BM_81_sorted.bam\n",
      "25.440395827007332 AV2_BM_81_sorted.bam\n",
      "/data/gpfs/assoc/denovo/tfaske/sagebrush/SNPcall/bwa/AV2_BM_82_sorted.bam\n"
     ]
    },
    {
     "name": "stdout",
     "output_type": "stream",
     "text": [
      "21.399842223863672 AV2_BM_82_sorted.bam\n",
      "/data/gpfs/assoc/denovo/tfaske/sagebrush/SNPcall/bwa/AV2_BM_83_sorted.bam\n",
      "28.05353055201202 AV2_BM_83_sorted.bam\n",
      "/data/gpfs/assoc/denovo/tfaske/sagebrush/SNPcall/bwa/AV2_BM_84_sorted.bam\n",
      "20.491825391835206 AV2_BM_84_sorted.bam\n",
      "/data/gpfs/assoc/denovo/tfaske/sagebrush/SNPcall/bwa/AV2_BM_85_sorted.bam\n",
      "37.445377862874956 AV2_BM_85_sorted.bam\n",
      "/data/gpfs/assoc/denovo/tfaske/sagebrush/SNPcall/bwa/AV2_BM_86_sorted.bam\n",
      "31.555319316185283 AV2_BM_86_sorted.bam\n",
      "/data/gpfs/assoc/denovo/tfaske/sagebrush/SNPcall/bwa/AV2_BM_87_sorted.bam\n",
      "25.10884912773094 AV2_BM_87_sorted.bam\n",
      "/data/gpfs/assoc/denovo/tfaske/sagebrush/SNPcall/bwa/AV2_BM_88_sorted.bam\n",
      "22.591374304036925 AV2_BM_88_sorted.bam\n",
      "/data/gpfs/assoc/denovo/tfaske/sagebrush/SNPcall/bwa/AV2_BM_89_sorted.bam\n",
      "22.253229772460724 AV2_BM_89_sorted.bam\n",
      "/data/gpfs/assoc/denovo/tfaske/sagebrush/SNPcall/bwa/AV2_BM_90_sorted.bam\n",
      "20.833949790213854 AV2_BM_90_sorted.bam\n",
      "/data/gpfs/assoc/denovo/tfaske/sagebrush/SNPcall/bwa/AV2_CC_134_sorted.bam\n",
      "22.484145394371673 AV2_CC_134_sorted.bam\n",
      "/data/gpfs/assoc/denovo/tfaske/sagebrush/SNPcall/bwa/AV2_CC_135_sorted.bam\n",
      "26.48296614105652 AV2_CC_135_sorted.bam\n",
      "/data/gpfs/assoc/denovo/tfaske/sagebrush/SNPcall/bwa/AV2_CC_136_sorted.bam\n",
      "29.25746445236956 AV2_CC_136_sorted.bam\n",
      "/data/gpfs/assoc/denovo/tfaske/sagebrush/SNPcall/bwa/AV2_CC_137_sorted.bam\n",
      "40.42802251652668 AV2_CC_137_sorted.bam\n",
      "/data/gpfs/assoc/denovo/tfaske/sagebrush/SNPcall/bwa/AV2_CC_138_sorted.bam\n",
      "46.31993563481544 AV2_CC_138_sorted.bam\n",
      "/data/gpfs/assoc/denovo/tfaske/sagebrush/SNPcall/bwa/AV2_CC_139_sorted.bam\n",
      "26.24738934046833 AV2_CC_139_sorted.bam\n",
      "/data/gpfs/assoc/denovo/tfaske/sagebrush/SNPcall/bwa/AV2_CC_140_sorted.bam\n",
      "29.88377424945105 AV2_CC_140_sorted.bam\n",
      "/data/gpfs/assoc/denovo/tfaske/sagebrush/SNPcall/bwa/AV2_CC_141_sorted.bam\n",
      "37.808744293221245 AV2_CC_141_sorted.bam\n",
      "/data/gpfs/assoc/denovo/tfaske/sagebrush/SNPcall/bwa/AV2_CC_1_sorted.bam\n",
      "39.20935091031193 AV2_CC_1_sorted.bam\n",
      "/data/gpfs/assoc/denovo/tfaske/sagebrush/SNPcall/bwa/AV2_CC_2_sorted.bam\n",
      "32.302688044915385 AV2_CC_2_sorted.bam\n",
      "/data/gpfs/assoc/denovo/tfaske/sagebrush/SNPcall/bwa/AV2_CC_3_sorted.bam\n",
      "27.466845099939405 AV2_CC_3_sorted.bam\n",
      "/data/gpfs/assoc/denovo/tfaske/sagebrush/SNPcall/bwa/AV2_CC_4_sorted.bam\n",
      "46.29993795388639 AV2_CC_4_sorted.bam\n",
      "/data/gpfs/assoc/denovo/tfaske/sagebrush/SNPcall/bwa/AV2_CC_5_sorted.bam\n",
      "32.12473703501226 AV2_CC_5_sorted.bam\n",
      "/data/gpfs/assoc/denovo/tfaske/sagebrush/SNPcall/bwa/AV2_CC_6_sorted.bam\n",
      "22.282680750163415 AV2_CC_6_sorted.bam\n",
      "/data/gpfs/assoc/denovo/tfaske/sagebrush/SNPcall/bwa/AV2_CC_7_sorted.bam\n",
      "33.0744965074963 AV2_CC_7_sorted.bam\n",
      "/data/gpfs/assoc/denovo/tfaske/sagebrush/SNPcall/bwa/AV2_CF_1_sorted.bam\n",
      "40.64474947348343 AV2_CF_1_sorted.bam\n",
      "/data/gpfs/assoc/denovo/tfaske/sagebrush/SNPcall/bwa/AV2_CF_2_sorted.bam\n",
      "33.733177618649805 AV2_CF_2_sorted.bam\n",
      "/data/gpfs/assoc/denovo/tfaske/sagebrush/SNPcall/bwa/AV2_CF_3_sorted.bam\n",
      "32.553237730990155 AV2_CF_3_sorted.bam\n",
      "/data/gpfs/assoc/denovo/tfaske/sagebrush/SNPcall/bwa/AV2_CV_157_sorted.bam\n",
      "33.177158858578004 AV2_CV_157_sorted.bam\n",
      "/data/gpfs/assoc/denovo/tfaske/sagebrush/SNPcall/bwa/AV2_CV_158_sorted.bam\n",
      "32.10853205611369 AV2_CV_158_sorted.bam\n",
      "/data/gpfs/assoc/denovo/tfaske/sagebrush/SNPcall/bwa/AV2_CV_159_sorted.bam\n",
      "29.450075032768023 AV2_CV_159_sorted.bam\n",
      "/data/gpfs/assoc/denovo/tfaske/sagebrush/SNPcall/bwa/AV2_CV_160_sorted.bam\n",
      "25.173758943249197 AV2_CV_160_sorted.bam\n",
      "/data/gpfs/assoc/denovo/tfaske/sagebrush/SNPcall/bwa/AV2_CV_161_sorted.bam\n",
      "31.854051724721515 AV2_CV_161_sorted.bam\n",
      "/data/gpfs/assoc/denovo/tfaske/sagebrush/SNPcall/bwa/AV2_CV_162_sorted.bam\n",
      "37.8261574722028 AV2_CV_162_sorted.bam\n",
      "/data/gpfs/assoc/denovo/tfaske/sagebrush/SNPcall/bwa/AV2_CV_163_sorted.bam\n",
      "37.783513942628 AV2_CV_163_sorted.bam\n",
      "/data/gpfs/assoc/denovo/tfaske/sagebrush/SNPcall/bwa/AV2_CV_164_sorted.bam\n",
      "48.572971300634336 AV2_CV_164_sorted.bam\n",
      "/data/gpfs/assoc/denovo/tfaske/sagebrush/SNPcall/bwa/AV2_CV_165_sorted.bam\n",
      "38.99191339941642 AV2_CV_165_sorted.bam\n",
      "/data/gpfs/assoc/denovo/tfaske/sagebrush/SNPcall/bwa/AV2_CV_166_sorted.bam\n",
      "25.01033103293684 AV2_CV_166_sorted.bam\n",
      "/data/gpfs/assoc/denovo/tfaske/sagebrush/SNPcall/bwa/AV2_CV_1_sorted.bam\n",
      "20.180490886763028 AV2_CV_1_sorted.bam\n",
      "/data/gpfs/assoc/denovo/tfaske/sagebrush/SNPcall/bwa/AV2_CV_2_sorted.bam\n",
      "34.546847644753456 AV2_CV_2_sorted.bam\n",
      "/data/gpfs/assoc/denovo/tfaske/sagebrush/SNPcall/bwa/AV2_CV_3_sorted.bam\n",
      "32.53557147259842 AV2_CV_3_sorted.bam\n",
      "/data/gpfs/assoc/denovo/tfaske/sagebrush/SNPcall/bwa/AV2_CV_4_sorted.bam\n",
      "25.812232596356754 AV2_CV_4_sorted.bam\n",
      "/data/gpfs/assoc/denovo/tfaske/sagebrush/SNPcall/bwa/AV2_CV_5_sorted.bam\n",
      "40.79053239020011 AV2_CV_5_sorted.bam\n",
      "/data/gpfs/assoc/denovo/tfaske/sagebrush/SNPcall/bwa/AV2_CV_6_sorted.bam\n",
      "37.83985770150154 AV2_CV_6_sorted.bam\n",
      "/data/gpfs/assoc/denovo/tfaske/sagebrush/SNPcall/bwa/AV2_CV_7_sorted.bam\n",
      "27.284396758924395 AV2_CV_7_sorted.bam\n",
      "/data/gpfs/assoc/denovo/tfaske/sagebrush/SNPcall/bwa/AV2_FP_1_sorted.bam\n",
      "30.486891481878423 AV2_FP_1_sorted.bam\n",
      "/data/gpfs/assoc/denovo/tfaske/sagebrush/SNPcall/bwa/AV2_FP_2_sorted.bam\n",
      "40.31661822986519 AV2_FP_2_sorted.bam\n",
      "/data/gpfs/assoc/denovo/tfaske/sagebrush/SNPcall/bwa/AV2_FP_3_sorted.bam\n",
      "36.1799664171296 AV2_FP_3_sorted.bam\n",
      "/data/gpfs/assoc/denovo/tfaske/sagebrush/SNPcall/bwa/AV2_FP_4_sorted.bam\n",
      "30.337304139849316 AV2_FP_4_sorted.bam\n",
      "/data/gpfs/assoc/denovo/tfaske/sagebrush/SNPcall/bwa/AV2_FP_5_sorted.bam\n",
      "37.828505779866404 AV2_FP_5_sorted.bam\n",
      "/data/gpfs/assoc/denovo/tfaske/sagebrush/SNPcall/bwa/AV2_FP_6_sorted.bam\n",
      "38.06673831237515 AV2_FP_6_sorted.bam\n",
      "/data/gpfs/assoc/denovo/tfaske/sagebrush/SNPcall/bwa/AV2_FP_7_sorted.bam\n",
      "36.22066371981058 AV2_FP_7_sorted.bam\n",
      "/data/gpfs/assoc/denovo/tfaske/sagebrush/SNPcall/bwa/AV2_GC_1_sorted.bam\n",
      "29.665000828955115 AV2_GC_1_sorted.bam\n",
      "/data/gpfs/assoc/denovo/tfaske/sagebrush/SNPcall/bwa/AV2_GC_2_sorted.bam\n",
      "26.3687796530421 AV2_GC_2_sorted.bam\n",
      "/data/gpfs/assoc/denovo/tfaske/sagebrush/SNPcall/bwa/AV2_GC_3_sorted.bam\n",
      "33.98315154919343 AV2_GC_3_sorted.bam\n",
      "/data/gpfs/assoc/denovo/tfaske/sagebrush/SNPcall/bwa/AV2_GC_4_sorted.bam\n",
      "33.00256072916594 AV2_GC_4_sorted.bam\n",
      "/data/gpfs/assoc/denovo/tfaske/sagebrush/SNPcall/bwa/AV2_GC_5_sorted.bam\n",
      "26.01469026937878 AV2_GC_5_sorted.bam\n",
      "/data/gpfs/assoc/denovo/tfaske/sagebrush/SNPcall/bwa/AV2_GC_6_sorted.bam\n",
      "32.76320835115365 AV2_GC_6_sorted.bam\n",
      "/data/gpfs/assoc/denovo/tfaske/sagebrush/SNPcall/bwa/AV2_GC_7_sorted.bam\n",
      "26.951213080796272 AV2_GC_7_sorted.bam\n",
      "/data/gpfs/assoc/denovo/tfaske/sagebrush/SNPcall/bwa/AV2_GC_8_sorted.bam\n",
      "28.059114999241608 AV2_GC_8_sorted.bam\n",
      "/data/gpfs/assoc/denovo/tfaske/sagebrush/SNPcall/bwa/AV2_GC_9_sorted.bam\n",
      "29.599672062006963 AV2_GC_9_sorted.bam\n",
      "/data/gpfs/assoc/denovo/tfaske/sagebrush/SNPcall/bwa/AV2_LV_100_sorted.bam\n",
      "19.499001311529263 AV2_LV_100_sorted.bam\n",
      "/data/gpfs/assoc/denovo/tfaske/sagebrush/SNPcall/bwa/AV2_LV_101_sorted.bam\n",
      "36.18166863355148 AV2_LV_101_sorted.bam\n",
      "/data/gpfs/assoc/denovo/tfaske/sagebrush/SNPcall/bwa/AV2_LV_102_sorted.bam\n",
      "31.916966181542357 AV2_LV_102_sorted.bam\n",
      "/data/gpfs/assoc/denovo/tfaske/sagebrush/SNPcall/bwa/AV2_LV_103_sorted.bam\n",
      "21.558922326954 AV2_LV_103_sorted.bam\n",
      "/data/gpfs/assoc/denovo/tfaske/sagebrush/SNPcall/bwa/AV2_LV_104_sorted.bam\n",
      "23.529277427745843 AV2_LV_104_sorted.bam\n",
      "/data/gpfs/assoc/denovo/tfaske/sagebrush/SNPcall/bwa/AV2_LV_105_sorted.bam\n",
      "23.303419511852585 AV2_LV_105_sorted.bam\n",
      "/data/gpfs/assoc/denovo/tfaske/sagebrush/SNPcall/bwa/AV2_LV_91_sorted.bam\n",
      "32.617491083151464 AV2_LV_91_sorted.bam\n",
      "/data/gpfs/assoc/denovo/tfaske/sagebrush/SNPcall/bwa/AV2_LV_92_sorted.bam\n",
      "17.683596311628115 AV2_LV_92_sorted.bam\n",
      "/data/gpfs/assoc/denovo/tfaske/sagebrush/SNPcall/bwa/AV2_LV_93_sorted.bam\n",
      "29.74574750689339 AV2_LV_93_sorted.bam\n",
      "/data/gpfs/assoc/denovo/tfaske/sagebrush/SNPcall/bwa/AV2_LV_94_sorted.bam\n",
      "26.935672635441367 AV2_LV_94_sorted.bam\n",
      "/data/gpfs/assoc/denovo/tfaske/sagebrush/SNPcall/bwa/AV2_LV_95_sorted.bam\n",
      "21.679505358468425 AV2_LV_95_sorted.bam\n",
      "/data/gpfs/assoc/denovo/tfaske/sagebrush/SNPcall/bwa/AV2_LV_96_sorted.bam\n",
      "27.99131073281887 AV2_LV_96_sorted.bam\n",
      "/data/gpfs/assoc/denovo/tfaske/sagebrush/SNPcall/bwa/AV2_LV_97_sorted.bam\n",
      "24.713155264444584 AV2_LV_97_sorted.bam\n",
      "/data/gpfs/assoc/denovo/tfaske/sagebrush/SNPcall/bwa/AV2_LV_98_sorted.bam\n"
     ]
    },
    {
     "name": "stdout",
     "output_type": "stream",
     "text": [
      "22.40247142374923 AV2_LV_98_sorted.bam\n",
      "/data/gpfs/assoc/denovo/tfaske/sagebrush/SNPcall/bwa/AV2_LV_99_sorted.bam\n",
      "27.29696161927692 AV2_LV_99_sorted.bam\n",
      "/data/gpfs/assoc/denovo/tfaske/sagebrush/SNPcall/bwa/AV2_NV_1_sorted.bam\n",
      "10.305223967795968 AV2_NV_1_sorted.bam\n",
      "/data/gpfs/assoc/denovo/tfaske/sagebrush/SNPcall/bwa/AV2_NV_2_sorted.bam\n",
      "58.25960788707729 AV2_NV_2_sorted.bam\n",
      "/data/gpfs/assoc/denovo/tfaske/sagebrush/SNPcall/bwa/AV2_NV_3_sorted.bam\n",
      "53.457655869991754 AV2_NV_3_sorted.bam\n",
      "/data/gpfs/assoc/denovo/tfaske/sagebrush/SNPcall/bwa/AV2_NV_4_sorted.bam\n",
      "24.00342189479595 AV2_NV_4_sorted.bam\n",
      "/data/gpfs/assoc/denovo/tfaske/sagebrush/SNPcall/bwa/AV2_NV_5_sorted.bam\n",
      "24.70290860126631 AV2_NV_5_sorted.bam\n",
      "/data/gpfs/assoc/denovo/tfaske/sagebrush/SNPcall/bwa/AV2_NV_6_sorted.bam\n",
      "24.56479753637819 AV2_NV_6_sorted.bam\n",
      "/data/gpfs/assoc/denovo/tfaske/sagebrush/SNPcall/bwa/AV2_NV_7_sorted.bam\n",
      "33.05976848500921 AV2_NV_7_sorted.bam\n",
      "/data/gpfs/assoc/denovo/tfaske/sagebrush/SNPcall/bwa/AV2_NV_8_sorted.bam\n",
      "31.684816758434927 AV2_NV_8_sorted.bam\n",
      "/data/gpfs/assoc/denovo/tfaske/sagebrush/SNPcall/bwa/AV2_NV_9_sorted.bam\n",
      "23.691739350229494 AV2_NV_9_sorted.bam\n",
      "/data/gpfs/assoc/denovo/tfaske/sagebrush/SNPcall/bwa/AV2_PL_10_sorted.bam\n",
      "18.180598437953037 AV2_PL_10_sorted.bam\n",
      "/data/gpfs/assoc/denovo/tfaske/sagebrush/SNPcall/bwa/AV2_PL_1_sorted.bam\n",
      "30.590254196768786 AV2_PL_1_sorted.bam\n",
      "/data/gpfs/assoc/denovo/tfaske/sagebrush/SNPcall/bwa/AV2_PL_2_sorted.bam\n",
      "31.998407225930826 AV2_PL_2_sorted.bam\n",
      "/data/gpfs/assoc/denovo/tfaske/sagebrush/SNPcall/bwa/AV2_PL_3_sorted.bam\n",
      "35.64739795228529 AV2_PL_3_sorted.bam\n",
      "/data/gpfs/assoc/denovo/tfaske/sagebrush/SNPcall/bwa/AV2_PL_4_sorted.bam\n",
      "33.591258782633155 AV2_PL_4_sorted.bam\n",
      "/data/gpfs/assoc/denovo/tfaske/sagebrush/SNPcall/bwa/AV2_PL_5_sorted.bam\n",
      "34.51427751264543 AV2_PL_5_sorted.bam\n",
      "/data/gpfs/assoc/denovo/tfaske/sagebrush/SNPcall/bwa/AV2_PL_6_sorted.bam\n",
      "57.657449146700145 AV2_PL_6_sorted.bam\n",
      "/data/gpfs/assoc/denovo/tfaske/sagebrush/SNPcall/bwa/AV2_PL_7_sorted.bam\n",
      "27.194289904015108 AV2_PL_7_sorted.bam\n",
      "/data/gpfs/assoc/denovo/tfaske/sagebrush/SNPcall/bwa/AV2_PL_8_sorted.bam\n",
      "28.54310518300155 AV2_PL_8_sorted.bam\n",
      "/data/gpfs/assoc/denovo/tfaske/sagebrush/SNPcall/bwa/AV2_PL_9_sorted.bam\n",
      "44.62867426258404 AV2_PL_9_sorted.bam\n",
      "/data/gpfs/assoc/denovo/tfaske/sagebrush/SNPcall/bwa/AV2_PR_10_sorted.bam\n",
      "33.80385598880667 AV2_PR_10_sorted.bam\n",
      "/data/gpfs/assoc/denovo/tfaske/sagebrush/SNPcall/bwa/AV2_PR_2_sorted.bam\n",
      "27.817307727809077 AV2_PR_2_sorted.bam\n",
      "/data/gpfs/assoc/denovo/tfaske/sagebrush/SNPcall/bwa/AV2_PR_3_sorted.bam\n",
      "30.61991421045009 AV2_PR_3_sorted.bam\n",
      "/data/gpfs/assoc/denovo/tfaske/sagebrush/SNPcall/bwa/AV2_PR_4_sorted.bam\n",
      "40.264311476547334 AV2_PR_4_sorted.bam\n",
      "/data/gpfs/assoc/denovo/tfaske/sagebrush/SNPcall/bwa/AV2_PR_5_sorted.bam\n",
      "30.13059013280936 AV2_PR_5_sorted.bam\n",
      "/data/gpfs/assoc/denovo/tfaske/sagebrush/SNPcall/bwa/AV2_PR_6_sorted.bam\n",
      "26.161096126629243 AV2_PR_6_sorted.bam\n",
      "/data/gpfs/assoc/denovo/tfaske/sagebrush/SNPcall/bwa/AV2_PR_7_sorted.bam\n",
      "30.45734744780137 AV2_PR_7_sorted.bam\n",
      "/data/gpfs/assoc/denovo/tfaske/sagebrush/SNPcall/bwa/AV2_PR_8_sorted.bam\n",
      "30.355812759495112 AV2_PR_8_sorted.bam\n",
      "/data/gpfs/assoc/denovo/tfaske/sagebrush/SNPcall/bwa/AV2_PR_9_sorted.bam\n",
      "40.359430465010824 AV2_PR_9_sorted.bam\n",
      "/data/gpfs/assoc/denovo/tfaske/sagebrush/SNPcall/bwa/AV2_PT_10_sorted.bam\n",
      "27.62646602559377 AV2_PT_10_sorted.bam\n",
      "/data/gpfs/assoc/denovo/tfaske/sagebrush/SNPcall/bwa/AV2_PT_1_sorted.bam\n",
      "53.3122218480489 AV2_PT_1_sorted.bam\n",
      "/data/gpfs/assoc/denovo/tfaske/sagebrush/SNPcall/bwa/AV2_PT_2_sorted.bam\n",
      "20.528603646266266 AV2_PT_2_sorted.bam\n",
      "/data/gpfs/assoc/denovo/tfaske/sagebrush/SNPcall/bwa/AV2_PT_3_sorted.bam\n",
      "37.443261203287285 AV2_PT_3_sorted.bam\n",
      "/data/gpfs/assoc/denovo/tfaske/sagebrush/SNPcall/bwa/AV2_PT_4_sorted.bam\n",
      "31.140955091643107 AV2_PT_4_sorted.bam\n",
      "/data/gpfs/assoc/denovo/tfaske/sagebrush/SNPcall/bwa/AV2_PT_5_sorted.bam\n",
      "52.726991247588 AV2_PT_5_sorted.bam\n",
      "/data/gpfs/assoc/denovo/tfaske/sagebrush/SNPcall/bwa/AV2_PT_6_sorted.bam\n",
      "38.78796186316853 AV2_PT_6_sorted.bam\n",
      "/data/gpfs/assoc/denovo/tfaske/sagebrush/SNPcall/bwa/AV2_PT_7_sorted.bam\n",
      "30.057243918343595 AV2_PT_7_sorted.bam\n",
      "/data/gpfs/assoc/denovo/tfaske/sagebrush/SNPcall/bwa/AV2_PT_8_sorted.bam\n",
      "31.60989726211828 AV2_PT_8_sorted.bam\n",
      "/data/gpfs/assoc/denovo/tfaske/sagebrush/SNPcall/bwa/AV2_PT_9_sorted.bam\n",
      "37.24553442273437 AV2_PT_9_sorted.bam\n",
      "/data/gpfs/assoc/denovo/tfaske/sagebrush/SNPcall/bwa/AV2_SN_125_sorted.bam\n",
      "17.275732534309803 AV2_SN_125_sorted.bam\n",
      "/data/gpfs/assoc/denovo/tfaske/sagebrush/SNPcall/bwa/AV2_SN_126_sorted.bam\n",
      "29.82396240905891 AV2_SN_126_sorted.bam\n",
      "/data/gpfs/assoc/denovo/tfaske/sagebrush/SNPcall/bwa/AV2_SN_127_sorted.bam\n",
      "32.11877985349441 AV2_SN_127_sorted.bam\n",
      "/data/gpfs/assoc/denovo/tfaske/sagebrush/SNPcall/bwa/AV2_SN_128_sorted.bam\n",
      "19.563355427124776 AV2_SN_128_sorted.bam\n",
      "/data/gpfs/assoc/denovo/tfaske/sagebrush/SNPcall/bwa/AV2_SN_129_sorted.bam\n",
      "42.7695792297952 AV2_SN_129_sorted.bam\n",
      "/data/gpfs/assoc/denovo/tfaske/sagebrush/SNPcall/bwa/AV2_SN_130_sorted.bam\n",
      "34.63016668780218 AV2_SN_130_sorted.bam\n",
      "/data/gpfs/assoc/denovo/tfaske/sagebrush/SNPcall/bwa/AV2_SN_131_sorted.bam\n",
      "28.433534692737418 AV2_SN_131_sorted.bam\n",
      "/data/gpfs/assoc/denovo/tfaske/sagebrush/SNPcall/bwa/AV2_SN_132_sorted.bam\n",
      "29.369515842115053 AV2_SN_132_sorted.bam\n",
      "/data/gpfs/assoc/denovo/tfaske/sagebrush/SNPcall/bwa/AV2_SN_133_sorted.bam\n",
      "24.000395721239133 AV2_SN_133_sorted.bam\n",
      "/data/gpfs/assoc/denovo/tfaske/sagebrush/SNPcall/bwa/AV2_SN_1_sorted.bam\n",
      "19.789853473128947 AV2_SN_1_sorted.bam\n",
      "/data/gpfs/assoc/denovo/tfaske/sagebrush/SNPcall/bwa/AV2_SN_2_sorted.bam\n",
      "31.772301727882002 AV2_SN_2_sorted.bam\n",
      "/data/gpfs/assoc/denovo/tfaske/sagebrush/SNPcall/bwa/AV2_SN_3_sorted.bam\n",
      "24.484708713481854 AV2_SN_3_sorted.bam\n",
      "/data/gpfs/assoc/denovo/tfaske/sagebrush/SNPcall/bwa/AV2_SN_4_sorted.bam\n",
      "35.91006963505353 AV2_SN_4_sorted.bam\n",
      "/data/gpfs/assoc/denovo/tfaske/sagebrush/SNPcall/bwa/AV2_SN_5_sorted.bam\n",
      "30.513966576626363 AV2_SN_5_sorted.bam\n",
      "/data/gpfs/assoc/denovo/tfaske/sagebrush/SNPcall/bwa/AV2_SN_6_sorted.bam\n",
      "33.70869094626797 AV2_SN_6_sorted.bam\n",
      "/data/gpfs/assoc/denovo/tfaske/sagebrush/SNPcall/bwa/AV2_SN_7_sorted.bam\n",
      "34.45198771532352 AV2_SN_7_sorted.bam\n",
      "/data/gpfs/assoc/denovo/tfaske/sagebrush/SNPcall/bwa/AV2_TF_149_sorted.bam\n",
      "1.6968069901284446 AV2_TF_149_sorted.bam\n",
      "/data/gpfs/assoc/denovo/tfaske/sagebrush/SNPcall/bwa/AV2_TF_150_sorted.bam\n",
      "41.958518806774244 AV2_TF_150_sorted.bam\n",
      "/data/gpfs/assoc/denovo/tfaske/sagebrush/SNPcall/bwa/AV2_TF_151_sorted.bam\n",
      "27.72964757079481 AV2_TF_151_sorted.bam\n",
      "/data/gpfs/assoc/denovo/tfaske/sagebrush/SNPcall/bwa/AV2_TF_152_sorted.bam\n",
      "30.38895491972713 AV2_TF_152_sorted.bam\n",
      "/data/gpfs/assoc/denovo/tfaske/sagebrush/SNPcall/bwa/AV2_TF_153_sorted.bam\n",
      "29.54032231311744 AV2_TF_153_sorted.bam\n",
      "/data/gpfs/assoc/denovo/tfaske/sagebrush/SNPcall/bwa/AV2_TF_154_sorted.bam\n",
      "24.58085329431904 AV2_TF_154_sorted.bam\n",
      "/data/gpfs/assoc/denovo/tfaske/sagebrush/SNPcall/bwa/AV2_TF_155_sorted.bam\n",
      "30.06747768927031 AV2_TF_155_sorted.bam\n",
      "/data/gpfs/assoc/denovo/tfaske/sagebrush/SNPcall/bwa/AV2_TF_156_sorted.bam\n",
      "31.316341845963883 AV2_TF_156_sorted.bam\n",
      "/data/gpfs/assoc/denovo/tfaske/sagebrush/SNPcall/bwa/AV2_UV_1_sorted.bam\n",
      "33.99410520157785 AV2_UV_1_sorted.bam\n",
      "/data/gpfs/assoc/denovo/tfaske/sagebrush/SNPcall/bwa/AV2_UV_2_sorted.bam\n",
      "32.23337588020412 AV2_UV_2_sorted.bam\n",
      "/data/gpfs/assoc/denovo/tfaske/sagebrush/SNPcall/bwa/AV2_UV_3_sorted.bam\n",
      "25.280482267785718 AV2_UV_3_sorted.bam\n",
      "/data/gpfs/assoc/denovo/tfaske/sagebrush/SNPcall/bwa/AV2_UV_4_sorted.bam\n",
      "25.532017818451383 AV2_UV_4_sorted.bam\n",
      "/data/gpfs/assoc/denovo/tfaske/sagebrush/SNPcall/bwa/AV2_UV_5_sorted.bam\n",
      "27.51730215241288 AV2_UV_5_sorted.bam\n",
      "/data/gpfs/assoc/denovo/tfaske/sagebrush/SNPcall/bwa/AV2_UV_6_sorted.bam\n",
      "32.08790439011919 AV2_UV_6_sorted.bam\n",
      "/data/gpfs/assoc/denovo/tfaske/sagebrush/SNPcall/bwa/AV2_UV_7_sorted.bam\n",
      "29.4593324616786 AV2_UV_7_sorted.bam\n",
      "/data/gpfs/assoc/denovo/tfaske/sagebrush/SNPcall/bwa/AV2_UV_8_sorted.bam\n",
      "35.03515638407367 AV2_UV_8_sorted.bam\n",
      "/data/gpfs/assoc/denovo/tfaske/sagebrush/SNPcall/bwa/AV2_UV_9_sorted.bam\n",
      "32.46227591011908 AV2_UV_9_sorted.bam\n",
      "/data/gpfs/assoc/denovo/tfaske/sagebrush/SNPcall/bwa/AV4_DH_10_sorted.bam\n"
     ]
    },
    {
     "name": "stdout",
     "output_type": "stream",
     "text": [
      "47.574802956599385 AV4_DH_10_sorted.bam\n",
      "/data/gpfs/assoc/denovo/tfaske/sagebrush/SNPcall/bwa/AV4_DH_1_sorted.bam\n",
      "35.40080860559795 AV4_DH_1_sorted.bam\n",
      "/data/gpfs/assoc/denovo/tfaske/sagebrush/SNPcall/bwa/AV4_DH_2_sorted.bam\n",
      "43.0066790366719 AV4_DH_2_sorted.bam\n",
      "/data/gpfs/assoc/denovo/tfaske/sagebrush/SNPcall/bwa/AV4_DH_3_sorted.bam\n",
      "41.131533043188114 AV4_DH_3_sorted.bam\n",
      "/data/gpfs/assoc/denovo/tfaske/sagebrush/SNPcall/bwa/AV4_DH_4_sorted.bam\n",
      "45.65396831365324 AV4_DH_4_sorted.bam\n",
      "/data/gpfs/assoc/denovo/tfaske/sagebrush/SNPcall/bwa/AV4_DH_5_sorted.bam\n",
      "32.75877829062562 AV4_DH_5_sorted.bam\n",
      "/data/gpfs/assoc/denovo/tfaske/sagebrush/SNPcall/bwa/AV4_DH_6_sorted.bam\n",
      "41.361001746840266 AV4_DH_6_sorted.bam\n",
      "/data/gpfs/assoc/denovo/tfaske/sagebrush/SNPcall/bwa/AV4_DH_7_sorted.bam\n",
      "31.92680161052342 AV4_DH_7_sorted.bam\n",
      "/data/gpfs/assoc/denovo/tfaske/sagebrush/SNPcall/bwa/AV4_DH_8_sorted.bam\n",
      "47.85805750983965 AV4_DH_8_sorted.bam\n",
      "/data/gpfs/assoc/denovo/tfaske/sagebrush/SNPcall/bwa/AV4_DH_9_sorted.bam\n",
      "50.48892517347844 AV4_DH_9_sorted.bam\n",
      "/data/gpfs/assoc/denovo/tfaske/sagebrush/SNPcall/bwa/AV4_EW_10_sorted.bam\n",
      "43.04277394663696 AV4_EW_10_sorted.bam\n",
      "/data/gpfs/assoc/denovo/tfaske/sagebrush/SNPcall/bwa/AV4_EW_1_sorted.bam\n",
      "48.945118553578 AV4_EW_1_sorted.bam\n",
      "/data/gpfs/assoc/denovo/tfaske/sagebrush/SNPcall/bwa/AV4_EW_2_sorted.bam\n",
      "42.70178659226597 AV4_EW_2_sorted.bam\n",
      "/data/gpfs/assoc/denovo/tfaske/sagebrush/SNPcall/bwa/AV4_EW_3_sorted.bam\n",
      "42.75297007843452 AV4_EW_3_sorted.bam\n",
      "/data/gpfs/assoc/denovo/tfaske/sagebrush/SNPcall/bwa/AV4_EW_4_sorted.bam\n",
      "40.117791328658626 AV4_EW_4_sorted.bam\n",
      "/data/gpfs/assoc/denovo/tfaske/sagebrush/SNPcall/bwa/AV4_EW_5_sorted.bam\n",
      "34.68928875970527 AV4_EW_5_sorted.bam\n",
      "/data/gpfs/assoc/denovo/tfaske/sagebrush/SNPcall/bwa/AV4_EW_6_sorted.bam\n",
      "43.795441967770984 AV4_EW_6_sorted.bam\n",
      "/data/gpfs/assoc/denovo/tfaske/sagebrush/SNPcall/bwa/AV4_EW_7_sorted.bam\n",
      "40.08010887146139 AV4_EW_7_sorted.bam\n",
      "/data/gpfs/assoc/denovo/tfaske/sagebrush/SNPcall/bwa/AV4_EW_8_sorted.bam\n",
      "47.45546554310957 AV4_EW_8_sorted.bam\n",
      "/data/gpfs/assoc/denovo/tfaske/sagebrush/SNPcall/bwa/AV4_EW_9_sorted.bam\n",
      "52.29689896766862 AV4_EW_9_sorted.bam\n",
      "/data/gpfs/assoc/denovo/tfaske/sagebrush/SNPcall/bwa/AV4_JU_1_sorted.bam\n",
      "54.84985733009418 AV4_JU_1_sorted.bam\n",
      "/data/gpfs/assoc/denovo/tfaske/sagebrush/SNPcall/bwa/AV4_JU_2_sorted.bam\n",
      "6.627106264299014 AV4_JU_2_sorted.bam\n",
      "/data/gpfs/assoc/denovo/tfaske/sagebrush/SNPcall/bwa/AV4_JU_3_sorted.bam\n",
      "46.455427877923434 AV4_JU_3_sorted.bam\n",
      "/data/gpfs/assoc/denovo/tfaske/sagebrush/SNPcall/bwa/AV4_JU_4_sorted.bam\n",
      "52.95142941279705 AV4_JU_4_sorted.bam\n",
      "/data/gpfs/assoc/denovo/tfaske/sagebrush/SNPcall/bwa/AV4_JU_5_sorted.bam\n",
      "38.75877113498653 AV4_JU_5_sorted.bam\n",
      "/data/gpfs/assoc/denovo/tfaske/sagebrush/SNPcall/bwa/AV4_JU_6_sorted.bam\n",
      "45.01482856653977 AV4_JU_6_sorted.bam\n",
      "/data/gpfs/assoc/denovo/tfaske/sagebrush/SNPcall/bwa/AV4_JU_7_sorted.bam\n",
      "38.17998198771205 AV4_JU_7_sorted.bam\n",
      "/data/gpfs/assoc/denovo/tfaske/sagebrush/SNPcall/bwa/AV4_LM_10_sorted.bam\n",
      "55.319573143783884 AV4_LM_10_sorted.bam\n",
      "/data/gpfs/assoc/denovo/tfaske/sagebrush/SNPcall/bwa/AV4_LM_1_sorted.bam\n",
      "42.727587111386505 AV4_LM_1_sorted.bam\n",
      "/data/gpfs/assoc/denovo/tfaske/sagebrush/SNPcall/bwa/AV4_LM_2_sorted.bam\n",
      "42.876269093362424 AV4_LM_2_sorted.bam\n",
      "/data/gpfs/assoc/denovo/tfaske/sagebrush/SNPcall/bwa/AV4_LM_3_sorted.bam\n",
      "42.91768938680812 AV4_LM_3_sorted.bam\n",
      "/data/gpfs/assoc/denovo/tfaske/sagebrush/SNPcall/bwa/AV4_LM_4_sorted.bam\n",
      "51.63565437147205 AV4_LM_4_sorted.bam\n",
      "/data/gpfs/assoc/denovo/tfaske/sagebrush/SNPcall/bwa/AV4_LM_5_sorted.bam\n",
      "49.793601447165145 AV4_LM_5_sorted.bam\n",
      "/data/gpfs/assoc/denovo/tfaske/sagebrush/SNPcall/bwa/AV4_LM_6_sorted.bam\n",
      "34.25045561726594 AV4_LM_6_sorted.bam\n",
      "/data/gpfs/assoc/denovo/tfaske/sagebrush/SNPcall/bwa/AV4_LM_7_sorted.bam\n",
      "42.922589830232816 AV4_LM_7_sorted.bam\n",
      "/data/gpfs/assoc/denovo/tfaske/sagebrush/SNPcall/bwa/AV4_LM_8_sorted.bam\n",
      "47.526518132785164 AV4_LM_8_sorted.bam\n",
      "/data/gpfs/assoc/denovo/tfaske/sagebrush/SNPcall/bwa/AV4_LM_9_sorted.bam\n",
      "57.49569588707715 AV4_LM_9_sorted.bam\n",
      "/data/gpfs/assoc/denovo/tfaske/sagebrush/SNPcall/bwa/AV4_LS_10_sorted.bam\n",
      "32.16036659153722 AV4_LS_10_sorted.bam\n",
      "/data/gpfs/assoc/denovo/tfaske/sagebrush/SNPcall/bwa/AV4_LS_11_sorted.bam\n",
      "30.70572569164298 AV4_LS_11_sorted.bam\n",
      "/data/gpfs/assoc/denovo/tfaske/sagebrush/SNPcall/bwa/AV4_LS_12_sorted.bam\n",
      "27.782221548216835 AV4_LS_12_sorted.bam\n",
      "/data/gpfs/assoc/denovo/tfaske/sagebrush/SNPcall/bwa/AV4_LS_13_sorted.bam\n",
      "30.531357359936575 AV4_LS_13_sorted.bam\n",
      "/data/gpfs/assoc/denovo/tfaske/sagebrush/SNPcall/bwa/AV4_LS_14_sorted.bam\n",
      "34.84830037743184 AV4_LS_14_sorted.bam\n",
      "/data/gpfs/assoc/denovo/tfaske/sagebrush/SNPcall/bwa/AV4_LS_15_sorted.bam\n",
      "21.457038234836922 AV4_LS_15_sorted.bam\n",
      "/data/gpfs/assoc/denovo/tfaske/sagebrush/SNPcall/bwa/AV4_LS_16_sorted.bam\n",
      "27.207544337220266 AV4_LS_16_sorted.bam\n",
      "/data/gpfs/assoc/denovo/tfaske/sagebrush/SNPcall/bwa/AV4_LS_17_sorted.bam\n",
      "39.52948108533568 AV4_LS_17_sorted.bam\n",
      "/data/gpfs/assoc/denovo/tfaske/sagebrush/SNPcall/bwa/AV4_LS_18_sorted.bam\n",
      "39.12167591271601 AV4_LS_18_sorted.bam\n",
      "/data/gpfs/assoc/denovo/tfaske/sagebrush/SNPcall/bwa/AV4_LS_19_sorted.bam\n",
      "32.971828864054274 AV4_LS_19_sorted.bam\n",
      "/data/gpfs/assoc/denovo/tfaske/sagebrush/SNPcall/bwa/AV4_LS_1_sorted.bam\n",
      "32.97377597162952 AV4_LS_1_sorted.bam\n",
      "/data/gpfs/assoc/denovo/tfaske/sagebrush/SNPcall/bwa/AV4_LS_20_sorted.bam\n",
      "27.560440814656943 AV4_LS_20_sorted.bam\n",
      "/data/gpfs/assoc/denovo/tfaske/sagebrush/SNPcall/bwa/AV4_LS_21_sorted.bam\n",
      "16.200661408137872 AV4_LS_21_sorted.bam\n",
      "/data/gpfs/assoc/denovo/tfaske/sagebrush/SNPcall/bwa/AV4_LS_22_sorted.bam\n",
      "39.978666950561376 AV4_LS_22_sorted.bam\n",
      "/data/gpfs/assoc/denovo/tfaske/sagebrush/SNPcall/bwa/AV4_LS_23_sorted.bam\n",
      "24.421275652611165 AV4_LS_23_sorted.bam\n",
      "/data/gpfs/assoc/denovo/tfaske/sagebrush/SNPcall/bwa/AV4_LS_24_sorted.bam\n",
      "28.181826772506707 AV4_LS_24_sorted.bam\n",
      "/data/gpfs/assoc/denovo/tfaske/sagebrush/SNPcall/bwa/AV4_LS_25_sorted.bam\n",
      "35.196171800945244 AV4_LS_25_sorted.bam\n",
      "/data/gpfs/assoc/denovo/tfaske/sagebrush/SNPcall/bwa/AV4_LS_26_sorted.bam\n",
      "35.07963265957094 AV4_LS_26_sorted.bam\n",
      "/data/gpfs/assoc/denovo/tfaske/sagebrush/SNPcall/bwa/AV4_LS_27_sorted.bam\n",
      "29.84755665891811 AV4_LS_27_sorted.bam\n",
      "/data/gpfs/assoc/denovo/tfaske/sagebrush/SNPcall/bwa/AV4_LS_2_sorted.bam\n",
      "28.412556347081413 AV4_LS_2_sorted.bam\n",
      "/data/gpfs/assoc/denovo/tfaske/sagebrush/SNPcall/bwa/AV4_LS_3_sorted.bam\n",
      "31.05164392121028 AV4_LS_3_sorted.bam\n",
      "/data/gpfs/assoc/denovo/tfaske/sagebrush/SNPcall/bwa/AV4_LS_4_sorted.bam\n",
      "29.94140393255633 AV4_LS_4_sorted.bam\n",
      "/data/gpfs/assoc/denovo/tfaske/sagebrush/SNPcall/bwa/AV4_LS_5_sorted.bam\n",
      "37.18654364635596 AV4_LS_5_sorted.bam\n",
      "/data/gpfs/assoc/denovo/tfaske/sagebrush/SNPcall/bwa/AV4_LS_6_sorted.bam\n",
      "35.57863370684758 AV4_LS_6_sorted.bam\n",
      "/data/gpfs/assoc/denovo/tfaske/sagebrush/SNPcall/bwa/AV4_LS_7_sorted.bam\n",
      "23.398759873016374 AV4_LS_7_sorted.bam\n",
      "/data/gpfs/assoc/denovo/tfaske/sagebrush/SNPcall/bwa/AV4_LS_8_sorted.bam\n",
      "26.969510749428622 AV4_LS_8_sorted.bam\n",
      "/data/gpfs/assoc/denovo/tfaske/sagebrush/SNPcall/bwa/AV4_LS_9_sorted.bam\n",
      "35.92918882194327 AV4_LS_9_sorted.bam\n",
      "/data/gpfs/assoc/denovo/tfaske/sagebrush/SNPcall/bwa/AV4_RR_10_sorted.bam\n",
      "48.23904810635445 AV4_RR_10_sorted.bam\n",
      "/data/gpfs/assoc/denovo/tfaske/sagebrush/SNPcall/bwa/AV4_RR_1_sorted.bam\n",
      "32.11143873978684 AV4_RR_1_sorted.bam\n",
      "/data/gpfs/assoc/denovo/tfaske/sagebrush/SNPcall/bwa/AV4_RR_2_sorted.bam\n",
      "51.48948524407086 AV4_RR_2_sorted.bam\n",
      "/data/gpfs/assoc/denovo/tfaske/sagebrush/SNPcall/bwa/AV4_RR_3_sorted.bam\n",
      "48.91609447767133 AV4_RR_3_sorted.bam\n",
      "/data/gpfs/assoc/denovo/tfaske/sagebrush/SNPcall/bwa/AV4_RR_4_sorted.bam\n",
      "51.118589545402905 AV4_RR_4_sorted.bam\n",
      "/data/gpfs/assoc/denovo/tfaske/sagebrush/SNPcall/bwa/AV4_RR_5_sorted.bam\n",
      "33.6727095623321 AV4_RR_5_sorted.bam\n",
      "/data/gpfs/assoc/denovo/tfaske/sagebrush/SNPcall/bwa/AV4_RR_6_sorted.bam\n",
      "4.982908269067784 AV4_RR_6_sorted.bam\n",
      "/data/gpfs/assoc/denovo/tfaske/sagebrush/SNPcall/bwa/AV4_RR_7_sorted.bam\n",
      "44.75441226645616 AV4_RR_7_sorted.bam\n",
      "/data/gpfs/assoc/denovo/tfaske/sagebrush/SNPcall/bwa/AV4_RR_8_sorted.bam\n",
      "47.27300853893993 AV4_RR_8_sorted.bam\n",
      "/data/gpfs/assoc/denovo/tfaske/sagebrush/SNPcall/bwa/AV4_RR_9_sorted.bam\n",
      "58.15556999557268 AV4_RR_9_sorted.bam\n",
      "/data/gpfs/assoc/denovo/tfaske/sagebrush/SNPcall/bwa/AW4_AH_121_sorted.bam\n"
     ]
    },
    {
     "name": "stdout",
     "output_type": "stream",
     "text": [
      "28.896955420235482 AW4_AH_121_sorted.bam\n",
      "/data/gpfs/assoc/denovo/tfaske/sagebrush/SNPcall/bwa/AW4_AH_122_sorted.bam\n",
      "27.098925921240816 AW4_AH_122_sorted.bam\n",
      "/data/gpfs/assoc/denovo/tfaske/sagebrush/SNPcall/bwa/AW4_AH_123_sorted.bam\n",
      "26.068901786462863 AW4_AH_123_sorted.bam\n",
      "/data/gpfs/assoc/denovo/tfaske/sagebrush/SNPcall/bwa/AW4_AH_124_sorted.bam\n",
      "33.73544415243469 AW4_AH_124_sorted.bam\n",
      "/data/gpfs/assoc/denovo/tfaske/sagebrush/SNPcall/bwa/AW4_AH_125_sorted.bam\n",
      "22.848504669886275 AW4_AH_125_sorted.bam\n",
      "/data/gpfs/assoc/denovo/tfaske/sagebrush/SNPcall/bwa/AW4_AH_126_sorted.bam\n",
      "37.23685208203976 AW4_AH_126_sorted.bam\n",
      "/data/gpfs/assoc/denovo/tfaske/sagebrush/SNPcall/bwa/AW4_AH_127_sorted.bam\n",
      "23.710262535388996 AW4_AH_127_sorted.bam\n",
      "/data/gpfs/assoc/denovo/tfaske/sagebrush/SNPcall/bwa/AW4_AH_128_sorted.bam\n",
      "23.762871814823317 AW4_AH_128_sorted.bam\n",
      "/data/gpfs/assoc/denovo/tfaske/sagebrush/SNPcall/bwa/AW4_AH_129_sorted.bam\n",
      "31.12319130486116 AW4_AH_129_sorted.bam\n",
      "/data/gpfs/assoc/denovo/tfaske/sagebrush/SNPcall/bwa/AW4_AH_130_sorted.bam\n",
      "32.66366662485725 AW4_AH_130_sorted.bam\n",
      "/data/gpfs/assoc/denovo/tfaske/sagebrush/SNPcall/bwa/AW4_AH_131_sorted.bam\n",
      "25.083323558210296 AW4_AH_131_sorted.bam\n",
      "/data/gpfs/assoc/denovo/tfaske/sagebrush/SNPcall/bwa/AW4_AH_132_sorted.bam\n",
      "35.61704742622944 AW4_AH_132_sorted.bam\n",
      "/data/gpfs/assoc/denovo/tfaske/sagebrush/SNPcall/bwa/AW4_AH_133_sorted.bam\n",
      "42.29394341212732 AW4_AH_133_sorted.bam\n",
      "/data/gpfs/assoc/denovo/tfaske/sagebrush/SNPcall/bwa/AW4_AH_134_sorted.bam\n",
      "31.446781225800816 AW4_AH_134_sorted.bam\n",
      "/data/gpfs/assoc/denovo/tfaske/sagebrush/SNPcall/bwa/AW4_AH_135_sorted.bam\n",
      "23.54237537895542 AW4_AH_135_sorted.bam\n",
      "/data/gpfs/assoc/denovo/tfaske/sagebrush/SNPcall/bwa/AW4_FR_10_sorted.bam\n",
      "33.50523602161943 AW4_FR_10_sorted.bam\n",
      "/data/gpfs/assoc/denovo/tfaske/sagebrush/SNPcall/bwa/AW4_FR_1_sorted.bam\n",
      "38.390243043587354 AW4_FR_1_sorted.bam\n",
      "/data/gpfs/assoc/denovo/tfaske/sagebrush/SNPcall/bwa/AW4_FR_2_sorted.bam\n",
      "43.705563782216664 AW4_FR_2_sorted.bam\n",
      "/data/gpfs/assoc/denovo/tfaske/sagebrush/SNPcall/bwa/AW4_FR_3_sorted.bam\n",
      "48.6930726035495 AW4_FR_3_sorted.bam\n",
      "/data/gpfs/assoc/denovo/tfaske/sagebrush/SNPcall/bwa/AW4_FR_4_sorted.bam\n",
      "4.004468490001104 AW4_FR_4_sorted.bam\n",
      "/data/gpfs/assoc/denovo/tfaske/sagebrush/SNPcall/bwa/AW4_FR_5_sorted.bam\n",
      "47.45625936232762 AW4_FR_5_sorted.bam\n",
      "/data/gpfs/assoc/denovo/tfaske/sagebrush/SNPcall/bwa/AW4_FR_6_sorted.bam\n",
      "28.58682717126047 AW4_FR_6_sorted.bam\n",
      "/data/gpfs/assoc/denovo/tfaske/sagebrush/SNPcall/bwa/AW4_FR_7_sorted.bam\n",
      "37.369941169905 AW4_FR_7_sorted.bam\n",
      "/data/gpfs/assoc/denovo/tfaske/sagebrush/SNPcall/bwa/AW4_FR_8_sorted.bam\n",
      "42.63319246522668 AW4_FR_8_sorted.bam\n",
      "/data/gpfs/assoc/denovo/tfaske/sagebrush/SNPcall/bwa/AW4_FR_9_sorted.bam\n",
      "49.61128128708772 AW4_FR_9_sorted.bam\n",
      "/data/gpfs/assoc/denovo/tfaske/sagebrush/SNPcall/bwa/AW4_GB_10_sorted.bam\n",
      "45.60654785454528 AW4_GB_10_sorted.bam\n",
      "/data/gpfs/assoc/denovo/tfaske/sagebrush/SNPcall/bwa/AW4_GB_1_sorted.bam\n",
      "37.50985115685099 AW4_GB_1_sorted.bam\n",
      "/data/gpfs/assoc/denovo/tfaske/sagebrush/SNPcall/bwa/AW4_GB_2_sorted.bam\n",
      "44.29942509900922 AW4_GB_2_sorted.bam\n",
      "/data/gpfs/assoc/denovo/tfaske/sagebrush/SNPcall/bwa/AW4_GB_3_sorted.bam\n",
      "4.9543941720421865 AW4_GB_3_sorted.bam\n",
      "/data/gpfs/assoc/denovo/tfaske/sagebrush/SNPcall/bwa/AW4_GB_4_sorted.bam\n",
      "56.57028119620264 AW4_GB_4_sorted.bam\n",
      "/data/gpfs/assoc/denovo/tfaske/sagebrush/SNPcall/bwa/AW4_GB_5_sorted.bam\n",
      "52.547225975207596 AW4_GB_5_sorted.bam\n",
      "/data/gpfs/assoc/denovo/tfaske/sagebrush/SNPcall/bwa/AW4_GB_6_sorted.bam\n",
      "34.63021203032078 AW4_GB_6_sorted.bam\n",
      "/data/gpfs/assoc/denovo/tfaske/sagebrush/SNPcall/bwa/AW4_GB_7_sorted.bam\n",
      "44.24097945418044 AW4_GB_7_sorted.bam\n",
      "/data/gpfs/assoc/denovo/tfaske/sagebrush/SNPcall/bwa/AW4_GB_8_sorted.bam\n",
      "37.43447641119229 AW4_GB_8_sorted.bam\n",
      "/data/gpfs/assoc/denovo/tfaske/sagebrush/SNPcall/bwa/AW4_GB_9_sorted.bam\n",
      "50.30260587907223 AW4_GB_9_sorted.bam\n",
      "/data/gpfs/assoc/denovo/tfaske/sagebrush/SNPcall/bwa/AW4_HO_10_sorted.bam\n",
      "43.22268330690525 AW4_HO_10_sorted.bam\n",
      "/data/gpfs/assoc/denovo/tfaske/sagebrush/SNPcall/bwa/AW4_HO_1_sorted.bam\n",
      "51.4796845975878 AW4_HO_1_sorted.bam\n",
      "/data/gpfs/assoc/denovo/tfaske/sagebrush/SNPcall/bwa/AW4_HO_2_sorted.bam\n",
      "40.684170848361376 AW4_HO_2_sorted.bam\n",
      "/data/gpfs/assoc/denovo/tfaske/sagebrush/SNPcall/bwa/AW4_HO_3_sorted.bam\n",
      "43.97146709244291 AW4_HO_3_sorted.bam\n",
      "/data/gpfs/assoc/denovo/tfaske/sagebrush/SNPcall/bwa/AW4_HO_4_sorted.bam\n",
      "52.5526812247197 AW4_HO_4_sorted.bam\n",
      "/data/gpfs/assoc/denovo/tfaske/sagebrush/SNPcall/bwa/AW4_HO_5_sorted.bam\n",
      "46.154618104875446 AW4_HO_5_sorted.bam\n",
      "/data/gpfs/assoc/denovo/tfaske/sagebrush/SNPcall/bwa/AW4_HO_6_sorted.bam\n",
      "47.15078447241197 AW4_HO_6_sorted.bam\n",
      "/data/gpfs/assoc/denovo/tfaske/sagebrush/SNPcall/bwa/AW4_HO_7_sorted.bam\n",
      "42.520749274195516 AW4_HO_7_sorted.bam\n",
      "/data/gpfs/assoc/denovo/tfaske/sagebrush/SNPcall/bwa/AW4_HO_8_sorted.bam\n",
      "48.778563075999 AW4_HO_8_sorted.bam\n",
      "/data/gpfs/assoc/denovo/tfaske/sagebrush/SNPcall/bwa/AW4_HO_9_sorted.bam\n",
      "30.599929024406382 AW4_HO_9_sorted.bam\n",
      "/data/gpfs/assoc/denovo/tfaske/sagebrush/SNPcall/bwa/AW4_JC_10_sorted.bam\n",
      "63.27891496362659 AW4_JC_10_sorted.bam\n",
      "/data/gpfs/assoc/denovo/tfaske/sagebrush/SNPcall/bwa/AW4_JC_1_sorted.bam\n",
      "39.34923665954136 AW4_JC_1_sorted.bam\n",
      "/data/gpfs/assoc/denovo/tfaske/sagebrush/SNPcall/bwa/AW4_JC_2_sorted.bam\n",
      "3.589754956010664 AW4_JC_2_sorted.bam\n",
      "/data/gpfs/assoc/denovo/tfaske/sagebrush/SNPcall/bwa/AW4_JC_3_sorted.bam\n",
      "10.39818639959209 AW4_JC_3_sorted.bam\n",
      "/data/gpfs/assoc/denovo/tfaske/sagebrush/SNPcall/bwa/AW4_JC_4_sorted.bam\n",
      "41.29975203313844 AW4_JC_4_sorted.bam\n",
      "/data/gpfs/assoc/denovo/tfaske/sagebrush/SNPcall/bwa/AW4_JC_5_sorted.bam\n",
      "42.50048335776423 AW4_JC_5_sorted.bam\n",
      "/data/gpfs/assoc/denovo/tfaske/sagebrush/SNPcall/bwa/AW4_JC_6_sorted.bam\n",
      "48.58970984665436 AW4_JC_6_sorted.bam\n",
      "/data/gpfs/assoc/denovo/tfaske/sagebrush/SNPcall/bwa/AW4_JC_7_sorted.bam\n",
      "44.793062141873996 AW4_JC_7_sorted.bam\n",
      "/data/gpfs/assoc/denovo/tfaske/sagebrush/SNPcall/bwa/AW4_JC_8_sorted.bam\n",
      "57.179924556370615 AW4_JC_8_sorted.bam\n",
      "/data/gpfs/assoc/denovo/tfaske/sagebrush/SNPcall/bwa/AW4_JC_9_sorted.bam\n",
      "43.73340080054435 AW4_JC_9_sorted.bam\n",
      "/data/gpfs/assoc/denovo/tfaske/sagebrush/SNPcall/bwa/AW4_LW_10_sorted.bam\n",
      "47.875331762962595 AW4_LW_10_sorted.bam\n",
      "/data/gpfs/assoc/denovo/tfaske/sagebrush/SNPcall/bwa/AW4_LW_1_sorted.bam\n",
      "45.166277544187494 AW4_LW_1_sorted.bam\n",
      "/data/gpfs/assoc/denovo/tfaske/sagebrush/SNPcall/bwa/AW4_LW_2_sorted.bam\n",
      "46.06136618189354 AW4_LW_2_sorted.bam\n",
      "/data/gpfs/assoc/denovo/tfaske/sagebrush/SNPcall/bwa/AW4_LW_3_sorted.bam\n",
      "47.58800659766437 AW4_LW_3_sorted.bam\n",
      "/data/gpfs/assoc/denovo/tfaske/sagebrush/SNPcall/bwa/AW4_LW_4_sorted.bam\n",
      "47.96637830641538 AW4_LW_4_sorted.bam\n",
      "/data/gpfs/assoc/denovo/tfaske/sagebrush/SNPcall/bwa/AW4_LW_5_sorted.bam\n",
      "50.867700735262304 AW4_LW_5_sorted.bam\n",
      "/data/gpfs/assoc/denovo/tfaske/sagebrush/SNPcall/bwa/AW4_LW_6_sorted.bam\n",
      "45.81566151937524 AW4_LW_6_sorted.bam\n",
      "/data/gpfs/assoc/denovo/tfaske/sagebrush/SNPcall/bwa/AW4_LW_7_sorted.bam\n",
      "38.12216498489263 AW4_LW_7_sorted.bam\n",
      "/data/gpfs/assoc/denovo/tfaske/sagebrush/SNPcall/bwa/AW4_LW_8_sorted.bam\n",
      "62.55144178357763 AW4_LW_8_sorted.bam\n",
      "/data/gpfs/assoc/denovo/tfaske/sagebrush/SNPcall/bwa/AW4_LW_9_sorted.bam\n",
      "54.19258101736289 AW4_LW_9_sorted.bam\n",
      "/data/gpfs/assoc/denovo/tfaske/sagebrush/SNPcall/bwa/AW4_MC_1_sorted.bam\n",
      "63.338839059062444 AW4_MC_1_sorted.bam\n",
      "/data/gpfs/assoc/denovo/tfaske/sagebrush/SNPcall/bwa/AW4_MC_2_sorted.bam\n",
      "47.372860765751604 AW4_MC_2_sorted.bam\n",
      "/data/gpfs/assoc/denovo/tfaske/sagebrush/SNPcall/bwa/AW4_MC_3_sorted.bam\n",
      "60.76511619642963 AW4_MC_3_sorted.bam\n",
      "/data/gpfs/assoc/denovo/tfaske/sagebrush/SNPcall/bwa/AW4_MC_4_sorted.bam\n",
      "49.16372880614612 AW4_MC_4_sorted.bam\n",
      "/data/gpfs/assoc/denovo/tfaske/sagebrush/SNPcall/bwa/AW4_MC_5_sorted.bam\n",
      "41.07975209309627 AW4_MC_5_sorted.bam\n",
      "/data/gpfs/assoc/denovo/tfaske/sagebrush/SNPcall/bwa/AW4_MC_6_sorted.bam\n",
      "58.52677778004686 AW4_MC_6_sorted.bam\n",
      "/data/gpfs/assoc/denovo/tfaske/sagebrush/SNPcall/bwa/AW4_MD_10_sorted.bam\n",
      "38.24920491863972 AW4_MD_10_sorted.bam\n",
      "/data/gpfs/assoc/denovo/tfaske/sagebrush/SNPcall/bwa/AW4_MD_1_sorted.bam\n",
      "34.31213601903658 AW4_MD_1_sorted.bam\n",
      "/data/gpfs/assoc/denovo/tfaske/sagebrush/SNPcall/bwa/AW4_MD_2_sorted.bam\n",
      "17.40836457736493 AW4_MD_2_sorted.bam\n",
      "/data/gpfs/assoc/denovo/tfaske/sagebrush/SNPcall/bwa/AW4_MD_3_sorted.bam\n"
     ]
    },
    {
     "name": "stdout",
     "output_type": "stream",
     "text": [
      "43.22811541208655 AW4_MD_3_sorted.bam\n",
      "/data/gpfs/assoc/denovo/tfaske/sagebrush/SNPcall/bwa/AW4_MD_4_sorted.bam\n",
      "45.52417717978606 AW4_MD_4_sorted.bam\n",
      "/data/gpfs/assoc/denovo/tfaske/sagebrush/SNPcall/bwa/AW4_MD_5_sorted.bam\n",
      "40.24872699755301 AW4_MD_5_sorted.bam\n",
      "/data/gpfs/assoc/denovo/tfaske/sagebrush/SNPcall/bwa/AW4_MD_6_sorted.bam\n",
      "30.68287451149778 AW4_MD_6_sorted.bam\n",
      "/data/gpfs/assoc/denovo/tfaske/sagebrush/SNPcall/bwa/AW4_MD_7_sorted.bam\n",
      "41.53724425814803 AW4_MD_7_sorted.bam\n",
      "/data/gpfs/assoc/denovo/tfaske/sagebrush/SNPcall/bwa/AW4_MD_8_sorted.bam\n",
      "23.270052534849665 AW4_MD_8_sorted.bam\n",
      "/data/gpfs/assoc/denovo/tfaske/sagebrush/SNPcall/bwa/AW4_MD_9_sorted.bam\n",
      "26.68693624979887 AW4_MD_9_sorted.bam\n",
      "/data/gpfs/assoc/denovo/tfaske/sagebrush/SNPcall/bwa/AW4_MK_220_sorted.bam\n",
      "33.175419451643705 AW4_MK_220_sorted.bam\n",
      "/data/gpfs/assoc/denovo/tfaske/sagebrush/SNPcall/bwa/AW4_MK_221_sorted.bam\n",
      "26.996245777914588 AW4_MK_221_sorted.bam\n",
      "/data/gpfs/assoc/denovo/tfaske/sagebrush/SNPcall/bwa/AW4_MK_222_sorted.bam\n",
      "29.30158796526057 AW4_MK_222_sorted.bam\n",
      "/data/gpfs/assoc/denovo/tfaske/sagebrush/SNPcall/bwa/AW4_MK_223_sorted.bam\n",
      "44.28475784087085 AW4_MK_223_sorted.bam\n",
      "/data/gpfs/assoc/denovo/tfaske/sagebrush/SNPcall/bwa/AW4_MK_224_sorted.bam\n",
      "31.323811163048116 AW4_MK_224_sorted.bam\n",
      "/data/gpfs/assoc/denovo/tfaske/sagebrush/SNPcall/bwa/AW4_MK_225_sorted.bam\n",
      "26.41201828446687 AW4_MK_225_sorted.bam\n",
      "/data/gpfs/assoc/denovo/tfaske/sagebrush/SNPcall/bwa/AW4_MK_226_sorted.bam\n",
      "24.26216394918491 AW4_MK_226_sorted.bam\n",
      "/data/gpfs/assoc/denovo/tfaske/sagebrush/SNPcall/bwa/AW4_MK_227_sorted.bam\n",
      "26.11159838504278 AW4_MK_227_sorted.bam\n",
      "/data/gpfs/assoc/denovo/tfaske/sagebrush/SNPcall/bwa/AW4_MK_228_sorted.bam\n",
      "30.05154082881013 AW4_MK_228_sorted.bam\n",
      "/data/gpfs/assoc/denovo/tfaske/sagebrush/SNPcall/bwa/AW4_MK_229_sorted.bam\n",
      "33.85284034037588 AW4_MK_229_sorted.bam\n",
      "/data/gpfs/assoc/denovo/tfaske/sagebrush/SNPcall/bwa/AW4_MK_230_sorted.bam\n",
      "37.491648928192404 AW4_MK_230_sorted.bam\n",
      "/data/gpfs/assoc/denovo/tfaske/sagebrush/SNPcall/bwa/AW4_MK_231_sorted.bam\n",
      "35.47482437661142 AW4_MK_231_sorted.bam\n",
      "/data/gpfs/assoc/denovo/tfaske/sagebrush/SNPcall/bwa/AW4_MK_232_sorted.bam\n",
      "2.3072170288173717 AW4_MK_232_sorted.bam\n",
      "/data/gpfs/assoc/denovo/tfaske/sagebrush/SNPcall/bwa/AW4_MK_233_sorted.bam\n",
      "29.34227261430069 AW4_MK_233_sorted.bam\n",
      "/data/gpfs/assoc/denovo/tfaske/sagebrush/SNPcall/bwa/AW4_MK_234_sorted.bam\n",
      "49.230780285156385 AW4_MK_234_sorted.bam\n",
      "/data/gpfs/assoc/denovo/tfaske/sagebrush/SNPcall/bwa/AW4_MK_235_sorted.bam\n",
      "31.417783689371806 AW4_MK_235_sorted.bam\n",
      "/data/gpfs/assoc/denovo/tfaske/sagebrush/SNPcall/bwa/AW4_MK_236_sorted.bam\n",
      "24.568319612244984 AW4_MK_236_sorted.bam\n",
      "/data/gpfs/assoc/denovo/tfaske/sagebrush/SNPcall/bwa/AW4_OE_1_sorted.bam\n",
      "56.33174783549367 AW4_OE_1_sorted.bam\n",
      "/data/gpfs/assoc/denovo/tfaske/sagebrush/SNPcall/bwa/AW4_OE_2_sorted.bam\n",
      "64.70492695327646 AW4_OE_2_sorted.bam\n",
      "/data/gpfs/assoc/denovo/tfaske/sagebrush/SNPcall/bwa/AW4_OE_3_sorted.bam\n",
      "37.674716164005076 AW4_OE_3_sorted.bam\n",
      "/data/gpfs/assoc/denovo/tfaske/sagebrush/SNPcall/bwa/AW4_OE_4_sorted.bam\n",
      "69.35948518720508 AW4_OE_4_sorted.bam\n",
      "/data/gpfs/assoc/denovo/tfaske/sagebrush/SNPcall/bwa/AW4_OE_5_sorted.bam\n",
      "43.30055213950393 AW4_OE_5_sorted.bam\n",
      "/data/gpfs/assoc/denovo/tfaske/sagebrush/SNPcall/bwa/AW4_OE_6_sorted.bam\n",
      "48.46801211742336 AW4_OE_6_sorted.bam\n",
      "/data/gpfs/assoc/denovo/tfaske/sagebrush/SNPcall/bwa/AW4_OE_7_sorted.bam\n",
      "50.121667500506504 AW4_OE_7_sorted.bam\n",
      "/data/gpfs/assoc/denovo/tfaske/sagebrush/SNPcall/bwa/AW4_OE_8_sorted.bam\n",
      "37.95468148900291 AW4_OE_8_sorted.bam\n",
      "/data/gpfs/assoc/denovo/tfaske/sagebrush/SNPcall/bwa/AW4_OE_9_sorted.bam\n",
      "56.9806182387166 AW4_OE_9_sorted.bam\n",
      "/data/gpfs/assoc/denovo/tfaske/sagebrush/SNPcall/bwa/AW4_OW_1_sorted.bam\n",
      "32.72761009184559 AW4_OW_1_sorted.bam\n",
      "/data/gpfs/assoc/denovo/tfaske/sagebrush/SNPcall/bwa/AW4_OW_2_sorted.bam\n",
      "43.8674892367117 AW4_OW_2_sorted.bam\n",
      "/data/gpfs/assoc/denovo/tfaske/sagebrush/SNPcall/bwa/AW4_OW_3_sorted.bam\n",
      "29.112271462391494 AW4_OW_3_sorted.bam\n",
      "/data/gpfs/assoc/denovo/tfaske/sagebrush/SNPcall/bwa/AW4_OW_4_sorted.bam\n",
      "38.87907730779917 AW4_OW_4_sorted.bam\n",
      "/data/gpfs/assoc/denovo/tfaske/sagebrush/SNPcall/bwa/AW4_OW_5_sorted.bam\n",
      "47.43127573700972 AW4_OW_5_sorted.bam\n",
      "/data/gpfs/assoc/denovo/tfaske/sagebrush/SNPcall/bwa/AW4_OW_6_sorted.bam\n",
      "47.55800533838047 AW4_OW_6_sorted.bam\n",
      "/data/gpfs/assoc/denovo/tfaske/sagebrush/SNPcall/bwa/AW4_OW_7_sorted.bam\n",
      "52.15125296670441 AW4_OW_7_sorted.bam\n",
      "/data/gpfs/assoc/denovo/tfaske/sagebrush/SNPcall/bwa/AW4_OW_8_sorted.bam\n",
      "55.313805019530314 AW4_OW_8_sorted.bam\n",
      "/data/gpfs/assoc/denovo/tfaske/sagebrush/SNPcall/bwa/AW4_OW_9_sorted.bam\n",
      "24.635870946158896 AW4_OW_9_sorted.bam\n",
      "/data/gpfs/assoc/denovo/tfaske/sagebrush/SNPcall/bwa/AW4_PD_1_sorted.bam\n",
      "52.615020274975535 AW4_PD_1_sorted.bam\n",
      "/data/gpfs/assoc/denovo/tfaske/sagebrush/SNPcall/bwa/AW4_PD_2_sorted.bam\n",
      "63.34090646300754 AW4_PD_2_sorted.bam\n",
      "/data/gpfs/assoc/denovo/tfaske/sagebrush/SNPcall/bwa/AW4_PD_3_sorted.bam\n",
      "54.27384020694215 AW4_PD_3_sorted.bam\n",
      "/data/gpfs/assoc/denovo/tfaske/sagebrush/SNPcall/bwa/AW4_PD_4_sorted.bam\n",
      "65.43163684607084 AW4_PD_4_sorted.bam\n",
      "/data/gpfs/assoc/denovo/tfaske/sagebrush/SNPcall/bwa/AW4_PD_5_sorted.bam\n",
      "59.278298056022685 AW4_PD_5_sorted.bam\n",
      "/data/gpfs/assoc/denovo/tfaske/sagebrush/SNPcall/bwa/AW4_PD_6_sorted.bam\n",
      "41.77574078566808 AW4_PD_6_sorted.bam\n",
      "/data/gpfs/assoc/denovo/tfaske/sagebrush/SNPcall/bwa/AW4_PM_1_sorted.bam\n",
      "52.28222400330003 AW4_PM_1_sorted.bam\n",
      "/data/gpfs/assoc/denovo/tfaske/sagebrush/SNPcall/bwa/AW4_PM_2_sorted.bam\n",
      "43.84425164824029 AW4_PM_2_sorted.bam\n",
      "/data/gpfs/assoc/denovo/tfaske/sagebrush/SNPcall/bwa/AW4_PM_3_sorted.bam\n",
      "57.18971555992325 AW4_PM_3_sorted.bam\n",
      "/data/gpfs/assoc/denovo/tfaske/sagebrush/SNPcall/bwa/AW4_PM_4_sorted.bam\n",
      "48.547779242399045 AW4_PM_4_sorted.bam\n",
      "/data/gpfs/assoc/denovo/tfaske/sagebrush/SNPcall/bwa/AW4_PM_5_sorted.bam\n",
      "49.40041234583291 AW4_PM_5_sorted.bam\n",
      "/data/gpfs/assoc/denovo/tfaske/sagebrush/SNPcall/bwa/AW4_PM_6_sorted.bam\n",
      "43.854417925786784 AW4_PM_6_sorted.bam\n",
      "/data/gpfs/assoc/denovo/tfaske/sagebrush/SNPcall/bwa/AW4_PM_7_sorted.bam\n",
      "40.7925600385563 AW4_PM_7_sorted.bam\n",
      "/data/gpfs/assoc/denovo/tfaske/sagebrush/SNPcall/bwa/AW4_PM_8_sorted.bam\n",
      "44.67351759161382 AW4_PM_8_sorted.bam\n",
      "/data/gpfs/assoc/denovo/tfaske/sagebrush/SNPcall/bwa/AW4_PM_9_sorted.bam\n",
      "36.75671244959758 AW4_PM_9_sorted.bam\n",
      "/data/gpfs/assoc/denovo/tfaske/sagebrush/SNPcall/bwa/AW4_SB_10_sorted.bam\n",
      "37.723476101721154 AW4_SB_10_sorted.bam\n",
      "/data/gpfs/assoc/denovo/tfaske/sagebrush/SNPcall/bwa/AW4_SB_1_sorted.bam\n",
      "57.41307531727743 AW4_SB_1_sorted.bam\n",
      "/data/gpfs/assoc/denovo/tfaske/sagebrush/SNPcall/bwa/AW4_SB_2_sorted.bam\n",
      "45.206843448002644 AW4_SB_2_sorted.bam\n",
      "/data/gpfs/assoc/denovo/tfaske/sagebrush/SNPcall/bwa/AW4_SB_3_sorted.bam\n",
      "53.09517963773127 AW4_SB_3_sorted.bam\n",
      "/data/gpfs/assoc/denovo/tfaske/sagebrush/SNPcall/bwa/AW4_SB_4_sorted.bam\n",
      "50.76359048446359 AW4_SB_4_sorted.bam\n",
      "/data/gpfs/assoc/denovo/tfaske/sagebrush/SNPcall/bwa/AW4_SB_5_sorted.bam\n",
      "45.06052985744629 AW4_SB_5_sorted.bam\n",
      "/data/gpfs/assoc/denovo/tfaske/sagebrush/SNPcall/bwa/AW4_SB_6_sorted.bam\n",
      "61.59924732299623 AW4_SB_6_sorted.bam\n",
      "/data/gpfs/assoc/denovo/tfaske/sagebrush/SNPcall/bwa/AW4_SB_7_sorted.bam\n",
      "54.19048539405613 AW4_SB_7_sorted.bam\n",
      "/data/gpfs/assoc/denovo/tfaske/sagebrush/SNPcall/bwa/AW4_SB_8_sorted.bam\n",
      "41.86407658883158 AW4_SB_8_sorted.bam\n",
      "/data/gpfs/assoc/denovo/tfaske/sagebrush/SNPcall/bwa/AW4_SB_9_sorted.bam\n",
      "39.82442998429328 AW4_SB_9_sorted.bam\n",
      "/data/gpfs/assoc/denovo/tfaske/sagebrush/SNPcall/bwa/AW4_SC_10_sorted.bam\n",
      "44.66451781288748 AW4_SC_10_sorted.bam\n",
      "/data/gpfs/assoc/denovo/tfaske/sagebrush/SNPcall/bwa/AW4_SC_1_sorted.bam\n",
      "31.72163287838942 AW4_SC_1_sorted.bam\n",
      "/data/gpfs/assoc/denovo/tfaske/sagebrush/SNPcall/bwa/AW4_SC_2_sorted.bam\n",
      "45.47455383623406 AW4_SC_2_sorted.bam\n",
      "/data/gpfs/assoc/denovo/tfaske/sagebrush/SNPcall/bwa/AW4_SC_3_sorted.bam\n",
      "65.54548471426055 AW4_SC_3_sorted.bam\n",
      "/data/gpfs/assoc/denovo/tfaske/sagebrush/SNPcall/bwa/AW4_SC_4_sorted.bam\n",
      "39.386408385044504 AW4_SC_4_sorted.bam\n",
      "/data/gpfs/assoc/denovo/tfaske/sagebrush/SNPcall/bwa/AW4_SC_5_sorted.bam\n",
      "42.02088744267212 AW4_SC_5_sorted.bam\n",
      "/data/gpfs/assoc/denovo/tfaske/sagebrush/SNPcall/bwa/AW4_SC_6_sorted.bam\n"
     ]
    },
    {
     "name": "stdout",
     "output_type": "stream",
     "text": [
      "41.39750342615808 AW4_SC_6_sorted.bam\n",
      "/data/gpfs/assoc/denovo/tfaske/sagebrush/SNPcall/bwa/AW4_SC_7_sorted.bam\n",
      "41.70728052638654 AW4_SC_7_sorted.bam\n",
      "/data/gpfs/assoc/denovo/tfaske/sagebrush/SNPcall/bwa/AW4_SC_8_sorted.bam\n",
      "33.87727172594454 AW4_SC_8_sorted.bam\n",
      "/data/gpfs/assoc/denovo/tfaske/sagebrush/SNPcall/bwa/AW4_SC_9_sorted.bam\n",
      "49.71260166634881 AW4_SC_9_sorted.bam\n",
      "/data/gpfs/assoc/denovo/tfaske/sagebrush/SNPcall/bwa/AW4_SR_10_sorted.bam\n",
      "52.148601814406476 AW4_SR_10_sorted.bam\n",
      "/data/gpfs/assoc/denovo/tfaske/sagebrush/SNPcall/bwa/AW4_SR_1_sorted.bam\n",
      "54.86405351471935 AW4_SR_1_sorted.bam\n",
      "/data/gpfs/assoc/denovo/tfaske/sagebrush/SNPcall/bwa/AW4_SR_2_sorted.bam\n",
      "55.01489670799812 AW4_SR_2_sorted.bam\n",
      "/data/gpfs/assoc/denovo/tfaske/sagebrush/SNPcall/bwa/AW4_SR_3_sorted.bam\n",
      "54.44335543350901 AW4_SR_3_sorted.bam\n",
      "/data/gpfs/assoc/denovo/tfaske/sagebrush/SNPcall/bwa/AW4_SR_4_sorted.bam\n",
      "46.50767750373437 AW4_SR_4_sorted.bam\n",
      "/data/gpfs/assoc/denovo/tfaske/sagebrush/SNPcall/bwa/AW4_SR_5_sorted.bam\n",
      "47.415393087425294 AW4_SR_5_sorted.bam\n",
      "/data/gpfs/assoc/denovo/tfaske/sagebrush/SNPcall/bwa/AW4_SR_6_sorted.bam\n",
      "51.087674659298195 AW4_SR_6_sorted.bam\n",
      "/data/gpfs/assoc/denovo/tfaske/sagebrush/SNPcall/bwa/AW4_SR_7_sorted.bam\n",
      "55.71613092721654 AW4_SR_7_sorted.bam\n",
      "/data/gpfs/assoc/denovo/tfaske/sagebrush/SNPcall/bwa/AW4_SR_8_sorted.bam\n",
      "46.9215376792056 AW4_SR_8_sorted.bam\n",
      "/data/gpfs/assoc/denovo/tfaske/sagebrush/SNPcall/bwa/AW4_SR_9_sorted.bam\n",
      "36.327718532940665 AW4_SR_9_sorted.bam\n",
      "/data/gpfs/assoc/denovo/tfaske/sagebrush/SNPcall/bwa/AW4_SS_10_sorted.bam\n",
      "46.9104929057348 AW4_SS_10_sorted.bam\n",
      "/data/gpfs/assoc/denovo/tfaske/sagebrush/SNPcall/bwa/AW4_SS_1_sorted.bam\n",
      "44.10649735830585 AW4_SS_1_sorted.bam\n",
      "/data/gpfs/assoc/denovo/tfaske/sagebrush/SNPcall/bwa/AW4_SS_2_sorted.bam\n",
      "49.11296191136329 AW4_SS_2_sorted.bam\n",
      "/data/gpfs/assoc/denovo/tfaske/sagebrush/SNPcall/bwa/AW4_SS_3_sorted.bam\n",
      "45.68014296278751 AW4_SS_3_sorted.bam\n",
      "/data/gpfs/assoc/denovo/tfaske/sagebrush/SNPcall/bwa/AW4_SS_4_sorted.bam\n",
      "39.76238508652966 AW4_SS_4_sorted.bam\n",
      "/data/gpfs/assoc/denovo/tfaske/sagebrush/SNPcall/bwa/AW4_SS_5_sorted.bam\n",
      "47.37152468051943 AW4_SS_5_sorted.bam\n",
      "/data/gpfs/assoc/denovo/tfaske/sagebrush/SNPcall/bwa/AW4_SS_6_sorted.bam\n",
      "31.842007856883423 AW4_SS_6_sorted.bam\n",
      "/data/gpfs/assoc/denovo/tfaske/sagebrush/SNPcall/bwa/AW4_SS_7_sorted.bam\n",
      "50.206253332672496 AW4_SS_7_sorted.bam\n",
      "/data/gpfs/assoc/denovo/tfaske/sagebrush/SNPcall/bwa/AW4_SS_8_sorted.bam\n",
      "47.42920631781787 AW4_SS_8_sorted.bam\n",
      "/data/gpfs/assoc/denovo/tfaske/sagebrush/SNPcall/bwa/AW4_SS_9_sorted.bam\n",
      "54.119392123816695 AW4_SS_9_sorted.bam\n",
      "/data/gpfs/assoc/denovo/tfaske/sagebrush/SNPcall/bwa/AW4_WH_1_sorted.bam\n",
      "46.33408014793147 AW4_WH_1_sorted.bam\n",
      "/data/gpfs/assoc/denovo/tfaske/sagebrush/SNPcall/bwa/AW4_WH_2_sorted.bam\n",
      "65.07735068179517 AW4_WH_2_sorted.bam\n",
      "/data/gpfs/assoc/denovo/tfaske/sagebrush/SNPcall/bwa/AW4_WH_3_sorted.bam\n",
      "65.87110793413441 AW4_WH_3_sorted.bam\n",
      "/data/gpfs/assoc/denovo/tfaske/sagebrush/SNPcall/bwa/AW4_WH_4_sorted.bam\n",
      "49.58664403591822 AW4_WH_4_sorted.bam\n",
      "/data/gpfs/assoc/denovo/tfaske/sagebrush/SNPcall/bwa/AW4_WH_5_sorted.bam\n",
      "45.45693531731592 AW4_WH_5_sorted.bam\n",
      "/data/gpfs/assoc/denovo/tfaske/sagebrush/SNPcall/bwa/AW4_WH_6_sorted.bam\n",
      "39.786063861581376 AW4_WH_6_sorted.bam\n",
      "/data/gpfs/assoc/denovo/tfaske/sagebrush/SNPcall/bwa/AW4_WJ_10_sorted.bam\n",
      "56.20010119000259 AW4_WJ_10_sorted.bam\n",
      "/data/gpfs/assoc/denovo/tfaske/sagebrush/SNPcall/bwa/AW4_WJ_1_sorted.bam\n",
      "48.87249845446238 AW4_WJ_1_sorted.bam\n",
      "/data/gpfs/assoc/denovo/tfaske/sagebrush/SNPcall/bwa/AW4_WJ_2_sorted.bam\n",
      "45.31312559119199 AW4_WJ_2_sorted.bam\n",
      "/data/gpfs/assoc/denovo/tfaske/sagebrush/SNPcall/bwa/AW4_WJ_3_sorted.bam\n",
      "14.139756053667968 AW4_WJ_3_sorted.bam\n",
      "/data/gpfs/assoc/denovo/tfaske/sagebrush/SNPcall/bwa/AW4_WJ_4_sorted.bam\n",
      "36.944979012108405 AW4_WJ_4_sorted.bam\n",
      "/data/gpfs/assoc/denovo/tfaske/sagebrush/SNPcall/bwa/AW4_WJ_5_sorted.bam\n",
      "47.661758647063856 AW4_WJ_5_sorted.bam\n",
      "/data/gpfs/assoc/denovo/tfaske/sagebrush/SNPcall/bwa/AW4_WJ_6_sorted.bam\n",
      "57.85841717752735 AW4_WJ_6_sorted.bam\n",
      "/data/gpfs/assoc/denovo/tfaske/sagebrush/SNPcall/bwa/AW4_WJ_7_sorted.bam\n",
      "43.85529967359774 AW4_WJ_7_sorted.bam\n",
      "/data/gpfs/assoc/denovo/tfaske/sagebrush/SNPcall/bwa/AW4_WJ_8_sorted.bam\n",
      "41.7929662127189 AW4_WJ_8_sorted.bam\n",
      "/data/gpfs/assoc/denovo/tfaske/sagebrush/SNPcall/bwa/AW4_WJ_9_sorted.bam\n",
      "53.339622746180154 AW4_WJ_9_sorted.bam\n",
      "/data/gpfs/assoc/denovo/tfaske/sagebrush/SNPcall/bwa/AW4_YV_10_sorted.bam\n",
      "43.18117087146314 AW4_YV_10_sorted.bam\n",
      "/data/gpfs/assoc/denovo/tfaske/sagebrush/SNPcall/bwa/AW4_YV_1_sorted.bam\n",
      "38.75867550924731 AW4_YV_1_sorted.bam\n",
      "/data/gpfs/assoc/denovo/tfaske/sagebrush/SNPcall/bwa/AW4_YV_2_sorted.bam\n",
      "53.39354361694377 AW4_YV_2_sorted.bam\n",
      "/data/gpfs/assoc/denovo/tfaske/sagebrush/SNPcall/bwa/AW4_YV_3_sorted.bam\n",
      "56.77242078075969 AW4_YV_3_sorted.bam\n",
      "/data/gpfs/assoc/denovo/tfaske/sagebrush/SNPcall/bwa/AW4_YV_4_sorted.bam\n",
      "49.345232556231174 AW4_YV_4_sorted.bam\n",
      "/data/gpfs/assoc/denovo/tfaske/sagebrush/SNPcall/bwa/AW4_YV_5_sorted.bam\n",
      "62.355497035583035 AW4_YV_5_sorted.bam\n",
      "/data/gpfs/assoc/denovo/tfaske/sagebrush/SNPcall/bwa/AW4_YV_6_sorted.bam\n",
      "27.15977859737984 AW4_YV_6_sorted.bam\n",
      "/data/gpfs/assoc/denovo/tfaske/sagebrush/SNPcall/bwa/AW4_YV_7_sorted.bam\n",
      "33.68676562959699 AW4_YV_7_sorted.bam\n",
      "/data/gpfs/assoc/denovo/tfaske/sagebrush/SNPcall/bwa/AW4_YV_8_sorted.bam\n",
      "56.763561872429754 AW4_YV_8_sorted.bam\n",
      "/data/gpfs/assoc/denovo/tfaske/sagebrush/SNPcall/bwa/AW4_YV_9_sorted.bam\n",
      "64.21456322640114 AW4_YV_9_sorted.bam\n"
     ]
    },
    {
     "ename": "TypeError",
     "evalue": "__init__() got an unexpected keyword argument 'bam'",
     "output_type": "error",
     "traceback": [
      "\u001b[0;31m---------------------------------------------------------------------------\u001b[0m",
      "\u001b[0;31mTypeError\u001b[0m                                 Traceback (most recent call last)",
      "\u001b[0;32m<ipython-input-60-7e49d21ad4c7>\u001b[0m in \u001b[0;36m<module>\u001b[0;34m\u001b[0m\n\u001b[1;32m     14\u001b[0m     \u001b[0mcov_list\u001b[0m\u001b[0;34m.\u001b[0m\u001b[0mappend\u001b[0m\u001b[0;34m(\u001b[0m\u001b[0mcoverage\u001b[0m\u001b[0;34m)\u001b[0m\u001b[0;34m\u001b[0m\u001b[0;34m\u001b[0m\u001b[0m\n\u001b[1;32m     15\u001b[0m     \u001b[0mprint\u001b[0m\u001b[0;34m(\u001b[0m\u001b[0mcoverage\u001b[0m\u001b[0;34m,\u001b[0m\u001b[0mname\u001b[0m\u001b[0;34m)\u001b[0m\u001b[0;34m\u001b[0m\u001b[0;34m\u001b[0m\u001b[0m\n\u001b[0;32m---> 16\u001b[0;31m \u001b[0mcov_df\u001b[0m \u001b[0;34m=\u001b[0m \u001b[0mpd\u001b[0m\u001b[0;34m.\u001b[0m\u001b[0mDataFrame\u001b[0m\u001b[0;34m(\u001b[0m\u001b[0mbam\u001b[0m\u001b[0;34m=\u001b[0m\u001b[0mbam_names\u001b[0m\u001b[0;34m,\u001b[0m\u001b[0mcoverage\u001b[0m\u001b[0;34m=\u001b[0m\u001b[0mcov_list\u001b[0m\u001b[0;34m)\u001b[0m\u001b[0;34m\u001b[0m\u001b[0;34m\u001b[0m\u001b[0m\n\u001b[0m\u001b[1;32m     17\u001b[0m \u001b[0mcov_df\u001b[0m\u001b[0;34m.\u001b[0m\u001b[0mhead\u001b[0m\u001b[0;34m(\u001b[0m\u001b[0;34m)\u001b[0m\u001b[0;34m\u001b[0m\u001b[0;34m\u001b[0m\u001b[0m\n",
      "\u001b[0;31mTypeError\u001b[0m: __init__() got an unexpected keyword argument 'bam'"
     ]
    }
   ],
   "source": [
    "bam_names = []\n",
    "cov_list = []\n",
    "for i in range(0,len(bam_files)):\n",
    "    bam = bam_files[i]\n",
    "    print(bam)\n",
    "    b = bam.split('/')[9] #set this \n",
    "    #print (b)\n",
    "    !$samtools depth -a $b > $'cov.txt'\n",
    "    cov = pd.read_csv('cov.txt', sep=\"\\t\",header=None)\n",
    "    coverage = sum(cov.iloc[:,2])/len(cov.index)\n",
    "    name = b.split('.F')[0]\n",
    "    #print(name)\n",
    "    bam_names.append(name)\n",
    "    cov_list.append(coverage)\n",
    "    print(coverage,name)\n",
    "cov_df = pd.DataFrame(bam=bam_names,coverage=cov_list)\n",
    "cov_df.head()"
   ]
  },
  {
   "cell_type": "code",
   "execution_count": 61,
   "metadata": {},
   "outputs": [
    {
     "data": {
      "text/html": [
       "<div>\n",
       "<style scoped>\n",
       "    .dataframe tbody tr th:only-of-type {\n",
       "        vertical-align: middle;\n",
       "    }\n",
       "\n",
       "    .dataframe tbody tr th {\n",
       "        vertical-align: top;\n",
       "    }\n",
       "\n",
       "    .dataframe thead th {\n",
       "        text-align: right;\n",
       "    }\n",
       "</style>\n",
       "<table border=\"1\" class=\"dataframe\">\n",
       "  <thead>\n",
       "    <tr style=\"text-align: right;\">\n",
       "      <th></th>\n",
       "      <th>bam</th>\n",
       "      <th>coverage</th>\n",
       "    </tr>\n",
       "  </thead>\n",
       "  <tbody>\n",
       "    <tr>\n",
       "      <th>0</th>\n",
       "      <td>AT2_BB_10_sorted.bam</td>\n",
       "      <td>39.555471</td>\n",
       "    </tr>\n",
       "    <tr>\n",
       "      <th>1</th>\n",
       "      <td>AT2_BB_11_sorted.bam</td>\n",
       "      <td>29.417011</td>\n",
       "    </tr>\n",
       "    <tr>\n",
       "      <th>2</th>\n",
       "      <td>AT2_BB_12_sorted.bam</td>\n",
       "      <td>24.936499</td>\n",
       "    </tr>\n",
       "    <tr>\n",
       "      <th>3</th>\n",
       "      <td>AT2_BB_13_sorted.bam</td>\n",
       "      <td>35.261018</td>\n",
       "    </tr>\n",
       "    <tr>\n",
       "      <th>4</th>\n",
       "      <td>AT2_BB_14_sorted.bam</td>\n",
       "      <td>47.643883</td>\n",
       "    </tr>\n",
       "  </tbody>\n",
       "</table>\n",
       "</div>"
      ],
      "text/plain": [
       "                    bam   coverage\n",
       "0  AT2_BB_10_sorted.bam  39.555471\n",
       "1  AT2_BB_11_sorted.bam  29.417011\n",
       "2  AT2_BB_12_sorted.bam  24.936499\n",
       "3  AT2_BB_13_sorted.bam  35.261018\n",
       "4  AT2_BB_14_sorted.bam  47.643883"
      ]
     },
     "execution_count": 61,
     "metadata": {},
     "output_type": "execute_result"
    }
   ],
   "source": [
    "cov_dict = {\"bam\":bam_names,'coverage':cov_list}\n",
    "cov_df = pd.DataFrame(cov_dict)\n",
    "cov_df.head()\n",
    "#len(cov_df)"
   ]
  },
  {
   "cell_type": "code",
   "execution_count": 62,
   "metadata": {},
   "outputs": [],
   "source": [
    "cov_out = os.path.join(bwa_dir,'bam_coverage.csv')\n",
    "cov_df.to_csv(path_or_buf=cov_out)"
   ]
  },
  {
   "cell_type": "code",
   "execution_count": 63,
   "metadata": {
    "scrolled": true
   },
   "outputs": [
    {
     "data": {
      "text/plain": [
       "count    708.000000\n",
       "mean      35.644292\n",
       "std       11.286788\n",
       "min        1.696807\n",
       "25%       28.291483\n",
       "50%       34.349371\n",
       "75%       43.191507\n",
       "max       69.359485\n",
       "Name: coverage, dtype: float64"
      ]
     },
     "execution_count": 63,
     "metadata": {},
     "output_type": "execute_result"
    }
   ],
   "source": [
    "cov_df.coverage.describe()\n"
   ]
  },
  {
   "cell_type": "code",
   "execution_count": 64,
   "metadata": {},
   "outputs": [
    {
     "data": {
      "text/plain": [
       "708"
      ]
     },
     "execution_count": 64,
     "metadata": {},
     "output_type": "execute_result"
    }
   ],
   "source": [
    "len(cov_df.coverage)"
   ]
  },
  {
   "cell_type": "markdown",
   "metadata": {},
   "source": [
    "# move good bams\n",
    "    EN_TF_99 empty so only 399"
   ]
  },
  {
   "cell_type": "code",
   "execution_count": 67,
   "metadata": {},
   "outputs": [
    {
     "data": {
      "text/plain": [
       "(695, 698)"
      ]
     },
     "execution_count": 67,
     "metadata": {},
     "output_type": "execute_result"
    }
   ],
   "source": [
    "len(cov_df[cov_df.coverage > 10]),len(cov_df[cov_df.coverage >= 5])"
   ]
  },
  {
   "cell_type": "code",
   "execution_count": 68,
   "metadata": {},
   "outputs": [
    {
     "data": {
      "text/plain": [
       "(695, 'AT2_BB_10_sorted.bam')"
      ]
     },
     "execution_count": 68,
     "metadata": {},
     "output_type": "execute_result"
    }
   ],
   "source": [
    "good_bam = cov_df.bam[cov_df.coverage >= 10]\n",
    "good_bam = good_bam.tolist()\n",
    "len(good_bam),good_bam[0]"
   ]
  },
  {
   "cell_type": "code",
   "execution_count": 69,
   "metadata": {},
   "outputs": [
    {
     "data": {
      "text/plain": [
       "(695,\n",
       " '/data/gpfs/assoc/denovo/tfaske/sagebrush/SNPcall/bwa//AT2_BB_11_sorted.bam')"
      ]
     },
     "execution_count": 69,
     "metadata": {},
     "output_type": "execute_result"
    }
   ],
   "source": [
    "good_bam_files = []\n",
    "for i in range(0,len(good_bam)):\n",
    "    bam = bwa_dir + '/' + good_bam[i]\n",
    "    good_bam_files.append(bam)\n",
    "len(good_bam_files), good_bam_files[1]"
   ]
  },
  {
   "cell_type": "code",
   "execution_count": 73,
   "metadata": {},
   "outputs": [],
   "source": [
    "snp_dir = os.path.join(root,'SNPcall')"
   ]
  },
  {
   "cell_type": "code",
   "execution_count": 74,
   "metadata": {},
   "outputs": [
    {
     "name": "stdout",
     "output_type": "stream",
     "text": [
      "/data/gpfs/assoc/denovo/tfaske/sagebrush/SNPcall\n"
     ]
    }
   ],
   "source": [
    "cd $snp_dir"
   ]
  },
  {
   "cell_type": "code",
   "execution_count": 75,
   "metadata": {},
   "outputs": [],
   "source": [
    "!mkdir 'good_bams'"
   ]
  },
  {
   "cell_type": "code",
   "execution_count": 76,
   "metadata": {},
   "outputs": [],
   "source": [
    "good_bam_dir = os.path.join(snp_dir,'good_bams')\n",
    "assert good_bam_dir"
   ]
  },
  {
   "cell_type": "code",
   "execution_count": 77,
   "metadata": {},
   "outputs": [],
   "source": [
    "for i in range(0,len(good_bam_files)):\n",
    "    good_bam = str(good_bam_files[i])\n",
    "    !cp $good_bam $good_bam_dir"
   ]
  },
  {
   "cell_type": "code",
   "execution_count": 51,
   "metadata": {},
   "outputs": [
    {
     "name": "stdout",
     "output_type": "stream",
     "text": [
      "/data/gpfs/assoc/denovo/tfaske/rabbruh/SNPcall/good_bams\n"
     ]
    }
   ],
   "source": [
    "cd $good_bam_dir"
   ]
  },
  {
   "cell_type": "code",
   "execution_count": 52,
   "metadata": {},
   "outputs": [],
   "source": [
    "good_bam_cp_files = []\n",
    "files = !find . -type f -name '*sorted.bam'\n",
    "files = [os.path.abspath(x) for x in files if 'bam' in x]\n",
    "for x in files:\n",
    "    good_bam_cp_files.append(x)\n",
    "good_bam_cp_files = sorted(good_bam_files)"
   ]
  },
  {
   "cell_type": "code",
   "execution_count": 53,
   "metadata": {
    "scrolled": true
   },
   "outputs": [
    {
     "data": {
      "text/plain": [
       "(384,\n",
       " '/data/gpfs/assoc/denovo/tfaske/rabbruh/SNPcall/good_bams/EN_TF_100_sorted.bam')"
      ]
     },
     "execution_count": 53,
     "metadata": {},
     "output_type": "execute_result"
    }
   ],
   "source": [
    "len(good_bam_cp_files),good_bam_cp_files[0]"
   ]
  },
  {
   "cell_type": "code",
   "execution_count": null,
   "metadata": {},
   "outputs": [],
   "source": []
  },
  {
   "cell_type": "code",
   "execution_count": null,
   "metadata": {},
   "outputs": [],
   "source": []
  }
 ],
 "metadata": {
  "kernelspec": {
   "display_name": "Python 3",
   "language": "python",
   "name": "python3"
  },
  "language_info": {
   "codemirror_mode": {
    "name": "ipython",
    "version": 3
   },
   "file_extension": ".py",
   "mimetype": "text/x-python",
   "name": "python",
   "nbconvert_exporter": "python",
   "pygments_lexer": "ipython3",
   "version": "3.6.7"
  }
 },
 "nbformat": 4,
 "nbformat_minor": 1
}
