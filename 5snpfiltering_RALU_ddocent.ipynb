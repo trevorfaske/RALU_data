{
 "cells": [
  {
   "cell_type": "code",
   "execution_count": 1,
   "metadata": {},
   "outputs": [
    {
     "name": "stdout",
     "output_type": "stream",
     "text": [
      "/data/gpfs/assoc/parchmanlab/tfaske/anaconda3/envs/py36/bin/python\r\n"
     ]
    }
   ],
   "source": [
    "!which python"
   ]
  },
  {
   "cell_type": "code",
   "execution_count": 2,
   "metadata": {},
   "outputs": [
    {
     "name": "stdout",
     "output_type": "stream",
     "text": [
      "/usr/bin/sh: line 0: source: activate: file not found\r\n"
     ]
    }
   ],
   "source": [
    "!source activate py36"
   ]
  },
  {
   "cell_type": "code",
   "execution_count": 3,
   "metadata": {},
   "outputs": [],
   "source": [
    "import sys\n",
    "\n",
    "#sys.path.append('/home/faske/g/anaconda3/envs/py34/lib/python3.4/site-packages')\n",
    "sys.path.append('/data/gpfs/assoc/parchmanlab/tfaske/anaconda3/envs/py36/lib/python3.6/site-packages')\n",
    "sys.path.append(\"/data/gpfs/assoc/parchmanlab/tfaske/ipynb/include_utils\")\n",
    "\n",
    "import ipyparallel as ipp\n",
    "import os, time\n",
    "import include_utils as u\n",
    "import pandas as pd\n",
    "import numpy as np\n",
    "import scipy as sp\n",
    "import random\n",
    "import numbers\n",
    "import matplotlib.pyplot as plt\n",
    "import matplotlib.patches as mpatches\n",
    "import matplotlib.cm as cm\n",
    "import matplotlib.colors as mcolors\n",
    "#import vcf\n",
    "from sklearn import preprocessing\n",
    "from subprocess import Popen, PIPE, call, check_output\n",
    "import seaborn as sns\n",
    "from IPython.display import FileLink\n",
    "import urllib.request as urllib2\n",
    "import dill\n",
    "import traceback\n",
    "from pandas import Series, DataFrame\n",
    "import gzip\n",
    "import warnings\n",
    "warnings.filterwarnings('ignore',category=pd.io.pytables.PerformanceWarning)\n",
    "%config InlineBackend.figure_format = 'retina'\n",
    "from Bio import SeqIO\n",
    "#import pysam\n",
    "from collections import OrderedDict, namedtuple, Counter\n",
    "import operator\n",
    "import multiprocessing as mp\n",
    "import shutil\n",
    "import tempfile\n",
    "#from ipyparallel import Client\n",
    "import scandir\n",
    "import glob\n",
    "from Bio.SeqIO.QualityIO import FastqGeneralIterator\n",
    "import pickle\n",
    "import re\n",
    "from itertools import chain\n",
    "#import Levenshtein as lv"
   ]
  },
  {
   "cell_type": "code",
   "execution_count": 4,
   "metadata": {},
   "outputs": [],
   "source": [
    "vcfutils = \"vcfutils.pl\"\n",
    "vcftools = \"vcftools\"\n",
    "bcftools = \"bcftools\"\n",
    "bgzip = \"bgzip\"\n",
    "tabix = \"tabix\"\n",
    "java = \"java\"\n",
    "plink = \"plink --noweb\""
   ]
  },
  {
   "cell_type": "code",
   "execution_count": 5,
   "metadata": {},
   "outputs": [],
   "source": [
    "analysis_dir = '/data/gpfs/home/tfaske/d/milkweed/filtering'"
   ]
  },
  {
   "cell_type": "code",
   "execution_count": 6,
   "metadata": {},
   "outputs": [
    {
     "name": "stdout",
     "output_type": "stream",
     "text": [
      "/data/gpfs/assoc/denovo/tfaske/milkweed/filtering\n"
     ]
    }
   ],
   "source": [
    "cd $analysis_dir"
   ]
  },
  {
   "cell_type": "code",
   "execution_count": 7,
   "metadata": {
    "scrolled": true
   },
   "outputs": [
    {
     "data": {
      "text/plain": [
       "'/data/gpfs/home/tfaske/d/milkweed/filtering/samtools1-9.milkweed.vcf.gz'"
      ]
     },
     "execution_count": 7,
     "metadata": {},
     "output_type": "execute_result"
    }
   ],
   "source": [
    "vcf_file = os.path.join(analysis_dir, \"samtools1-9.milkweed.vcf.gz\")\n",
    "assert os.path.exists(vcf_file)\n",
    "vcf_file"
   ]
  },
  {
   "cell_type": "markdown",
   "metadata": {},
   "source": [
    "## make 012 and remove pop SB and NI outliers\n",
    "\n",
    "Remove all SB pop and c('FA_NI_587','FA_NI_588','FA_NI_589','FA_NI_590')"
   ]
  },
  {
   "cell_type": "code",
   "execution_count": 16,
   "metadata": {},
   "outputs": [
    {
     "name": "stdout",
     "output_type": "stream",
     "text": [
      "\n",
      "VCFtools - 0.1.16\n",
      "(C) Adam Auton and Anthony Marcketta 2009\n",
      "\n",
      "Parameters as interpreted:\n",
      "\t--gzvcf /data/gpfs/home/tfaske/d/milkweed/filtering/samtools1-9.milkweed.vcf.gz\n",
      "\t--012\n",
      "\t--out /data/gpfs/home/tfaske/d/milkweed/filtering/samtools1-9.milkweed.vcf.gz\n",
      "\n",
      "Using zlib version: 1.2.11\n",
      "Warning: Expected at least 2 parts in INFO entry: ID=AC,Number=A,Type=Integer,Description=\"Allele count in genotypes for each ALT allele, in the same order as listed\">\n",
      "Warning: Expected at least 2 parts in INFO entry: ID=DP4,Number=4,Type=Integer,Description=\"Number of high-quality ref-forward , ref-reverse, alt-forward and alt-reverse bases\">\n",
      "Warning: Expected at least 2 parts in INFO entry: ID=DP4,Number=4,Type=Integer,Description=\"Number of high-quality ref-forward , ref-reverse, alt-forward and alt-reverse bases\">\n",
      "After filtering, kept 176 out of 176 Individuals\n",
      "Writing 012 matrix files ... \t012: Only outputting biallelic loci.\n",
      "^C\n"
     ]
    }
   ],
   "source": [
    "!$vcftools --gzvcf $vcf_file \\\n",
    "--out $vcf_file \\\n",
    "--012"
   ]
  },
  {
   "cell_type": "code",
   "execution_count": 8,
   "metadata": {},
   "outputs": [
    {
     "name": "stdout",
     "output_type": "stream",
     "text": [
      "/working/tfaske/milkweed/SNPcall/bowtie2/FA_SB_789.fastq.gz_sorted.bam\r\n",
      "/working/tfaske/milkweed/SNPcall/bowtie2/FA_SB_790.fastq.gz_sorted.bam\r\n",
      "/working/tfaske/milkweed/SNPcall/bowtie2/FA_SB_791.fastq.gz_sorted.bam\r\n",
      "/working/tfaske/milkweed/SNPcall/bowtie2/FA_SB_792.fastq.gz_sorted.bam\r\n",
      "/working/tfaske/milkweed/SNPcall/bowtie2/FA_SB_793.fastq.gz_sorted.bam\r\n",
      "/working/tfaske/milkweed/SNPcall/bowtie2/FA_SB_794.fastq.gz_sorted.bam\r\n",
      "/working/tfaske/milkweed/SNPcall/bowtie2/FA_SB_795.fastq.gz_sorted.bam\r\n",
      "/working/tfaske/milkweed/SNPcall/bowtie2/FA_SB_796.fastq.gz_sorted.bam\r\n",
      "/working/tfaske/milkweed/SNPcall/bowtie2/FA_SB_797.fastq.gz_sorted.bam\r\n",
      "/working/tfaske/milkweed/SNPcall/bowtie2/FA_SB_798.fastq.gz_sorted.bam\r\n",
      "/working/tfaske/milkweed/SNPcall/bowtie2/FA_SB_799.fastq.gz_sorted.bam\r\n",
      "/working/tfaske/milkweed/SNPcall/bowtie2/FA_SB_800.fastq.gz_sorted.bam\r\n",
      "/working/tfaske/milkweed/SNPcall/bowtie2/FA_NI_587.fastq.gz_sorted.bam\r\n",
      "/working/tfaske/milkweed/SNPcall/bowtie2/FA_NI_588.fastq.gz_sorted.bam\r\n",
      "/working/tfaske/milkweed/SNPcall/bowtie2/FA_NI_589.fastq.gz_sorted.bam\r\n",
      "/working/tfaske/milkweed/SNPcall/bowtie2/FA_NI_590.fastq.gz_sorted.bam\r\n"
     ]
    }
   ],
   "source": [
    "!grep 'SB' 'samtools1-9.milkweed.vcf.gz.012.indv' > remove_outliers.txt\n",
    "!grep 'FA_NI_587' 'samtools1-9.milkweed.vcf.gz.012.indv' >> remove_outliers.txt\n",
    "!grep 'FA_NI_588' 'samtools1-9.milkweed.vcf.gz.012.indv' >> remove_outliers.txt\n",
    "!grep 'FA_NI_589' 'samtools1-9.milkweed.vcf.gz.012.indv' >> remove_outliers.txt\n",
    "!grep 'FA_NI_590' 'samtools1-9.milkweed.vcf.gz.012.indv' >> remove_outliers.txt\n",
    "!cat remove_outliers.txt"
   ]
  },
  {
   "cell_type": "code",
   "execution_count": 9,
   "metadata": {},
   "outputs": [
    {
     "name": "stdout",
     "output_type": "stream",
     "text": [
      "\n",
      "VCFtools - 0.1.16\n",
      "(C) Adam Auton and Anthony Marcketta 2009\n",
      "\n",
      "Parameters as interpreted:\n",
      "\t--gzvcf /data/gpfs/home/tfaske/d/milkweed/filtering/samtools1-9.milkweed.vcf.gz\n",
      "\t--remove /data/gpfs/home/tfaske/d/milkweed/filtering/remove_outliers.txt\n",
      "\t--recode-INFO-all\n",
      "\t--out /data/gpfs/home/tfaske/d/milkweed/filtering/milkweed_minusSB\n",
      "\t--recode\n",
      "\t--remove-filtered-all\n",
      "\n",
      "Using zlib version: 1.2.11\n",
      "Warning: Expected at least 2 parts in INFO entry: ID=AC,Number=A,Type=Integer,Description=\"Allele count in genotypes for each ALT allele, in the same order as listed\">\n",
      "Warning: Expected at least 2 parts in INFO entry: ID=DP4,Number=4,Type=Integer,Description=\"Number of high-quality ref-forward , ref-reverse, alt-forward and alt-reverse bases\">\n",
      "Warning: Expected at least 2 parts in INFO entry: ID=DP4,Number=4,Type=Integer,Description=\"Number of high-quality ref-forward , ref-reverse, alt-forward and alt-reverse bases\">\n",
      "Excluding individuals in 'exclude' list\n",
      "After filtering, kept 160 out of 176 Individuals\n",
      "Outputting VCF file...\n",
      "After filtering, kept 1255808 out of a possible 1255808 Sites\n",
      "Run Time = 739.00 seconds\n"
     ]
    }
   ],
   "source": [
    "!$vcftools --gzvcf $vcf_file \\\n",
    "--remove-filtered-all \\\n",
    "--recode \\\n",
    "--recode-INFO-all \\\n",
    "--remove {os.path.join(analysis_dir, \"remove_outliers.txt\")} \\\n",
    "--out {os.path.join(analysis_dir, \"milkweed_minusSB\")}"
   ]
  },
  {
   "cell_type": "code",
   "execution_count": 11,
   "metadata": {},
   "outputs": [],
   "source": [
    "vcf_remove = os.path.join(analysis_dir, \"milkweed_minusSB.recode.vcf\")\n",
    "vcf_file = vcf_remove + \".gz\"\n",
    "!$bgzip -c {vcf_remove} > {vcf_file}\n",
    "!$tabix {vcf_file}"
   ]
  },
  {
   "cell_type": "markdown",
   "metadata": {},
   "source": [
    "# Filter first round \n",
    "    missing data, MAF, biallelic"
   ]
  },
  {
   "cell_type": "code",
   "execution_count": 12,
   "metadata": {},
   "outputs": [
    {
     "name": "stdout",
     "output_type": "stream",
     "text": [
      "\n",
      "VCFtools - 0.1.16\n",
      "(C) Adam Auton and Anthony Marcketta 2009\n",
      "\n",
      "Parameters as interpreted:\n",
      "\t--gzvcf /data/gpfs/home/tfaske/d/milkweed/filtering/milkweed_minusSB.recode.vcf.gz\n",
      "\t--recode-INFO-all\n",
      "\t--maf 0.02\n",
      "\t--max-alleles 2\n",
      "\t--min-alleles 2\n",
      "\t--thin 5\n",
      "\t--max-missing 0.7\n",
      "\t--out milkweed_miss70_thin5_MAF2\n",
      "\t--recode\n",
      "\t--remove-filtered-all\n",
      "\t--remove-indels\n",
      "\n",
      "Using zlib version: 1.2.11\n",
      "Warning: Expected at least 2 parts in INFO entry: ID=AC,Number=A,Type=Integer,Description=\"Allele count in genotypes for each ALT allele, in the same order as listed\">\n",
      "Warning: Expected at least 2 parts in INFO entry: ID=DP4,Number=4,Type=Integer,Description=\"Number of high-quality ref-forward , ref-reverse, alt-forward and alt-reverse bases\">\n",
      "Warning: Expected at least 2 parts in INFO entry: ID=DP4,Number=4,Type=Integer,Description=\"Number of high-quality ref-forward , ref-reverse, alt-forward and alt-reverse bases\">\n",
      "After filtering, kept 160 out of 160 Individuals\n",
      "Outputting VCF file...\n",
      "After filtering, kept 55778 out of a possible 1255808 Sites\n",
      "Run Time = 79.00 seconds\n"
     ]
    }
   ],
   "source": [
    "!$vcftools --remove-indels \\\n",
    "--max-missing 0.7 \\\n",
    "--min-alleles 2 \\\n",
    "--max-alleles 2 \\\n",
    "--maf 0.02 \\\n",
    "--thin 5 \\\n",
    "--remove-filtered-all \\\n",
    "--recode \\\n",
    "--recode-INFO-all \\\n",
    "--gzvcf \\\n",
    "$vcf_file \\\n",
    "--out $'milkweed_miss70_thin5_MAF2'"
   ]
  },
  {
   "cell_type": "code",
   "execution_count": 13,
   "metadata": {},
   "outputs": [
    {
     "name": "stdout",
     "output_type": "stream",
     "text": [
      "\n",
      "VCFtools - 0.1.16\n",
      "(C) Adam Auton and Anthony Marcketta 2009\n",
      "\n",
      "Parameters as interpreted:\n",
      "\t--gzvcf /data/gpfs/home/tfaske/d/milkweed/filtering/milkweed_minusSB.recode.vcf.gz\n",
      "\t--recode-INFO-all\n",
      "\t--maf 0.02\n",
      "\t--max-alleles 2\n",
      "\t--min-alleles 2\n",
      "\t--thin 50\n",
      "\t--max-missing 0.7\n",
      "\t--out milkweed_miss70_thin50_MAF2\n",
      "\t--recode\n",
      "\t--remove-filtered-all\n",
      "\t--remove-indels\n",
      "\n",
      "Using zlib version: 1.2.11\n",
      "Warning: Expected at least 2 parts in INFO entry: ID=AC,Number=A,Type=Integer,Description=\"Allele count in genotypes for each ALT allele, in the same order as listed\">\n",
      "Warning: Expected at least 2 parts in INFO entry: ID=DP4,Number=4,Type=Integer,Description=\"Number of high-quality ref-forward , ref-reverse, alt-forward and alt-reverse bases\">\n",
      "Warning: Expected at least 2 parts in INFO entry: ID=DP4,Number=4,Type=Integer,Description=\"Number of high-quality ref-forward , ref-reverse, alt-forward and alt-reverse bases\">\n",
      "After filtering, kept 160 out of 160 Individuals\n",
      "Outputting VCF file...\n",
      "After filtering, kept 32290 out of a possible 1255808 Sites\n",
      "Run Time = 66.00 seconds\n"
     ]
    }
   ],
   "source": [
    "!$vcftools --remove-indels \\\n",
    "--max-missing 0.7 \\\n",
    "--min-alleles 2 \\\n",
    "--max-alleles 2 \\\n",
    "--maf 0.02 \\\n",
    "--thin 50 \\\n",
    "--remove-filtered-all \\\n",
    "--recode \\\n",
    "--recode-INFO-all \\\n",
    "--gzvcf \\\n",
    "$vcf_file \\\n",
    "--out $'milkweed_miss70_thin50_MAF2'"
   ]
  },
  {
   "cell_type": "code",
   "execution_count": 14,
   "metadata": {},
   "outputs": [
    {
     "name": "stdout",
     "output_type": "stream",
     "text": [
      "\n",
      "VCFtools - 0.1.16\n",
      "(C) Adam Auton and Anthony Marcketta 2009\n",
      "\n",
      "Parameters as interpreted:\n",
      "\t--gzvcf /data/gpfs/home/tfaske/d/milkweed/filtering/milkweed_minusSB.recode.vcf.gz\n",
      "\t--recode-INFO-all\n",
      "\t--maf 0.01\n",
      "\t--max-alleles 2\n",
      "\t--min-alleles 2\n",
      "\t--thin 50\n",
      "\t--max-missing 0.6\n",
      "\t--out milkweed_miss60_thin50_MAF2\n",
      "\t--recode\n",
      "\t--remove-filtered-all\n",
      "\t--remove-indels\n",
      "\n",
      "Using zlib version: 1.2.11\n",
      "Warning: Expected at least 2 parts in INFO entry: ID=AC,Number=A,Type=Integer,Description=\"Allele count in genotypes for each ALT allele, in the same order as listed\">\n",
      "Warning: Expected at least 2 parts in INFO entry: ID=DP4,Number=4,Type=Integer,Description=\"Number of high-quality ref-forward , ref-reverse, alt-forward and alt-reverse bases\">\n",
      "Warning: Expected at least 2 parts in INFO entry: ID=DP4,Number=4,Type=Integer,Description=\"Number of high-quality ref-forward , ref-reverse, alt-forward and alt-reverse bases\">\n",
      "After filtering, kept 160 out of 160 Individuals\n",
      "Outputting VCF file...\n",
      "After filtering, kept 40045 out of a possible 1255808 Sites\n",
      "Run Time = 71.00 seconds\n"
     ]
    }
   ],
   "source": [
    "!$vcftools --remove-indels \\\n",
    "--max-missing 0.6 \\\n",
    "--min-alleles 2 \\\n",
    "--max-alleles 2 \\\n",
    "--maf 0.01 \\\n",
    "--thin 50 \\\n",
    "--remove-filtered-all \\\n",
    "--recode \\\n",
    "--recode-INFO-all \\\n",
    "--gzvcf \\\n",
    "$vcf_file \\\n",
    "--out $'milkweed_miss60_thin50_MAF2'"
   ]
  },
  {
   "cell_type": "code",
   "execution_count": 15,
   "metadata": {},
   "outputs": [
    {
     "name": "stdout",
     "output_type": "stream",
     "text": [
      "\n",
      "VCFtools - 0.1.16\n",
      "(C) Adam Auton and Anthony Marcketta 2009\n",
      "\n",
      "Parameters as interpreted:\n",
      "\t--gzvcf /data/gpfs/home/tfaske/d/milkweed/filtering/milkweed_minusSB.recode.vcf.gz\n",
      "\t--recode-INFO-all\n",
      "\t--maf 0.02\n",
      "\t--max-alleles 2\n",
      "\t--min-alleles 2\n",
      "\t--thin 100\n",
      "\t--max-missing 0.7\n",
      "\t--out milkweed_miss70_thin100_MAF2\n",
      "\t--recode\n",
      "\t--remove-filtered-all\n",
      "\t--remove-indels\n",
      "\n",
      "Using zlib version: 1.2.11\n",
      "Warning: Expected at least 2 parts in INFO entry: ID=AC,Number=A,Type=Integer,Description=\"Allele count in genotypes for each ALT allele, in the same order as listed\">\n",
      "Warning: Expected at least 2 parts in INFO entry: ID=DP4,Number=4,Type=Integer,Description=\"Number of high-quality ref-forward , ref-reverse, alt-forward and alt-reverse bases\">\n",
      "Warning: Expected at least 2 parts in INFO entry: ID=DP4,Number=4,Type=Integer,Description=\"Number of high-quality ref-forward , ref-reverse, alt-forward and alt-reverse bases\">\n",
      "After filtering, kept 160 out of 160 Individuals\n",
      "Outputting VCF file...\n",
      "After filtering, kept 27100 out of a possible 1255808 Sites\n",
      "Run Time = 62.00 seconds\n"
     ]
    }
   ],
   "source": [
    "!$vcftools --remove-indels \\\n",
    "--max-missing 0.7 \\\n",
    "--min-alleles 2 \\\n",
    "--max-alleles 2 \\\n",
    "--maf 0.02 \\\n",
    "--thin 100 \\\n",
    "--remove-filtered-all \\\n",
    "--recode \\\n",
    "--recode-INFO-all \\\n",
    "--gzvcf \\\n",
    "$vcf_file \\\n",
    "--out $'milkweed_miss70_thin100_MAF2'"
   ]
  },
  {
   "cell_type": "code",
   "execution_count": 16,
   "metadata": {},
   "outputs": [
    {
     "name": "stdout",
     "output_type": "stream",
     "text": [
      "\n",
      "VCFtools - 0.1.16\n",
      "(C) Adam Auton and Anthony Marcketta 2009\n",
      "\n",
      "Parameters as interpreted:\n",
      "\t--gzvcf /data/gpfs/home/tfaske/d/milkweed/filtering/milkweed_minusSB.recode.vcf.gz\n",
      "\t--recode-INFO-all\n",
      "\t--maf 0.02\n",
      "\t--max-alleles 2\n",
      "\t--min-alleles 2\n",
      "\t--thin 100\n",
      "\t--max-missing 0.6\n",
      "\t--out milkweed_miss60_thin100_MAF2\n",
      "\t--recode\n",
      "\t--remove-filtered-all\n",
      "\t--remove-indels\n",
      "\n",
      "Using zlib version: 1.2.11\n",
      "Warning: Expected at least 2 parts in INFO entry: ID=AC,Number=A,Type=Integer,Description=\"Allele count in genotypes for each ALT allele, in the same order as listed\">\n",
      "Warning: Expected at least 2 parts in INFO entry: ID=DP4,Number=4,Type=Integer,Description=\"Number of high-quality ref-forward , ref-reverse, alt-forward and alt-reverse bases\">\n",
      "Warning: Expected at least 2 parts in INFO entry: ID=DP4,Number=4,Type=Integer,Description=\"Number of high-quality ref-forward , ref-reverse, alt-forward and alt-reverse bases\">\n",
      "After filtering, kept 160 out of 160 Individuals\n",
      "Outputting VCF file...\n",
      "After filtering, kept 30201 out of a possible 1255808 Sites\n",
      "Run Time = 65.00 seconds\n"
     ]
    }
   ],
   "source": [
    "!$vcftools --remove-indels \\\n",
    "--max-missing 0.6 \\\n",
    "--min-alleles 2 \\\n",
    "--max-alleles 2 \\\n",
    "--maf 0.02 \\\n",
    "--thin 100 \\\n",
    "--remove-filtered-all \\\n",
    "--recode \\\n",
    "--recode-INFO-all \\\n",
    "--gzvcf \\\n",
    "$vcf_file \\\n",
    "--out $'milkweed_miss60_thin100_MAF2'"
   ]
  },
  {
   "cell_type": "code",
   "execution_count": 17,
   "metadata": {},
   "outputs": [],
   "source": [
    "vcf_filtered = \"%s.recode.vcf\" % '/data/gpfs/home/tfaske/d/milkweed/filtering/milkweed_miss70_thin100_MAF2'\n",
    "vcf_filtered_gz = \"%s.gz\" % vcf_filtered"
   ]
  },
  {
   "cell_type": "code",
   "execution_count": 18,
   "metadata": {},
   "outputs": [],
   "source": [
    "!$bgzip -c $vcf_filtered > {vcf_filtered_gz}\n",
    "!$tabix {vcf_filtered_gz}"
   ]
  },
  {
   "cell_type": "markdown",
   "metadata": {},
   "source": [
    "# Remove bad_indv\n"
   ]
  },
  {
   "cell_type": "code",
   "execution_count": 19,
   "metadata": {},
   "outputs": [
    {
     "name": "stdout",
     "output_type": "stream",
     "text": [
      "\n",
      "VCFtools - 0.1.16\n",
      "(C) Adam Auton and Anthony Marcketta 2009\n",
      "\n",
      "Parameters as interpreted:\n",
      "\t--gzvcf /data/gpfs/home/tfaske/d/milkweed/filtering/milkweed_miss70_thin100_MAF2.recode.vcf.gz\n",
      "\t--missing-indv\n",
      "\t--out /data/gpfs/home/tfaske/d/milkweed/filtering/milkweed_miss70_thin100_MAF2.recode.vcf.gz\n",
      "\n",
      "Using zlib version: 1.2.11\n",
      "Warning: Expected at least 2 parts in INFO entry: ID=AC,Number=A,Type=Integer,Description=\"Allele count in genotypes for each ALT allele, in the same order as listed\">\n",
      "Warning: Expected at least 2 parts in INFO entry: ID=DP4,Number=4,Type=Integer,Description=\"Number of high-quality ref-forward , ref-reverse, alt-forward and alt-reverse bases\">\n",
      "Warning: Expected at least 2 parts in INFO entry: ID=DP4,Number=4,Type=Integer,Description=\"Number of high-quality ref-forward , ref-reverse, alt-forward and alt-reverse bases\">\n",
      "After filtering, kept 160 out of 160 Individuals\n",
      "Outputting Individual Missingness\n",
      "After filtering, kept 27100 out of a possible 27100 Sites\n",
      "Run Time = 1.00 seconds\n"
     ]
    }
   ],
   "source": [
    "!$vcftools --gzvcf $vcf_filtered_gz --out $vcf_filtered_gz --missing-indv"
   ]
  },
  {
   "cell_type": "code",
   "execution_count": 20,
   "metadata": {},
   "outputs": [],
   "source": [
    "def get_imiss(vcf_file):\n",
    "    imiss_file = !ls {vcf_file}.imiss\n",
    "    imiss_df = pd.read_csv(imiss_file[0], sep=\"\\t\")\n",
    "    imiss_df.index = imiss_df.INDV\n",
    "    return imiss_df"
   ]
  },
  {
   "cell_type": "code",
   "execution_count": 21,
   "metadata": {},
   "outputs": [
    {
     "data": {
      "text/html": [
       "<div>\n",
       "<style scoped>\n",
       "    .dataframe tbody tr th:only-of-type {\n",
       "        vertical-align: middle;\n",
       "    }\n",
       "\n",
       "    .dataframe tbody tr th {\n",
       "        vertical-align: top;\n",
       "    }\n",
       "\n",
       "    .dataframe thead th {\n",
       "        text-align: right;\n",
       "    }\n",
       "</style>\n",
       "<table border=\"1\" class=\"dataframe\">\n",
       "  <thead>\n",
       "    <tr style=\"text-align: right;\">\n",
       "      <th></th>\n",
       "      <th>INDV</th>\n",
       "      <th>N_DATA</th>\n",
       "      <th>N_GENOTYPES_FILTERED</th>\n",
       "      <th>N_MISS</th>\n",
       "      <th>F_MISS</th>\n",
       "    </tr>\n",
       "    <tr>\n",
       "      <th>INDV</th>\n",
       "      <th></th>\n",
       "      <th></th>\n",
       "      <th></th>\n",
       "      <th></th>\n",
       "      <th></th>\n",
       "    </tr>\n",
       "  </thead>\n",
       "  <tbody>\n",
       "    <tr>\n",
       "      <th>/working/tfaske/milkweed/SNPcall/bowtie2/FA_BM_607.fastq.gz_sorted.bam</th>\n",
       "      <td>/working/tfaske/milkweed/SNPcall/bowtie2/FA_BM...</td>\n",
       "      <td>27100</td>\n",
       "      <td>0</td>\n",
       "      <td>309</td>\n",
       "      <td>0.011402</td>\n",
       "    </tr>\n",
       "    <tr>\n",
       "      <th>/working/tfaske/milkweed/SNPcall/bowtie2/FA_BM_608.fastq.gz_sorted.bam</th>\n",
       "      <td>/working/tfaske/milkweed/SNPcall/bowtie2/FA_BM...</td>\n",
       "      <td>27100</td>\n",
       "      <td>0</td>\n",
       "      <td>735</td>\n",
       "      <td>0.027122</td>\n",
       "    </tr>\n",
       "    <tr>\n",
       "      <th>/working/tfaske/milkweed/SNPcall/bowtie2/FA_BM_609.fastq.gz_sorted.bam</th>\n",
       "      <td>/working/tfaske/milkweed/SNPcall/bowtie2/FA_BM...</td>\n",
       "      <td>27100</td>\n",
       "      <td>0</td>\n",
       "      <td>1925</td>\n",
       "      <td>0.071033</td>\n",
       "    </tr>\n",
       "    <tr>\n",
       "      <th>/working/tfaske/milkweed/SNPcall/bowtie2/FA_BM_610.fastq.gz_sorted.bam</th>\n",
       "      <td>/working/tfaske/milkweed/SNPcall/bowtie2/FA_BM...</td>\n",
       "      <td>27100</td>\n",
       "      <td>0</td>\n",
       "      <td>2628</td>\n",
       "      <td>0.096974</td>\n",
       "    </tr>\n",
       "    <tr>\n",
       "      <th>/working/tfaske/milkweed/SNPcall/bowtie2/FA_BM_611.fastq.gz_sorted.bam</th>\n",
       "      <td>/working/tfaske/milkweed/SNPcall/bowtie2/FA_BM...</td>\n",
       "      <td>27100</td>\n",
       "      <td>0</td>\n",
       "      <td>451</td>\n",
       "      <td>0.016642</td>\n",
       "    </tr>\n",
       "  </tbody>\n",
       "</table>\n",
       "</div>"
      ],
      "text/plain": [
       "                                                                                                 INDV  \\\n",
       "INDV                                                                                                    \n",
       "/working/tfaske/milkweed/SNPcall/bowtie2/FA_BM_...  /working/tfaske/milkweed/SNPcall/bowtie2/FA_BM...   \n",
       "/working/tfaske/milkweed/SNPcall/bowtie2/FA_BM_...  /working/tfaske/milkweed/SNPcall/bowtie2/FA_BM...   \n",
       "/working/tfaske/milkweed/SNPcall/bowtie2/FA_BM_...  /working/tfaske/milkweed/SNPcall/bowtie2/FA_BM...   \n",
       "/working/tfaske/milkweed/SNPcall/bowtie2/FA_BM_...  /working/tfaske/milkweed/SNPcall/bowtie2/FA_BM...   \n",
       "/working/tfaske/milkweed/SNPcall/bowtie2/FA_BM_...  /working/tfaske/milkweed/SNPcall/bowtie2/FA_BM...   \n",
       "\n",
       "                                                    N_DATA  \\\n",
       "INDV                                                         \n",
       "/working/tfaske/milkweed/SNPcall/bowtie2/FA_BM_...   27100   \n",
       "/working/tfaske/milkweed/SNPcall/bowtie2/FA_BM_...   27100   \n",
       "/working/tfaske/milkweed/SNPcall/bowtie2/FA_BM_...   27100   \n",
       "/working/tfaske/milkweed/SNPcall/bowtie2/FA_BM_...   27100   \n",
       "/working/tfaske/milkweed/SNPcall/bowtie2/FA_BM_...   27100   \n",
       "\n",
       "                                                    N_GENOTYPES_FILTERED  \\\n",
       "INDV                                                                       \n",
       "/working/tfaske/milkweed/SNPcall/bowtie2/FA_BM_...                     0   \n",
       "/working/tfaske/milkweed/SNPcall/bowtie2/FA_BM_...                     0   \n",
       "/working/tfaske/milkweed/SNPcall/bowtie2/FA_BM_...                     0   \n",
       "/working/tfaske/milkweed/SNPcall/bowtie2/FA_BM_...                     0   \n",
       "/working/tfaske/milkweed/SNPcall/bowtie2/FA_BM_...                     0   \n",
       "\n",
       "                                                    N_MISS    F_MISS  \n",
       "INDV                                                                  \n",
       "/working/tfaske/milkweed/SNPcall/bowtie2/FA_BM_...     309  0.011402  \n",
       "/working/tfaske/milkweed/SNPcall/bowtie2/FA_BM_...     735  0.027122  \n",
       "/working/tfaske/milkweed/SNPcall/bowtie2/FA_BM_...    1925  0.071033  \n",
       "/working/tfaske/milkweed/SNPcall/bowtie2/FA_BM_...    2628  0.096974  \n",
       "/working/tfaske/milkweed/SNPcall/bowtie2/FA_BM_...     451  0.016642  "
      ]
     },
     "execution_count": 21,
     "metadata": {},
     "output_type": "execute_result"
    }
   ],
   "source": [
    "imiss_df = get_imiss(vcf_filtered_gz)\n",
    "imiss_df.head()"
   ]
  },
  {
   "cell_type": "code",
   "execution_count": 22,
   "metadata": {},
   "outputs": [
    {
     "data": {
      "text/plain": [
       "count    160.000000\n",
       "mean       0.120188\n",
       "std        0.217778\n",
       "min        0.008192\n",
       "25%        0.025489\n",
       "50%        0.033561\n",
       "75%        0.067712\n",
       "max        0.931107\n",
       "Name: F_MISS, dtype: float64"
      ]
     },
     "execution_count": 22,
     "metadata": {},
     "output_type": "execute_result"
    }
   ],
   "source": [
    "imiss_df.F_MISS.describe()"
   ]
  },
  {
   "cell_type": "code",
   "execution_count": 23,
   "metadata": {},
   "outputs": [
    {
     "data": {
      "text/plain": [
       "(160, 17, 15, 21)"
      ]
     },
     "execution_count": 23,
     "metadata": {},
     "output_type": "execute_result"
    }
   ],
   "source": [
    "len(imiss_df),len(imiss_df[imiss_df.F_MISS >= .4]),len(imiss_df[imiss_df.F_MISS >= .5]), len(imiss_df[imiss_df.F_MISS >= .25])\n"
   ]
  },
  {
   "cell_type": "code",
   "execution_count": 24,
   "metadata": {},
   "outputs": [],
   "source": [
    "bad_indv = imiss_df.INDV[imiss_df.F_MISS >= .4]"
   ]
  },
  {
   "cell_type": "code",
   "execution_count": 25,
   "metadata": {},
   "outputs": [],
   "source": [
    "with open(os.path.join(analysis_dir, \"bad_indv.txt\"), \"w\") as o:\n",
    "    o.write(\"INDV\\n\")\n",
    "    for elem in bad_indv.index:\n",
    "        o.write(\"%s\\n\" % elem)"
   ]
  },
  {
   "cell_type": "code",
   "execution_count": 26,
   "metadata": {},
   "outputs": [
    {
     "name": "stdout",
     "output_type": "stream",
     "text": [
      "\n",
      "VCFtools - 0.1.16\n",
      "(C) Adam Auton and Anthony Marcketta 2009\n",
      "\n",
      "Parameters as interpreted:\n",
      "\t--gzvcf /data/gpfs/home/tfaske/d/milkweed/filtering/milkweed_miss70_thin100_MAF2.recode.vcf.gz\n",
      "\t--remove /data/gpfs/home/tfaske/d/milkweed/filtering/bad_indv.txt\n",
      "\t--recode-INFO-all\n",
      "\t--out /data/gpfs/home/tfaske/d/milkweed/filtering/snps_indv_removed\n",
      "\t--recode\n",
      "\t--remove-filtered-all\n",
      "\t--remove-indels\n",
      "\n",
      "Using zlib version: 1.2.11\n",
      "Warning: Expected at least 2 parts in INFO entry: ID=AC,Number=A,Type=Integer,Description=\"Allele count in genotypes for each ALT allele, in the same order as listed\">\n",
      "Warning: Expected at least 2 parts in INFO entry: ID=DP4,Number=4,Type=Integer,Description=\"Number of high-quality ref-forward , ref-reverse, alt-forward and alt-reverse bases\">\n",
      "Warning: Expected at least 2 parts in INFO entry: ID=DP4,Number=4,Type=Integer,Description=\"Number of high-quality ref-forward , ref-reverse, alt-forward and alt-reverse bases\">\n",
      "Excluding individuals in 'exclude' list\n",
      "After filtering, kept 143 out of 160 Individuals\n",
      "Outputting VCF file...\n",
      "After filtering, kept 27100 out of a possible 27100 Sites\n",
      "Run Time = 16.00 seconds\n"
     ]
    }
   ],
   "source": [
    "!$vcftools --gzvcf $vcf_filtered_gz \\\n",
    "--remove-indels  \\\n",
    "--remove-filtered-all \\\n",
    "--recode \\\n",
    "--recode-INFO-all \\\n",
    "--remove {os.path.join(analysis_dir, \"bad_indv.txt\")} \\\n",
    "--out {os.path.join(analysis_dir, \"snps_indv_removed\")}"
   ]
  },
  {
   "cell_type": "code",
   "execution_count": 27,
   "metadata": {},
   "outputs": [],
   "source": [
    "vcf_bad_remove = os.path.join(analysis_dir, \"snps_indv_removed.recode.vcf\")\n",
    "vcf_bad_remove_gz = vcf_bad_remove + \".gz\"\n",
    "!$bgzip -c {vcf_bad_remove} > {vcf_bad_remove_gz}\n",
    "!$tabix {vcf_bad_remove_gz}"
   ]
  },
  {
   "cell_type": "markdown",
   "metadata": {},
   "source": [
    "# Filter snps further \n",
    "this needs to be done after removing individuals\n"
   ]
  },
  {
   "cell_type": "code",
   "execution_count": 28,
   "metadata": {},
   "outputs": [],
   "source": [
    "def get_vcf_stats(vcf_gz):\n",
    "    \n",
    "    stats = ['depth',\n",
    "            'site-depth',\n",
    "            'site-mean-depth',\n",
    "            'site-quality',\n",
    "            'missing-site',\n",
    "            'freq',\n",
    "            'counts',\n",
    "            'hardy',\n",
    "            'het']\n",
    "    \n",
    "    for stat in stats:\n",
    "        !$vcftools --gzvcf $vcf_gz \\\n",
    "        --out $vcf_gz \\\n",
    "        {\"--%s\" % stat} "
   ]
  },
  {
   "cell_type": "code",
   "execution_count": 29,
   "metadata": {},
   "outputs": [
    {
     "name": "stdout",
     "output_type": "stream",
     "text": [
      "\n",
      "VCFtools - 0.1.16\n",
      "(C) Adam Auton and Anthony Marcketta 2009\n",
      "\n",
      "Parameters as interpreted:\n",
      "\t--gzvcf /data/gpfs/home/tfaske/d/milkweed/filtering/snps_indv_removed.recode.vcf.gz\n",
      "\t--depth\n",
      "\t--out /data/gpfs/home/tfaske/d/milkweed/filtering/snps_indv_removed.recode.vcf.gz\n",
      "\n",
      "Using zlib version: 1.2.11\n",
      "Warning: Expected at least 2 parts in INFO entry: ID=AC,Number=A,Type=Integer,Description=\"Allele count in genotypes for each ALT allele, in the same order as listed\">\n",
      "Warning: Expected at least 2 parts in INFO entry: ID=DP4,Number=4,Type=Integer,Description=\"Number of high-quality ref-forward , ref-reverse, alt-forward and alt-reverse bases\">\n",
      "Warning: Expected at least 2 parts in INFO entry: ID=DP4,Number=4,Type=Integer,Description=\"Number of high-quality ref-forward , ref-reverse, alt-forward and alt-reverse bases\">\n",
      "After filtering, kept 143 out of 143 Individuals\n",
      "Outputting Mean Depth by Individual\n",
      "After filtering, kept 27100 out of a possible 27100 Sites\n",
      "Run Time = 1.00 seconds\n",
      "\n",
      "VCFtools - 0.1.16\n",
      "(C) Adam Auton and Anthony Marcketta 2009\n",
      "\n",
      "Parameters as interpreted:\n",
      "\t--gzvcf /data/gpfs/home/tfaske/d/milkweed/filtering/snps_indv_removed.recode.vcf.gz\n",
      "\t--out /data/gpfs/home/tfaske/d/milkweed/filtering/snps_indv_removed.recode.vcf.gz\n",
      "\t--site-depth\n",
      "\n",
      "Using zlib version: 1.2.11\n",
      "Warning: Expected at least 2 parts in INFO entry: ID=AC,Number=A,Type=Integer,Description=\"Allele count in genotypes for each ALT allele, in the same order as listed\">\n",
      "Warning: Expected at least 2 parts in INFO entry: ID=DP4,Number=4,Type=Integer,Description=\"Number of high-quality ref-forward , ref-reverse, alt-forward and alt-reverse bases\">\n",
      "Warning: Expected at least 2 parts in INFO entry: ID=DP4,Number=4,Type=Integer,Description=\"Number of high-quality ref-forward , ref-reverse, alt-forward and alt-reverse bases\">\n",
      "After filtering, kept 143 out of 143 Individuals\n",
      "Outputting Depth for Each Site\n",
      "After filtering, kept 27100 out of a possible 27100 Sites\n",
      "Run Time = 1.00 seconds\n",
      "\n",
      "VCFtools - 0.1.16\n",
      "(C) Adam Auton and Anthony Marcketta 2009\n",
      "\n",
      "Parameters as interpreted:\n",
      "\t--gzvcf /data/gpfs/home/tfaske/d/milkweed/filtering/snps_indv_removed.recode.vcf.gz\n",
      "\t--out /data/gpfs/home/tfaske/d/milkweed/filtering/snps_indv_removed.recode.vcf.gz\n",
      "\t--site-mean-depth\n",
      "\n",
      "Using zlib version: 1.2.11\n",
      "Warning: Expected at least 2 parts in INFO entry: ID=AC,Number=A,Type=Integer,Description=\"Allele count in genotypes for each ALT allele, in the same order as listed\">\n",
      "Warning: Expected at least 2 parts in INFO entry: ID=DP4,Number=4,Type=Integer,Description=\"Number of high-quality ref-forward , ref-reverse, alt-forward and alt-reverse bases\">\n",
      "Warning: Expected at least 2 parts in INFO entry: ID=DP4,Number=4,Type=Integer,Description=\"Number of high-quality ref-forward , ref-reverse, alt-forward and alt-reverse bases\">\n",
      "After filtering, kept 143 out of 143 Individuals\n",
      "Outputting Depth for Each Site\n",
      "After filtering, kept 27100 out of a possible 27100 Sites\n",
      "Run Time = 2.00 seconds\n",
      "\n",
      "VCFtools - 0.1.16\n",
      "(C) Adam Auton and Anthony Marcketta 2009\n",
      "\n",
      "Parameters as interpreted:\n",
      "\t--gzvcf /data/gpfs/home/tfaske/d/milkweed/filtering/snps_indv_removed.recode.vcf.gz\n",
      "\t--out /data/gpfs/home/tfaske/d/milkweed/filtering/snps_indv_removed.recode.vcf.gz\n",
      "\t--site-quality\n",
      "\n",
      "Using zlib version: 1.2.11\n",
      "Warning: Expected at least 2 parts in INFO entry: ID=AC,Number=A,Type=Integer,Description=\"Allele count in genotypes for each ALT allele, in the same order as listed\">\n",
      "Warning: Expected at least 2 parts in INFO entry: ID=DP4,Number=4,Type=Integer,Description=\"Number of high-quality ref-forward , ref-reverse, alt-forward and alt-reverse bases\">\n",
      "Warning: Expected at least 2 parts in INFO entry: ID=DP4,Number=4,Type=Integer,Description=\"Number of high-quality ref-forward , ref-reverse, alt-forward and alt-reverse bases\">\n",
      "After filtering, kept 143 out of 143 Individuals\n",
      "Outputting Quality for Each Site\n",
      "After filtering, kept 27100 out of a possible 27100 Sites\n",
      "Run Time = 1.00 seconds\n",
      "\n",
      "VCFtools - 0.1.16\n",
      "(C) Adam Auton and Anthony Marcketta 2009\n",
      "\n",
      "Parameters as interpreted:\n",
      "\t--gzvcf /data/gpfs/home/tfaske/d/milkweed/filtering/snps_indv_removed.recode.vcf.gz\n",
      "\t--out /data/gpfs/home/tfaske/d/milkweed/filtering/snps_indv_removed.recode.vcf.gz\n",
      "\t--missing-site\n",
      "\n",
      "Using zlib version: 1.2.11\n",
      "Warning: Expected at least 2 parts in INFO entry: ID=AC,Number=A,Type=Integer,Description=\"Allele count in genotypes for each ALT allele, in the same order as listed\">\n",
      "Warning: Expected at least 2 parts in INFO entry: ID=DP4,Number=4,Type=Integer,Description=\"Number of high-quality ref-forward , ref-reverse, alt-forward and alt-reverse bases\">\n",
      "Warning: Expected at least 2 parts in INFO entry: ID=DP4,Number=4,Type=Integer,Description=\"Number of high-quality ref-forward , ref-reverse, alt-forward and alt-reverse bases\">\n",
      "After filtering, kept 143 out of 143 Individuals\n",
      "Outputting Site Missingness\n",
      "After filtering, kept 27100 out of a possible 27100 Sites\n",
      "Run Time = 2.00 seconds\n",
      "\n",
      "VCFtools - 0.1.16\n",
      "(C) Adam Auton and Anthony Marcketta 2009\n",
      "\n",
      "Parameters as interpreted:\n",
      "\t--gzvcf /data/gpfs/home/tfaske/d/milkweed/filtering/snps_indv_removed.recode.vcf.gz\n",
      "\t--freq\n",
      "\t--out /data/gpfs/home/tfaske/d/milkweed/filtering/snps_indv_removed.recode.vcf.gz\n",
      "\n",
      "Using zlib version: 1.2.11\n",
      "Warning: Expected at least 2 parts in INFO entry: ID=AC,Number=A,Type=Integer,Description=\"Allele count in genotypes for each ALT allele, in the same order as listed\">\n",
      "Warning: Expected at least 2 parts in INFO entry: ID=DP4,Number=4,Type=Integer,Description=\"Number of high-quality ref-forward , ref-reverse, alt-forward and alt-reverse bases\">\n",
      "Warning: Expected at least 2 parts in INFO entry: ID=DP4,Number=4,Type=Integer,Description=\"Number of high-quality ref-forward , ref-reverse, alt-forward and alt-reverse bases\">\n",
      "After filtering, kept 143 out of 143 Individuals\n",
      "Outputting Frequency Statistics...\n",
      "After filtering, kept 27100 out of a possible 27100 Sites\n",
      "Run Time = 1.00 seconds\n",
      "\n",
      "VCFtools - 0.1.16\n",
      "(C) Adam Auton and Anthony Marcketta 2009\n",
      "\n",
      "Parameters as interpreted:\n",
      "\t--gzvcf /data/gpfs/home/tfaske/d/milkweed/filtering/snps_indv_removed.recode.vcf.gz\n",
      "\t--counts\n",
      "\t--out /data/gpfs/home/tfaske/d/milkweed/filtering/snps_indv_removed.recode.vcf.gz\n",
      "\n",
      "Using zlib version: 1.2.11\n",
      "Warning: Expected at least 2 parts in INFO entry: ID=AC,Number=A,Type=Integer,Description=\"Allele count in genotypes for each ALT allele, in the same order as listed\">\n",
      "Warning: Expected at least 2 parts in INFO entry: ID=DP4,Number=4,Type=Integer,Description=\"Number of high-quality ref-forward , ref-reverse, alt-forward and alt-reverse bases\">\n",
      "Warning: Expected at least 2 parts in INFO entry: ID=DP4,Number=4,Type=Integer,Description=\"Number of high-quality ref-forward , ref-reverse, alt-forward and alt-reverse bases\">\n",
      "After filtering, kept 143 out of 143 Individuals\n",
      "Outputting Frequency Statistics...\n",
      "After filtering, kept 27100 out of a possible 27100 Sites\n",
      "Run Time = 2.00 seconds\n",
      "\n",
      "VCFtools - 0.1.16\n",
      "(C) Adam Auton and Anthony Marcketta 2009\n",
      "\n",
      "Parameters as interpreted:\n",
      "\t--gzvcf /data/gpfs/home/tfaske/d/milkweed/filtering/snps_indv_removed.recode.vcf.gz\n",
      "\t--hardy\n",
      "\t--out /data/gpfs/home/tfaske/d/milkweed/filtering/snps_indv_removed.recode.vcf.gz\n",
      "\n",
      "Using zlib version: 1.2.11\n",
      "Warning: Expected at least 2 parts in INFO entry: ID=AC,Number=A,Type=Integer,Description=\"Allele count in genotypes for each ALT allele, in the same order as listed\">\n",
      "Warning: Expected at least 2 parts in INFO entry: ID=DP4,Number=4,Type=Integer,Description=\"Number of high-quality ref-forward , ref-reverse, alt-forward and alt-reverse bases\">\n",
      "Warning: Expected at least 2 parts in INFO entry: ID=DP4,Number=4,Type=Integer,Description=\"Number of high-quality ref-forward , ref-reverse, alt-forward and alt-reverse bases\">\n",
      "After filtering, kept 143 out of 143 Individuals\n",
      "Outputting HWE statistics (but only for biallelic loci)\n",
      "After filtering, kept 27100 out of a possible 27100 Sites\n",
      "Run Time = 2.00 seconds\n",
      "\n",
      "VCFtools - 0.1.16\n",
      "(C) Adam Auton and Anthony Marcketta 2009\n",
      "\n",
      "Parameters as interpreted:\n",
      "\t--gzvcf /data/gpfs/home/tfaske/d/milkweed/filtering/snps_indv_removed.recode.vcf.gz\n",
      "\t--het\n",
      "\t--out /data/gpfs/home/tfaske/d/milkweed/filtering/snps_indv_removed.recode.vcf.gz\n",
      "\n",
      "Using zlib version: 1.2.11\n",
      "Warning: Expected at least 2 parts in INFO entry: ID=AC,Number=A,Type=Integer,Description=\"Allele count in genotypes for each ALT allele, in the same order as listed\">\n",
      "Warning: Expected at least 2 parts in INFO entry: ID=DP4,Number=4,Type=Integer,Description=\"Number of high-quality ref-forward , ref-reverse, alt-forward and alt-reverse bases\">\n",
      "Warning: Expected at least 2 parts in INFO entry: ID=DP4,Number=4,Type=Integer,Description=\"Number of high-quality ref-forward , ref-reverse, alt-forward and alt-reverse bases\">\n",
      "After filtering, kept 143 out of 143 Individuals\n",
      "Outputting Individual Heterozygosity\n"
     ]
    },
    {
     "name": "stdout",
     "output_type": "stream",
     "text": [
      "After filtering, kept 27100 out of a possible 27100 Sites\r\n",
      "Run Time = 1.00 seconds\r\n"
     ]
    }
   ],
   "source": [
    "get_vcf_stats(vcf_bad_remove_gz)"
   ]
  },
  {
   "cell_type": "code",
   "execution_count": 30,
   "metadata": {},
   "outputs": [],
   "source": [
    "#pd.set_option('display.max_columns', 100)\n",
    "\n",
    "def get_MAF(row):\n",
    "    try:\n",
    "        return np.min([row.A1_freq, row.A2_freq])\n",
    "    except:\n",
    "        print(row)\n",
    "        \n",
    "def get_correction(n):\n",
    "    #for finite sample size\n",
    "    return (2*n)/(2*n-1)\n",
    "\n",
    "def calculate_Fis(vals):\n",
    "    try:\n",
    "        data = [float(x) for x in vals.split(\"/\")]\n",
    "        assert len(data) == 3\n",
    "        num_individuals = np.sum(data)\n",
    "        total_alleles = 2*num_individuals\n",
    "        a1_count = 2*data[0]\n",
    "        a2_count = 2*data[2]\n",
    "        het_count = data[1]\n",
    "        a1_count += het_count\n",
    "        a2_count += het_count\n",
    "        a1_freq = a1_count/total_alleles\n",
    "        a2_freq = a2_count/total_alleles\n",
    "        assert a1_freq + a2_freq == 1.0\n",
    "        He = 2 * a1_freq * a2_freq * get_correction(num_individuals)\n",
    "        Ho = het_count/num_individuals\n",
    "        Fis = 1 - (Ho/He)\n",
    "        return Fis\n",
    "    except:\n",
    "        return -9\n",
    "\n",
    "def combine_vcf_stats(filedir, prefix):\n",
    "    \n",
    "    hardy_files = !ls {filedir}/{prefix}.hwe\n",
    "    hardy = pd.read_csv(hardy_files[0], sep=\"\\t\")\n",
    "\n",
    "    hardy.columns = ['CHROM', 'POS', 'OBS(HOM1/HET/HOM2)', 'E(HOM1/HET/HOM2)', 'ChiSq_HWE',\n",
    "       'P_HWE', 'P_HET_DEFICIT', 'P_HET_EXCESS']\n",
    "    hardy.index = hardy.apply(lambda x: \"%s-%d\" % (x.CHROM, x.POS), axis=1)\n",
    "    \n",
    "    loci_files = !ls {filedir}/{prefix}.l* | grep -v log\n",
    "    loci_df = pd.concat([pd.read_csv(x, sep=\"\\t\", skiprows=0) for x in loci_files], axis=1)\n",
    "    chrom_pos = loci_df.ix[:,0:2]\n",
    "    \n",
    "    frq_files = !ls {filedir}/{prefix}.frq* | grep -v count\n",
    "    frq_data = []\n",
    "    h = open(frq_files[0])\n",
    "    header = h.readline().strip().split()\n",
    "    for line in h:\n",
    "        frq_data.append(line.strip().split('\\t'))\n",
    "\n",
    "    header = ['CHROM', 'POS', 'N_ALLELES', 'N_CHR', 'A1_FREQ', \"A2_FREQ\"]\n",
    "    frq_df = pd.DataFrame(frq_data)\n",
    "    print(frq_df.columns)\n",
    "    #frq_df = frq_df.drop([6,7],axis=1)\n",
    "    frq_df.columns = header\n",
    "    frq_df.index = frq_df.apply(lambda x: \"%s-%s\" % (x.CHROM, x.POS), axis=1)\n",
    "    \n",
    "    loci_df = loci_df.drop(['CHROM','CHR','POS'], axis=1)\n",
    "    loci_df = pd.concat([chrom_pos, loci_df], axis=1)\n",
    "    loci_df.index = loci_df.apply(lambda x: \"%s-%d\" % (x.CHROM, x.POS), axis=1)\n",
    "    \n",
    "    loci_df = pd.concat([loci_df, frq_df, hardy], axis=1)\n",
    "    loci_df[\"A1_allele\"] = loci_df.apply(lambda row: row.A1_FREQ.split(\":\")[0], axis=1)\n",
    "    loci_df[\"A2_allele\"] = loci_df.apply(lambda row: row.A2_FREQ.split(\":\")[0], axis=1)\n",
    "    \n",
    "    loci_df[\"A1_freq\"] = loci_df.apply(lambda row: float(row.A1_FREQ.split(\":\")[1]), axis=1)\n",
    "    loci_df[\"A2_freq\"] = loci_df.apply(lambda row: float(row.A2_FREQ.split(\":\")[1]), axis=1)\n",
    "    \n",
    "    loci_df['MAF'] = loci_df.apply(get_MAF, axis=1)\n",
    "    loci_df = loci_df.drop(['CHROM', 'POS'], axis=1)\n",
    "    \n",
    "    loci_df['Fis'] = loci_df['OBS(HOM1/HET/HOM2)'].apply(calculate_Fis)\n",
    "    \n",
    "    return loci_df, frq_df, hardy"
   ]
  },
  {
   "cell_type": "code",
   "execution_count": 31,
   "metadata": {},
   "outputs": [
    {
     "data": {
      "text/plain": [
       "'/data/gpfs/home/tfaske/d/milkweed/filtering/snps_indv_removed.recode.vcf.gz'"
      ]
     },
     "execution_count": 31,
     "metadata": {},
     "output_type": "execute_result"
    }
   ],
   "source": [
    "vcf_bad_remove_gz"
   ]
  },
  {
   "cell_type": "code",
   "execution_count": 32,
   "metadata": {
    "scrolled": true
   },
   "outputs": [
    {
     "name": "stderr",
     "output_type": "stream",
     "text": [
      "/data/gpfs/assoc/parchmanlab/tfaske/anaconda3/envs/py36/lib/python3.6/site-packages/ipykernel_launcher.py:45: FutureWarning: \n",
      ".ix is deprecated. Please use\n",
      ".loc for label based indexing or\n",
      ".iloc for positional indexing\n",
      "\n",
      "See the documentation here:\n",
      "http://pandas.pydata.org/pandas-docs/stable/user_guide/indexing.html#ix-indexer-is-deprecated\n",
      "/data/gpfs/assoc/parchmanlab/tfaske/anaconda3/envs/py36/lib/python3.6/site-packages/pandas/core/indexing.py:822: FutureWarning: \n",
      ".ix is deprecated. Please use\n",
      ".loc for label based indexing or\n",
      ".iloc for positional indexing\n",
      "\n",
      "See the documentation here:\n",
      "http://pandas.pydata.org/pandas-docs/stable/user_guide/indexing.html#ix-indexer-is-deprecated\n",
      "  retval = getattr(retval, self.name)._getitem_axis(key, axis=i)\n"
     ]
    },
    {
     "name": "stdout",
     "output_type": "stream",
     "text": [
      "RangeIndex(start=0, stop=6, step=1)\n"
     ]
    }
   ],
   "source": [
    "loci_df, frq_df, hardy = combine_vcf_stats(analysis_dir,'snps_indv_removed.recode.vcf.gz')"
   ]
  },
  {
   "cell_type": "code",
   "execution_count": 33,
   "metadata": {},
   "outputs": [
    {
     "data": {
      "text/html": [
       "<div>\n",
       "<style scoped>\n",
       "    .dataframe tbody tr th:only-of-type {\n",
       "        vertical-align: middle;\n",
       "    }\n",
       "\n",
       "    .dataframe tbody tr th {\n",
       "        vertical-align: top;\n",
       "    }\n",
       "\n",
       "    .dataframe thead th {\n",
       "        text-align: right;\n",
       "    }\n",
       "</style>\n",
       "<table border=\"1\" class=\"dataframe\">\n",
       "  <thead>\n",
       "    <tr style=\"text-align: right;\">\n",
       "      <th></th>\n",
       "      <th>SUM_DEPTH</th>\n",
       "      <th>SUMSQ_DEPTH</th>\n",
       "      <th>MEAN_DEPTH</th>\n",
       "      <th>VAR_DEPTH</th>\n",
       "      <th>N_DATA</th>\n",
       "      <th>N_GENOTYPE_FILTERED</th>\n",
       "      <th>N_MISS</th>\n",
       "      <th>F_MISS</th>\n",
       "      <th>QUAL</th>\n",
       "      <th>N_ALLELES</th>\n",
       "      <th>...</th>\n",
       "      <th>ChiSq_HWE</th>\n",
       "      <th>P_HWE</th>\n",
       "      <th>P_HET_DEFICIT</th>\n",
       "      <th>P_HET_EXCESS</th>\n",
       "      <th>A1_allele</th>\n",
       "      <th>A2_allele</th>\n",
       "      <th>A1_freq</th>\n",
       "      <th>A2_freq</th>\n",
       "      <th>MAF</th>\n",
       "      <th>Fis</th>\n",
       "    </tr>\n",
       "  </thead>\n",
       "  <tbody>\n",
       "    <tr>\n",
       "      <th>AS0.3ch10-8432</th>\n",
       "      <td>1238</td>\n",
       "      <td>13882</td>\n",
       "      <td>8.65734</td>\n",
       "      <td>22.2832</td>\n",
       "      <td>286</td>\n",
       "      <td>0</td>\n",
       "      <td>6</td>\n",
       "      <td>0.020979</td>\n",
       "      <td>999.0</td>\n",
       "      <td>2</td>\n",
       "      <td>...</td>\n",
       "      <td>0.225448</td>\n",
       "      <td>4.802792e-01</td>\n",
       "      <td>4.802792e-01</td>\n",
       "      <td>0.883951</td>\n",
       "      <td>C</td>\n",
       "      <td>A</td>\n",
       "      <td>0.932143</td>\n",
       "      <td>0.067857</td>\n",
       "      <td>0.067857</td>\n",
       "      <td>0.043557</td>\n",
       "    </tr>\n",
       "    <tr>\n",
       "      <th>AS0.3ch10-19771</th>\n",
       "      <td>1662</td>\n",
       "      <td>24498</td>\n",
       "      <td>11.62240</td>\n",
       "      <td>36.4902</td>\n",
       "      <td>286</td>\n",
       "      <td>0</td>\n",
       "      <td>12</td>\n",
       "      <td>0.041958</td>\n",
       "      <td>999.0</td>\n",
       "      <td>2</td>\n",
       "      <td>...</td>\n",
       "      <td>0.045160</td>\n",
       "      <td>8.487136e-01</td>\n",
       "      <td>4.717111e-01</td>\n",
       "      <td>0.674848</td>\n",
       "      <td>A</td>\n",
       "      <td>G</td>\n",
       "      <td>0.335766</td>\n",
       "      <td>0.664234</td>\n",
       "      <td>0.335766</td>\n",
       "      <td>0.021739</td>\n",
       "    </tr>\n",
       "    <tr>\n",
       "      <th>AS0.3ch10-25184</th>\n",
       "      <td>536</td>\n",
       "      <td>7110</td>\n",
       "      <td>3.74825</td>\n",
       "      <td>35.9221</td>\n",
       "      <td>286</td>\n",
       "      <td>0</td>\n",
       "      <td>48</td>\n",
       "      <td>0.167832</td>\n",
       "      <td>999.0</td>\n",
       "      <td>2</td>\n",
       "      <td>...</td>\n",
       "      <td>4.288680</td>\n",
       "      <td>4.184443e-02</td>\n",
       "      <td>3.065872e-02</td>\n",
       "      <td>0.989547</td>\n",
       "      <td>G</td>\n",
       "      <td>A</td>\n",
       "      <td>0.281513</td>\n",
       "      <td>0.718487</td>\n",
       "      <td>0.281513</td>\n",
       "      <td>0.193244</td>\n",
       "    </tr>\n",
       "    <tr>\n",
       "      <th>AS0.3ch10-29612</th>\n",
       "      <td>5083</td>\n",
       "      <td>216733</td>\n",
       "      <td>35.54550</td>\n",
       "      <td>253.9120</td>\n",
       "      <td>286</td>\n",
       "      <td>0</td>\n",
       "      <td>0</td>\n",
       "      <td>0.000000</td>\n",
       "      <td>999.0</td>\n",
       "      <td>2</td>\n",
       "      <td>...</td>\n",
       "      <td>0.247384</td>\n",
       "      <td>4.725812e-01</td>\n",
       "      <td>4.725812e-01</td>\n",
       "      <td>0.888173</td>\n",
       "      <td>C</td>\n",
       "      <td>A</td>\n",
       "      <td>0.933566</td>\n",
       "      <td>0.066434</td>\n",
       "      <td>0.066434</td>\n",
       "      <td>0.044944</td>\n",
       "    </tr>\n",
       "    <tr>\n",
       "      <th>AS0.3ch10-39389</th>\n",
       "      <td>4153</td>\n",
       "      <td>146997</td>\n",
       "      <td>29.04200</td>\n",
       "      <td>185.8150</td>\n",
       "      <td>286</td>\n",
       "      <td>0</td>\n",
       "      <td>2</td>\n",
       "      <td>0.006993</td>\n",
       "      <td>999.0</td>\n",
       "      <td>2</td>\n",
       "      <td>...</td>\n",
       "      <td>6.984191</td>\n",
       "      <td>1.226267e-02</td>\n",
       "      <td>1.226267e-02</td>\n",
       "      <td>0.997336</td>\n",
       "      <td>C</td>\n",
       "      <td>T</td>\n",
       "      <td>0.838028</td>\n",
       "      <td>0.161972</td>\n",
       "      <td>0.161972</td>\n",
       "      <td>0.224516</td>\n",
       "    </tr>\n",
       "    <tr>\n",
       "      <th>...</th>\n",
       "      <td>...</td>\n",
       "      <td>...</td>\n",
       "      <td>...</td>\n",
       "      <td>...</td>\n",
       "      <td>...</td>\n",
       "      <td>...</td>\n",
       "      <td>...</td>\n",
       "      <td>...</td>\n",
       "      <td>...</td>\n",
       "      <td>...</td>\n",
       "      <td>...</td>\n",
       "      <td>...</td>\n",
       "      <td>...</td>\n",
       "      <td>...</td>\n",
       "      <td>...</td>\n",
       "      <td>...</td>\n",
       "      <td>...</td>\n",
       "      <td>...</td>\n",
       "      <td>...</td>\n",
       "      <td>...</td>\n",
       "      <td>...</td>\n",
       "    </tr>\n",
       "    <tr>\n",
       "      <th>HiC_scaffold_686-2241</th>\n",
       "      <td>6973</td>\n",
       "      <td>472847</td>\n",
       "      <td>48.76220</td>\n",
       "      <td>935.4080</td>\n",
       "      <td>286</td>\n",
       "      <td>0</td>\n",
       "      <td>0</td>\n",
       "      <td>0.000000</td>\n",
       "      <td>133.0</td>\n",
       "      <td>2</td>\n",
       "      <td>...</td>\n",
       "      <td>105.310300</td>\n",
       "      <td>4.483712e-13</td>\n",
       "      <td>4.483712e-13</td>\n",
       "      <td>1.000000</td>\n",
       "      <td>C</td>\n",
       "      <td>G</td>\n",
       "      <td>0.080420</td>\n",
       "      <td>0.919580</td>\n",
       "      <td>0.080420</td>\n",
       "      <td>0.858654</td>\n",
       "    </tr>\n",
       "    <tr>\n",
       "      <th>HiC_scaffold_688-33835</th>\n",
       "      <td>3655</td>\n",
       "      <td>207043</td>\n",
       "      <td>25.55940</td>\n",
       "      <td>800.1640</td>\n",
       "      <td>286</td>\n",
       "      <td>0</td>\n",
       "      <td>14</td>\n",
       "      <td>0.048951</td>\n",
       "      <td>331.0</td>\n",
       "      <td>2</td>\n",
       "      <td>...</td>\n",
       "      <td>61.612430</td>\n",
       "      <td>1.189705e-13</td>\n",
       "      <td>1.189705e-13</td>\n",
       "      <td>1.000000</td>\n",
       "      <td>T</td>\n",
       "      <td>A</td>\n",
       "      <td>0.235294</td>\n",
       "      <td>0.764706</td>\n",
       "      <td>0.235294</td>\n",
       "      <td>0.674279</td>\n",
       "    </tr>\n",
       "    <tr>\n",
       "      <th>HiC_scaffold_688-63086</th>\n",
       "      <td>523</td>\n",
       "      <td>2685</td>\n",
       "      <td>3.65734</td>\n",
       "      <td>5.4381</td>\n",
       "      <td>286</td>\n",
       "      <td>0</td>\n",
       "      <td>16</td>\n",
       "      <td>0.055944</td>\n",
       "      <td>735.0</td>\n",
       "      <td>2</td>\n",
       "      <td>...</td>\n",
       "      <td>135.000000</td>\n",
       "      <td>2.097607e-08</td>\n",
       "      <td>2.097607e-08</td>\n",
       "      <td>1.000000</td>\n",
       "      <td>T</td>\n",
       "      <td>A</td>\n",
       "      <td>0.029630</td>\n",
       "      <td>0.970370</td>\n",
       "      <td>0.029630</td>\n",
       "      <td>1.000000</td>\n",
       "    </tr>\n",
       "    <tr>\n",
       "      <th>HiC_scaffold_689-22136</th>\n",
       "      <td>1722</td>\n",
       "      <td>27094</td>\n",
       "      <td>12.04200</td>\n",
       "      <td>44.7729</td>\n",
       "      <td>286</td>\n",
       "      <td>0</td>\n",
       "      <td>2</td>\n",
       "      <td>0.006993</td>\n",
       "      <td>999.0</td>\n",
       "      <td>2</td>\n",
       "      <td>...</td>\n",
       "      <td>0.003159</td>\n",
       "      <td>1.000000e+00</td>\n",
       "      <td>5.865412e-01</td>\n",
       "      <td>0.589277</td>\n",
       "      <td>T</td>\n",
       "      <td>G</td>\n",
       "      <td>0.253521</td>\n",
       "      <td>0.746479</td>\n",
       "      <td>0.253521</td>\n",
       "      <td>-0.001179</td>\n",
       "    </tr>\n",
       "    <tr>\n",
       "      <th>HiC_scaffold_689-39366</th>\n",
       "      <td>1219</td>\n",
       "      <td>14175</td>\n",
       "      <td>8.52448</td>\n",
       "      <td>26.6455</td>\n",
       "      <td>286</td>\n",
       "      <td>0</td>\n",
       "      <td>4</td>\n",
       "      <td>0.013986</td>\n",
       "      <td>999.0</td>\n",
       "      <td>2</td>\n",
       "      <td>...</td>\n",
       "      <td>4.824242</td>\n",
       "      <td>2.817928e-02</td>\n",
       "      <td>9.976605e-01</td>\n",
       "      <td>0.020451</td>\n",
       "      <td>T</td>\n",
       "      <td>A</td>\n",
       "      <td>0.812057</td>\n",
       "      <td>0.187943</td>\n",
       "      <td>0.187943</td>\n",
       "      <td>-0.180770</td>\n",
       "    </tr>\n",
       "  </tbody>\n",
       "</table>\n",
       "<p>27100 rows × 25 columns</p>\n",
       "</div>"
      ],
      "text/plain": [
       "                        SUM_DEPTH  SUMSQ_DEPTH  MEAN_DEPTH  VAR_DEPTH  N_DATA  \\\n",
       "AS0.3ch10-8432               1238        13882     8.65734    22.2832     286   \n",
       "AS0.3ch10-19771              1662        24498    11.62240    36.4902     286   \n",
       "AS0.3ch10-25184               536         7110     3.74825    35.9221     286   \n",
       "AS0.3ch10-29612              5083       216733    35.54550   253.9120     286   \n",
       "AS0.3ch10-39389              4153       146997    29.04200   185.8150     286   \n",
       "...                           ...          ...         ...        ...     ...   \n",
       "HiC_scaffold_686-2241        6973       472847    48.76220   935.4080     286   \n",
       "HiC_scaffold_688-33835       3655       207043    25.55940   800.1640     286   \n",
       "HiC_scaffold_688-63086        523         2685     3.65734     5.4381     286   \n",
       "HiC_scaffold_689-22136       1722        27094    12.04200    44.7729     286   \n",
       "HiC_scaffold_689-39366       1219        14175     8.52448    26.6455     286   \n",
       "\n",
       "                        N_GENOTYPE_FILTERED  N_MISS    F_MISS   QUAL  \\\n",
       "AS0.3ch10-8432                            0       6  0.020979  999.0   \n",
       "AS0.3ch10-19771                           0      12  0.041958  999.0   \n",
       "AS0.3ch10-25184                           0      48  0.167832  999.0   \n",
       "AS0.3ch10-29612                           0       0  0.000000  999.0   \n",
       "AS0.3ch10-39389                           0       2  0.006993  999.0   \n",
       "...                                     ...     ...       ...    ...   \n",
       "HiC_scaffold_686-2241                     0       0  0.000000  133.0   \n",
       "HiC_scaffold_688-33835                    0      14  0.048951  331.0   \n",
       "HiC_scaffold_688-63086                    0      16  0.055944  735.0   \n",
       "HiC_scaffold_689-22136                    0       2  0.006993  999.0   \n",
       "HiC_scaffold_689-39366                    0       4  0.013986  999.0   \n",
       "\n",
       "                       N_ALLELES  ...   ChiSq_HWE         P_HWE P_HET_DEFICIT  \\\n",
       "AS0.3ch10-8432                 2  ...    0.225448  4.802792e-01  4.802792e-01   \n",
       "AS0.3ch10-19771                2  ...    0.045160  8.487136e-01  4.717111e-01   \n",
       "AS0.3ch10-25184                2  ...    4.288680  4.184443e-02  3.065872e-02   \n",
       "AS0.3ch10-29612                2  ...    0.247384  4.725812e-01  4.725812e-01   \n",
       "AS0.3ch10-39389                2  ...    6.984191  1.226267e-02  1.226267e-02   \n",
       "...                          ...  ...         ...           ...           ...   \n",
       "HiC_scaffold_686-2241          2  ...  105.310300  4.483712e-13  4.483712e-13   \n",
       "HiC_scaffold_688-33835         2  ...   61.612430  1.189705e-13  1.189705e-13   \n",
       "HiC_scaffold_688-63086         2  ...  135.000000  2.097607e-08  2.097607e-08   \n",
       "HiC_scaffold_689-22136         2  ...    0.003159  1.000000e+00  5.865412e-01   \n",
       "HiC_scaffold_689-39366         2  ...    4.824242  2.817928e-02  9.976605e-01   \n",
       "\n",
       "                       P_HET_EXCESS A1_allele  A2_allele   A1_freq   A2_freq  \\\n",
       "AS0.3ch10-8432             0.883951         C          A  0.932143  0.067857   \n",
       "AS0.3ch10-19771            0.674848         A          G  0.335766  0.664234   \n",
       "AS0.3ch10-25184            0.989547         G          A  0.281513  0.718487   \n",
       "AS0.3ch10-29612            0.888173         C          A  0.933566  0.066434   \n",
       "AS0.3ch10-39389            0.997336         C          T  0.838028  0.161972   \n",
       "...                             ...       ...        ...       ...       ...   \n",
       "HiC_scaffold_686-2241      1.000000         C          G  0.080420  0.919580   \n",
       "HiC_scaffold_688-33835     1.000000         T          A  0.235294  0.764706   \n",
       "HiC_scaffold_688-63086     1.000000         T          A  0.029630  0.970370   \n",
       "HiC_scaffold_689-22136     0.589277         T          G  0.253521  0.746479   \n",
       "HiC_scaffold_689-39366     0.020451         T          A  0.812057  0.187943   \n",
       "\n",
       "                             MAF       Fis  \n",
       "AS0.3ch10-8432          0.067857  0.043557  \n",
       "AS0.3ch10-19771         0.335766  0.021739  \n",
       "AS0.3ch10-25184         0.281513  0.193244  \n",
       "AS0.3ch10-29612         0.066434  0.044944  \n",
       "AS0.3ch10-39389         0.161972  0.224516  \n",
       "...                          ...       ...  \n",
       "HiC_scaffold_686-2241   0.080420  0.858654  \n",
       "HiC_scaffold_688-33835  0.235294  0.674279  \n",
       "HiC_scaffold_688-63086  0.029630  1.000000  \n",
       "HiC_scaffold_689-22136  0.253521 -0.001179  \n",
       "HiC_scaffold_689-39366  0.187943 -0.180770  \n",
       "\n",
       "[27100 rows x 25 columns]"
      ]
     },
     "execution_count": 33,
     "metadata": {},
     "output_type": "execute_result"
    }
   ],
   "source": [
    "loci_df"
   ]
  },
  {
   "cell_type": "code",
   "execution_count": 34,
   "metadata": {},
   "outputs": [
    {
     "data": {
      "text/html": [
       "<div>\n",
       "<style scoped>\n",
       "    .dataframe tbody tr th:only-of-type {\n",
       "        vertical-align: middle;\n",
       "    }\n",
       "\n",
       "    .dataframe tbody tr th {\n",
       "        vertical-align: top;\n",
       "    }\n",
       "\n",
       "    .dataframe thead th {\n",
       "        text-align: right;\n",
       "    }\n",
       "</style>\n",
       "<table border=\"1\" class=\"dataframe\">\n",
       "  <thead>\n",
       "    <tr style=\"text-align: right;\">\n",
       "      <th></th>\n",
       "      <th>CHROM</th>\n",
       "      <th>POS</th>\n",
       "      <th>N_ALLELES</th>\n",
       "      <th>N_CHR</th>\n",
       "      <th>A1_FREQ</th>\n",
       "      <th>A2_FREQ</th>\n",
       "    </tr>\n",
       "  </thead>\n",
       "  <tbody>\n",
       "    <tr>\n",
       "      <th>AS0.3ch10-8432</th>\n",
       "      <td>AS0.3ch10</td>\n",
       "      <td>8432</td>\n",
       "      <td>2</td>\n",
       "      <td>280</td>\n",
       "      <td>C:0.932143</td>\n",
       "      <td>A:0.0678571</td>\n",
       "    </tr>\n",
       "    <tr>\n",
       "      <th>AS0.3ch10-19771</th>\n",
       "      <td>AS0.3ch10</td>\n",
       "      <td>19771</td>\n",
       "      <td>2</td>\n",
       "      <td>274</td>\n",
       "      <td>A:0.335766</td>\n",
       "      <td>G:0.664234</td>\n",
       "    </tr>\n",
       "    <tr>\n",
       "      <th>AS0.3ch10-25184</th>\n",
       "      <td>AS0.3ch10</td>\n",
       "      <td>25184</td>\n",
       "      <td>2</td>\n",
       "      <td>238</td>\n",
       "      <td>G:0.281513</td>\n",
       "      <td>A:0.718487</td>\n",
       "    </tr>\n",
       "    <tr>\n",
       "      <th>AS0.3ch10-29612</th>\n",
       "      <td>AS0.3ch10</td>\n",
       "      <td>29612</td>\n",
       "      <td>2</td>\n",
       "      <td>286</td>\n",
       "      <td>C:0.933566</td>\n",
       "      <td>A:0.0664336</td>\n",
       "    </tr>\n",
       "    <tr>\n",
       "      <th>AS0.3ch10-39389</th>\n",
       "      <td>AS0.3ch10</td>\n",
       "      <td>39389</td>\n",
       "      <td>2</td>\n",
       "      <td>284</td>\n",
       "      <td>C:0.838028</td>\n",
       "      <td>T:0.161972</td>\n",
       "    </tr>\n",
       "    <tr>\n",
       "      <th>...</th>\n",
       "      <td>...</td>\n",
       "      <td>...</td>\n",
       "      <td>...</td>\n",
       "      <td>...</td>\n",
       "      <td>...</td>\n",
       "      <td>...</td>\n",
       "    </tr>\n",
       "    <tr>\n",
       "      <th>HiC_scaffold_686-2241</th>\n",
       "      <td>HiC_scaffold_686</td>\n",
       "      <td>2241</td>\n",
       "      <td>2</td>\n",
       "      <td>286</td>\n",
       "      <td>C:0.0804196</td>\n",
       "      <td>G:0.91958</td>\n",
       "    </tr>\n",
       "    <tr>\n",
       "      <th>HiC_scaffold_688-33835</th>\n",
       "      <td>HiC_scaffold_688</td>\n",
       "      <td>33835</td>\n",
       "      <td>2</td>\n",
       "      <td>272</td>\n",
       "      <td>T:0.235294</td>\n",
       "      <td>A:0.764706</td>\n",
       "    </tr>\n",
       "    <tr>\n",
       "      <th>HiC_scaffold_688-63086</th>\n",
       "      <td>HiC_scaffold_688</td>\n",
       "      <td>63086</td>\n",
       "      <td>2</td>\n",
       "      <td>270</td>\n",
       "      <td>T:0.0296296</td>\n",
       "      <td>A:0.97037</td>\n",
       "    </tr>\n",
       "    <tr>\n",
       "      <th>HiC_scaffold_689-22136</th>\n",
       "      <td>HiC_scaffold_689</td>\n",
       "      <td>22136</td>\n",
       "      <td>2</td>\n",
       "      <td>284</td>\n",
       "      <td>T:0.253521</td>\n",
       "      <td>G:0.746479</td>\n",
       "    </tr>\n",
       "    <tr>\n",
       "      <th>HiC_scaffold_689-39366</th>\n",
       "      <td>HiC_scaffold_689</td>\n",
       "      <td>39366</td>\n",
       "      <td>2</td>\n",
       "      <td>282</td>\n",
       "      <td>T:0.812057</td>\n",
       "      <td>A:0.187943</td>\n",
       "    </tr>\n",
       "  </tbody>\n",
       "</table>\n",
       "<p>27100 rows × 6 columns</p>\n",
       "</div>"
      ],
      "text/plain": [
       "                                   CHROM    POS N_ALLELES N_CHR      A1_FREQ  \\\n",
       "AS0.3ch10-8432                 AS0.3ch10   8432         2   280   C:0.932143   \n",
       "AS0.3ch10-19771                AS0.3ch10  19771         2   274   A:0.335766   \n",
       "AS0.3ch10-25184                AS0.3ch10  25184         2   238   G:0.281513   \n",
       "AS0.3ch10-29612                AS0.3ch10  29612         2   286   C:0.933566   \n",
       "AS0.3ch10-39389                AS0.3ch10  39389         2   284   C:0.838028   \n",
       "...                                  ...    ...       ...   ...          ...   \n",
       "HiC_scaffold_686-2241   HiC_scaffold_686   2241         2   286  C:0.0804196   \n",
       "HiC_scaffold_688-33835  HiC_scaffold_688  33835         2   272   T:0.235294   \n",
       "HiC_scaffold_688-63086  HiC_scaffold_688  63086         2   270  T:0.0296296   \n",
       "HiC_scaffold_689-22136  HiC_scaffold_689  22136         2   284   T:0.253521   \n",
       "HiC_scaffold_689-39366  HiC_scaffold_689  39366         2   282   T:0.812057   \n",
       "\n",
       "                            A2_FREQ  \n",
       "AS0.3ch10-8432          A:0.0678571  \n",
       "AS0.3ch10-19771          G:0.664234  \n",
       "AS0.3ch10-25184          A:0.718487  \n",
       "AS0.3ch10-29612         A:0.0664336  \n",
       "AS0.3ch10-39389          T:0.161972  \n",
       "...                             ...  \n",
       "HiC_scaffold_686-2241     G:0.91958  \n",
       "HiC_scaffold_688-33835   A:0.764706  \n",
       "HiC_scaffold_688-63086    A:0.97037  \n",
       "HiC_scaffold_689-22136   G:0.746479  \n",
       "HiC_scaffold_689-39366   A:0.187943  \n",
       "\n",
       "[27100 rows x 6 columns]"
      ]
     },
     "execution_count": 34,
     "metadata": {},
     "output_type": "execute_result"
    }
   ],
   "source": [
    "frq_df"
   ]
  },
  {
   "cell_type": "code",
   "execution_count": 35,
   "metadata": {},
   "outputs": [
    {
     "data": {
      "text/html": [
       "<div>\n",
       "<style scoped>\n",
       "    .dataframe tbody tr th:only-of-type {\n",
       "        vertical-align: middle;\n",
       "    }\n",
       "\n",
       "    .dataframe tbody tr th {\n",
       "        vertical-align: top;\n",
       "    }\n",
       "\n",
       "    .dataframe thead th {\n",
       "        text-align: right;\n",
       "    }\n",
       "</style>\n",
       "<table border=\"1\" class=\"dataframe\">\n",
       "  <thead>\n",
       "    <tr style=\"text-align: right;\">\n",
       "      <th></th>\n",
       "      <th>CHROM</th>\n",
       "      <th>POS</th>\n",
       "      <th>OBS(HOM1/HET/HOM2)</th>\n",
       "      <th>E(HOM1/HET/HOM2)</th>\n",
       "      <th>ChiSq_HWE</th>\n",
       "      <th>P_HWE</th>\n",
       "      <th>P_HET_DEFICIT</th>\n",
       "      <th>P_HET_EXCESS</th>\n",
       "    </tr>\n",
       "  </thead>\n",
       "  <tbody>\n",
       "    <tr>\n",
       "      <th>AS0.3ch10-8432</th>\n",
       "      <td>AS0.3ch10</td>\n",
       "      <td>8432</td>\n",
       "      <td>122/17/1</td>\n",
       "      <td>121.64/17.71/0.64</td>\n",
       "      <td>0.225448</td>\n",
       "      <td>4.802792e-01</td>\n",
       "      <td>4.802792e-01</td>\n",
       "      <td>0.883951</td>\n",
       "    </tr>\n",
       "    <tr>\n",
       "      <th>AS0.3ch10-19771</th>\n",
       "      <td>AS0.3ch10</td>\n",
       "      <td>19771</td>\n",
       "      <td>16/60/61</td>\n",
       "      <td>15.45/61.11/60.45</td>\n",
       "      <td>0.045160</td>\n",
       "      <td>8.487136e-01</td>\n",
       "      <td>4.717111e-01</td>\n",
       "      <td>0.674848</td>\n",
       "    </tr>\n",
       "    <tr>\n",
       "      <th>AS0.3ch10-25184</th>\n",
       "      <td>AS0.3ch10</td>\n",
       "      <td>25184</td>\n",
       "      <td>14/39/66</td>\n",
       "      <td>9.43/48.14/61.43</td>\n",
       "      <td>4.288680</td>\n",
       "      <td>4.184443e-02</td>\n",
       "      <td>3.065872e-02</td>\n",
       "      <td>0.989547</td>\n",
       "    </tr>\n",
       "    <tr>\n",
       "      <th>AS0.3ch10-29612</th>\n",
       "      <td>AS0.3ch10</td>\n",
       "      <td>29612</td>\n",
       "      <td>125/17/1</td>\n",
       "      <td>124.63/17.74/0.63</td>\n",
       "      <td>0.247384</td>\n",
       "      <td>4.725812e-01</td>\n",
       "      <td>4.725812e-01</td>\n",
       "      <td>0.888173</td>\n",
       "    </tr>\n",
       "    <tr>\n",
       "      <th>AS0.3ch10-39389</th>\n",
       "      <td>AS0.3ch10</td>\n",
       "      <td>39389</td>\n",
       "      <td>104/30/8</td>\n",
       "      <td>99.73/38.55/3.73</td>\n",
       "      <td>6.984191</td>\n",
       "      <td>1.226267e-02</td>\n",
       "      <td>1.226267e-02</td>\n",
       "      <td>0.997336</td>\n",
       "    </tr>\n",
       "    <tr>\n",
       "      <th>...</th>\n",
       "      <td>...</td>\n",
       "      <td>...</td>\n",
       "      <td>...</td>\n",
       "      <td>...</td>\n",
       "      <td>...</td>\n",
       "      <td>...</td>\n",
       "      <td>...</td>\n",
       "      <td>...</td>\n",
       "    </tr>\n",
       "    <tr>\n",
       "      <th>HiC_scaffold_686-2241</th>\n",
       "      <td>HiC_scaffold_686</td>\n",
       "      <td>2241</td>\n",
       "      <td>10/3/130</td>\n",
       "      <td>0.92/21.15/120.92</td>\n",
       "      <td>105.310300</td>\n",
       "      <td>4.483712e-13</td>\n",
       "      <td>4.483712e-13</td>\n",
       "      <td>1.000000</td>\n",
       "    </tr>\n",
       "    <tr>\n",
       "      <th>HiC_scaffold_688-33835</th>\n",
       "      <td>HiC_scaffold_688</td>\n",
       "      <td>33835</td>\n",
       "      <td>24/16/96</td>\n",
       "      <td>7.53/48.94/79.53</td>\n",
       "      <td>61.612430</td>\n",
       "      <td>1.189705e-13</td>\n",
       "      <td>1.189705e-13</td>\n",
       "      <td>1.000000</td>\n",
       "    </tr>\n",
       "    <tr>\n",
       "      <th>HiC_scaffold_688-63086</th>\n",
       "      <td>HiC_scaffold_688</td>\n",
       "      <td>63086</td>\n",
       "      <td>4/0/131</td>\n",
       "      <td>0.12/7.76/127.12</td>\n",
       "      <td>135.000000</td>\n",
       "      <td>2.097607e-08</td>\n",
       "      <td>2.097607e-08</td>\n",
       "      <td>1.000000</td>\n",
       "    </tr>\n",
       "    <tr>\n",
       "      <th>HiC_scaffold_689-22136</th>\n",
       "      <td>HiC_scaffold_689</td>\n",
       "      <td>22136</td>\n",
       "      <td>9/54/79</td>\n",
       "      <td>9.13/53.75/79.13</td>\n",
       "      <td>0.003159</td>\n",
       "      <td>1.000000e+00</td>\n",
       "      <td>5.865412e-01</td>\n",
       "      <td>0.589277</td>\n",
       "    </tr>\n",
       "    <tr>\n",
       "      <th>HiC_scaffold_689-39366</th>\n",
       "      <td>HiC_scaffold_689</td>\n",
       "      <td>39366</td>\n",
       "      <td>89/51/1</td>\n",
       "      <td>92.98/43.04/4.98</td>\n",
       "      <td>4.824242</td>\n",
       "      <td>2.817928e-02</td>\n",
       "      <td>9.976605e-01</td>\n",
       "      <td>0.020451</td>\n",
       "    </tr>\n",
       "  </tbody>\n",
       "</table>\n",
       "<p>27100 rows × 8 columns</p>\n",
       "</div>"
      ],
      "text/plain": [
       "                                   CHROM    POS OBS(HOM1/HET/HOM2)  \\\n",
       "AS0.3ch10-8432                 AS0.3ch10   8432           122/17/1   \n",
       "AS0.3ch10-19771                AS0.3ch10  19771           16/60/61   \n",
       "AS0.3ch10-25184                AS0.3ch10  25184           14/39/66   \n",
       "AS0.3ch10-29612                AS0.3ch10  29612           125/17/1   \n",
       "AS0.3ch10-39389                AS0.3ch10  39389           104/30/8   \n",
       "...                                  ...    ...                ...   \n",
       "HiC_scaffold_686-2241   HiC_scaffold_686   2241           10/3/130   \n",
       "HiC_scaffold_688-33835  HiC_scaffold_688  33835           24/16/96   \n",
       "HiC_scaffold_688-63086  HiC_scaffold_688  63086            4/0/131   \n",
       "HiC_scaffold_689-22136  HiC_scaffold_689  22136            9/54/79   \n",
       "HiC_scaffold_689-39366  HiC_scaffold_689  39366            89/51/1   \n",
       "\n",
       "                         E(HOM1/HET/HOM2)   ChiSq_HWE         P_HWE  \\\n",
       "AS0.3ch10-8432          121.64/17.71/0.64    0.225448  4.802792e-01   \n",
       "AS0.3ch10-19771         15.45/61.11/60.45    0.045160  8.487136e-01   \n",
       "AS0.3ch10-25184          9.43/48.14/61.43    4.288680  4.184443e-02   \n",
       "AS0.3ch10-29612         124.63/17.74/0.63    0.247384  4.725812e-01   \n",
       "AS0.3ch10-39389          99.73/38.55/3.73    6.984191  1.226267e-02   \n",
       "...                                   ...         ...           ...   \n",
       "HiC_scaffold_686-2241   0.92/21.15/120.92  105.310300  4.483712e-13   \n",
       "HiC_scaffold_688-33835   7.53/48.94/79.53   61.612430  1.189705e-13   \n",
       "HiC_scaffold_688-63086   0.12/7.76/127.12  135.000000  2.097607e-08   \n",
       "HiC_scaffold_689-22136   9.13/53.75/79.13    0.003159  1.000000e+00   \n",
       "HiC_scaffold_689-39366   92.98/43.04/4.98    4.824242  2.817928e-02   \n",
       "\n",
       "                        P_HET_DEFICIT  P_HET_EXCESS  \n",
       "AS0.3ch10-8432           4.802792e-01      0.883951  \n",
       "AS0.3ch10-19771          4.717111e-01      0.674848  \n",
       "AS0.3ch10-25184          3.065872e-02      0.989547  \n",
       "AS0.3ch10-29612          4.725812e-01      0.888173  \n",
       "AS0.3ch10-39389          1.226267e-02      0.997336  \n",
       "...                               ...           ...  \n",
       "HiC_scaffold_686-2241    4.483712e-13      1.000000  \n",
       "HiC_scaffold_688-33835   1.189705e-13      1.000000  \n",
       "HiC_scaffold_688-63086   2.097607e-08      1.000000  \n",
       "HiC_scaffold_689-22136   5.865412e-01      0.589277  \n",
       "HiC_scaffold_689-39366   9.976605e-01      0.020451  \n",
       "\n",
       "[27100 rows x 8 columns]"
      ]
     },
     "execution_count": 35,
     "metadata": {},
     "output_type": "execute_result"
    }
   ],
   "source": [
    "hardy"
   ]
  },
  {
   "cell_type": "code",
   "execution_count": 36,
   "metadata": {},
   "outputs": [],
   "source": [
    "loci_out = os.path.join(analysis_dir,'loci_out.csv')\n",
    "frq_out = os.path.join(analysis_dir,'frq_out.csv')\n",
    "hardy_out = os.path.join(analysis_dir,'hardy_out.csv')\n",
    "\n",
    "loci_df.to_csv(path_or_buf=loci_out)\n",
    "frq_df.to_csv(path_or_buf=frq_out)\n",
    "hardy.to_csv(path_or_buf=hardy_out)\n"
   ]
  },
  {
   "cell_type": "code",
   "execution_count": null,
   "metadata": {},
   "outputs": [],
   "source": []
  },
  {
   "cell_type": "code",
   "execution_count": 37,
   "metadata": {},
   "outputs": [
    {
     "data": {
      "text/plain": [
       "count     27100.000000\n",
       "mean       3395.006790\n",
       "std        7554.306817\n",
       "min         196.000000\n",
       "25%        1239.000000\n",
       "50%        2388.000000\n",
       "75%        3990.000000\n",
       "max      762866.000000\n",
       "Name: SUM_DEPTH, dtype: float64"
      ]
     },
     "execution_count": 37,
     "metadata": {},
     "output_type": "execute_result"
    }
   ],
   "source": [
    "loci_df.SUM_DEPTH.describe()"
   ]
  },
  {
   "cell_type": "code",
   "execution_count": 38,
   "metadata": {},
   "outputs": [
    {
     "data": {
      "text/plain": [
       "count    27100.000000\n",
       "mean       766.443220\n",
       "std        342.225152\n",
       "min          3.060160\n",
       "25%        514.000000\n",
       "50%        999.000000\n",
       "75%        999.000000\n",
       "max        999.000000\n",
       "Name: QUAL, dtype: float64"
      ]
     },
     "execution_count": 38,
     "metadata": {},
     "output_type": "execute_result"
    }
   ],
   "source": [
    "loci_df.QUAL.describe()"
   ]
  },
  {
   "cell_type": "code",
   "execution_count": 39,
   "metadata": {
    "scrolled": true
   },
   "outputs": [
    {
     "data": {
      "image/png": "[encoded data removed]",
      "text/plain": [
       "<Figure size 432x288 with 1 Axes>"
      ]
     },
     "metadata": {
      "image/png": {
       "height": 248,
       "width": 401
      },
      "needs_background": "light"
     },
     "output_type": "display_data"
    }
   ],
   "source": [
    "loci_df.QUAL.plot(kind=\"hist\");"
   ]
  },
  {
   "cell_type": "code",
   "execution_count": 40,
   "metadata": {},
   "outputs": [
    {
     "data": {
      "image/png": "[encoded data removed]",
      "text/plain": [
       "<Figure size 432x288 with 1 Axes>"
      ]
     },
     "metadata": {
      "image/png": {
       "height": 248,
       "width": 420
      },
      "needs_background": "light"
     },
     "output_type": "display_data"
    }
   ],
   "source": [
    "loci_df.SUM_DEPTH.plot(kind=\"hist\");"
   ]
  },
  {
   "cell_type": "code",
   "execution_count": 41,
   "metadata": {},
   "outputs": [
    {
     "data": {
      "text/plain": [
       "0"
      ]
     },
     "execution_count": 41,
     "metadata": {},
     "output_type": "execute_result"
    }
   ],
   "source": [
    "len(loci_df[loci_df.Fis == -9])"
   ]
  },
  {
   "cell_type": "code",
   "execution_count": 46,
   "metadata": {},
   "outputs": [
    {
     "data": {
      "text/plain": [
       "(22821, 25243)"
      ]
     },
     "execution_count": 46,
     "metadata": {},
     "output_type": "execute_result"
    }
   ],
   "source": [
    "len(loci_df[loci_df.SUM_DEPTH <5000]),len(loci_df[loci_df.SUM_DEPTH >=500])"
   ]
  },
  {
   "cell_type": "code",
   "execution_count": 47,
   "metadata": {},
   "outputs": [
    {
     "data": {
      "text/plain": [
       "286"
      ]
     },
     "execution_count": 47,
     "metadata": {},
     "output_type": "execute_result"
    }
   ],
   "source": [
    "len(loci_df[loci_df.QUAL >= 10]) - len(loci_df[loci_df.QUAL >= 20])"
   ]
  },
  {
   "cell_type": "code",
   "execution_count": 48,
   "metadata": {},
   "outputs": [
    {
     "data": {
      "text/plain": [
       "(10681, 6652, 3458)"
      ]
     },
     "execution_count": 48,
     "metadata": {},
     "output_type": "execute_result"
    }
   ],
   "source": [
    "len(loci_df[loci_df.QUAL <  999]), len(loci_df[loci_df.QUAL < 500]), len(loci_df[loci_df.QUAL < 200])"
   ]
  },
  {
   "cell_type": "code",
   "execution_count": 49,
   "metadata": {},
   "outputs": [
    {
     "data": {
      "text/plain": [
       "(339, 403)"
      ]
     },
     "execution_count": 49,
     "metadata": {},
     "output_type": "execute_result"
    }
   ],
   "source": [
    " len(loci_df[loci_df.Fis <= -0.5]), len(loci_df[loci_df.MAF < 0.02])"
   ]
  },
  {
   "cell_type": "code",
   "execution_count": 55,
   "metadata": {},
   "outputs": [],
   "source": [
    "def filter_snps(df, imputed=False):\n",
    "    if imputed:\n",
    "        return df[(df.MAF >= 0.01) &  \n",
    "                  (df.Fis > -0.5)]\n",
    "    else:\n",
    "        return df[(df.SUM_DEPTH >= 500) & \n",
    "                  (df.SUM_DEPTH < 5000) & \n",
    "                  (df.QUAL >= 200) & \n",
    "                  (df.MAF >= 0.02) &  \n",
    "                  (df.Fis > -0.5)]"
   ]
  },
  {
   "cell_type": "code",
   "execution_count": 56,
   "metadata": {},
   "outputs": [
    {
     "data": {
      "text/plain": [
       "(18083, 25)"
      ]
     },
     "execution_count": 56,
     "metadata": {},
     "output_type": "execute_result"
    }
   ],
   "source": [
    "loci_stage1 = filter_snps(loci_df)\n",
    "loci_stage1.shape"
   ]
  },
  {
   "cell_type": "code",
   "execution_count": 57,
   "metadata": {},
   "outputs": [],
   "source": [
    "with open(os.path.join(analysis_dir, \"stage1_positions.txt\"), \"w\") as o:\n",
    "    for elem in loci_stage1.index:\n",
    "        o.write(\"%s\\n\" % \"\\t\".join(elem.split(\"-\")))"
   ]
  },
  {
   "cell_type": "code",
   "execution_count": 58,
   "metadata": {
    "run_control": {
     "marked": false
    }
   },
   "outputs": [
    {
     "name": "stdout",
     "output_type": "stream",
     "text": [
      "\n",
      "VCFtools - 0.1.16\n",
      "(C) Adam Auton and Anthony Marcketta 2009\n",
      "\n",
      "Parameters as interpreted:\n",
      "\t--gzvcf /data/gpfs/home/tfaske/d/milkweed/filtering/snps_indv_removed.recode.vcf.gz\n",
      "\t--recode-INFO-all\n",
      "\t--out /data/gpfs/home/tfaske/d/milkweed/filtering/good_snps\n",
      "\t--positions /data/gpfs/home/tfaske/d/milkweed/filtering/stage1_positions.txt\n",
      "\t--recode\n",
      "\t--remove-filtered-all\n",
      "\t--remove-indels\n",
      "\n",
      "Using zlib version: 1.2.11\n",
      "Warning: Expected at least 2 parts in INFO entry: ID=AC,Number=A,Type=Integer,Description=\"Allele count in genotypes for each ALT allele, in the same order as listed\">\n",
      "Warning: Expected at least 2 parts in INFO entry: ID=DP4,Number=4,Type=Integer,Description=\"Number of high-quality ref-forward , ref-reverse, alt-forward and alt-reverse bases\">\n",
      "Warning: Expected at least 2 parts in INFO entry: ID=DP4,Number=4,Type=Integer,Description=\"Number of high-quality ref-forward , ref-reverse, alt-forward and alt-reverse bases\">\n",
      "After filtering, kept 143 out of 143 Individuals\n",
      "Outputting VCF file...\n",
      "After filtering, kept 18083 out of a possible 27100 Sites\n",
      "Run Time = 11.00 seconds\n"
     ]
    }
   ],
   "source": [
    "!$vcftools --gzvcf $vcf_bad_remove_gz \\\n",
    "--remove-indels  \\\n",
    "--remove-filtered-all \\\n",
    "--recode \\\n",
    "--recode-INFO-all \\\n",
    "--positions {os.path.join(analysis_dir, \"stage1_positions.txt\")} \\\n",
    "--out {os.path.join(analysis_dir, \"good_snps\")}"
   ]
  },
  {
   "cell_type": "code",
   "execution_count": 59,
   "metadata": {},
   "outputs": [],
   "source": [
    "snps = os.path.join(analysis_dir, \"good_snps.recode.vcf\")\n",
    "snps_gz = snps + \".gz\"\n",
    "!$bgzip -c {snps} > {snps_gz}\n",
    "!$tabix {snps_gz}"
   ]
  },
  {
   "cell_type": "markdown",
   "metadata": {},
   "source": [
    "# Plink / chrom_map"
   ]
  },
  {
   "cell_type": "code",
   "execution_count": 60,
   "metadata": {},
   "outputs": [
    {
     "data": {
      "text/plain": [
       "261"
      ]
     },
     "execution_count": 60,
     "metadata": {},
     "output_type": "execute_result"
    }
   ],
   "source": [
    "chroms = sorted(set([x.split(\"-\")[0] for x in loci_df.index]))\n",
    "len(chroms) # number of unique contigs"
   ]
  },
  {
   "cell_type": "code",
   "execution_count": 61,
   "metadata": {},
   "outputs": [],
   "source": [
    "with open(os.path.join(analysis_dir, \"chrom_map.txt\"), \"w\") as o:\n",
    "    for i, c in enumerate(chroms):\n",
    "        o.write(\"%s\\t%d\\n\" % (c, i))"
   ]
  },
  {
   "cell_type": "code",
   "execution_count": 62,
   "metadata": {
    "scrolled": true
   },
   "outputs": [],
   "source": [
    "def write_plink_files(vcf_gz):\n",
    "    !$vcftools --gzvcf {vcf_gz} \\\n",
    "    --out {vcf_gz} \\\n",
    "    --plink \\\n",
    "    --chrom-map {os.path.join(analysis_dir, \"chrom_map.txt\")}"
   ]
  },
  {
   "cell_type": "code",
   "execution_count": 63,
   "metadata": {},
   "outputs": [
    {
     "name": "stdout",
     "output_type": "stream",
     "text": [
      "\n",
      "VCFtools - 0.1.16\n",
      "(C) Adam Auton and Anthony Marcketta 2009\n",
      "\n",
      "Parameters as interpreted:\n",
      "\t--gzvcf /data/gpfs/home/tfaske/d/milkweed/filtering/good_snps.recode.vcf.gz\n",
      "\t--chrom-map /data/gpfs/home/tfaske/d/milkweed/filtering/chrom_map.txt\n",
      "\t--out /data/gpfs/home/tfaske/d/milkweed/filtering/good_snps.recode.vcf.gz\n",
      "\t--plink\n",
      "\n",
      "Using zlib version: 1.2.11\n",
      "Warning: Expected at least 2 parts in INFO entry: ID=AC,Number=A,Type=Integer,Description=\"Allele count in genotypes for each ALT allele, in the same order as listed\">\n",
      "Warning: Expected at least 2 parts in INFO entry: ID=DP4,Number=4,Type=Integer,Description=\"Number of high-quality ref-forward , ref-reverse, alt-forward and alt-reverse bases\">\n",
      "Warning: Expected at least 2 parts in INFO entry: ID=DP4,Number=4,Type=Integer,Description=\"Number of high-quality ref-forward , ref-reverse, alt-forward and alt-reverse bases\">\n",
      "After filtering, kept 143 out of 143 Individuals\n",
      "Writing PLINK PED and MAP files ... \n",
      "\tRead 262 chromosome mapping file entries.\n",
      "Done.\n",
      "After filtering, kept 18083 out of a possible 18083 Sites\n",
      "Run Time = 2.00 seconds\n"
     ]
    }
   ],
   "source": [
    "write_plink_files(snps_gz)"
   ]
  },
  {
   "cell_type": "code",
   "execution_count": null,
   "metadata": {},
   "outputs": [],
   "source": []
  },
  {
   "cell_type": "markdown",
   "metadata": {},
   "source": [
    "# Make 012"
   ]
  },
  {
   "cell_type": "code",
   "execution_count": 64,
   "metadata": {},
   "outputs": [
    {
     "name": "stdout",
     "output_type": "stream",
     "text": [
      "\n",
      "VCFtools - 0.1.16\n",
      "(C) Adam Auton and Anthony Marcketta 2009\n",
      "\n",
      "Parameters as interpreted:\n",
      "\t--gzvcf /data/gpfs/home/tfaske/d/milkweed/filtering/good_snps.recode.vcf\n",
      "\t--012\n",
      "\t--out /data/gpfs/home/tfaske/d/milkweed/filtering/good_snps.recode.vcf\n",
      "\n",
      "Using zlib version: 1.2.11\n",
      "Warning: Expected at least 2 parts in INFO entry: ID=AC,Number=A,Type=Integer,Description=\"Allele count in genotypes for each ALT allele, in the same order as listed\">\n",
      "Warning: Expected at least 2 parts in INFO entry: ID=DP4,Number=4,Type=Integer,Description=\"Number of high-quality ref-forward , ref-reverse, alt-forward and alt-reverse bases\">\n",
      "Warning: Expected at least 2 parts in INFO entry: ID=DP4,Number=4,Type=Integer,Description=\"Number of high-quality ref-forward , ref-reverse, alt-forward and alt-reverse bases\">\n",
      "After filtering, kept 143 out of 143 Individuals\n",
      "Writing 012 matrix files ... Done.\n",
      "After filtering, kept 18083 out of a possible 18083 Sites\n",
      "Run Time = 1.00 seconds\n"
     ]
    }
   ],
   "source": [
    "f = os.path.join(analysis_dir, \"good_snps.recode.vcf\")\n",
    "!$vcftools --gzvcf {f} \\\n",
    "--out {f} \\\n",
    "--012"
   ]
  },
  {
   "cell_type": "markdown",
   "metadata": {},
   "source": [
    "# Get coverage per individual"
   ]
  },
  {
   "cell_type": "code",
   "execution_count": 65,
   "metadata": {},
   "outputs": [
    {
     "name": "stdout",
     "output_type": "stream",
     "text": [
      "\n",
      "VCFtools - 0.1.16\n",
      "(C) Adam Auton and Anthony Marcketta 2009\n",
      "\n",
      "Parameters as interpreted:\n",
      "\t--gzvcf /data/gpfs/home/tfaske/d/milkweed/filtering/good_snps.recode.vcf\n",
      "\t--depth\n",
      "\t--out /data/gpfs/home/tfaske/d/milkweed/filtering/good_snps.recode.vcf\n",
      "\n",
      "Using zlib version: 1.2.11\n",
      "Warning: Expected at least 2 parts in INFO entry: ID=AC,Number=A,Type=Integer,Description=\"Allele count in genotypes for each ALT allele, in the same order as listed\">\n",
      "Warning: Expected at least 2 parts in INFO entry: ID=DP4,Number=4,Type=Integer,Description=\"Number of high-quality ref-forward , ref-reverse, alt-forward and alt-reverse bases\">\n",
      "Warning: Expected at least 2 parts in INFO entry: ID=DP4,Number=4,Type=Integer,Description=\"Number of high-quality ref-forward , ref-reverse, alt-forward and alt-reverse bases\">\n",
      "After filtering, kept 143 out of 143 Individuals\n",
      "Outputting Mean Depth by Individual\n",
      "After filtering, kept 18083 out of a possible 18083 Sites\n",
      "Run Time = 1.00 seconds\n"
     ]
    }
   ],
   "source": [
    "f = os.path.join(analysis_dir, \"good_snps.recode.vcf\")\n",
    "!$vcftools --gzvcf {f} \\\n",
    "--out {f} \\\n",
    "--depth"
   ]
  },
  {
   "cell_type": "code",
   "execution_count": 66,
   "metadata": {},
   "outputs": [
    {
     "data": {
      "text/html": [
       "<div>\n",
       "<style scoped>\n",
       "    .dataframe tbody tr th:only-of-type {\n",
       "        vertical-align: middle;\n",
       "    }\n",
       "\n",
       "    .dataframe tbody tr th {\n",
       "        vertical-align: top;\n",
       "    }\n",
       "\n",
       "    .dataframe thead th {\n",
       "        text-align: right;\n",
       "    }\n",
       "</style>\n",
       "<table border=\"1\" class=\"dataframe\">\n",
       "  <thead>\n",
       "    <tr style=\"text-align: right;\">\n",
       "      <th></th>\n",
       "      <th>INDV</th>\n",
       "      <th>N_SITES</th>\n",
       "      <th>MEAN_DEPTH</th>\n",
       "    </tr>\n",
       "  </thead>\n",
       "  <tbody>\n",
       "    <tr>\n",
       "      <th>0</th>\n",
       "      <td>/working/tfaske/milkweed/SNPcall/bowtie2/FA_BM...</td>\n",
       "      <td>18083</td>\n",
       "      <td>34.2092</td>\n",
       "    </tr>\n",
       "    <tr>\n",
       "      <th>1</th>\n",
       "      <td>/working/tfaske/milkweed/SNPcall/bowtie2/FA_BM...</td>\n",
       "      <td>18083</td>\n",
       "      <td>19.8928</td>\n",
       "    </tr>\n",
       "    <tr>\n",
       "      <th>2</th>\n",
       "      <td>/working/tfaske/milkweed/SNPcall/bowtie2/FA_BM...</td>\n",
       "      <td>18083</td>\n",
       "      <td>18.6655</td>\n",
       "    </tr>\n",
       "    <tr>\n",
       "      <th>3</th>\n",
       "      <td>/working/tfaske/milkweed/SNPcall/bowtie2/FA_BM...</td>\n",
       "      <td>18083</td>\n",
       "      <td>14.3064</td>\n",
       "    </tr>\n",
       "    <tr>\n",
       "      <th>4</th>\n",
       "      <td>/working/tfaske/milkweed/SNPcall/bowtie2/FA_BM...</td>\n",
       "      <td>18083</td>\n",
       "      <td>22.0523</td>\n",
       "    </tr>\n",
       "  </tbody>\n",
       "</table>\n",
       "</div>"
      ],
      "text/plain": [
       "                                                INDV  N_SITES  MEAN_DEPTH\n",
       "0  /working/tfaske/milkweed/SNPcall/bowtie2/FA_BM...    18083     34.2092\n",
       "1  /working/tfaske/milkweed/SNPcall/bowtie2/FA_BM...    18083     19.8928\n",
       "2  /working/tfaske/milkweed/SNPcall/bowtie2/FA_BM...    18083     18.6655\n",
       "3  /working/tfaske/milkweed/SNPcall/bowtie2/FA_BM...    18083     14.3064\n",
       "4  /working/tfaske/milkweed/SNPcall/bowtie2/FA_BM...    18083     22.0523"
      ]
     },
     "execution_count": 66,
     "metadata": {},
     "output_type": "execute_result"
    }
   ],
   "source": [
    "depth_file = os.path.join(analysis_dir, \"good_snps.recode.vcf.idepth\")\n",
    "depth_df = pd.read_csv(depth_file, sep=\"\\t\")\n",
    "depth_df.head()"
   ]
  },
  {
   "cell_type": "code",
   "execution_count": 67,
   "metadata": {},
   "outputs": [
    {
     "data": {
      "text/plain": [
       "count    143.000000\n",
       "mean      16.554829\n",
       "std        6.343359\n",
       "min        1.112370\n",
       "25%       13.172000\n",
       "50%       16.598700\n",
       "75%       19.649850\n",
       "max       37.946200\n",
       "Name: MEAN_DEPTH, dtype: float64"
      ]
     },
     "execution_count": 67,
     "metadata": {},
     "output_type": "execute_result"
    }
   ],
   "source": [
    "depth_df.MEAN_DEPTH.describe()"
   ]
  },
  {
   "cell_type": "markdown",
   "metadata": {},
   "source": [
    "# Remove unnecessary files"
   ]
  },
  {
   "cell_type": "code",
   "execution_count": 68,
   "metadata": {},
   "outputs": [],
   "source": [
    "!rm snps*"
   ]
  },
  {
   "cell_type": "code",
   "execution_count": 69,
   "metadata": {},
   "outputs": [],
   "source": [
    "!rm milkweed*"
   ]
  },
  {
   "cell_type": "code",
   "execution_count": 70,
   "metadata": {},
   "outputs": [],
   "source": [
    "!rm *vcf"
   ]
  },
  {
   "cell_type": "code",
   "execution_count": null,
   "metadata": {},
   "outputs": [],
   "source": []
  },
  {
   "cell_type": "code",
   "execution_count": null,
   "metadata": {},
   "outputs": [],
   "source": []
  }
 ],
 "metadata": {
  "kernelspec": {
   "display_name": "Python 3",
   "language": "python",
   "name": "python3"
  },
  "language_info": {
   "codemirror_mode": {
    "name": "ipython",
    "version": 3
   },
   "file_extension": ".py",
   "mimetype": "text/x-python",
   "name": "python",
   "nbconvert_exporter": "python",
   "pygments_lexer": "ipython3",
   "version": "3.6.7"
  }
 },
 "nbformat": 4,
 "nbformat_minor": 1
}
