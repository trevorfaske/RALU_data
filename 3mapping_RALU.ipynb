{
 "cells": [
  {
   "cell_type": "code",
   "execution_count": 1,
   "metadata": {
    "ExecuteTime": {}
   },
   "outputs": [
    {
     "name": "stdout",
     "output_type": "stream",
     "text": [
      "/usr/bin/sh: line 0: source: activate: file not found\r\n"
     ]
    }
   ],
   "source": [
    "!source activate py36"
   ]
  },
  {
   "cell_type": "code",
   "execution_count": 2,
   "metadata": {
    "ExecuteTime": {}
   },
   "outputs": [],
   "source": [
    "import sys\n",
    "\n",
    "#sys.path.append('/home/faske/g/anaconda3/envs/py34/lib/python3.4/site-packages')\n",
    "sys.path.append('/data/gpfs/assoc/parchmanlab/tfaske/anaconda3/envs/py36/lib/python3.6/site-packages')\n",
    "sys.path.append(\"/data/gpfs/assoc/parchmanlab/tfaske/ipynb/include_utils\")\n",
    "\n",
    "import ipyparallel as ipp\n",
    "import os, time\n",
    "from os import environ\n",
    "import include_utils as u\n",
    "import pandas as pd\n",
    "import numpy as np\n",
    "import scipy as sp\n",
    "import numbers\n",
    "import matplotlib.pyplot as plt\n",
    "import matplotlib.patches as mpatches\n",
    "import matplotlib.cm as cm\n",
    "import matplotlib.colors as mcolors\n",
    "#import vcf\n",
    "from sklearn import preprocessing\n",
    "from subprocess import Popen, PIPE, call, check_output\n",
    "import seaborn as sns\n",
    "from IPython.display import FileLink\n",
    "import urllib.request as urllib2\n",
    "import dill\n",
    "import traceback\n",
    "from pandas import Series, DataFrame\n",
    "import gzip\n",
    "import warnings\n",
    "warnings.filterwarnings('ignore',category=pd.io.pytables.PerformanceWarning)\n",
    "%config InlineBackend.figure_format = 'retina'\n",
    "from Bio import SeqIO\n",
    "#import pysam\n",
    "from collections import OrderedDict, namedtuple, Counter\n",
    "import operator\n",
    "import multiprocessing as mp\n",
    "import shutil\n",
    "import tempfile\n",
    "#from ipyparallel import Client\n",
    "import scandir\n",
    "import glob\n",
    "from Bio.SeqIO.QualityIO import FastqGeneralIterator\n",
    "import pickle\n",
    "import re\n",
    "from itertools import chain\n",
    "#import Levenshtein as lv"
   ]
  },
  {
   "cell_type": "code",
   "execution_count": 3,
   "metadata": {
    "ExecuteTime": {}
   },
   "outputs": [],
   "source": [
    "root = \"/data/gpfs/assoc/denovo/tfaske/frogs\""
   ]
  },
  {
   "cell_type": "code",
   "execution_count": 4,
   "metadata": {
    "ExecuteTime": {}
   },
   "outputs": [
    {
     "name": "stdout",
     "output_type": "stream",
     "text": [
      "/data/gpfs/assoc/denovo/tfaske/frogs\n"
     ]
    }
   ],
   "source": [
    "cd $root"
   ]
  },
  {
   "cell_type": "code",
   "execution_count": 5,
   "metadata": {
    "ExecuteTime": {}
   },
   "outputs": [
    {
     "data": {
      "text/plain": [
       "'/data/gpfs/assoc/denovo/tfaske/frogs'"
      ]
     },
     "execution_count": 5,
     "metadata": {},
     "output_type": "execute_result"
    }
   ],
   "source": [
    "pwd"
   ]
  },
  {
   "cell_type": "markdown",
   "metadata": {},
   "source": [
    "## Assembly\n",
    "\n",
    "with dDocent c=.92, k1=6, k2=6"
   ]
  },
  {
   "cell_type": "code",
   "execution_count": 6,
   "metadata": {
    "ExecuteTime": {}
   },
   "outputs": [],
   "source": [
    "assembly = \"/data/gpfs/assoc/denovo/tfaske/frogs/assembly/reference.fasta\""
   ]
  },
  {
   "cell_type": "code",
   "execution_count": 8,
   "metadata": {},
   "outputs": [],
   "source": [
    "!samtools faidx $assembly"
   ]
  },
  {
   "cell_type": "markdown",
   "metadata": {},
   "source": [
    "## Actual Mapping \n",
    " "
   ]
  },
  {
   "cell_type": "code",
   "execution_count": 12,
   "metadata": {
    "ExecuteTime": {}
   },
   "outputs": [],
   "source": [
    "fastq_files = []\n",
    "files = !find newFastq -name '*fq.gz'\n",
    "files = [os.path.abspath(x) for x in files]\n",
    "for x in files:\n",
    "    fastq_files.append(x)\n",
    "fastq_files = sorted(fastq_files)"
   ]
  },
  {
   "cell_type": "code",
   "execution_count": 13,
   "metadata": {
    "ExecuteTime": {}
   },
   "outputs": [
    {
     "data": {
      "text/plain": [
       "(323, '/data/gpfs/assoc/denovo/tfaske/frogs/newFastq/RL_AD1C_200.F.fq.gz')"
      ]
     },
     "execution_count": 13,
     "metadata": {},
     "output_type": "execute_result"
    }
   ],
   "source": [
    "len(fastq_files),fastq_files[0]"
   ]
  },
  {
   "cell_type": "code",
   "execution_count": 14,
   "metadata": {},
   "outputs": [
    {
     "name": "stdout",
     "output_type": "stream",
     "text": [
      "/data/gpfs/assoc/denovo/tfaske/frogs\n"
     ]
    }
   ],
   "source": [
    "cd $root"
   ]
  },
  {
   "cell_type": "code",
   "execution_count": 15,
   "metadata": {
    "ExecuteTime": {}
   },
   "outputs": [],
   "source": [
    "# -k INT minimum seed length [19]\n",
    "# -w INT band width for banded alignment [100]\n",
    "# -r FLOAT look for internal seeds inside a seed longer than {-k} * FLOAT [1.5]\n",
    "# -T INT minimum score to output [30]\n",
    "# -R STR read group header line such as '@RG\\tID:foo\\tSM:bar' [null]\n",
    "\n",
    "#@lview.remote()\n",
    "def run_bwamem(args):\n",
    "    import os, multiprocessing, socket\n",
    "    cpus = 1\n",
    "    assembly, fq, outdir = args\n",
    "    ID = fq.split('/')[8] ### need to change this to match your ID \n",
    "    ID = ID.split('.F.')[0] ### This too \n",
    "    sam = os.path.join(outdir, \"{}.sam\".format(os.path.basename(ID)))\n",
    "    bam = sam.replace('.sam','.bam')\n",
    "    bam_sorted = \"%s_sorted.bam\" % bam.replace(\".bam\", \"\")\n",
    "    bwa_cmd = r\"bwa mem -k 20 -w 100 -r 1.3 -T 30 -R '@RG\\tID:%s\\tLB:%s\\tSM:%s\\tPL:ILLUMINA' %s %s > %s\" % (ID,ID,ID,assembly,fq,sam)\n",
    "    s2b_cmd =  \"samtools view -b %s -o %s\\n\\nsamtools sort -@ %s %s -o %s\\n\\nsamtools index %s\\n\\n\" % (sam,bam,cpus,bam,bam_sorted,bam_sorted)                                                              \n",
    "    return  bwa_cmd,s2b_cmd "
   ]
  },
  {
   "cell_type": "code",
   "execution_count": 16,
   "metadata": {},
   "outputs": [],
   "source": [
    "!mkdir SNPcall"
   ]
  },
  {
   "cell_type": "code",
   "execution_count": 17,
   "metadata": {},
   "outputs": [],
   "source": [
    "!mkdir SNPcall/bwa"
   ]
  },
  {
   "cell_type": "code",
   "execution_count": 18,
   "metadata": {},
   "outputs": [],
   "source": [
    "!mkdir SNPcall/bwa/shdir"
   ]
  },
  {
   "cell_type": "code",
   "execution_count": 19,
   "metadata": {},
   "outputs": [],
   "source": [
    "bwa_dir = os.path.join(root,\"SNPcall/bwa/\")\n",
    "assert(bwa_dir)"
   ]
  },
  {
   "cell_type": "code",
   "execution_count": 20,
   "metadata": {},
   "outputs": [],
   "source": [
    "### creates a list of commands for bwa-mem for each fastq file\n",
    "res_bwa = []\n",
    "res_s2b = []\n",
    "for f in fastq_files:\n",
    "    r1,r2 = run_bwamem((assembly, f, bwa_dir))\n",
    "    res_bwa.append(r1)\n",
    "    res_s2b.append(r2)"
   ]
  },
  {
   "cell_type": "code",
   "execution_count": 21,
   "metadata": {},
   "outputs": [
    {
     "data": {
      "text/plain": [
       "(323,\n",
       " \"bwa mem -k 20 -w 100 -r 1.3 -T 30 -R '@RG\\\\tID:RL_AD1C_200\\\\tLB:RL_AD1C_200\\\\tSM:RL_AD1C_200\\\\tPL:ILLUMINA' /data/gpfs/assoc/denovo/tfaske/frogs/assembly/reference.fasta /data/gpfs/assoc/denovo/tfaske/frogs/newFastq/RL_AD1C_200.F.fq.gz > /data/gpfs/assoc/denovo/tfaske/frogs/SNPcall/bwa/RL_AD1C_200.sam\")"
      ]
     },
     "execution_count": 21,
     "metadata": {},
     "output_type": "execute_result"
    }
   ],
   "source": [
    "len(res_bwa),res_bwa[0]"
   ]
  },
  {
   "cell_type": "code",
   "execution_count": 22,
   "metadata": {},
   "outputs": [
    {
     "data": {
      "text/plain": [
       "(323,\n",
       " 'samtools view -b /data/gpfs/assoc/denovo/tfaske/frogs/SNPcall/bwa/RL_AD1C_200.sam -o /data/gpfs/assoc/denovo/tfaske/frogs/SNPcall/bwa/RL_AD1C_200.bam\\n\\nsamtools sort -@ 1 /data/gpfs/assoc/denovo/tfaske/frogs/SNPcall/bwa/RL_AD1C_200.bam -o /data/gpfs/assoc/denovo/tfaske/frogs/SNPcall/bwa/RL_AD1C_200_sorted.bam\\n\\nsamtools index /data/gpfs/assoc/denovo/tfaske/frogs/SNPcall/bwa/RL_AD1C_200_sorted.bam\\n\\n')"
      ]
     },
     "execution_count": 22,
     "metadata": {},
     "output_type": "execute_result"
    }
   ],
   "source": [
    "len(res_s2b),res_s2b[0]"
   ]
  },
  {
   "cell_type": "code",
   "execution_count": 23,
   "metadata": {},
   "outputs": [
    {
     "name": "stdout",
     "output_type": "stream",
     "text": [
      "/data/gpfs/assoc/denovo/tfaske/frogs/SNPcall/bwa\n"
     ]
    }
   ],
   "source": [
    "cd $bwa_dir"
   ]
  },
  {
   "cell_type": "markdown",
   "metadata": {},
   "source": [
    "#### Below selects options for slurm submission and is a function for creating a slurm script per fastq"
   ]
  },
  {
   "cell_type": "code",
   "execution_count": 24,
   "metadata": {},
   "outputs": [],
   "source": [
    "fq_ID = [fq.split('/')[8].split('.F.')[0] for fq in fastq_files]"
   ]
  },
  {
   "cell_type": "code",
   "execution_count": 25,
   "metadata": {},
   "outputs": [
    {
     "data": {
      "text/plain": [
       "(323, 'RL_AD1C_200')"
      ]
     },
     "execution_count": 25,
     "metadata": {},
     "output_type": "execute_result"
    }
   ],
   "source": [
    "len(fq_ID), fq_ID[0]"
   ]
  },
  {
   "cell_type": "code",
   "execution_count": 26,
   "metadata": {},
   "outputs": [],
   "source": [
    "### select options for slurm submission\n",
    "account = 'cpu-s5-denovo-0'\n",
    "partition = 'cpu-core-0'\n",
    "jobname = 'bwa_RALU'\n",
    "time = '1-00:00:00' #time limit 1 day\n",
    "cpus = 1\n",
    "mem_cpu = 10000\n",
    "email = 'tfaske@nevada.unr.edu'"
   ]
  },
  {
   "cell_type": "code",
   "execution_count": 27,
   "metadata": {},
   "outputs": [],
   "source": [
    "def write_bwamem_ind_sh(account,partition,time,jobname,cpus,mem_cpu,email,fq_ID,bwa_cmds,s2b_cmds):\n",
    "    #print(account)\n",
    "    #print(partition)\n",
    "    #print(cpus)\n",
    "    #print(email)\n",
    "    #print(cmds[0])\n",
    "    for i in range(0,len(bwa_cmds)):\n",
    "        with open(\"shdir/run_bwamem_%s.sh\" % (fq_ID[i]), \"w\") as o:\n",
    "            o.write(\"\"\"#!/usr/bin/env bash\n",
    "#SBATCH --account=%s\n",
    "#SBATCH --partition=%s\n",
    "#SBATCH --time=%s\n",
    "#SBATCH --ntasks 1\n",
    "#SBATCH --cpus-per-task %d\n",
    "#SBATCH --mem-per-cpu=%d\n",
    "#SBATCH --job-name %s_bwamem\n",
    "#SBATCH --output bwa/shdir/output_bwamem_%s.txt\n",
    "#SBATCH --mail-type=FAIL\n",
    "#SBATCH --mail-user=%s \\n\\n\n",
    "    \n",
    "%s \\n\\n\n",
    "%s \\n\"\"\" % (account,partition,time,int(cpus),int(mem_cpu),fq_ID[i],fq_ID[i],email,bwa_cmds[i],s2b_cmds[i]))"
   ]
  },
  {
   "cell_type": "code",
   "execution_count": 28,
   "metadata": {},
   "outputs": [],
   "source": [
    "write_bwamem_ind_sh(account,partition,time,jobname,cpus,mem_cpu,email,fq_ID,res_bwa,res_s2b)"
   ]
  },
  {
   "cell_type": "markdown",
   "metadata": {},
   "source": [
    "#### finds all bwa slurm scripts and writes bash script to sbatch them"
   ]
  },
  {
   "cell_type": "code",
   "execution_count": 29,
   "metadata": {},
   "outputs": [],
   "source": [
    "shbwa_files = []\n",
    "files = !find ./shdir -name '*.sh'\n",
    "files = [os.path.abspath(x) for x in files]\n",
    "for x in files:\n",
    "        shbwa_files.append(x)\n",
    "shbwa_files = sorted(shbwa_files)"
   ]
  },
  {
   "cell_type": "code",
   "execution_count": 30,
   "metadata": {},
   "outputs": [
    {
     "data": {
      "text/plain": [
       "(323,\n",
       " '/data/gpfs/assoc/denovo/tfaske/frogs/SNPcall/bwa/shdir/run_bwamem_RL_AD1C_200.sh')"
      ]
     },
     "execution_count": 30,
     "metadata": {},
     "output_type": "execute_result"
    }
   ],
   "source": [
    "len(shbwa_files),shbwa_files[0]"
   ]
  },
  {
   "cell_type": "code",
   "execution_count": 31,
   "metadata": {},
   "outputs": [],
   "source": [
    "def write_bash_bwamem_sh(sh_files):\n",
    "    with open(\"SNPcall/run_bash_bwa.sh\", \"w\") as o:\n",
    "        o.write(\"\"\"#!/usr/bin/env bash \\n\\n\"\"\")\n",
    "        for f in sh_files:\n",
    "            o.write(\"sbatch %s \\n\" % (f))    "
   ]
  },
  {
   "cell_type": "code",
   "execution_count": 32,
   "metadata": {},
   "outputs": [
    {
     "name": "stdout",
     "output_type": "stream",
     "text": [
      "/data/gpfs/assoc/denovo/tfaske/frogs\n"
     ]
    }
   ],
   "source": [
    "cd $root"
   ]
  },
  {
   "cell_type": "code",
   "execution_count": 33,
   "metadata": {},
   "outputs": [],
   "source": [
    "write_bash_bwamem_sh(shbwa_files)"
   ]
  },
  {
   "cell_type": "markdown",
   "metadata": {},
   "source": [
    "# Run run_bash_bwamem_sh locally\n",
    "    cd /data/gpfs/assoc/denovo/tfaske/frogs/SNPcall \n",
    "    source activate py36\n",
    "    bash run_bash_bwa.sh\n",
    "    \n",
    "## Remove sam files and unsorted bams\n",
    "\n",
    "       whatever, run in terminal. Move sorted bams, rm bam, mv back"
   ]
  },
  {
   "cell_type": "markdown",
   "metadata": {},
   "source": [
    "# Calculates coverage from bam_files (do later, after SNP call) \n",
    "\n",
    "need to rewrite to calculate individually, save data, and write mean to outfile. \n",
    "\n",
    "also outputs a file called \"bam_coverage.csv\" in the bam folder\n",
    "\n",
    "samtools depth -a AT2_BB_10_mapped.bam  |  awk '{sum+=$3} END { print \"Average = \",sum/NR}'"
   ]
  },
  {
   "cell_type": "code",
   "execution_count": 34,
   "metadata": {},
   "outputs": [],
   "source": [
    "samtools = \"samtools\""
   ]
  },
  {
   "cell_type": "code",
   "execution_count": 35,
   "metadata": {},
   "outputs": [
    {
     "name": "stdout",
     "output_type": "stream",
     "text": [
      "/data/gpfs/assoc/denovo/tfaske/frogs/SNPcall/bwa\n"
     ]
    }
   ],
   "source": [
    "cd $bwa_dir"
   ]
  },
  {
   "cell_type": "code",
   "execution_count": 37,
   "metadata": {},
   "outputs": [
    {
     "data": {
      "text/plain": [
       "(323, 323)"
      ]
     },
     "execution_count": 37,
     "metadata": {},
     "output_type": "execute_result"
    }
   ],
   "source": [
    "bam_files = []\n",
    "files = !find . -type f -name '*sorted.bam'\n",
    "files = [os.path.abspath(x) for x in files if 'bam' in x]\n",
    "for x in files:\n",
    "    bam_files.append(x)\n",
    "bam_files = sorted(bam_files)\n",
    "\n",
    "len(bam_files), len(fastq_files)"
   ]
  },
  {
   "cell_type": "code",
   "execution_count": 38,
   "metadata": {},
   "outputs": [
    {
     "data": {
      "text/plain": [
       "(323,\n",
       " '/data/gpfs/assoc/denovo/tfaske/frogs/SNPcall/bwa/RL_AD1C_200_sorted.bam')"
      ]
     },
     "execution_count": 38,
     "metadata": {},
     "output_type": "execute_result"
    }
   ],
   "source": [
    "len(bam_files), bam_files[0]"
   ]
  },
  {
   "cell_type": "code",
   "execution_count": 39,
   "metadata": {},
   "outputs": [
    {
     "name": "stdout",
     "output_type": "stream",
     "text": [
      "/data/gpfs/assoc/denovo/tfaske/frogs/SNPcall/bwa/RL_AD1C_200_sorted.bam\n",
      "11.865526135744542 RL_AD1C_200_sorted.bam\n",
      "/data/gpfs/assoc/denovo/tfaske/frogs/SNPcall/bwa/RL_AD1C_201_sorted.bam\n",
      "17.385402250919356 RL_AD1C_201_sorted.bam\n",
      "/data/gpfs/assoc/denovo/tfaske/frogs/SNPcall/bwa/RL_AD1C_202_sorted.bam\n",
      "21.299097084551757 RL_AD1C_202_sorted.bam\n",
      "/data/gpfs/assoc/denovo/tfaske/frogs/SNPcall/bwa/RL_AD2C_203_sorted.bam\n",
      "17.288640772940482 RL_AD2C_203_sorted.bam\n",
      "/data/gpfs/assoc/denovo/tfaske/frogs/SNPcall/bwa/RL_AD2C_204_sorted.bam\n",
      "20.830907220081848 RL_AD2C_204_sorted.bam\n",
      "/data/gpfs/assoc/denovo/tfaske/frogs/SNPcall/bwa/RL_AD2C_205_sorted.bam\n",
      "19.87799407951039 RL_AD2C_205_sorted.bam\n",
      "/data/gpfs/assoc/denovo/tfaske/frogs/SNPcall/bwa/RL_AD2C_206_sorted.bam\n",
      "19.68170329198031 RL_AD2C_206_sorted.bam\n",
      "/data/gpfs/assoc/denovo/tfaske/frogs/SNPcall/bwa/RL_AD2C_210_sorted.bam\n",
      "16.480141224347772 RL_AD2C_210_sorted.bam\n",
      "/data/gpfs/assoc/denovo/tfaske/frogs/SNPcall/bwa/RL_AD2C_211_sorted.bam\n",
      "15.931082501444141 RL_AD2C_211_sorted.bam\n",
      "/data/gpfs/assoc/denovo/tfaske/frogs/SNPcall/bwa/RL_AD2C_212_sorted.bam\n",
      "11.982641577349622 RL_AD2C_212_sorted.bam\n",
      "/data/gpfs/assoc/denovo/tfaske/frogs/SNPcall/bwa/RL_AD2C_213_sorted.bam\n",
      "17.320780299721875 RL_AD2C_213_sorted.bam\n",
      "/data/gpfs/assoc/denovo/tfaske/frogs/SNPcall/bwa/RL_AD2C_214_sorted.bam\n",
      "19.404453027629927 RL_AD2C_214_sorted.bam\n",
      "/data/gpfs/assoc/denovo/tfaske/frogs/SNPcall/bwa/RL_ADH_11_sorted.bam\n",
      "18.361642248811368 RL_ADH_11_sorted.bam\n",
      "/data/gpfs/assoc/denovo/tfaske/frogs/SNPcall/bwa/RL_ADH_12_sorted.bam\n",
      "18.38025693646505 RL_ADH_12_sorted.bam\n",
      "/data/gpfs/assoc/denovo/tfaske/frogs/SNPcall/bwa/RL_ADH_13_sorted.bam\n",
      "17.599504304034813 RL_ADH_13_sorted.bam\n",
      "/data/gpfs/assoc/denovo/tfaske/frogs/SNPcall/bwa/RL_ADH_14_sorted.bam\n",
      "20.326691970499315 RL_ADH_14_sorted.bam\n",
      "/data/gpfs/assoc/denovo/tfaske/frogs/SNPcall/bwa/RL_ADH_15_sorted.bam\n",
      "10.148892674154148 RL_ADH_15_sorted.bam\n",
      "/data/gpfs/assoc/denovo/tfaske/frogs/SNPcall/bwa/RL_ADH_16_sorted.bam\n",
      "3.179592654889623 RL_ADH_16_sorted.bam\n",
      "/data/gpfs/assoc/denovo/tfaske/frogs/SNPcall/bwa/RL_ADH_17_sorted.bam\n",
      "18.215139853536524 RL_ADH_17_sorted.bam\n",
      "/data/gpfs/assoc/denovo/tfaske/frogs/SNPcall/bwa/RL_ADH_18_sorted.bam\n",
      "20.68146725092358 RL_ADH_18_sorted.bam\n",
      "/data/gpfs/assoc/denovo/tfaske/frogs/SNPcall/bwa/RL_ADH_19_sorted.bam\n",
      "16.045713721174884 RL_ADH_19_sorted.bam\n",
      "/data/gpfs/assoc/denovo/tfaske/frogs/SNPcall/bwa/RL_ADH_20_sorted.bam\n",
      "1.4417322387065865 RL_ADH_20_sorted.bam\n",
      "/data/gpfs/assoc/denovo/tfaske/frogs/SNPcall/bwa/RL_ADH_21_sorted.bam\n",
      "15.31577141023261 RL_ADH_21_sorted.bam\n",
      "/data/gpfs/assoc/denovo/tfaske/frogs/SNPcall/bwa/RL_ADH_22_sorted.bam\n",
      "12.74233125107982 RL_ADH_22_sorted.bam\n",
      "/data/gpfs/assoc/denovo/tfaske/frogs/SNPcall/bwa/RL_ADH_23_sorted.bam\n",
      "5.717715856277751 RL_ADH_23_sorted.bam\n",
      "/data/gpfs/assoc/denovo/tfaske/frogs/SNPcall/bwa/RL_ADH_24_sorted.bam\n",
      "13.673371310370946 RL_ADH_24_sorted.bam\n",
      "/data/gpfs/assoc/denovo/tfaske/frogs/SNPcall/bwa/RL_ADH_25_sorted.bam\n",
      "16.210029973623886 RL_ADH_25_sorted.bam\n",
      "/data/gpfs/assoc/denovo/tfaske/frogs/SNPcall/bwa/RL_ADH_2_sorted.bam\n",
      "20.42393973579399 RL_ADH_2_sorted.bam\n",
      "/data/gpfs/assoc/denovo/tfaske/frogs/SNPcall/bwa/RL_ADH_32_sorted.bam\n",
      "13.595227019428572 RL_ADH_32_sorted.bam\n",
      "/data/gpfs/assoc/denovo/tfaske/frogs/SNPcall/bwa/RL_ADH_33_sorted.bam\n",
      "13.578014127491025 RL_ADH_33_sorted.bam\n",
      "/data/gpfs/assoc/denovo/tfaske/frogs/SNPcall/bwa/RL_ADH_34_sorted.bam\n",
      "5.259609521806505 RL_ADH_34_sorted.bam\n",
      "/data/gpfs/assoc/denovo/tfaske/frogs/SNPcall/bwa/RL_ADH_37_sorted.bam\n",
      "1.9060980998674326 RL_ADH_37_sorted.bam\n",
      "/data/gpfs/assoc/denovo/tfaske/frogs/SNPcall/bwa/RL_ADH_40_sorted.bam\n",
      "9.63190841845292 RL_ADH_40_sorted.bam\n",
      "/data/gpfs/assoc/denovo/tfaske/frogs/SNPcall/bwa/RL_ADH_42_sorted.bam\n",
      "12.771652759973124 RL_ADH_42_sorted.bam\n",
      "/data/gpfs/assoc/denovo/tfaske/frogs/SNPcall/bwa/RL_ADH_43_sorted.bam\n",
      "2.6500103698582786 RL_ADH_43_sorted.bam\n",
      "/data/gpfs/assoc/denovo/tfaske/frogs/SNPcall/bwa/RL_ADH_46_sorted.bam\n",
      "12.560979181783514 RL_ADH_46_sorted.bam\n",
      "/data/gpfs/assoc/denovo/tfaske/frogs/SNPcall/bwa/RL_ADH_47_sorted.bam\n",
      "12.85424071902267 RL_ADH_47_sorted.bam\n",
      "/data/gpfs/assoc/denovo/tfaske/frogs/SNPcall/bwa/RL_ADH_6_sorted.bam\n",
      "18.972596693929958 RL_ADH_6_sorted.bam\n",
      "/data/gpfs/assoc/denovo/tfaske/frogs/SNPcall/bwa/RL_ADH_7_sorted.bam\n",
      "20.590198709985142 RL_ADH_7_sorted.bam\n",
      "/data/gpfs/assoc/denovo/tfaske/frogs/SNPcall/bwa/RL_ADH_8_sorted.bam\n",
      "2.9332455259388532 RL_ADH_8_sorted.bam\n",
      "/data/gpfs/assoc/denovo/tfaske/frogs/SNPcall/bwa/RL_ADH_9_sorted.bam\n",
      "19.448941605580952 RL_ADH_9_sorted.bam\n",
      "/data/gpfs/assoc/denovo/tfaske/frogs/SNPcall/bwa/RL_BPC_140_sorted.bam\n",
      "15.929357771134544 RL_BPC_140_sorted.bam\n",
      "/data/gpfs/assoc/denovo/tfaske/frogs/SNPcall/bwa/RL_BSC_33_sorted.bam\n",
      "18.688938864511158 RL_BSC_33_sorted.bam\n",
      "/data/gpfs/assoc/denovo/tfaske/frogs/SNPcall/bwa/RL_DEPC_340_sorted.bam\n",
      "21.039507324997317 RL_DEPC_340_sorted.bam\n",
      "/data/gpfs/assoc/denovo/tfaske/frogs/SNPcall/bwa/RL_DEPC_341_sorted.bam\n",
      "27.724189520174324 RL_DEPC_341_sorted.bam\n",
      "/data/gpfs/assoc/denovo/tfaske/frogs/SNPcall/bwa/RL_DEPC_342_sorted.bam\n",
      "14.98077827142173 RL_DEPC_342_sorted.bam\n",
      "/data/gpfs/assoc/denovo/tfaske/frogs/SNPcall/bwa/RL_DEPC_343_sorted.bam\n",
      "16.95042413531247 RL_DEPC_343_sorted.bam\n",
      "/data/gpfs/assoc/denovo/tfaske/frogs/SNPcall/bwa/RL_DEPC_344_sorted.bam\n",
      "18.846060189004277 RL_DEPC_344_sorted.bam\n",
      "/data/gpfs/assoc/denovo/tfaske/frogs/SNPcall/bwa/RL_DEPC_345_sorted.bam\n",
      "19.523178438351213 RL_DEPC_345_sorted.bam\n",
      "/data/gpfs/assoc/denovo/tfaske/frogs/SNPcall/bwa/RL_DEPC_346_sorted.bam\n",
      "20.530824831434693 RL_DEPC_346_sorted.bam\n",
      "/data/gpfs/assoc/denovo/tfaske/frogs/SNPcall/bwa/RL_DEPC_347_sorted.bam\n",
      "17.07805491682918 RL_DEPC_347_sorted.bam\n",
      "/data/gpfs/assoc/denovo/tfaske/frogs/SNPcall/bwa/RL_DEPC_348_sorted.bam\n",
      "14.570726869462623 RL_DEPC_348_sorted.bam\n",
      "/data/gpfs/assoc/denovo/tfaske/frogs/SNPcall/bwa/RL_DEPC_349_sorted.bam\n",
      "14.363010600727044 RL_DEPC_349_sorted.bam\n",
      "/data/gpfs/assoc/denovo/tfaske/frogs/SNPcall/bwa/RL_DPC_29_sorted.bam\n",
      "16.369263692729085 RL_DPC_29_sorted.bam\n",
      "/data/gpfs/assoc/denovo/tfaske/frogs/SNPcall/bwa/RL_DPC_30_sorted.bam\n",
      "18.06047589440724 RL_DPC_30_sorted.bam\n",
      "/data/gpfs/assoc/denovo/tfaske/frogs/SNPcall/bwa/RL_DPC_31_sorted.bam\n",
      "17.152263725255768 RL_DPC_31_sorted.bam\n",
      "/data/gpfs/assoc/denovo/tfaske/frogs/SNPcall/bwa/RL_DPC_32_sorted.bam\n",
      "18.09105448650411 RL_DPC_32_sorted.bam\n",
      "/data/gpfs/assoc/denovo/tfaske/frogs/SNPcall/bwa/RL_FPC_1_sorted.bam\n",
      "2.1260290170894036 RL_FPC_1_sorted.bam\n",
      "/data/gpfs/assoc/denovo/tfaske/frogs/SNPcall/bwa/RL_FPC_26_sorted.bam\n",
      "22.934040896033764 RL_FPC_26_sorted.bam\n",
      "/data/gpfs/assoc/denovo/tfaske/frogs/SNPcall/bwa/RL_FPC_27_sorted.bam\n",
      "21.672210964495886 RL_FPC_27_sorted.bam\n",
      "/data/gpfs/assoc/denovo/tfaske/frogs/SNPcall/bwa/RL_FPC_28_sorted.bam\n",
      "20.436499759607408 RL_FPC_28_sorted.bam\n",
      "/data/gpfs/assoc/denovo/tfaske/frogs/SNPcall/bwa/RL_FPC_2_sorted.bam\n",
      "2.006396170145974 RL_FPC_2_sorted.bam\n",
      "/data/gpfs/assoc/denovo/tfaske/frogs/SNPcall/bwa/RL_FPC_320_sorted.bam\n",
      "20.777392637617226 RL_FPC_320_sorted.bam\n",
      "/data/gpfs/assoc/denovo/tfaske/frogs/SNPcall/bwa/RL_FPC_321_sorted.bam\n",
      "15.951779075755775 RL_FPC_321_sorted.bam\n",
      "/data/gpfs/assoc/denovo/tfaske/frogs/SNPcall/bwa/RL_FPC_323_sorted.bam\n",
      "17.465383563899277 RL_FPC_323_sorted.bam\n",
      "/data/gpfs/assoc/denovo/tfaske/frogs/SNPcall/bwa/RL_FPC_324_sorted.bam\n",
      "17.04082434492661 RL_FPC_324_sorted.bam\n",
      "/data/gpfs/assoc/denovo/tfaske/frogs/SNPcall/bwa/RL_FPC_325_sorted.bam\n",
      "12.782754052976697 RL_FPC_325_sorted.bam\n",
      "/data/gpfs/assoc/denovo/tfaske/frogs/SNPcall/bwa/RL_FPC_326_sorted.bam\n",
      "21.34134624198526 RL_FPC_326_sorted.bam\n",
      "/data/gpfs/assoc/denovo/tfaske/frogs/SNPcall/bwa/RL_FPC_327_sorted.bam\n",
      "21.304003366827523 RL_FPC_327_sorted.bam\n",
      "/data/gpfs/assoc/denovo/tfaske/frogs/SNPcall/bwa/RL_FPC_328_sorted.bam\n",
      "20.51950359540935 RL_FPC_328_sorted.bam\n",
      "/data/gpfs/assoc/denovo/tfaske/frogs/SNPcall/bwa/RL_FPC_329_sorted.bam\n",
      "18.628724281599215 RL_FPC_329_sorted.bam\n",
      "/data/gpfs/assoc/denovo/tfaske/frogs/SNPcall/bwa/RL_FPC_330_sorted.bam\n",
      "16.522137974431864 RL_FPC_330_sorted.bam\n",
      "/data/gpfs/assoc/denovo/tfaske/frogs/SNPcall/bwa/RL_FPC_331_sorted.bam\n",
      "12.895176159443105 RL_FPC_331_sorted.bam\n",
      "/data/gpfs/assoc/denovo/tfaske/frogs/SNPcall/bwa/RL_FPC_332_sorted.bam\n",
      "16.802990717505647 RL_FPC_332_sorted.bam\n",
      "/data/gpfs/assoc/denovo/tfaske/frogs/SNPcall/bwa/RL_FPC_3_sorted.bam\n"
     ]
    },
    {
     "name": "stdout",
     "output_type": "stream",
     "text": [
      "1.095601552393273 RL_FPC_3_sorted.bam\n",
      "/data/gpfs/assoc/denovo/tfaske/frogs/SNPcall/bwa/RL_FPH_4314_sorted.bam\n",
      "8.543735294763632 RL_FPH_4314_sorted.bam\n",
      "/data/gpfs/assoc/denovo/tfaske/frogs/SNPcall/bwa/RL_FPH_4317_sorted.bam\n",
      "4.265762826604871 RL_FPH_4317_sorted.bam\n",
      "/data/gpfs/assoc/denovo/tfaske/frogs/SNPcall/bwa/RL_FPH_4320_sorted.bam\n",
      "6.52775010858131 RL_FPH_4320_sorted.bam\n",
      "/data/gpfs/assoc/denovo/tfaske/frogs/SNPcall/bwa/RL_FPH_4338_sorted.bam\n",
      "9.373571228626274 RL_FPH_4338_sorted.bam\n",
      "/data/gpfs/assoc/denovo/tfaske/frogs/SNPcall/bwa/RL_FPH_4340_sorted.bam\n",
      "7.178011151216654 RL_FPH_4340_sorted.bam\n",
      "/data/gpfs/assoc/denovo/tfaske/frogs/SNPcall/bwa/RL_FPH_4341_sorted.bam\n",
      "8.367532362858402 RL_FPH_4341_sorted.bam\n",
      "/data/gpfs/assoc/denovo/tfaske/frogs/SNPcall/bwa/RL_FPH_4342_sorted.bam\n",
      "4.874152903450158 RL_FPH_4342_sorted.bam\n",
      "/data/gpfs/assoc/denovo/tfaske/frogs/SNPcall/bwa/RL_FPH_4368_sorted.bam\n",
      "11.47587031012803 RL_FPH_4368_sorted.bam\n",
      "/data/gpfs/assoc/denovo/tfaske/frogs/SNPcall/bwa/RL_FPH_4370_sorted.bam\n",
      "12.465434487112818 RL_FPH_4370_sorted.bam\n",
      "/data/gpfs/assoc/denovo/tfaske/frogs/SNPcall/bwa/RL_FPH_5602_sorted.bam\n",
      "4.0815956174834955 RL_FPH_5602_sorted.bam\n",
      "/data/gpfs/assoc/denovo/tfaske/frogs/SNPcall/bwa/RL_FPH_5612_sorted.bam\n",
      "2.4799995689852565 RL_FPH_5612_sorted.bam\n",
      "/data/gpfs/assoc/denovo/tfaske/frogs/SNPcall/bwa/RL_FPH_5900_sorted.bam\n",
      "10.3681651972589 RL_FPH_5900_sorted.bam\n",
      "/data/gpfs/assoc/denovo/tfaske/frogs/SNPcall/bwa/RL_JPLDC_303_sorted.bam\n",
      "18.196541006831275 RL_JPLDC_303_sorted.bam\n",
      "/data/gpfs/assoc/denovo/tfaske/frogs/SNPcall/bwa/RL_JPLDC_304_sorted.bam\n",
      "17.162050991067726 RL_JPLDC_304_sorted.bam\n",
      "/data/gpfs/assoc/denovo/tfaske/frogs/SNPcall/bwa/RL_JPLDC_305_sorted.bam\n",
      "18.73910505526221 RL_JPLDC_305_sorted.bam\n",
      "/data/gpfs/assoc/denovo/tfaske/frogs/SNPcall/bwa/RL_JPLDC_306_sorted.bam\n",
      "14.188074208246798 RL_JPLDC_306_sorted.bam\n",
      "/data/gpfs/assoc/denovo/tfaske/frogs/SNPcall/bwa/RL_JPLDC_307_sorted.bam\n",
      "15.609079509082285 RL_JPLDC_307_sorted.bam\n",
      "/data/gpfs/assoc/denovo/tfaske/frogs/SNPcall/bwa/RL_JPLDC_308_sorted.bam\n",
      "16.407980500725998 RL_JPLDC_308_sorted.bam\n",
      "/data/gpfs/assoc/denovo/tfaske/frogs/SNPcall/bwa/RL_JPLDC_309_sorted.bam\n",
      "14.63352290122345 RL_JPLDC_309_sorted.bam\n",
      "/data/gpfs/assoc/denovo/tfaske/frogs/SNPcall/bwa/RL_JPLDC_310_sorted.bam\n",
      "17.37035278051422 RL_JPLDC_310_sorted.bam\n",
      "/data/gpfs/assoc/denovo/tfaske/frogs/SNPcall/bwa/RL_JPLDC_311_sorted.bam\n",
      "19.605861791212075 RL_JPLDC_311_sorted.bam\n",
      "/data/gpfs/assoc/denovo/tfaske/frogs/SNPcall/bwa/RL_JPLDC_313_sorted.bam\n",
      "15.351877297060566 RL_JPLDC_313_sorted.bam\n",
      "/data/gpfs/assoc/denovo/tfaske/frogs/SNPcall/bwa/RL_JPLDC_314_sorted.bam\n",
      "20.413427508253513 RL_JPLDC_314_sorted.bam\n",
      "/data/gpfs/assoc/denovo/tfaske/frogs/SNPcall/bwa/RL_JPLDC_315_sorted.bam\n",
      "20.48586101286101 RL_JPLDC_315_sorted.bam\n",
      "/data/gpfs/assoc/denovo/tfaske/frogs/SNPcall/bwa/RL_JPLDC_316_sorted.bam\n",
      "16.611600677660515 RL_JPLDC_316_sorted.bam\n",
      "/data/gpfs/assoc/denovo/tfaske/frogs/SNPcall/bwa/RL_JPLDC_317_sorted.bam\n",
      "18.165211600280113 RL_JPLDC_317_sorted.bam\n",
      "/data/gpfs/assoc/denovo/tfaske/frogs/SNPcall/bwa/RL_JSPH_4002_sorted.bam\n",
      "10.975407345712453 RL_JSPH_4002_sorted.bam\n",
      "/data/gpfs/assoc/denovo/tfaske/frogs/SNPcall/bwa/RL_JSPH_4005_sorted.bam\n",
      "12.020807507046074 RL_JSPH_4005_sorted.bam\n",
      "/data/gpfs/assoc/denovo/tfaske/frogs/SNPcall/bwa/RL_LBPC_43_sorted.bam\n",
      "14.287845771425646 RL_LBPC_43_sorted.bam\n",
      "/data/gpfs/assoc/denovo/tfaske/frogs/SNPcall/bwa/RL_LBPC_44_sorted.bam\n",
      "11.176995111388187 RL_LBPC_44_sorted.bam\n",
      "/data/gpfs/assoc/denovo/tfaske/frogs/SNPcall/bwa/RL_LBPC_45_sorted.bam\n",
      "16.60726236223491 RL_LBPC_45_sorted.bam\n",
      "/data/gpfs/assoc/denovo/tfaske/frogs/SNPcall/bwa/RL_LBPC_46_sorted.bam\n",
      "11.02658034610722 RL_LBPC_46_sorted.bam\n",
      "/data/gpfs/assoc/denovo/tfaske/frogs/SNPcall/bwa/RL_LBPC_47_sorted.bam\n",
      "17.339266581390735 RL_LBPC_47_sorted.bam\n",
      "/data/gpfs/assoc/denovo/tfaske/frogs/SNPcall/bwa/RL_LBPC_48_sorted.bam\n",
      "14.271350532854868 RL_LBPC_48_sorted.bam\n",
      "/data/gpfs/assoc/denovo/tfaske/frogs/SNPcall/bwa/RL_LBPC_49_sorted.bam\n",
      "20.021779111698137 RL_LBPC_49_sorted.bam\n",
      "/data/gpfs/assoc/denovo/tfaske/frogs/SNPcall/bwa/RL_LBPC_50_sorted.bam\n",
      "18.88444631227131 RL_LBPC_50_sorted.bam\n",
      "/data/gpfs/assoc/denovo/tfaske/frogs/SNPcall/bwa/RL_LBPC_51_sorted.bam\n",
      "20.713408644732095 RL_LBPC_51_sorted.bam\n",
      "/data/gpfs/assoc/denovo/tfaske/frogs/SNPcall/bwa/RL_LBPC_52_sorted.bam\n",
      "18.97226115905072 RL_LBPC_52_sorted.bam\n",
      "/data/gpfs/assoc/denovo/tfaske/frogs/SNPcall/bwa/RL_LBPC_53_sorted.bam\n",
      "19.01547312709709 RL_LBPC_53_sorted.bam\n",
      "/data/gpfs/assoc/denovo/tfaske/frogs/SNPcall/bwa/RL_LIVC2C_22_sorted.bam\n",
      "23.848641621221727 RL_LIVC2C_22_sorted.bam\n",
      "/data/gpfs/assoc/denovo/tfaske/frogs/SNPcall/bwa/RL_LIVC2C_23_sorted.bam\n",
      "19.57110425474806 RL_LIVC2C_23_sorted.bam\n",
      "/data/gpfs/assoc/denovo/tfaske/frogs/SNPcall/bwa/RL_LIVC2C_24_sorted.bam\n",
      "21.141158270309397 RL_LIVC2C_24_sorted.bam\n",
      "/data/gpfs/assoc/denovo/tfaske/frogs/SNPcall/bwa/RL_LIVC3PC_13_sorted.bam\n",
      "13.586349209281803 RL_LIVC3PC_13_sorted.bam\n",
      "/data/gpfs/assoc/denovo/tfaske/frogs/SNPcall/bwa/RL_LIVC3PC_14_sorted.bam\n",
      "16.04965433866288 RL_LIVC3PC_14_sorted.bam\n",
      "/data/gpfs/assoc/denovo/tfaske/frogs/SNPcall/bwa/RL_LIVC3PC_15_sorted.bam\n",
      "15.918674058451868 RL_LIVC3PC_15_sorted.bam\n",
      "/data/gpfs/assoc/denovo/tfaske/frogs/SNPcall/bwa/RL_LMC_25_sorted.bam\n",
      "21.167171615112174 RL_LMC_25_sorted.bam\n",
      "/data/gpfs/assoc/denovo/tfaske/frogs/SNPcall/bwa/RL_PAH_1863_sorted.bam\n",
      "9.97143978297285 RL_PAH_1863_sorted.bam\n",
      "/data/gpfs/assoc/denovo/tfaske/frogs/SNPcall/bwa/RL_PAH_1864_sorted.bam\n",
      "6.530096112755724 RL_PAH_1864_sorted.bam\n",
      "/data/gpfs/assoc/denovo/tfaske/frogs/SNPcall/bwa/RL_PAH_1865_sorted.bam\n",
      "7.599666391074584 RL_PAH_1865_sorted.bam\n",
      "/data/gpfs/assoc/denovo/tfaske/frogs/SNPcall/bwa/RL_PAH_1867_sorted.bam\n",
      "7.036852600103156 RL_PAH_1867_sorted.bam\n",
      "/data/gpfs/assoc/denovo/tfaske/frogs/SNPcall/bwa/RL_PAH_1868_sorted.bam\n",
      "6.028522283207983 RL_PAH_1868_sorted.bam\n",
      "/data/gpfs/assoc/denovo/tfaske/frogs/SNPcall/bwa/RL_PAH_1871_sorted.bam\n",
      "1.3930779085315057 RL_PAH_1871_sorted.bam\n",
      "/data/gpfs/assoc/denovo/tfaske/frogs/SNPcall/bwa/RL_PAH_1873_sorted.bam\n",
      "7.696673926816601 RL_PAH_1873_sorted.bam\n",
      "/data/gpfs/assoc/denovo/tfaske/frogs/SNPcall/bwa/RL_PAH_1874_sorted.bam\n",
      "2.1304582445440516 RL_PAH_1874_sorted.bam\n",
      "/data/gpfs/assoc/denovo/tfaske/frogs/SNPcall/bwa/RL_PAH_1877_sorted.bam\n",
      "6.864865451008918 RL_PAH_1877_sorted.bam\n",
      "/data/gpfs/assoc/denovo/tfaske/frogs/SNPcall/bwa/RL_PAH_1881_sorted.bam\n",
      "6.7505324058241225 RL_PAH_1881_sorted.bam\n",
      "/data/gpfs/assoc/denovo/tfaske/frogs/SNPcall/bwa/RL_PAH_1882_sorted.bam\n",
      "14.951403743501261 RL_PAH_1882_sorted.bam\n",
      "/data/gpfs/assoc/denovo/tfaske/frogs/SNPcall/bwa/RL_PAH_1883_sorted.bam\n",
      "8.76592698985556 RL_PAH_1883_sorted.bam\n",
      "/data/gpfs/assoc/denovo/tfaske/frogs/SNPcall/bwa/RL_PAH_1884_sorted.bam\n",
      "14.620431756807854 RL_PAH_1884_sorted.bam\n",
      "/data/gpfs/assoc/denovo/tfaske/frogs/SNPcall/bwa/RL_PAH_1888_sorted.bam\n",
      "6.961445360379338 RL_PAH_1888_sorted.bam\n",
      "/data/gpfs/assoc/denovo/tfaske/frogs/SNPcall/bwa/RL_PAH_234_sorted.bam\n",
      "9.272952707729003 RL_PAH_234_sorted.bam\n",
      "/data/gpfs/assoc/denovo/tfaske/frogs/SNPcall/bwa/RL_PAH_401_sorted.bam\n",
      "11.381484456346469 RL_PAH_401_sorted.bam\n",
      "/data/gpfs/assoc/denovo/tfaske/frogs/SNPcall/bwa/RL_PBH_425_sorted.bam\n",
      "15.941815164696914 RL_PBH_425_sorted.bam\n",
      "/data/gpfs/assoc/denovo/tfaske/frogs/SNPcall/bwa/RL_PBH_426_sorted.bam\n",
      "4.187629132937857 RL_PBH_426_sorted.bam\n",
      "/data/gpfs/assoc/denovo/tfaske/frogs/SNPcall/bwa/RL_PBH_427_sorted.bam\n",
      "12.433847850055127 RL_PBH_427_sorted.bam\n",
      "/data/gpfs/assoc/denovo/tfaske/frogs/SNPcall/bwa/RL_PBH_428_sorted.bam\n",
      "13.324133801368204 RL_PBH_428_sorted.bam\n",
      "/data/gpfs/assoc/denovo/tfaske/frogs/SNPcall/bwa/RL_PBH_434_sorted.bam\n",
      "2.3164478592859523 RL_PBH_434_sorted.bam\n",
      "/data/gpfs/assoc/denovo/tfaske/frogs/SNPcall/bwa/RL_PBH_436_sorted.bam\n",
      "13.508294162373431 RL_PBH_436_sorted.bam\n",
      "/data/gpfs/assoc/denovo/tfaske/frogs/SNPcall/bwa/RL_PBH_438_sorted.bam\n",
      "11.520075332084721 RL_PBH_438_sorted.bam\n",
      "/data/gpfs/assoc/denovo/tfaske/frogs/SNPcall/bwa/RL_PBH_447_sorted.bam\n",
      "7.001473356032545 RL_PBH_447_sorted.bam\n",
      "/data/gpfs/assoc/denovo/tfaske/frogs/SNPcall/bwa/RL_PBH_471_sorted.bam\n",
      "8.023560868829493 RL_PBH_471_sorted.bam\n",
      "/data/gpfs/assoc/denovo/tfaske/frogs/SNPcall/bwa/RL_PBH_472_sorted.bam\n",
      "15.042709919241453 RL_PBH_472_sorted.bam\n",
      "/data/gpfs/assoc/denovo/tfaske/frogs/SNPcall/bwa/RL_PBH_473_sorted.bam\n"
     ]
    },
    {
     "name": "stdout",
     "output_type": "stream",
     "text": [
      "15.646744613459509 RL_PBH_473_sorted.bam\n",
      "/data/gpfs/assoc/denovo/tfaske/frogs/SNPcall/bwa/RL_PBH_478_sorted.bam\n",
      "1.4774994433311066 RL_PBH_478_sorted.bam\n",
      "/data/gpfs/assoc/denovo/tfaske/frogs/SNPcall/bwa/RL_PBH_483_sorted.bam\n",
      "11.178413552977867 RL_PBH_483_sorted.bam\n",
      "/data/gpfs/assoc/denovo/tfaske/frogs/SNPcall/bwa/RL_PBH_531_sorted.bam\n",
      "14.509880449791234 RL_PBH_531_sorted.bam\n",
      "/data/gpfs/assoc/denovo/tfaske/frogs/SNPcall/bwa/RL_PBH_533_sorted.bam\n",
      "11.998388945715742 RL_PBH_533_sorted.bam\n",
      "/data/gpfs/assoc/denovo/tfaske/frogs/SNPcall/bwa/RL_PBH_540_sorted.bam\n",
      "9.072237404471688 RL_PBH_540_sorted.bam\n",
      "/data/gpfs/assoc/denovo/tfaske/frogs/SNPcall/bwa/RL_PCH_2025_sorted.bam\n",
      "11.1476347002722 RL_PCH_2025_sorted.bam\n",
      "/data/gpfs/assoc/denovo/tfaske/frogs/SNPcall/bwa/RL_PCH_2028_sorted.bam\n",
      "6.328940717813553 RL_PCH_2028_sorted.bam\n",
      "/data/gpfs/assoc/denovo/tfaske/frogs/SNPcall/bwa/RL_PCH_562_sorted.bam\n",
      "14.608921945647072 RL_PCH_562_sorted.bam\n",
      "/data/gpfs/assoc/denovo/tfaske/frogs/SNPcall/bwa/RL_PCH_566_sorted.bam\n",
      "11.732794496283034 RL_PCH_566_sorted.bam\n",
      "/data/gpfs/assoc/denovo/tfaske/frogs/SNPcall/bwa/RL_PCH_568_sorted.bam\n",
      "11.673656501587883 RL_PCH_568_sorted.bam\n",
      "/data/gpfs/assoc/denovo/tfaske/frogs/SNPcall/bwa/RL_PCH_572_sorted.bam\n",
      "10.992177025785674 RL_PCH_572_sorted.bam\n",
      "/data/gpfs/assoc/denovo/tfaske/frogs/SNPcall/bwa/RL_PCH_573_sorted.bam\n",
      "6.743192964310389 RL_PCH_573_sorted.bam\n",
      "/data/gpfs/assoc/denovo/tfaske/frogs/SNPcall/bwa/RL_PCH_581_sorted.bam\n",
      "10.156802172800846 RL_PCH_581_sorted.bam\n",
      "/data/gpfs/assoc/denovo/tfaske/frogs/SNPcall/bwa/RL_PCH_585_sorted.bam\n",
      "16.010815952561853 RL_PCH_585_sorted.bam\n",
      "/data/gpfs/assoc/denovo/tfaske/frogs/SNPcall/bwa/RL_PCH_587_sorted.bam\n",
      "14.648199738896354 RL_PCH_587_sorted.bam\n",
      "/data/gpfs/assoc/denovo/tfaske/frogs/SNPcall/bwa/RL_PCH_623_sorted.bam\n",
      "12.043908310522642 RL_PCH_623_sorted.bam\n",
      "/data/gpfs/assoc/denovo/tfaske/frogs/SNPcall/bwa/RL_PCH_627_sorted.bam\n",
      "2.0660758047576055 RL_PCH_627_sorted.bam\n",
      "/data/gpfs/assoc/denovo/tfaske/frogs/SNPcall/bwa/RL_PCH_632_sorted.bam\n",
      "12.467831445820325 RL_PCH_632_sorted.bam\n",
      "/data/gpfs/assoc/denovo/tfaske/frogs/SNPcall/bwa/RL_PCH_636_sorted.bam\n",
      "1.5850942389028047 RL_PCH_636_sorted.bam\n",
      "/data/gpfs/assoc/denovo/tfaske/frogs/SNPcall/bwa/RL_PCH_653_sorted.bam\n",
      "1.4694083706436785 RL_PCH_653_sorted.bam\n",
      "/data/gpfs/assoc/denovo/tfaske/frogs/SNPcall/bwa/RL_PCH_671_sorted.bam\n",
      "13.945779335828792 RL_PCH_671_sorted.bam\n",
      "/data/gpfs/assoc/denovo/tfaske/frogs/SNPcall/bwa/RL_PDH_1984_sorted.bam\n",
      "2.147720465890183 RL_PDH_1984_sorted.bam\n",
      "/data/gpfs/assoc/denovo/tfaske/frogs/SNPcall/bwa/RL_PDH_1985_sorted.bam\n",
      "8.93291019288861 RL_PDH_1985_sorted.bam\n",
      "/data/gpfs/assoc/denovo/tfaske/frogs/SNPcall/bwa/RL_PDH_2071_sorted.bam\n",
      "1.799412843073342 RL_PDH_2071_sorted.bam\n",
      "/data/gpfs/assoc/denovo/tfaske/frogs/SNPcall/bwa/RL_PDH_2074_sorted.bam\n",
      "9.001075571491814 RL_PDH_2074_sorted.bam\n",
      "/data/gpfs/assoc/denovo/tfaske/frogs/SNPcall/bwa/RL_PDH_2078_sorted.bam\n",
      "15.941615569976195 RL_PDH_2078_sorted.bam\n",
      "/data/gpfs/assoc/denovo/tfaske/frogs/SNPcall/bwa/RL_PDH_2082_sorted.bam\n",
      "1.605217216815491 RL_PDH_2082_sorted.bam\n",
      "/data/gpfs/assoc/denovo/tfaske/frogs/SNPcall/bwa/RL_PDH_2086_sorted.bam\n",
      "11.309308837392752 RL_PDH_2086_sorted.bam\n",
      "/data/gpfs/assoc/denovo/tfaske/frogs/SNPcall/bwa/RL_PDH_2087_sorted.bam\n",
      "1.6003110720392608 RL_PDH_2087_sorted.bam\n",
      "/data/gpfs/assoc/denovo/tfaske/frogs/SNPcall/bwa/RL_PDH_2088_sorted.bam\n",
      "7.513101649289275 RL_PDH_2088_sorted.bam\n",
      "/data/gpfs/assoc/denovo/tfaske/frogs/SNPcall/bwa/RL_RRDH_2450_sorted.bam\n",
      "20.7640701944488 RL_RRDH_2450_sorted.bam\n",
      "/data/gpfs/assoc/denovo/tfaske/frogs/SNPcall/bwa/RL_RRDH_2451_sorted.bam\n",
      "17.91562846179287 RL_RRDH_2451_sorted.bam\n",
      "/data/gpfs/assoc/denovo/tfaske/frogs/SNPcall/bwa/RL_RRDH_2452_sorted.bam\n",
      "18.130861531736507 RL_RRDH_2452_sorted.bam\n",
      "/data/gpfs/assoc/denovo/tfaske/frogs/SNPcall/bwa/RL_RRDH_2453_sorted.bam\n",
      "17.065102859667373 RL_RRDH_2453_sorted.bam\n",
      "/data/gpfs/assoc/denovo/tfaske/frogs/SNPcall/bwa/RL_RRDH_2454_sorted.bam\n",
      "17.67988731464973 RL_RRDH_2454_sorted.bam\n",
      "/data/gpfs/assoc/denovo/tfaske/frogs/SNPcall/bwa/RL_RRDH_2455_sorted.bam\n",
      "18.172993068592806 RL_RRDH_2455_sorted.bam\n",
      "/data/gpfs/assoc/denovo/tfaske/frogs/SNPcall/bwa/RL_RRDH_2456_sorted.bam\n",
      "19.098189010860324 RL_RRDH_2456_sorted.bam\n",
      "/data/gpfs/assoc/denovo/tfaske/frogs/SNPcall/bwa/RL_RRDH_2459_sorted.bam\n",
      "17.429868034811395 RL_RRDH_2459_sorted.bam\n",
      "/data/gpfs/assoc/denovo/tfaske/frogs/SNPcall/bwa/RL_RRDH_2461_sorted.bam\n",
      "17.535193276499456 RL_RRDH_2461_sorted.bam\n",
      "/data/gpfs/assoc/denovo/tfaske/frogs/SNPcall/bwa/RL_RRDH_2462_sorted.bam\n",
      "18.049964835964104 RL_RRDH_2462_sorted.bam\n",
      "/data/gpfs/assoc/denovo/tfaske/frogs/SNPcall/bwa/RL_RRDH_2463_sorted.bam\n",
      "20.788943467451173 RL_RRDH_2463_sorted.bam\n",
      "/data/gpfs/assoc/denovo/tfaske/frogs/SNPcall/bwa/RL_RRDH_2464_sorted.bam\n",
      "16.781983457991416 RL_RRDH_2464_sorted.bam\n",
      "/data/gpfs/assoc/denovo/tfaske/frogs/SNPcall/bwa/RL_RRDH_2465_sorted.bam\n",
      "20.460641854349245 RL_RRDH_2465_sorted.bam\n",
      "/data/gpfs/assoc/denovo/tfaske/frogs/SNPcall/bwa/RL_S1C_61_sorted.bam\n",
      "18.01802382401893 RL_S1C_61_sorted.bam\n",
      "/data/gpfs/assoc/denovo/tfaske/frogs/SNPcall/bwa/RL_S1C_62_sorted.bam\n",
      "13.97534691457728 RL_S1C_62_sorted.bam\n",
      "/data/gpfs/assoc/denovo/tfaske/frogs/SNPcall/bwa/RL_S1C_63_sorted.bam\n",
      "16.760168353127668 RL_S1C_63_sorted.bam\n",
      "/data/gpfs/assoc/denovo/tfaske/frogs/SNPcall/bwa/RL_S2C_64_sorted.bam\n",
      "16.570805534970333 RL_S2C_64_sorted.bam\n",
      "/data/gpfs/assoc/denovo/tfaske/frogs/SNPcall/bwa/RL_S2C_65_sorted.bam\n",
      "16.331612332147387 RL_S2C_65_sorted.bam\n",
      "/data/gpfs/assoc/denovo/tfaske/frogs/SNPcall/bwa/RL_S2C_66_sorted.bam\n",
      "15.820918596852483 RL_S2C_66_sorted.bam\n",
      "/data/gpfs/assoc/denovo/tfaske/frogs/SNPcall/bwa/RL_S2C_67_sorted.bam\n",
      "15.514214917066845 RL_S2C_67_sorted.bam\n",
      "/data/gpfs/assoc/denovo/tfaske/frogs/SNPcall/bwa/RL_S2C_68_sorted.bam\n",
      "13.270300494271538 RL_S2C_68_sorted.bam\n",
      "/data/gpfs/assoc/denovo/tfaske/frogs/SNPcall/bwa/RL_S2C_69_sorted.bam\n",
      "14.430016908086428 RL_S2C_69_sorted.bam\n",
      "/data/gpfs/assoc/denovo/tfaske/frogs/SNPcall/bwa/RL_S3C_70_sorted.bam\n",
      "15.828123184686469 RL_S3C_70_sorted.bam\n",
      "/data/gpfs/assoc/denovo/tfaske/frogs/SNPcall/bwa/RL_S3C_71_sorted.bam\n",
      "19.643764814419942 RL_S3C_71_sorted.bam\n",
      "/data/gpfs/assoc/denovo/tfaske/frogs/SNPcall/bwa/RL_S3C_72_sorted.bam\n",
      "21.981638405047224 RL_S3C_72_sorted.bam\n",
      "/data/gpfs/assoc/denovo/tfaske/frogs/SNPcall/bwa/RL_S3C_73_sorted.bam\n",
      "16.680519890801033 RL_S3C_73_sorted.bam\n",
      "/data/gpfs/assoc/denovo/tfaske/frogs/SNPcall/bwa/RL_S3C_74_sorted.bam\n",
      "18.276794331347485 RL_S3C_74_sorted.bam\n",
      "/data/gpfs/assoc/denovo/tfaske/frogs/SNPcall/bwa/RL_S3C_75_sorted.bam\n",
      "19.850332160713695 RL_S3C_75_sorted.bam\n",
      "/data/gpfs/assoc/denovo/tfaske/frogs/SNPcall/bwa/RL_S4C_80_sorted.bam\n",
      "19.0190542576584 RL_S4C_80_sorted.bam\n",
      "/data/gpfs/assoc/denovo/tfaske/frogs/SNPcall/bwa/RL_S4C_81_sorted.bam\n",
      "20.781411196634444 RL_S4C_81_sorted.bam\n",
      "/data/gpfs/assoc/denovo/tfaske/frogs/SNPcall/bwa/RL_S4C_82_sorted.bam\n",
      "16.41431800981448 RL_S4C_82_sorted.bam\n",
      "/data/gpfs/assoc/denovo/tfaske/frogs/SNPcall/bwa/RL_S4C_83_sorted.bam\n",
      "16.25873481141685 RL_S4C_83_sorted.bam\n",
      "/data/gpfs/assoc/denovo/tfaske/frogs/SNPcall/bwa/RL_S5C_84_sorted.bam\n",
      "16.45658614876757 RL_S5C_84_sorted.bam\n",
      "/data/gpfs/assoc/denovo/tfaske/frogs/SNPcall/bwa/RL_S5C_85_sorted.bam\n",
      "14.647793153143159 RL_S5C_85_sorted.bam\n",
      "/data/gpfs/assoc/denovo/tfaske/frogs/SNPcall/bwa/RL_S5C_86_sorted.bam\n",
      "12.921908357482431 RL_S5C_86_sorted.bam\n",
      "/data/gpfs/assoc/denovo/tfaske/frogs/SNPcall/bwa/RL_S5C_87_sorted.bam\n",
      "14.340431305931471 RL_S5C_87_sorted.bam\n",
      "/data/gpfs/assoc/denovo/tfaske/frogs/SNPcall/bwa/RL_S6C_90_sorted.bam\n",
      "20.42304053111554 RL_S6C_90_sorted.bam\n",
      "/data/gpfs/assoc/denovo/tfaske/frogs/SNPcall/bwa/RL_S6C_91_sorted.bam\n",
      "20.267481874934305 RL_S6C_91_sorted.bam\n",
      "/data/gpfs/assoc/denovo/tfaske/frogs/SNPcall/bwa/RL_S6C_92_sorted.bam\n",
      "15.975592622731387 RL_S6C_92_sorted.bam\n",
      "/data/gpfs/assoc/denovo/tfaske/frogs/SNPcall/bwa/RL_S6C_93_sorted.bam\n",
      "20.620372124578232 RL_S6C_93_sorted.bam\n",
      "/data/gpfs/assoc/denovo/tfaske/frogs/SNPcall/bwa/RL_S6C_94_sorted.bam\n",
      "20.22082145503533 RL_S6C_94_sorted.bam\n",
      "/data/gpfs/assoc/denovo/tfaske/frogs/SNPcall/bwa/RL_S7C_95_sorted.bam\n",
      "18.348463304842692 RL_S7C_95_sorted.bam\n",
      "/data/gpfs/assoc/denovo/tfaske/frogs/SNPcall/bwa/RL_S8C_96_sorted.bam\n",
      "17.725770040072256 RL_S8C_96_sorted.bam\n",
      "/data/gpfs/assoc/denovo/tfaske/frogs/SNPcall/bwa/RL_S8C_97_sorted.bam\n"
     ]
    },
    {
     "name": "stdout",
     "output_type": "stream",
     "text": [
      "18.935834981951196 RL_S8C_97_sorted.bam\n",
      "/data/gpfs/assoc/denovo/tfaske/frogs/SNPcall/bwa/RL_S8C_98_sorted.bam\n",
      "15.941874342449271 RL_S8C_98_sorted.bam\n",
      "/data/gpfs/assoc/denovo/tfaske/frogs/SNPcall/bwa/RL_S8C_99_sorted.bam\n",
      "15.827942227902717 RL_S8C_99_sorted.bam\n",
      "/data/gpfs/assoc/denovo/tfaske/frogs/SNPcall/bwa/RL_UBPC_220_sorted.bam\n",
      "15.82788800157215 RL_UBPC_220_sorted.bam\n",
      "/data/gpfs/assoc/denovo/tfaske/frogs/SNPcall/bwa/RL_UBPC_230_sorted.bam\n",
      "17.814519627549547 RL_UBPC_230_sorted.bam\n",
      "/data/gpfs/assoc/denovo/tfaske/frogs/SNPcall/bwa/RL_UBPC_231_sorted.bam\n",
      "16.830049775529318 RL_UBPC_231_sorted.bam\n",
      "/data/gpfs/assoc/denovo/tfaske/frogs/SNPcall/bwa/RL_UBPC_232_sorted.bam\n",
      "19.69496450033729 RL_UBPC_232_sorted.bam\n",
      "/data/gpfs/assoc/denovo/tfaske/frogs/SNPcall/bwa/RL_UBPC_233_sorted.bam\n",
      "15.5349947556461 RL_UBPC_233_sorted.bam\n",
      "/data/gpfs/assoc/denovo/tfaske/frogs/SNPcall/bwa/RL_UBPC_234_sorted.bam\n",
      "21.730873782028205 RL_UBPC_234_sorted.bam\n",
      "/data/gpfs/assoc/denovo/tfaske/frogs/SNPcall/bwa/RL_UBPC_240_sorted.bam\n",
      "21.734692661596483 RL_UBPC_240_sorted.bam\n",
      "/data/gpfs/assoc/denovo/tfaske/frogs/SNPcall/bwa/RL_UBPC_241_sorted.bam\n",
      "20.39392727957093 RL_UBPC_241_sorted.bam\n",
      "/data/gpfs/assoc/denovo/tfaske/frogs/SNPcall/bwa/RL_UBPC_41_sorted.bam\n",
      "21.374640343392507 RL_UBPC_41_sorted.bam\n",
      "/data/gpfs/assoc/denovo/tfaske/frogs/SNPcall/bwa/RL_UBPC_42_sorted.bam\n",
      "15.220560920213266 RL_UBPC_42_sorted.bam\n",
      "/data/gpfs/assoc/denovo/tfaske/frogs/SNPcall/bwa/RL_UDC_300_sorted.bam\n",
      "20.48076804931243 RL_UDC_300_sorted.bam\n",
      "/data/gpfs/assoc/denovo/tfaske/frogs/SNPcall/bwa/RL_UDC_301_sorted.bam\n",
      "20.344004502109325 RL_UDC_301_sorted.bam\n",
      "/data/gpfs/assoc/denovo/tfaske/frogs/SNPcall/bwa/RL_UDC_302_sorted.bam\n",
      "13.156896830573416 RL_UDC_302_sorted.bam\n",
      "/data/gpfs/assoc/denovo/tfaske/frogs/SNPcall/bwa/RL_UIVCH_600_sorted.bam\n",
      "19.185764563986634 RL_UIVCH_600_sorted.bam\n",
      "/data/gpfs/assoc/denovo/tfaske/frogs/SNPcall/bwa/RL_UIVCH_601_sorted.bam\n",
      "18.669981682109363 RL_UIVCH_601_sorted.bam\n",
      "/data/gpfs/assoc/denovo/tfaske/frogs/SNPcall/bwa/RL_UIVCH_602_sorted.bam\n",
      "17.769137312524126 RL_UIVCH_602_sorted.bam\n",
      "/data/gpfs/assoc/denovo/tfaske/frogs/SNPcall/bwa/RL_UIVCH_603_sorted.bam\n",
      "19.26872518671908 RL_UIVCH_603_sorted.bam\n",
      "/data/gpfs/assoc/denovo/tfaske/frogs/SNPcall/bwa/RL_UIVCH_604_sorted.bam\n",
      "18.479840295474663 RL_UIVCH_604_sorted.bam\n",
      "/data/gpfs/assoc/denovo/tfaske/frogs/SNPcall/bwa/RL_UIVCH_605_sorted.bam\n",
      "17.930239842635537 RL_UIVCH_605_sorted.bam\n",
      "/data/gpfs/assoc/denovo/tfaske/frogs/SNPcall/bwa/RL_UIVCH_606_sorted.bam\n",
      "15.82119878348343 RL_UIVCH_606_sorted.bam\n",
      "/data/gpfs/assoc/denovo/tfaske/frogs/SNPcall/bwa/RL_UIVCH_607_sorted.bam\n",
      "15.27047742851132 RL_UIVCH_607_sorted.bam\n",
      "/data/gpfs/assoc/denovo/tfaske/frogs/SNPcall/bwa/RL_UIVCH_608_sorted.bam\n",
      "16.218997943482815 RL_UIVCH_608_sorted.bam\n",
      "/data/gpfs/assoc/denovo/tfaske/frogs/SNPcall/bwa/RL_UIVCH_609_sorted.bam\n",
      "18.197583398995242 RL_UIVCH_609_sorted.bam\n",
      "/data/gpfs/assoc/denovo/tfaske/frogs/SNPcall/bwa/RL_UIVCH_610_sorted.bam\n",
      "18.43715131320905 RL_UIVCH_610_sorted.bam\n",
      "/data/gpfs/assoc/denovo/tfaske/frogs/SNPcall/bwa/RL_UIVCH_611_sorted.bam\n",
      "18.412779734769995 RL_UIVCH_611_sorted.bam\n",
      "/data/gpfs/assoc/denovo/tfaske/frogs/SNPcall/bwa/RL_UIVCH_612_sorted.bam\n",
      "19.300870861666905 RL_UIVCH_612_sorted.bam\n",
      "/data/gpfs/assoc/denovo/tfaske/frogs/SNPcall/bwa/RL_UIVCH_613_sorted.bam\n",
      "14.13957121201221 RL_UIVCH_613_sorted.bam\n",
      "/data/gpfs/assoc/denovo/tfaske/frogs/SNPcall/bwa/RL_UIVCH_614_sorted.bam\n",
      "12.676285626582326 RL_UIVCH_614_sorted.bam\n",
      "/data/gpfs/assoc/denovo/tfaske/frogs/SNPcall/bwa/RL_UIVCH_615_sorted.bam\n",
      "14.016754273060545 RL_UIVCH_615_sorted.bam\n",
      "/data/gpfs/assoc/denovo/tfaske/frogs/SNPcall/bwa/RL_UIVCH_616_sorted.bam\n",
      "14.095165755212449 RL_UIVCH_616_sorted.bam\n",
      "/data/gpfs/assoc/denovo/tfaske/frogs/SNPcall/bwa/RL_UIVCH_617_sorted.bam\n",
      "14.577067459626875 RL_UIVCH_617_sorted.bam\n",
      "/data/gpfs/assoc/denovo/tfaske/frogs/SNPcall/bwa/RL_UIVCH_618_sorted.bam\n",
      "16.332823308968496 RL_UIVCH_618_sorted.bam\n",
      "/data/gpfs/assoc/denovo/tfaske/frogs/SNPcall/bwa/RL_UIVCH_619_sorted.bam\n",
      "19.054473098974068 RL_UIVCH_619_sorted.bam\n",
      "/data/gpfs/assoc/denovo/tfaske/frogs/SNPcall/bwa/RL_UIVCH_620_sorted.bam\n",
      "16.61878969259844 RL_UIVCH_620_sorted.bam\n",
      "/data/gpfs/assoc/denovo/tfaske/frogs/SNPcall/bwa/RL_UIVCH_621_sorted.bam\n",
      "13.202726113434952 RL_UIVCH_621_sorted.bam\n",
      "/data/gpfs/assoc/denovo/tfaske/frogs/SNPcall/bwa/RL_UPC_350_sorted.bam\n",
      "11.729346516774232 RL_UPC_350_sorted.bam\n",
      "/data/gpfs/assoc/denovo/tfaske/frogs/SNPcall/bwa/RL_UPC_351_sorted.bam\n",
      "16.84347055806561 RL_UPC_351_sorted.bam\n",
      "/data/gpfs/assoc/denovo/tfaske/frogs/SNPcall/bwa/RL_UPC_352_sorted.bam\n",
      "17.698456016297712 RL_UPC_352_sorted.bam\n",
      "/data/gpfs/assoc/denovo/tfaske/frogs/SNPcall/bwa/RL_UPC_353_sorted.bam\n",
      "26.244237235688498 RL_UPC_353_sorted.bam\n",
      "/data/gpfs/assoc/denovo/tfaske/frogs/SNPcall/bwa/RL_UPC_354_sorted.bam\n",
      "14.407938783726326 RL_UPC_354_sorted.bam\n",
      "/data/gpfs/assoc/denovo/tfaske/frogs/SNPcall/bwa/RL_UPC_355_sorted.bam\n",
      "19.197447214744223 RL_UPC_355_sorted.bam\n",
      "/data/gpfs/assoc/denovo/tfaske/frogs/SNPcall/bwa/RL_WMH_1901_sorted.bam\n",
      "17.14114144392187 RL_WMH_1901_sorted.bam\n",
      "/data/gpfs/assoc/denovo/tfaske/frogs/SNPcall/bwa/RL_WMH_1903_sorted.bam\n",
      "20.32253699912809 RL_WMH_1903_sorted.bam\n",
      "/data/gpfs/assoc/denovo/tfaske/frogs/SNPcall/bwa/RL_WMH_1904_sorted.bam\n",
      "19.409650627130016 RL_WMH_1904_sorted.bam\n",
      "/data/gpfs/assoc/denovo/tfaske/frogs/SNPcall/bwa/RL_WMH_1905_sorted.bam\n",
      "14.766401245003811 RL_WMH_1905_sorted.bam\n",
      "/data/gpfs/assoc/denovo/tfaske/frogs/SNPcall/bwa/RL_WMH_1906_sorted.bam\n",
      "18.767691297731158 RL_WMH_1906_sorted.bam\n",
      "/data/gpfs/assoc/denovo/tfaske/frogs/SNPcall/bwa/RL_WMH_1908_sorted.bam\n",
      "18.8492279236166 RL_WMH_1908_sorted.bam\n",
      "/data/gpfs/assoc/denovo/tfaske/frogs/SNPcall/bwa/RL_WMH_1909_sorted.bam\n",
      "14.00480796542115 RL_WMH_1909_sorted.bam\n",
      "/data/gpfs/assoc/denovo/tfaske/frogs/SNPcall/bwa/RL_WMH_1910_sorted.bam\n",
      "12.836812269918289 RL_WMH_1910_sorted.bam\n",
      "/data/gpfs/assoc/denovo/tfaske/frogs/SNPcall/bwa/RL_WMH_1911_sorted.bam\n",
      "14.307400505265086 RL_WMH_1911_sorted.bam\n",
      "/data/gpfs/assoc/denovo/tfaske/frogs/SNPcall/bwa/RL_WMH_1912_sorted.bam\n",
      "13.142918786720085 RL_WMH_1912_sorted.bam\n",
      "/data/gpfs/assoc/denovo/tfaske/frogs/SNPcall/bwa/RL_WMH_1913_sorted.bam\n",
      "16.167091836099672 RL_WMH_1913_sorted.bam\n",
      "/data/gpfs/assoc/denovo/tfaske/frogs/SNPcall/bwa/RL_WMH_1914_sorted.bam\n",
      "14.701478627267953 RL_WMH_1914_sorted.bam\n",
      "/data/gpfs/assoc/denovo/tfaske/frogs/SNPcall/bwa/RL_WMH_1915_sorted.bam\n",
      "19.86878178521441 RL_WMH_1915_sorted.bam\n",
      "/data/gpfs/assoc/denovo/tfaske/frogs/SNPcall/bwa/RL_WMH_1916_sorted.bam\n",
      "19.247428366738294 RL_WMH_1916_sorted.bam\n",
      "/data/gpfs/assoc/denovo/tfaske/frogs/SNPcall/bwa/RL_WMH_1917_sorted.bam\n",
      "20.980689249038495 RL_WMH_1917_sorted.bam\n",
      "/data/gpfs/assoc/denovo/tfaske/frogs/SNPcall/bwa/RL_WMH_1920_sorted.bam\n",
      "20.421070775079585 RL_WMH_1920_sorted.bam\n",
      "/data/gpfs/assoc/denovo/tfaske/frogs/SNPcall/bwa/RL_WMH_1921_sorted.bam\n",
      "19.27688472011807 RL_WMH_1921_sorted.bam\n",
      "/data/gpfs/assoc/denovo/tfaske/frogs/SNPcall/bwa/RL_WMH_1925_sorted.bam\n",
      "17.58985106883925 RL_WMH_1925_sorted.bam\n",
      "/data/gpfs/assoc/denovo/tfaske/frogs/SNPcall/bwa/RL_WMH_1926_sorted.bam\n",
      "20.75040744109533 RL_WMH_1926_sorted.bam\n",
      "/data/gpfs/assoc/denovo/tfaske/frogs/SNPcall/bwa/RL_WMH_1939_sorted.bam\n",
      "18.685613640187153 RL_WMH_1939_sorted.bam\n",
      "/data/gpfs/assoc/denovo/tfaske/frogs/SNPcall/bwa/RL_WMH_1941_sorted.bam\n",
      "17.42786882794084 RL_WMH_1941_sorted.bam\n",
      "/data/gpfs/assoc/denovo/tfaske/frogs/SNPcall/bwa/RL_WMH_1948_sorted.bam\n",
      "19.258667207793795 RL_WMH_1948_sorted.bam\n",
      "/data/gpfs/assoc/denovo/tfaske/frogs/SNPcall/bwa/RL_WMH_1950_sorted.bam\n",
      "15.471231240141604 RL_WMH_1950_sorted.bam\n",
      "/data/gpfs/assoc/denovo/tfaske/frogs/SNPcall/bwa/RL_WMH_390_sorted.bam\n",
      "17.58985589441456 RL_WMH_390_sorted.bam\n",
      "/data/gpfs/assoc/denovo/tfaske/frogs/SNPcall/bwa/RL_WPC_19_sorted.bam\n",
      "20.44821715319474 RL_WPC_19_sorted.bam\n",
      "/data/gpfs/assoc/denovo/tfaske/frogs/SNPcall/bwa/RL_WPC_20_sorted.bam\n",
      "19.64234039206737 RL_WPC_20_sorted.bam\n",
      "/data/gpfs/assoc/denovo/tfaske/frogs/SNPcall/bwa/RL_WPC_21_sorted.bam\n",
      "16.458791865373726 RL_WPC_21_sorted.bam\n",
      "/data/gpfs/assoc/denovo/tfaske/frogs/SNPcall/bwa/RL_WRH_2420_sorted.bam\n",
      "9.502869762147299 RL_WRH_2420_sorted.bam\n",
      "/data/gpfs/assoc/denovo/tfaske/frogs/SNPcall/bwa/RL_WRH_2426_sorted.bam\n",
      "11.872913292929294 RL_WRH_2426_sorted.bam\n",
      "/data/gpfs/assoc/denovo/tfaske/frogs/SNPcall/bwa/RL_WRH_2441_sorted.bam\n"
     ]
    },
    {
     "name": "stdout",
     "output_type": "stream",
     "text": [
      "12.202738042888454 RL_WRH_2441_sorted.bam\n",
      "/data/gpfs/assoc/denovo/tfaske/frogs/SNPcall/bwa/RL_WRH_2443_sorted.bam\n",
      "12.285577012861568 RL_WRH_2443_sorted.bam\n",
      "/data/gpfs/assoc/denovo/tfaske/frogs/SNPcall/bwa/RL_WRH_2448_sorted.bam\n",
      "16.25294753772638 RL_WRH_2448_sorted.bam\n",
      "/data/gpfs/assoc/denovo/tfaske/frogs/SNPcall/bwa/RL_WRH_2466_sorted.bam\n",
      "11.54144383092116 RL_WRH_2466_sorted.bam\n",
      "/data/gpfs/assoc/denovo/tfaske/frogs/SNPcall/bwa/RL_WRH_267_sorted.bam\n",
      "8.76094771285763 RL_WRH_267_sorted.bam\n",
      "/data/gpfs/assoc/denovo/tfaske/frogs/SNPcall/bwa/RL_WRH_270_sorted.bam\n",
      "12.087946789768727 RL_WRH_270_sorted.bam\n",
      "/data/gpfs/assoc/denovo/tfaske/frogs/SNPcall/bwa/RL_WRH_273_sorted.bam\n",
      "1.6921851051971575 RL_WRH_273_sorted.bam\n",
      "/data/gpfs/assoc/denovo/tfaske/frogs/SNPcall/bwa/RL_WRH_276_sorted.bam\n",
      "12.26330181670892 RL_WRH_276_sorted.bam\n",
      "/data/gpfs/assoc/denovo/tfaske/frogs/SNPcall/bwa/RL_WRH_284_sorted.bam\n",
      "2.1232195370640934 RL_WRH_284_sorted.bam\n",
      "/data/gpfs/assoc/denovo/tfaske/frogs/SNPcall/bwa/RL_WRH_709_sorted.bam\n",
      "12.610178878069915 RL_WRH_709_sorted.bam\n",
      "/data/gpfs/assoc/denovo/tfaske/frogs/SNPcall/bwa/RL_WRH_714_sorted.bam\n",
      "11.989245229705348 RL_WRH_714_sorted.bam\n",
      "/data/gpfs/assoc/denovo/tfaske/frogs/SNPcall/bwa/RL_WRH_740_sorted.bam\n",
      "9.40309280291039 RL_WRH_740_sorted.bam\n",
      "/data/gpfs/assoc/denovo/tfaske/frogs/SNPcall/bwa/RL_WRH_757_sorted.bam\n",
      "10.870025006008602 RL_WRH_757_sorted.bam\n",
      "/data/gpfs/assoc/denovo/tfaske/frogs/SNPcall/bwa/RL_WSC_16_sorted.bam\n",
      "16.12461110863273 RL_WSC_16_sorted.bam\n",
      "/data/gpfs/assoc/denovo/tfaske/frogs/SNPcall/bwa/RL_WSC_17_sorted.bam\n",
      "16.859977153071988 RL_WSC_17_sorted.bam\n",
      "/data/gpfs/assoc/denovo/tfaske/frogs/SNPcall/bwa/RL_WSC_18_sorted.bam\n",
      "18.616441932188806 RL_WSC_18_sorted.bam\n",
      "/data/gpfs/assoc/denovo/tfaske/frogs/SNPcall/bwa/RL_WSH_2000_sorted.bam\n",
      "19.627381510394297 RL_WSH_2000_sorted.bam\n",
      "/data/gpfs/assoc/denovo/tfaske/frogs/SNPcall/bwa/RL_WSH_2001_sorted.bam\n",
      "21.66099723247925 RL_WSH_2001_sorted.bam\n",
      "/data/gpfs/assoc/denovo/tfaske/frogs/SNPcall/bwa/RL_WSH_2002_sorted.bam\n",
      "17.467868166140033 RL_WSH_2002_sorted.bam\n",
      "/data/gpfs/assoc/denovo/tfaske/frogs/SNPcall/bwa/RL_WSH_2004_sorted.bam\n",
      "13.79871770841157 RL_WSH_2004_sorted.bam\n",
      "/data/gpfs/assoc/denovo/tfaske/frogs/SNPcall/bwa/RL_WSH_2008_sorted.bam\n",
      "18.704404508040508 RL_WSH_2008_sorted.bam\n",
      "/data/gpfs/assoc/denovo/tfaske/frogs/SNPcall/bwa/RL_WSH_2009_sorted.bam\n",
      "17.42978567869819 RL_WSH_2009_sorted.bam\n",
      "/data/gpfs/assoc/denovo/tfaske/frogs/SNPcall/bwa/RL_WSH_2011_sorted.bam\n",
      "19.513466116870887 RL_WSH_2011_sorted.bam\n",
      "/data/gpfs/assoc/denovo/tfaske/frogs/SNPcall/bwa/RL_WSH_2014_sorted.bam\n",
      "19.312641264051752 RL_WSH_2014_sorted.bam\n",
      "/data/gpfs/assoc/denovo/tfaske/frogs/SNPcall/bwa/RL_WSH_2018_sorted.bam\n",
      "18.04661407912447 RL_WSH_2018_sorted.bam\n",
      "/data/gpfs/assoc/denovo/tfaske/frogs/SNPcall/bwa/RL_WSH_2020_sorted.bam\n",
      "21.052975521837336 RL_WSH_2020_sorted.bam\n",
      "/data/gpfs/assoc/denovo/tfaske/frogs/SNPcall/bwa/RL_WSH_2021_sorted.bam\n",
      "20.01584326860454 RL_WSH_2021_sorted.bam\n",
      "/data/gpfs/assoc/denovo/tfaske/frogs/SNPcall/bwa/RL_WSH_2022_sorted.bam\n",
      "18.00041362686755 RL_WSH_2022_sorted.bam\n",
      "/data/gpfs/assoc/denovo/tfaske/frogs/SNPcall/bwa/RL_WSH_2024_sorted.bam\n",
      "19.556468258736924 RL_WSH_2024_sorted.bam\n"
     ]
    },
    {
     "ename": "TypeError",
     "evalue": "__init__() got an unexpected keyword argument 'bam'",
     "output_type": "error",
     "traceback": [
      "\u001b[0;31m----------------------------------------------------------------\u001b[0m",
      "\u001b[0;31mTypeError\u001b[0m                      Traceback (most recent call last)",
      "\u001b[0;32m<ipython-input-39-7e49d21ad4c7>\u001b[0m in \u001b[0;36m<module>\u001b[0;34m\u001b[0m\n\u001b[1;32m     14\u001b[0m     \u001b[0mcov_list\u001b[0m\u001b[0;34m.\u001b[0m\u001b[0mappend\u001b[0m\u001b[0;34m(\u001b[0m\u001b[0mcoverage\u001b[0m\u001b[0;34m)\u001b[0m\u001b[0;34m\u001b[0m\u001b[0;34m\u001b[0m\u001b[0m\n\u001b[1;32m     15\u001b[0m     \u001b[0mprint\u001b[0m\u001b[0;34m(\u001b[0m\u001b[0mcoverage\u001b[0m\u001b[0;34m,\u001b[0m\u001b[0mname\u001b[0m\u001b[0;34m)\u001b[0m\u001b[0;34m\u001b[0m\u001b[0;34m\u001b[0m\u001b[0m\n\u001b[0;32m---> 16\u001b[0;31m \u001b[0mcov_df\u001b[0m \u001b[0;34m=\u001b[0m \u001b[0mpd\u001b[0m\u001b[0;34m.\u001b[0m\u001b[0mDataFrame\u001b[0m\u001b[0;34m(\u001b[0m\u001b[0mbam\u001b[0m\u001b[0;34m=\u001b[0m\u001b[0mbam_names\u001b[0m\u001b[0;34m,\u001b[0m\u001b[0mcoverage\u001b[0m\u001b[0;34m=\u001b[0m\u001b[0mcov_list\u001b[0m\u001b[0;34m)\u001b[0m\u001b[0;34m\u001b[0m\u001b[0;34m\u001b[0m\u001b[0m\n\u001b[0m\u001b[1;32m     17\u001b[0m \u001b[0mcov_df\u001b[0m\u001b[0;34m.\u001b[0m\u001b[0mhead\u001b[0m\u001b[0;34m(\u001b[0m\u001b[0;34m)\u001b[0m\u001b[0;34m\u001b[0m\u001b[0;34m\u001b[0m\u001b[0m\n",
      "\u001b[0;31mTypeError\u001b[0m: __init__() got an unexpected keyword argument 'bam'"
     ]
    }
   ],
   "source": [
    "bam_names = []\n",
    "cov_list = []\n",
    "for i in range(0,len(bam_files)):\n",
    "    bam = bam_files[i]\n",
    "    print(bam)\n",
    "    b = bam.split('/')[9] #set this \n",
    "    #print (b)\n",
    "    !$samtools depth -a $b > $'cov.txt'\n",
    "    cov = pd.read_csv('cov.txt', sep=\"\\t\",header=None)\n",
    "    coverage = sum(cov.iloc[:,2])/len(cov.index)\n",
    "    name = b.split('.F')[0]\n",
    "    #print(name)\n",
    "    bam_names.append(name)\n",
    "    cov_list.append(coverage)\n",
    "    print(coverage,name)\n",
    "cov_df = pd.DataFrame(bam=bam_names,coverage=cov_list)\n",
    "cov_df.head()"
   ]
  },
  {
   "cell_type": "code",
   "execution_count": 40,
   "metadata": {},
   "outputs": [
    {
     "data": {
      "text/html": [
       "<div>\n",
       "<style scoped>\n",
       "    .dataframe tbody tr th:only-of-type {\n",
       "        vertical-align: middle;\n",
       "    }\n",
       "\n",
       "    .dataframe tbody tr th {\n",
       "        vertical-align: top;\n",
       "    }\n",
       "\n",
       "    .dataframe thead th {\n",
       "        text-align: right;\n",
       "    }\n",
       "</style>\n",
       "<table border=\"1\" class=\"dataframe\">\n",
       "  <thead>\n",
       "    <tr style=\"text-align: right;\">\n",
       "      <th></th>\n",
       "      <th>bam</th>\n",
       "      <th>coverage</th>\n",
       "    </tr>\n",
       "  </thead>\n",
       "  <tbody>\n",
       "    <tr>\n",
       "      <th>0</th>\n",
       "      <td>RL_AD1C_200_sorted.bam</td>\n",
       "      <td>11.865526</td>\n",
       "    </tr>\n",
       "    <tr>\n",
       "      <th>1</th>\n",
       "      <td>RL_AD1C_201_sorted.bam</td>\n",
       "      <td>17.385402</td>\n",
       "    </tr>\n",
       "    <tr>\n",
       "      <th>2</th>\n",
       "      <td>RL_AD1C_202_sorted.bam</td>\n",
       "      <td>21.299097</td>\n",
       "    </tr>\n",
       "    <tr>\n",
       "      <th>3</th>\n",
       "      <td>RL_AD2C_203_sorted.bam</td>\n",
       "      <td>17.288641</td>\n",
       "    </tr>\n",
       "    <tr>\n",
       "      <th>4</th>\n",
       "      <td>RL_AD2C_204_sorted.bam</td>\n",
       "      <td>20.830907</td>\n",
       "    </tr>\n",
       "  </tbody>\n",
       "</table>\n",
       "</div>"
      ],
      "text/plain": [
       "                      bam   coverage\n",
       "0  RL_AD1C_200_sorted.bam  11.865526\n",
       "1  RL_AD1C_201_sorted.bam  17.385402\n",
       "2  RL_AD1C_202_sorted.bam  21.299097\n",
       "3  RL_AD2C_203_sorted.bam  17.288641\n",
       "4  RL_AD2C_204_sorted.bam  20.830907"
      ]
     },
     "execution_count": 40,
     "metadata": {},
     "output_type": "execute_result"
    }
   ],
   "source": [
    "cov_dict = {\"bam\":bam_names,'coverage':cov_list}\n",
    "cov_df = pd.DataFrame(cov_dict)\n",
    "cov_df.head()\n",
    "#len(cov_df)"
   ]
  },
  {
   "cell_type": "code",
   "execution_count": 41,
   "metadata": {},
   "outputs": [],
   "source": [
    "cov_out = os.path.join(bwa_dir,'bam_coverage.csv')\n",
    "cov_df.to_csv(path_or_buf=cov_out)"
   ]
  },
  {
   "cell_type": "code",
   "execution_count": 42,
   "metadata": {
    "scrolled": true
   },
   "outputs": [
    {
     "data": {
      "text/plain": [
       "count    323.000000\n",
       "mean      14.828440\n",
       "std        5.384907\n",
       "min        1.095602\n",
       "25%       12.065928\n",
       "50%       16.124611\n",
       "75%       18.806876\n",
       "max       27.724190\n",
       "Name: coverage, dtype: float64"
      ]
     },
     "execution_count": 42,
     "metadata": {},
     "output_type": "execute_result"
    }
   ],
   "source": [
    "cov_df.coverage.describe()\n"
   ]
  },
  {
   "cell_type": "code",
   "execution_count": 43,
   "metadata": {},
   "outputs": [
    {
     "data": {
      "text/plain": [
       "323"
      ]
     },
     "execution_count": 43,
     "metadata": {},
     "output_type": "execute_result"
    }
   ],
   "source": [
    "len(cov_df.coverage)"
   ]
  },
  {
   "cell_type": "markdown",
   "metadata": {},
   "source": [
    "# move good bams"
   ]
  },
  {
   "cell_type": "code",
   "execution_count": 46,
   "metadata": {},
   "outputs": [
    {
     "data": {
      "text/plain": [
       "(267, 284, 297)"
      ]
     },
     "execution_count": 46,
     "metadata": {},
     "output_type": "execute_result"
    }
   ],
   "source": [
    "len(cov_df[cov_df.coverage > 10]),len(cov_df[cov_df.coverage >= 7.5]),len(cov_df[cov_df.coverage >= 5])"
   ]
  },
  {
   "cell_type": "code",
   "execution_count": 50,
   "metadata": {},
   "outputs": [
    {
     "data": {
      "text/plain": [
       "(297, 'RL_AD1C_200_sorted.bam')"
      ]
     },
     "execution_count": 50,
     "metadata": {},
     "output_type": "execute_result"
    }
   ],
   "source": [
    "good_bam = cov_df.bam[cov_df.coverage >= 5]\n",
    "good_bam = good_bam.tolist()\n",
    "len(good_bam),good_bam[0]"
   ]
  },
  {
   "cell_type": "code",
   "execution_count": 51,
   "metadata": {},
   "outputs": [
    {
     "data": {
      "text/plain": [
       "(297,\n",
       " '/data/gpfs/assoc/denovo/tfaske/frogs/SNPcall/bwa//RL_AD1C_201_sorted.bam')"
      ]
     },
     "execution_count": 51,
     "metadata": {},
     "output_type": "execute_result"
    }
   ],
   "source": [
    "good_bam_files = []\n",
    "for i in range(0,len(good_bam)):\n",
    "    bam = bwa_dir + '/' + good_bam[i]\n",
    "    good_bam_files.append(bam)\n",
    "len(good_bam_files), good_bam_files[1]"
   ]
  },
  {
   "cell_type": "code",
   "execution_count": 52,
   "metadata": {},
   "outputs": [],
   "source": [
    "snp_dir = os.path.join(root,'SNPcall')"
   ]
  },
  {
   "cell_type": "code",
   "execution_count": 53,
   "metadata": {},
   "outputs": [
    {
     "name": "stdout",
     "output_type": "stream",
     "text": [
      "/data/gpfs/assoc/denovo/tfaske/frogs/SNPcall\n"
     ]
    }
   ],
   "source": [
    "cd $snp_dir"
   ]
  },
  {
   "cell_type": "code",
   "execution_count": 54,
   "metadata": {},
   "outputs": [],
   "source": [
    "!mkdir 'good_bams'"
   ]
  },
  {
   "cell_type": "code",
   "execution_count": 55,
   "metadata": {},
   "outputs": [],
   "source": [
    "good_bam_dir = os.path.join(snp_dir,'good_bams')\n",
    "assert good_bam_dir"
   ]
  },
  {
   "cell_type": "code",
   "execution_count": 56,
   "metadata": {},
   "outputs": [],
   "source": [
    "for i in range(0,len(good_bam_files)):\n",
    "    good_bam = str(good_bam_files[i])\n",
    "    !cp $good_bam $good_bam_dir"
   ]
  },
  {
   "cell_type": "code",
   "execution_count": 57,
   "metadata": {},
   "outputs": [
    {
     "name": "stdout",
     "output_type": "stream",
     "text": [
      "/data/gpfs/assoc/denovo/tfaske/frogs/SNPcall/good_bams\n"
     ]
    }
   ],
   "source": [
    "cd $good_bam_dir"
   ]
  },
  {
   "cell_type": "code",
   "execution_count": 58,
   "metadata": {},
   "outputs": [],
   "source": [
    "good_bam_cp_files = []\n",
    "files = !find . -type f -name '*sorted.bam'\n",
    "files = [os.path.abspath(x) for x in files if 'bam' in x]\n",
    "for x in files:\n",
    "    good_bam_cp_files.append(x)\n",
    "good_bam_cp_files = sorted(good_bam_files)"
   ]
  },
  {
   "cell_type": "code",
   "execution_count": 59,
   "metadata": {
    "scrolled": true
   },
   "outputs": [
    {
     "data": {
      "text/plain": [
       "(297,\n",
       " '/data/gpfs/assoc/denovo/tfaske/frogs/SNPcall/bwa//RL_AD1C_200_sorted.bam')"
      ]
     },
     "execution_count": 59,
     "metadata": {},
     "output_type": "execute_result"
    }
   ],
   "source": [
    "len(good_bam_cp_files),good_bam_cp_files[0]"
   ]
  },
  {
   "cell_type": "code",
   "execution_count": null,
   "metadata": {},
   "outputs": [],
   "source": []
  },
  {
   "cell_type": "code",
   "execution_count": null,
   "metadata": {},
   "outputs": [],
   "source": []
  }
 ],
 "metadata": {
  "kernelspec": {
   "display_name": "Python 3",
   "language": "python",
   "name": "python3"
  },
  "language_info": {
   "codemirror_mode": {
    "name": "ipython",
    "version": 3
   },
   "file_extension": ".py",
   "mimetype": "text/x-python",
   "name": "python",
   "nbconvert_exporter": "python",
   "pygments_lexer": "ipython3",
   "version": "3.6.7"
  }
 },
 "nbformat": 4,
 "nbformat_minor": 1
}
