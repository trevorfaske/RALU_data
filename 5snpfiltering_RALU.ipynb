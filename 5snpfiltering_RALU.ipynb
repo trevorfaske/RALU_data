{
 "cells": [
  {
   "cell_type": "markdown",
   "metadata": {},
   "source": [
    "### Refilter all. Aligning to genome makes no missing data. Adjust to remove loci private"
   ]
  },
  {
   "cell_type": "code",
   "execution_count": 1,
   "metadata": {},
   "outputs": [
    {
     "name": "stdout",
     "output_type": "stream",
     "text": [
      "/usr/bin/sh: line 0: source: activate: file not found\r\n"
     ]
    }
   ],
   "source": [
    "!source activate py36"
   ]
  },
  {
   "cell_type": "code",
   "execution_count": 2,
   "metadata": {},
   "outputs": [],
   "source": [
    "import sys\n",
    "\n",
    "#sys.path.append('/home/faske/g/anaconda3/envs/py34/lib/python3.4/site-packages')\n",
    "sys.path.append('/data/gpfs/assoc/parchmanlab/tfaske/anaconda3/envs/py36/lib/python3.6/site-packages')\n",
    "sys.path.append(\"/data/gpfs/assoc/parchmanlab/tfaske/ipynb/include_utils\")\n",
    "\n",
    "import ipyparallel as ipp\n",
    "import os, time\n",
    "import include_utils as u\n",
    "import pandas as pd\n",
    "import numpy as np\n",
    "import scipy as sp\n",
    "import random\n",
    "import numbers\n",
    "import matplotlib.pyplot as plt\n",
    "import matplotlib.patches as mpatches\n",
    "import matplotlib.cm as cm\n",
    "import matplotlib.colors as mcolors\n",
    "#import vcf\n",
    "from sklearn import preprocessing\n",
    "from subprocess import Popen, PIPE, call, check_output\n",
    "import seaborn as sns\n",
    "from IPython.display import FileLink\n",
    "import urllib.request as urllib2\n",
    "import dill\n",
    "import traceback\n",
    "from pandas import Series, DataFrame\n",
    "import gzip\n",
    "import warnings\n",
    "warnings.filterwarnings('ignore',category=pd.io.pytables.PerformanceWarning)\n",
    "%config InlineBackend.figure_format = 'retina'\n",
    "from Bio import SeqIO\n",
    "#import pysam\n",
    "from collections import OrderedDict, namedtuple, Counter\n",
    "import operator\n",
    "import multiprocessing as mp\n",
    "import shutil\n",
    "import tempfile\n",
    "#from ipyparallel import Client\n",
    "import scandir\n",
    "import glob\n",
    "from Bio.SeqIO.QualityIO import FastqGeneralIterator\n",
    "import pickle\n",
    "import re\n",
    "from itertools import chain\n",
    "#import Levenshtein as lv"
   ]
  },
  {
   "cell_type": "code",
   "execution_count": 3,
   "metadata": {},
   "outputs": [],
   "source": [
    "vcfutils = \"vcfutils.pl\"\n",
    "vcftools = \"vcftools\"\n",
    "bcftools = \"bcftools\"\n",
    "bgzip = \"bgzip\"\n",
    "tabix = \"tabix\"\n",
    "java = \"java\"\n",
    "plink = \"plink --noweb\""
   ]
  },
  {
   "cell_type": "code",
   "execution_count": 4,
   "metadata": {},
   "outputs": [],
   "source": [
    "analysis_dir = \"/data/gpfs/assoc/denovo/tfaske/CHDO/SNPcall/filtering\""
   ]
  },
  {
   "cell_type": "code",
   "execution_count": 5,
   "metadata": {},
   "outputs": [
    {
     "name": "stdout",
     "output_type": "stream",
     "text": [
      "/data/gpfs/assoc/denovo/tfaske/CHDO/SNPcall/filtering\n"
     ]
    }
   ],
   "source": [
    "cd $analysis_dir"
   ]
  },
  {
   "cell_type": "code",
   "execution_count": 6,
   "metadata": {
    "scrolled": true
   },
   "outputs": [
    {
     "data": {
      "text/plain": [
       "'/data/gpfs/assoc/denovo/tfaske/CHDO/SNPcall/filtering/CHDO.vcf.gz'"
      ]
     },
     "execution_count": 6,
     "metadata": {},
     "output_type": "execute_result"
    }
   ],
   "source": [
    "vcf_file = os.path.join(analysis_dir, \"CHDO.vcf.gz\")\n",
    "assert os.path.exists(vcf_file)\n",
    "vcf_file"
   ]
  },
  {
   "cell_type": "markdown",
   "metadata": {},
   "source": [
    "## keep only biallelic first"
   ]
  },
  {
   "cell_type": "code",
   "execution_count": 8,
   "metadata": {},
   "outputs": [
    {
     "name": "stdout",
     "output_type": "stream",
     "text": [
      "\n",
      "VCFtools - 0.1.16\n",
      "(C) Adam Auton and Anthony Marcketta 2009\n",
      "\n",
      "Parameters as interpreted:\n",
      "\t--gzvcf /data/gpfs/assoc/denovo/tfaske/CHDO/SNPcall/filtering/CHDO.vcf.gz\n",
      "\t--recode-INFO-all\n",
      "\t--max-alleles 2\n",
      "\t--min-alleles 2\n",
      "\t--out CHDO.biallelic\n",
      "\t--recode\n",
      "\t--remove-filtered-all\n",
      "\t--remove-indels\n",
      "\n",
      "Using zlib version: 1.2.11\n",
      "Warning: Expected at least 2 parts in INFO entry: ID=PV4,Number=4,Type=Float,Description=\"P-values for strand bias, baseQ bias, mapQ bias and tail distance bias\">\n",
      "Warning: Expected at least 2 parts in INFO entry: ID=PV4,Number=4,Type=Float,Description=\"P-values for strand bias, baseQ bias, mapQ bias and tail distance bias\">\n",
      "Warning: Expected at least 2 parts in INFO entry: ID=DP4,Number=4,Type=Integer,Description=\"Number of high-quality ref-forward , ref-reverse, alt-forward and alt-reverse bases\">\n",
      "Warning: Expected at least 2 parts in INFO entry: ID=DP4,Number=4,Type=Integer,Description=\"Number of high-quality ref-forward , ref-reverse, alt-forward and alt-reverse bases\">\n",
      "After filtering, kept 274 out of 274 Individuals\n",
      "Outputting VCF file...\n",
      "After filtering, kept 684167 out of a possible 684176 Sites\n",
      "Run Time = 387.00 seconds\n"
     ]
    }
   ],
   "source": [
    "!$vcftools --remove-indels \\\n",
    "--min-alleles 2 \\\n",
    "--max-alleles 2 \\\n",
    "--remove-filtered-all \\\n",
    "--recode \\\n",
    "--recode-INFO-all \\\n",
    "--gzvcf \\\n",
    "$vcf_file \\\n",
    "--out $'CHDO.biallelic'"
   ]
  },
  {
   "cell_type": "code",
   "execution_count": 11,
   "metadata": {},
   "outputs": [],
   "source": [
    "vcf_biallelic = os.path.join(analysis_dir, \"CHDO.biallelic.recode.vcf\")\n",
    "vcf_biallelic_gz = vcf_biallelic + '.gz'\n",
    "!$bgzip -c $vcf_biallelic > {vcf_biallelic_gz}\n",
    "!$tabix {vcf_biallelic_gz}"
   ]
  },
  {
   "cell_type": "markdown",
   "metadata": {},
   "source": [
    "## Remove by MAF, missing, and thin next"
   ]
  },
  {
   "cell_type": "code",
   "execution_count": 12,
   "metadata": {},
   "outputs": [
    {
     "name": "stdout",
     "output_type": "stream",
     "text": [
      "\n",
      "VCFtools - 0.1.16\n",
      "(C) Adam Auton and Anthony Marcketta 2009\n",
      "\n",
      "Parameters as interpreted:\n",
      "\t--gzvcf /data/gpfs/assoc/denovo/tfaske/CHDO/SNPcall/filtering/CHDO.biallelic.recode.vcf.gz\n",
      "\t--recode-INFO-all\n",
      "\t--maf 0.02\n",
      "\t--thin 100\n",
      "\t--max-missing 0.6\n",
      "\t--out CHDO_miss60_thin100_MAF2\n",
      "\t--recode\n",
      "\t--remove-filtered-all\n",
      "\n",
      "Using zlib version: 1.2.11\n",
      "Warning: Expected at least 2 parts in INFO entry: ID=PV4,Number=4,Type=Float,Description=\"P-values for strand bias, baseQ bias, mapQ bias and tail distance bias\">\n",
      "Warning: Expected at least 2 parts in INFO entry: ID=PV4,Number=4,Type=Float,Description=\"P-values for strand bias, baseQ bias, mapQ bias and tail distance bias\">\n",
      "Warning: Expected at least 2 parts in INFO entry: ID=DP4,Number=4,Type=Integer,Description=\"Number of high-quality ref-forward , ref-reverse, alt-forward and alt-reverse bases\">\n",
      "Warning: Expected at least 2 parts in INFO entry: ID=DP4,Number=4,Type=Integer,Description=\"Number of high-quality ref-forward , ref-reverse, alt-forward and alt-reverse bases\">\n",
      "After filtering, kept 274 out of 274 Individuals\n",
      "Outputting VCF file...\n",
      "After filtering, kept 31959 out of a possible 684167 Sites\n",
      "Run Time = 53.00 seconds\n"
     ]
    }
   ],
   "source": [
    "!$vcftools \\\n",
    "--max-missing 0.6 \\\n",
    "--maf 0.02 \\\n",
    "--thin 100 \\\n",
    "--remove-filtered-all \\\n",
    "--recode \\\n",
    "--recode-INFO-all \\\n",
    "--gzvcf \\\n",
    "$vcf_biallelic_gz \\\n",
    "--out $'CHDO_miss60_thin100_MAF2'"
   ]
  },
  {
   "cell_type": "code",
   "execution_count": 13,
   "metadata": {},
   "outputs": [
    {
     "name": "stdout",
     "output_type": "stream",
     "text": [
      "\n",
      "VCFtools - 0.1.16\n",
      "(C) Adam Auton and Anthony Marcketta 2009\n",
      "\n",
      "Parameters as interpreted:\n",
      "\t--gzvcf /data/gpfs/assoc/denovo/tfaske/CHDO/SNPcall/filtering/CHDO.biallelic.recode.vcf.gz\n",
      "\t--recode-INFO-all\n",
      "\t--maf 0.02\n",
      "\t--thin 100\n",
      "\t--max-missing 0.7\n",
      "\t--out CHDO_miss70_thin100_MAF2\n",
      "\t--recode\n",
      "\t--remove-filtered-all\n",
      "\n",
      "Using zlib version: 1.2.11\n",
      "Warning: Expected at least 2 parts in INFO entry: ID=PV4,Number=4,Type=Float,Description=\"P-values for strand bias, baseQ bias, mapQ bias and tail distance bias\">\n",
      "Warning: Expected at least 2 parts in INFO entry: ID=PV4,Number=4,Type=Float,Description=\"P-values for strand bias, baseQ bias, mapQ bias and tail distance bias\">\n",
      "Warning: Expected at least 2 parts in INFO entry: ID=DP4,Number=4,Type=Integer,Description=\"Number of high-quality ref-forward , ref-reverse, alt-forward and alt-reverse bases\">\n",
      "Warning: Expected at least 2 parts in INFO entry: ID=DP4,Number=4,Type=Integer,Description=\"Number of high-quality ref-forward , ref-reverse, alt-forward and alt-reverse bases\">\n",
      "After filtering, kept 274 out of 274 Individuals\n",
      "Outputting VCF file...\n",
      "After filtering, kept 31959 out of a possible 684167 Sites\n",
      "Run Time = 52.00 seconds\n"
     ]
    }
   ],
   "source": [
    "!$vcftools \\\n",
    "--max-missing 0.7 \\\n",
    "--maf 0.02 \\\n",
    "--thin 100 \\\n",
    "--remove-filtered-all \\\n",
    "--recode \\\n",
    "--recode-INFO-all \\\n",
    "--gzvcf \\\n",
    "$vcf_biallelic_gz \\\n",
    "--out $'CHDO_miss70_thin100_MAF2'"
   ]
  },
  {
   "cell_type": "code",
   "execution_count": 16,
   "metadata": {},
   "outputs": [],
   "source": [
    "vcf_filtered = \"CHDO_miss70_thin100_MAF2.recode.vcf\"\n",
    "vcf_filtered_gz = \"%s.gz\" % vcf_filtered"
   ]
  },
  {
   "cell_type": "code",
   "execution_count": 17,
   "metadata": {},
   "outputs": [],
   "source": [
    "!$bgzip -c $vcf_filtered > {vcf_filtered_gz}\n",
    "!$tabix {vcf_filtered_gz}"
   ]
  },
  {
   "cell_type": "markdown",
   "metadata": {},
   "source": [
    "# Calulate missing data using vcfR\n",
    "\n",
    "vcftools does not remove missing\n"
   ]
  },
  {
   "cell_type": "code",
   "execution_count": 18,
   "metadata": {},
   "outputs": [],
   "source": [
    "%load_ext rpy2.ipython"
   ]
  },
  {
   "cell_type": "code",
   "execution_count": 20,
   "metadata": {},
   "outputs": [],
   "source": [
    "%%R\n",
    "require(readr)\n",
    "library(data.table)\n",
    "require(MASS)\n",
    "require(ggplot2)\n",
    "library(vcfR)\n",
    "\n",
    "source('/data/gpfs/home/tfaske/g/src/R/Imports.R')\n",
    "\n",
    "setwd('/data/gpfs/assoc/denovo/tfaske/CHDO/SNPcall/filtering/')"
   ]
  },
  {
   "cell_type": "code",
   "execution_count": 21,
   "metadata": {},
   "outputs": [],
   "source": [
    "%%R\n",
    "vcf <- read.vcfR(\"CHDO_miss70_thin100_MAF2.recode.vcf\", verbose = FALSE)\n",
    "\n",
    "#get positions\n",
    "chrom <- getCHROM(vcf)\n",
    "pos <- getPOS(vcf)\n",
    "pos_ID <- paste(chrom,pos,sep = ':')"
   ]
  },
  {
   "cell_type": "code",
   "execution_count": 22,
   "metadata": {},
   "outputs": [],
   "source": [
    "%%R\n",
    "#get pl \n",
    "dp <- extract.gt(vcf, element = 'DP')"
   ]
  },
  {
   "cell_type": "code",
   "execution_count": 23,
   "metadata": {},
   "outputs": [
    {
     "name": "stdout",
     "output_type": "stream",
     "text": [
      "[1] 31959\n",
      " [1] \"dDocent_Contig_13:7\"   \"dDocent_Contig_42:41\"  \"dDocent_Contig_51:16\" \n",
      " [4] \"dDocent_Contig_53:81\"  \"dDocent_Contig_60:23\"  \"dDocent_Contig_67:8\"  \n",
      " [7] \"dDocent_Contig_68:67\"  \"dDocent_Contig_113:34\" \"dDocent_Contig_114:43\"\n",
      "[10] \"dDocent_Contig_794:58\"\n",
      "                     CD2_IP_10 CD2_IP_11 CD2_IP_12 CD2_IP_1 CD2_IP_2\n",
      "dDocent_Contig_13_7  \"247\"     \"248\"     \"250\"     \"249\"    \"246\"   \n",
      "dDocent_Contig_42_41 \"245\"     \"249\"     \"64\"      \"248\"    \"250\"   \n",
      "dDocent_Contig_51_16 \"243\"     \"248\"     \"244\"     \"242\"    \"241\"   \n",
      "dDocent_Contig_53_81 \"247\"     \"248\"     \"247\"     \"249\"    \"249\"   \n",
      "dDocent_Contig_60_23 \"0\"       \"3\"       \"246\"     \"247\"    \"246\"   \n"
     ]
    }
   ],
   "source": [
    "%%R\n",
    "## check out PL and pos_ID\n",
    "print(length(pos_ID))\n",
    "print(pos_ID[1:10])\n",
    "dp[1:5,1:5]"
   ]
  },
  {
   "cell_type": "code",
   "execution_count": 24,
   "metadata": {},
   "outputs": [
    {
     "name": "stdout",
     "output_type": "stream",
     "text": [
      " chr [1:5, 1:5] \"247\" \"245\" \"243\" \"247\" \"0\" \"248\" \"249\" \"248\" \"248\" \"3\" ...\n",
      " - attr(*, \"dimnames\")=List of 2\n",
      "  ..$ : chr [1:5] \"dDocent_Contig_13_7\" \"dDocent_Contig_42_41\" \"dDocent_Contig_51_16\" \"dDocent_Contig_53_81\" ...\n",
      "  ..$ : chr [1:5] \"CD2_IP_10\" \"CD2_IP_11\" \"CD2_IP_12\" \"CD2_IP_1\" ...\n"
     ]
    }
   ],
   "source": [
    "%%R\n",
    "str(dp[1:5,1:5])"
   ]
  },
  {
   "cell_type": "markdown",
   "metadata": {},
   "source": [
    "#### Calculate missing loci and individual"
   ]
  },
  {
   "cell_type": "code",
   "execution_count": 27,
   "metadata": {},
   "outputs": [
    {
     "name": "stdout",
     "output_type": "stream",
     "text": [
      "[1] 274\n",
      "[1] 31959\n"
     ]
    }
   ],
   "source": [
    "%%R\n",
    "nloci <- ncol(dp)\n",
    "nindv <- nrow(dp)\n",
    "print(nloci)\n",
    "print(nindv)"
   ]
  },
  {
   "cell_type": "code",
   "execution_count": 28,
   "metadata": {},
   "outputs": [
    {
     "name": "stdout",
     "output_type": "stream",
     "text": [
      "   Min. 1st Qu.  Median    Mean 3rd Qu.    Max. \n",
      "0.00000 0.05839 0.19708 0.25840 0.41606 0.99635 \n"
     ]
    }
   ],
   "source": [
    "%%R\n",
    "miss_loci <- apply(dp,1, function(d) length(which(d == \"0\"))/nloci)\n",
    "#miss_loci <- apply(dp[,1:100],1, function(d) (length(which(d == \"0\"))/100))\n",
    "print(summary(miss_loci))"
   ]
  },
  {
   "cell_type": "code",
   "execution_count": 29,
   "metadata": {},
   "outputs": [
    {
     "name": "stdout",
     "output_type": "stream",
     "text": [
      "[1] 20180\n",
      "[1] 23423\n",
      "[1] 26310\n",
      "[1] 28564\n",
      "[1] 30388\n"
     ]
    }
   ],
   "source": [
    "%%R\n",
    "print(length(which(miss_loci <= .30)))\n",
    "print(length(which(miss_loci <= .40)))\n",
    "print(length(which(miss_loci <= .50)))\n",
    "print(length(which(miss_loci <= .60)))\n",
    "print(length(which(miss_loci <= .70)))"
   ]
  },
  {
   "cell_type": "code",
   "execution_count": 30,
   "metadata": {},
   "outputs": [
    {
     "name": "stdout",
     "output_type": "stream",
     "text": [
      "[1] 28564\n"
     ]
    }
   ],
   "source": [
    "%%R\n",
    "keep_miss <- pos_ID[which(miss_loci <= .60)]\n",
    "length(keep_miss)"
   ]
  },
  {
   "cell_type": "code",
   "execution_count": 31,
   "metadata": {},
   "outputs": [
    {
     "name": "stdout",
     "output_type": "stream",
     "text": [
      "                                 chrom pos\n",
      "dDocent_Contig_13:7  dDocent_Contig_13   7\n",
      "dDocent_Contig_42:41 dDocent_Contig_42  41\n",
      "dDocent_Contig_51:16 dDocent_Contig_51  16\n",
      "dDocent_Contig_53:81 dDocent_Contig_53  81\n",
      "dDocent_Contig_60:23 dDocent_Contig_60  23\n",
      "dDocent_Contig_67:8  dDocent_Contig_67   8\n"
     ]
    }
   ],
   "source": [
    "%%R\n",
    "keep_miss60_df <- data.frame(chrom=sapply(keep_miss,function(s) unlist(strsplit(as.character(s),':'))[1]),\n",
    "                             pos=sapply(keep_miss,function(s) unlist(strsplit(as.character(s),':'))[2]))\n",
    "print(head(keep_miss60_df))    \n",
    "write.table(keep_miss60_df,'keep_miss60.txt',quote=F,row.names=F,col.names=F,sep='\\t')"
   ]
  },
  {
   "cell_type": "code",
   "execution_count": 32,
   "metadata": {},
   "outputs": [
    {
     "name": "stdout",
     "output_type": "stream",
     "text": [
      "dDocent_Contig_13\t7\r\n",
      "dDocent_Contig_42\t41\r\n",
      "dDocent_Contig_51\t16\r\n",
      "dDocent_Contig_53\t81\r\n",
      "dDocent_Contig_60\t23\r\n",
      "dDocent_Contig_67\t8\r\n",
      "dDocent_Contig_68\t67\r\n",
      "dDocent_Contig_113\t34\r\n",
      "dDocent_Contig_114\t43\r\n",
      "dDocent_Contig_794\t58\r\n"
     ]
    }
   ],
   "source": [
    "!head keep_miss60.txt"
   ]
  },
  {
   "cell_type": "code",
   "execution_count": 33,
   "metadata": {},
   "outputs": [
    {
     "name": "stdout",
     "output_type": "stream",
     "text": [
      "\n",
      "VCFtools - 0.1.16\n",
      "(C) Adam Auton and Anthony Marcketta 2009\n",
      "\n",
      "Parameters as interpreted:\n",
      "\t--gzvcf CHDO_miss70_thin100_MAF2.recode.vcf.gz\n",
      "\t--recode-INFO-all\n",
      "\t--out /data/gpfs/assoc/denovo/tfaske/CHDO/SNPcall/filtering/CHDO_miss60_thin100_MAF1\n",
      "\t--positions /data/gpfs/assoc/denovo/tfaske/CHDO/SNPcall/filtering/keep_miss60.txt\n",
      "\t--recode\n",
      "\t--remove-filtered-all\n",
      "\n",
      "Using zlib version: 1.2.11\n",
      "Warning: Expected at least 2 parts in INFO entry: ID=PV4,Number=4,Type=Float,Description=\"P-values for strand bias, baseQ bias, mapQ bias and tail distance bias\">\n",
      "Warning: Expected at least 2 parts in INFO entry: ID=PV4,Number=4,Type=Float,Description=\"P-values for strand bias, baseQ bias, mapQ bias and tail distance bias\">\n",
      "Warning: Expected at least 2 parts in INFO entry: ID=DP4,Number=4,Type=Integer,Description=\"Number of high-quality ref-forward , ref-reverse, alt-forward and alt-reverse bases\">\n",
      "Warning: Expected at least 2 parts in INFO entry: ID=DP4,Number=4,Type=Integer,Description=\"Number of high-quality ref-forward , ref-reverse, alt-forward and alt-reverse bases\">\n",
      "After filtering, kept 274 out of 274 Individuals\n",
      "Outputting VCF file...\n",
      "After filtering, kept 28564 out of a possible 31959 Sites\n",
      "Run Time = 17.00 seconds\n"
     ]
    }
   ],
   "source": [
    "!$vcftools --gzvcf $vcf_filtered_gz \\\n",
    "--remove-filtered-all \\\n",
    "--recode \\\n",
    "--recode-INFO-all \\\n",
    "--positions {os.path.join(analysis_dir, \"keep_miss60.txt\")} \\\n",
    "--out {os.path.join(analysis_dir, \"CHDO_miss60_thin100_MAF1\")}"
   ]
  },
  {
   "cell_type": "code",
   "execution_count": 34,
   "metadata": {},
   "outputs": [],
   "source": [
    "vcf_filtered = \"CHDO_miss60_thin100_MAF1.recode.vcf\"\n",
    "vcf_filtered_gz = \"%s.gz\" % vcf_filtered\n",
    "!$bgzip -c $vcf_filtered > {vcf_filtered_gz}\n",
    "!$tabix {vcf_filtered_gz}"
   ]
  },
  {
   "cell_type": "markdown",
   "metadata": {},
   "source": [
    "# Remove bad_indv\n",
    "\n",
    "by do it by mean_depth cause no missing data "
   ]
  },
  {
   "cell_type": "code",
   "execution_count": 35,
   "metadata": {
    "scrolled": true
   },
   "outputs": [
    {
     "name": "stdout",
     "output_type": "stream",
     "text": [
      "\n",
      "VCFtools - 0.1.16\n",
      "(C) Adam Auton and Anthony Marcketta 2009\n",
      "\n",
      "Parameters as interpreted:\n",
      "\t--gzvcf CHDO_miss60_thin100_MAF1.recode.vcf.gz\n",
      "\t--depth\n",
      "\t--out CHDO_miss60_thin100_MAF1.recode.vcf.gz\n",
      "\n",
      "Using zlib version: 1.2.11\n",
      "Warning: Expected at least 2 parts in INFO entry: ID=PV4,Number=4,Type=Float,Description=\"P-values for strand bias, baseQ bias, mapQ bias and tail distance bias\">\n",
      "Warning: Expected at least 2 parts in INFO entry: ID=PV4,Number=4,Type=Float,Description=\"P-values for strand bias, baseQ bias, mapQ bias and tail distance bias\">\n",
      "Warning: Expected at least 2 parts in INFO entry: ID=DP4,Number=4,Type=Integer,Description=\"Number of high-quality ref-forward , ref-reverse, alt-forward and alt-reverse bases\">\n",
      "Warning: Expected at least 2 parts in INFO entry: ID=DP4,Number=4,Type=Integer,Description=\"Number of high-quality ref-forward , ref-reverse, alt-forward and alt-reverse bases\">\n",
      "After filtering, kept 274 out of 274 Individuals\n",
      "Outputting Mean Depth by Individual\n",
      "After filtering, kept 28564 out of a possible 28564 Sites\n",
      "Run Time = 2.00 seconds\n"
     ]
    }
   ],
   "source": [
    "!$vcftools --gzvcf {vcf_filtered_gz} \\\n",
    "--out {vcf_filtered_gz} \\\n",
    "--depth"
   ]
  },
  {
   "cell_type": "code",
   "execution_count": 36,
   "metadata": {},
   "outputs": [
    {
     "data": {
      "text/html": [
       "<div>\n",
       "<style scoped>\n",
       "    .dataframe tbody tr th:only-of-type {\n",
       "        vertical-align: middle;\n",
       "    }\n",
       "\n",
       "    .dataframe tbody tr th {\n",
       "        vertical-align: top;\n",
       "    }\n",
       "\n",
       "    .dataframe thead th {\n",
       "        text-align: right;\n",
       "    }\n",
       "</style>\n",
       "<table border=\"1\" class=\"dataframe\">\n",
       "  <thead>\n",
       "    <tr style=\"text-align: right;\">\n",
       "      <th></th>\n",
       "      <th>INDV</th>\n",
       "      <th>N_SITES</th>\n",
       "      <th>MEAN_DEPTH</th>\n",
       "    </tr>\n",
       "  </thead>\n",
       "  <tbody>\n",
       "    <tr>\n",
       "      <th>0</th>\n",
       "      <td>CD2_IP_10</td>\n",
       "      <td>28564</td>\n",
       "      <td>7.91160</td>\n",
       "    </tr>\n",
       "    <tr>\n",
       "      <th>1</th>\n",
       "      <td>CD2_IP_11</td>\n",
       "      <td>28564</td>\n",
       "      <td>9.42680</td>\n",
       "    </tr>\n",
       "    <tr>\n",
       "      <th>2</th>\n",
       "      <td>CD2_IP_12</td>\n",
       "      <td>28564</td>\n",
       "      <td>5.19577</td>\n",
       "    </tr>\n",
       "    <tr>\n",
       "      <th>3</th>\n",
       "      <td>CD2_IP_1</td>\n",
       "      <td>28564</td>\n",
       "      <td>8.12778</td>\n",
       "    </tr>\n",
       "    <tr>\n",
       "      <th>4</th>\n",
       "      <td>CD2_IP_2</td>\n",
       "      <td>28564</td>\n",
       "      <td>14.38840</td>\n",
       "    </tr>\n",
       "  </tbody>\n",
       "</table>\n",
       "</div>"
      ],
      "text/plain": [
       "        INDV  N_SITES  MEAN_DEPTH\n",
       "0  CD2_IP_10    28564     7.91160\n",
       "1  CD2_IP_11    28564     9.42680\n",
       "2  CD2_IP_12    28564     5.19577\n",
       "3   CD2_IP_1    28564     8.12778\n",
       "4   CD2_IP_2    28564    14.38840"
      ]
     },
     "execution_count": 36,
     "metadata": {},
     "output_type": "execute_result"
    }
   ],
   "source": [
    "depth_file = vcf_filtered_gz + \".idepth\"\n",
    "depth_df = pd.read_csv(depth_file, sep=\"\\t\")\n",
    "depth_df.head()"
   ]
  },
  {
   "cell_type": "code",
   "execution_count": 37,
   "metadata": {
    "scrolled": false
   },
   "outputs": [
    {
     "data": {
      "text/plain": [
       "count    274.000000\n",
       "mean      13.506627\n",
       "std        4.247861\n",
       "min        4.662300\n",
       "25%        9.999730\n",
       "50%       13.966550\n",
       "75%       16.732500\n",
       "max       23.086300\n",
       "Name: MEAN_DEPTH, dtype: float64"
      ]
     },
     "execution_count": 37,
     "metadata": {},
     "output_type": "execute_result"
    }
   ],
   "source": [
    "depth_df.MEAN_DEPTH.describe()"
   ]
  },
  {
   "cell_type": "code",
   "execution_count": 39,
   "metadata": {},
   "outputs": [
    {
     "data": {
      "text/plain": [
       "(274, 2, 9, 35)"
      ]
     },
     "execution_count": 39,
     "metadata": {},
     "output_type": "execute_result"
    }
   ],
   "source": [
    "len(depth_df),len(depth_df[depth_df.MEAN_DEPTH <= 5]),len(depth_df[depth_df.MEAN_DEPTH <= 6]), len(depth_df[depth_df.MEAN_DEPTH <= 8])\n"
   ]
  },
  {
   "cell_type": "code",
   "execution_count": 40,
   "metadata": {},
   "outputs": [],
   "source": [
    "bad_indv = depth_df.INDV[depth_df.MEAN_DEPTH <= 5]"
   ]
  },
  {
   "cell_type": "code",
   "execution_count": 41,
   "metadata": {},
   "outputs": [],
   "source": [
    "with open(os.path.join(analysis_dir, \"bad_indv.txt\"), \"w\") as o:\n",
    "    o.write(\"INDV\\n\")\n",
    "    for elem in bad_indv:\n",
    "        o.write(\"%s\\n\" % elem)"
   ]
  },
  {
   "cell_type": "code",
   "execution_count": 42,
   "metadata": {},
   "outputs": [
    {
     "name": "stdout",
     "output_type": "stream",
     "text": [
      "INDV\r\n",
      "CD2_LA_4\r\n",
      "CD2_LA_5\r\n"
     ]
    }
   ],
   "source": [
    "!cat bad_indv.txt"
   ]
  },
  {
   "cell_type": "code",
   "execution_count": 43,
   "metadata": {},
   "outputs": [
    {
     "name": "stdout",
     "output_type": "stream",
     "text": [
      "\n",
      "VCFtools - 0.1.16\n",
      "(C) Adam Auton and Anthony Marcketta 2009\n",
      "\n",
      "Parameters as interpreted:\n",
      "\t--gzvcf CHDO_miss60_thin100_MAF1.recode.vcf.gz\n",
      "\t--remove /data/gpfs/assoc/denovo/tfaske/CHDO/SNPcall/filtering/bad_indv.txt\n",
      "\t--recode-INFO-all\n",
      "\t--out /data/gpfs/assoc/denovo/tfaske/CHDO/SNPcall/filtering/snps_indv_removed\n",
      "\t--recode\n",
      "\t--remove-filtered-all\n",
      "\t--remove-indels\n",
      "\n",
      "Using zlib version: 1.2.11\n",
      "Warning: Expected at least 2 parts in INFO entry: ID=PV4,Number=4,Type=Float,Description=\"P-values for strand bias, baseQ bias, mapQ bias and tail distance bias\">\n",
      "Warning: Expected at least 2 parts in INFO entry: ID=PV4,Number=4,Type=Float,Description=\"P-values for strand bias, baseQ bias, mapQ bias and tail distance bias\">\n",
      "Warning: Expected at least 2 parts in INFO entry: ID=DP4,Number=4,Type=Integer,Description=\"Number of high-quality ref-forward , ref-reverse, alt-forward and alt-reverse bases\">\n",
      "Warning: Expected at least 2 parts in INFO entry: ID=DP4,Number=4,Type=Integer,Description=\"Number of high-quality ref-forward , ref-reverse, alt-forward and alt-reverse bases\">\n",
      "Excluding individuals in 'exclude' list\n",
      "After filtering, kept 272 out of 274 Individuals\n",
      "Outputting VCF file...\n",
      "After filtering, kept 28564 out of a possible 28564 Sites\n",
      "Run Time = 16.00 seconds\n"
     ]
    }
   ],
   "source": [
    "!$vcftools --gzvcf $vcf_filtered_gz \\\n",
    "--remove-indels  \\\n",
    "--remove-filtered-all \\\n",
    "--recode \\\n",
    "--recode-INFO-all \\\n",
    "--remove {os.path.join(analysis_dir, \"bad_indv.txt\")} \\\n",
    "--out {os.path.join(analysis_dir, \"snps_indv_removed\")}"
   ]
  },
  {
   "cell_type": "code",
   "execution_count": 44,
   "metadata": {},
   "outputs": [],
   "source": [
    "vcf_bad_remove = os.path.join(analysis_dir, \"snps_indv_removed.recode.vcf\")\n",
    "vcf_bad_remove_gz = vcf_bad_remove + \".gz\"\n",
    "!$bgzip -c {vcf_bad_remove} > {vcf_bad_remove_gz}\n",
    "!$tabix {vcf_bad_remove_gz}"
   ]
  },
  {
   "cell_type": "markdown",
   "metadata": {},
   "source": [
    "# Filter snps further \n",
    "this needs to be done after removing individuals\n"
   ]
  },
  {
   "cell_type": "code",
   "execution_count": 45,
   "metadata": {},
   "outputs": [],
   "source": [
    "def get_vcf_stats(vcf_gz):\n",
    "    \n",
    "    stats = ['depth',\n",
    "            'site-depth',\n",
    "            'site-mean-depth',\n",
    "            'site-quality',\n",
    "            'missing-site',\n",
    "            'freq',\n",
    "            'counts',\n",
    "            'hardy',\n",
    "            'het']\n",
    "    \n",
    "    for stat in stats:\n",
    "        !$vcftools --gzvcf $vcf_gz \\\n",
    "        --out $vcf_gz \\\n",
    "        {\"--%s\" % stat} "
   ]
  },
  {
   "cell_type": "code",
   "execution_count": 46,
   "metadata": {},
   "outputs": [
    {
     "name": "stdout",
     "output_type": "stream",
     "text": [
      "\n",
      "VCFtools - 0.1.16\n",
      "(C) Adam Auton and Anthony Marcketta 2009\n",
      "\n",
      "Parameters as interpreted:\n",
      "\t--gzvcf /data/gpfs/assoc/denovo/tfaske/CHDO/SNPcall/filtering/snps_indv_removed.recode.vcf.gz\n",
      "\t--depth\n",
      "\t--out /data/gpfs/assoc/denovo/tfaske/CHDO/SNPcall/filtering/snps_indv_removed.recode.vcf.gz\n",
      "\n",
      "Using zlib version: 1.2.11\n",
      "Warning: Expected at least 2 parts in INFO entry: ID=PV4,Number=4,Type=Float,Description=\"P-values for strand bias, baseQ bias, mapQ bias and tail distance bias\">\n",
      "Warning: Expected at least 2 parts in INFO entry: ID=PV4,Number=4,Type=Float,Description=\"P-values for strand bias, baseQ bias, mapQ bias and tail distance bias\">\n",
      "Warning: Expected at least 2 parts in INFO entry: ID=DP4,Number=4,Type=Integer,Description=\"Number of high-quality ref-forward , ref-reverse, alt-forward and alt-reverse bases\">\n",
      "Warning: Expected at least 2 parts in INFO entry: ID=DP4,Number=4,Type=Integer,Description=\"Number of high-quality ref-forward , ref-reverse, alt-forward and alt-reverse bases\">\n",
      "After filtering, kept 272 out of 272 Individuals\n",
      "Outputting Mean Depth by Individual\n",
      "After filtering, kept 28564 out of a possible 28564 Sites\n",
      "Run Time = 2.00 seconds\n",
      "\n",
      "VCFtools - 0.1.16\n",
      "(C) Adam Auton and Anthony Marcketta 2009\n",
      "\n",
      "Parameters as interpreted:\n",
      "\t--gzvcf /data/gpfs/assoc/denovo/tfaske/CHDO/SNPcall/filtering/snps_indv_removed.recode.vcf.gz\n",
      "\t--out /data/gpfs/assoc/denovo/tfaske/CHDO/SNPcall/filtering/snps_indv_removed.recode.vcf.gz\n",
      "\t--site-depth\n",
      "\n",
      "Using zlib version: 1.2.11\n",
      "Warning: Expected at least 2 parts in INFO entry: ID=PV4,Number=4,Type=Float,Description=\"P-values for strand bias, baseQ bias, mapQ bias and tail distance bias\">\n",
      "Warning: Expected at least 2 parts in INFO entry: ID=PV4,Number=4,Type=Float,Description=\"P-values for strand bias, baseQ bias, mapQ bias and tail distance bias\">\n",
      "Warning: Expected at least 2 parts in INFO entry: ID=DP4,Number=4,Type=Integer,Description=\"Number of high-quality ref-forward , ref-reverse, alt-forward and alt-reverse bases\">\n",
      "Warning: Expected at least 2 parts in INFO entry: ID=DP4,Number=4,Type=Integer,Description=\"Number of high-quality ref-forward , ref-reverse, alt-forward and alt-reverse bases\">\n",
      "After filtering, kept 272 out of 272 Individuals\n",
      "Outputting Depth for Each Site\n",
      "After filtering, kept 28564 out of a possible 28564 Sites\n",
      "Run Time = 2.00 seconds\n",
      "\n",
      "VCFtools - 0.1.16\n",
      "(C) Adam Auton and Anthony Marcketta 2009\n",
      "\n",
      "Parameters as interpreted:\n",
      "\t--gzvcf /data/gpfs/assoc/denovo/tfaske/CHDO/SNPcall/filtering/snps_indv_removed.recode.vcf.gz\n",
      "\t--out /data/gpfs/assoc/denovo/tfaske/CHDO/SNPcall/filtering/snps_indv_removed.recode.vcf.gz\n",
      "\t--site-mean-depth\n",
      "\n",
      "Using zlib version: 1.2.11\n",
      "Warning: Expected at least 2 parts in INFO entry: ID=PV4,Number=4,Type=Float,Description=\"P-values for strand bias, baseQ bias, mapQ bias and tail distance bias\">\n",
      "Warning: Expected at least 2 parts in INFO entry: ID=PV4,Number=4,Type=Float,Description=\"P-values for strand bias, baseQ bias, mapQ bias and tail distance bias\">\n",
      "Warning: Expected at least 2 parts in INFO entry: ID=DP4,Number=4,Type=Integer,Description=\"Number of high-quality ref-forward , ref-reverse, alt-forward and alt-reverse bases\">\n",
      "Warning: Expected at least 2 parts in INFO entry: ID=DP4,Number=4,Type=Integer,Description=\"Number of high-quality ref-forward , ref-reverse, alt-forward and alt-reverse bases\">\n",
      "After filtering, kept 272 out of 272 Individuals\n",
      "Outputting Depth for Each Site\n",
      "After filtering, kept 28564 out of a possible 28564 Sites\n",
      "Run Time = 2.00 seconds\n",
      "\n",
      "VCFtools - 0.1.16\n",
      "(C) Adam Auton and Anthony Marcketta 2009\n",
      "\n",
      "Parameters as interpreted:\n",
      "\t--gzvcf /data/gpfs/assoc/denovo/tfaske/CHDO/SNPcall/filtering/snps_indv_removed.recode.vcf.gz\n",
      "\t--out /data/gpfs/assoc/denovo/tfaske/CHDO/SNPcall/filtering/snps_indv_removed.recode.vcf.gz\n",
      "\t--site-quality\n",
      "\n",
      "Using zlib version: 1.2.11\n",
      "Warning: Expected at least 2 parts in INFO entry: ID=PV4,Number=4,Type=Float,Description=\"P-values for strand bias, baseQ bias, mapQ bias and tail distance bias\">\n",
      "Warning: Expected at least 2 parts in INFO entry: ID=PV4,Number=4,Type=Float,Description=\"P-values for strand bias, baseQ bias, mapQ bias and tail distance bias\">\n",
      "Warning: Expected at least 2 parts in INFO entry: ID=DP4,Number=4,Type=Integer,Description=\"Number of high-quality ref-forward , ref-reverse, alt-forward and alt-reverse bases\">\n",
      "Warning: Expected at least 2 parts in INFO entry: ID=DP4,Number=4,Type=Integer,Description=\"Number of high-quality ref-forward , ref-reverse, alt-forward and alt-reverse bases\">\n",
      "After filtering, kept 272 out of 272 Individuals\n",
      "Outputting Quality for Each Site\n",
      "After filtering, kept 28564 out of a possible 28564 Sites\n",
      "Run Time = 1.00 seconds\n",
      "\n",
      "VCFtools - 0.1.16\n",
      "(C) Adam Auton and Anthony Marcketta 2009\n",
      "\n",
      "Parameters as interpreted:\n",
      "\t--gzvcf /data/gpfs/assoc/denovo/tfaske/CHDO/SNPcall/filtering/snps_indv_removed.recode.vcf.gz\n",
      "\t--out /data/gpfs/assoc/denovo/tfaske/CHDO/SNPcall/filtering/snps_indv_removed.recode.vcf.gz\n",
      "\t--missing-site\n",
      "\n",
      "Using zlib version: 1.2.11\n",
      "Warning: Expected at least 2 parts in INFO entry: ID=PV4,Number=4,Type=Float,Description=\"P-values for strand bias, baseQ bias, mapQ bias and tail distance bias\">\n",
      "Warning: Expected at least 2 parts in INFO entry: ID=PV4,Number=4,Type=Float,Description=\"P-values for strand bias, baseQ bias, mapQ bias and tail distance bias\">\n",
      "Warning: Expected at least 2 parts in INFO entry: ID=DP4,Number=4,Type=Integer,Description=\"Number of high-quality ref-forward , ref-reverse, alt-forward and alt-reverse bases\">\n",
      "Warning: Expected at least 2 parts in INFO entry: ID=DP4,Number=4,Type=Integer,Description=\"Number of high-quality ref-forward , ref-reverse, alt-forward and alt-reverse bases\">\n",
      "After filtering, kept 272 out of 272 Individuals\n",
      "Outputting Site Missingness\n",
      "After filtering, kept 28564 out of a possible 28564 Sites\n",
      "Run Time = 2.00 seconds\n",
      "\n",
      "VCFtools - 0.1.16\n",
      "(C) Adam Auton and Anthony Marcketta 2009\n",
      "\n",
      "Parameters as interpreted:\n",
      "\t--gzvcf /data/gpfs/assoc/denovo/tfaske/CHDO/SNPcall/filtering/snps_indv_removed.recode.vcf.gz\n",
      "\t--freq\n",
      "\t--out /data/gpfs/assoc/denovo/tfaske/CHDO/SNPcall/filtering/snps_indv_removed.recode.vcf.gz\n",
      "\n",
      "Using zlib version: 1.2.11\n",
      "Warning: Expected at least 2 parts in INFO entry: ID=PV4,Number=4,Type=Float,Description=\"P-values for strand bias, baseQ bias, mapQ bias and tail distance bias\">\n",
      "Warning: Expected at least 2 parts in INFO entry: ID=PV4,Number=4,Type=Float,Description=\"P-values for strand bias, baseQ bias, mapQ bias and tail distance bias\">\n",
      "Warning: Expected at least 2 parts in INFO entry: ID=DP4,Number=4,Type=Integer,Description=\"Number of high-quality ref-forward , ref-reverse, alt-forward and alt-reverse bases\">\n",
      "Warning: Expected at least 2 parts in INFO entry: ID=DP4,Number=4,Type=Integer,Description=\"Number of high-quality ref-forward , ref-reverse, alt-forward and alt-reverse bases\">\n",
      "After filtering, kept 272 out of 272 Individuals\n",
      "Outputting Frequency Statistics...\n",
      "After filtering, kept 28564 out of a possible 28564 Sites\n",
      "Run Time = 1.00 seconds\n",
      "\n",
      "VCFtools - 0.1.16\n",
      "(C) Adam Auton and Anthony Marcketta 2009\n",
      "\n",
      "Parameters as interpreted:\n",
      "\t--gzvcf /data/gpfs/assoc/denovo/tfaske/CHDO/SNPcall/filtering/snps_indv_removed.recode.vcf.gz\n",
      "\t--counts\n",
      "\t--out /data/gpfs/assoc/denovo/tfaske/CHDO/SNPcall/filtering/snps_indv_removed.recode.vcf.gz\n",
      "\n",
      "Using zlib version: 1.2.11\n",
      "Warning: Expected at least 2 parts in INFO entry: ID=PV4,Number=4,Type=Float,Description=\"P-values for strand bias, baseQ bias, mapQ bias and tail distance bias\">\n",
      "Warning: Expected at least 2 parts in INFO entry: ID=PV4,Number=4,Type=Float,Description=\"P-values for strand bias, baseQ bias, mapQ bias and tail distance bias\">\n",
      "Warning: Expected at least 2 parts in INFO entry: ID=DP4,Number=4,Type=Integer,Description=\"Number of high-quality ref-forward , ref-reverse, alt-forward and alt-reverse bases\">\n",
      "Warning: Expected at least 2 parts in INFO entry: ID=DP4,Number=4,Type=Integer,Description=\"Number of high-quality ref-forward , ref-reverse, alt-forward and alt-reverse bases\">\n",
      "After filtering, kept 272 out of 272 Individuals\n",
      "Outputting Frequency Statistics...\n",
      "After filtering, kept 28564 out of a possible 28564 Sites\n",
      "Run Time = 1.00 seconds\n",
      "\n",
      "VCFtools - 0.1.16\n",
      "(C) Adam Auton and Anthony Marcketta 2009\n",
      "\n",
      "Parameters as interpreted:\n",
      "\t--gzvcf /data/gpfs/assoc/denovo/tfaske/CHDO/SNPcall/filtering/snps_indv_removed.recode.vcf.gz\n",
      "\t--hardy\n",
      "\t--out /data/gpfs/assoc/denovo/tfaske/CHDO/SNPcall/filtering/snps_indv_removed.recode.vcf.gz\n",
      "\n",
      "Using zlib version: 1.2.11\n"
     ]
    },
    {
     "name": "stdout",
     "output_type": "stream",
     "text": [
      "Warning: Expected at least 2 parts in INFO entry: ID=PV4,Number=4,Type=Float,Description=\"P-values for strand bias, baseQ bias, mapQ bias and tail distance bias\">\n",
      "Warning: Expected at least 2 parts in INFO entry: ID=PV4,Number=4,Type=Float,Description=\"P-values for strand bias, baseQ bias, mapQ bias and tail distance bias\">\n",
      "Warning: Expected at least 2 parts in INFO entry: ID=DP4,Number=4,Type=Integer,Description=\"Number of high-quality ref-forward , ref-reverse, alt-forward and alt-reverse bases\">\n",
      "Warning: Expected at least 2 parts in INFO entry: ID=DP4,Number=4,Type=Integer,Description=\"Number of high-quality ref-forward , ref-reverse, alt-forward and alt-reverse bases\">\n",
      "After filtering, kept 272 out of 272 Individuals\n",
      "Outputting HWE statistics (but only for biallelic loci)\n",
      "After filtering, kept 28564 out of a possible 28564 Sites\n",
      "Run Time = 2.00 seconds\n",
      "\n",
      "VCFtools - 0.1.16\n",
      "(C) Adam Auton and Anthony Marcketta 2009\n",
      "\n",
      "Parameters as interpreted:\n",
      "\t--gzvcf /data/gpfs/assoc/denovo/tfaske/CHDO/SNPcall/filtering/snps_indv_removed.recode.vcf.gz\n",
      "\t--het\n",
      "\t--out /data/gpfs/assoc/denovo/tfaske/CHDO/SNPcall/filtering/snps_indv_removed.recode.vcf.gz\n",
      "\n",
      "Using zlib version: 1.2.11\n",
      "Warning: Expected at least 2 parts in INFO entry: ID=PV4,Number=4,Type=Float,Description=\"P-values for strand bias, baseQ bias, mapQ bias and tail distance bias\">\n",
      "Warning: Expected at least 2 parts in INFO entry: ID=PV4,Number=4,Type=Float,Description=\"P-values for strand bias, baseQ bias, mapQ bias and tail distance bias\">\n",
      "Warning: Expected at least 2 parts in INFO entry: ID=DP4,Number=4,Type=Integer,Description=\"Number of high-quality ref-forward , ref-reverse, alt-forward and alt-reverse bases\">\n",
      "Warning: Expected at least 2 parts in INFO entry: ID=DP4,Number=4,Type=Integer,Description=\"Number of high-quality ref-forward , ref-reverse, alt-forward and alt-reverse bases\">\n",
      "After filtering, kept 272 out of 272 Individuals\n",
      "Outputting Individual Heterozygosity\n",
      "After filtering, kept 28564 out of a possible 28564 Sites\n",
      "Run Time = 2.00 seconds\n"
     ]
    }
   ],
   "source": [
    "get_vcf_stats(vcf_bad_remove_gz)"
   ]
  },
  {
   "cell_type": "code",
   "execution_count": 47,
   "metadata": {},
   "outputs": [],
   "source": [
    "#pd.set_option('display.max_columns', 100)\n",
    "\n",
    "def get_MAF(row):\n",
    "    try:\n",
    "        return np.min([row.A1_freq, row.A2_freq])\n",
    "    except:\n",
    "        print(row)\n",
    "        \n",
    "def get_correction(n):\n",
    "    #for finite sample size\n",
    "    return (2*n)/(2*n-1)\n",
    "\n",
    "def calculate_Fis(vals):\n",
    "    try:\n",
    "        data = [float(x) for x in vals.split(\"/\")]\n",
    "        assert len(data) == 3\n",
    "        num_individuals = np.sum(data)\n",
    "        total_alleles = 2*num_individuals\n",
    "        a1_count = 2*data[0]\n",
    "        a2_count = 2*data[2]\n",
    "        het_count = data[1]\n",
    "        a1_count += het_count\n",
    "        a2_count += het_count\n",
    "        a1_freq = a1_count/total_alleles\n",
    "        a2_freq = a2_count/total_alleles\n",
    "        assert a1_freq + a2_freq == 1.0\n",
    "        He = 2 * a1_freq * a2_freq * get_correction(num_individuals)\n",
    "        Ho = het_count/num_individuals\n",
    "        Fis = 1 - (Ho/He)\n",
    "        return Fis\n",
    "    except:\n",
    "        return -9\n",
    "\n",
    "def combine_vcf_stats(filedir, prefix):\n",
    "    \n",
    "    hardy_files = !ls {filedir}/{prefix}.hwe\n",
    "    hardy = pd.read_csv(hardy_files[0], sep=\"\\t\")\n",
    "\n",
    "    hardy.columns = ['CHROM', 'POS', 'OBS(HOM1/HET/HOM2)', 'E(HOM1/HET/HOM2)', 'ChiSq_HWE',\n",
    "       'P_HWE', 'P_HET_DEFICIT', 'P_HET_EXCESS']\n",
    "    hardy.index = hardy.apply(lambda x: \"%s-%d\" % (x.CHROM, x.POS), axis=1)\n",
    "    \n",
    "    loci_files = !ls {filedir}/{prefix}.l* | grep -v log\n",
    "    loci_df = pd.concat([pd.read_csv(x, sep=\"\\t\", skiprows=0) for x in loci_files], axis=1)\n",
    "    chrom_pos = loci_df.ix[:,0:2]\n",
    "    \n",
    "    frq_files = !ls {filedir}/{prefix}.frq* | grep -v count\n",
    "    frq_data = []\n",
    "    h = open(frq_files[0])\n",
    "    header = h.readline().strip().split()\n",
    "    for line in h:\n",
    "        frq_data.append(line.strip().split('\\t'))\n",
    "\n",
    "    header = ['CHROM', 'POS', 'N_ALLELES', 'N_CHR', 'A1_FREQ', \"A2_FREQ\"]\n",
    "    frq_df = pd.DataFrame(frq_data)\n",
    "    print(frq_df.columns)\n",
    "    #frq_df = frq_df.drop([6,7],axis=1)\n",
    "    frq_df.columns = header\n",
    "    frq_df.index = frq_df.apply(lambda x: \"%s-%s\" % (x.CHROM, x.POS), axis=1)\n",
    "    \n",
    "    loci_df = loci_df.drop(['CHROM','CHR','POS'], axis=1)\n",
    "    loci_df = pd.concat([chrom_pos, loci_df], axis=1)\n",
    "    loci_df.index = loci_df.apply(lambda x: \"%s-%d\" % (x.CHROM, x.POS), axis=1)\n",
    "    \n",
    "    loci_df = pd.concat([loci_df, frq_df, hardy], axis=1)\n",
    "    loci_df[\"A1_allele\"] = loci_df.apply(lambda row: row.A1_FREQ.split(\":\")[0], axis=1)\n",
    "    loci_df[\"A2_allele\"] = loci_df.apply(lambda row: row.A2_FREQ.split(\":\")[0], axis=1)\n",
    "    \n",
    "    loci_df[\"A1_freq\"] = loci_df.apply(lambda row: float(row.A1_FREQ.split(\":\")[1]), axis=1)\n",
    "    loci_df[\"A2_freq\"] = loci_df.apply(lambda row: float(row.A2_FREQ.split(\":\")[1]), axis=1)\n",
    "    \n",
    "    loci_df['MAF'] = loci_df.apply(get_MAF, axis=1)\n",
    "    loci_df = loci_df.drop(['CHROM', 'POS'], axis=1)\n",
    "    \n",
    "    loci_df['Fis'] = loci_df['OBS(HOM1/HET/HOM2)'].apply(calculate_Fis)\n",
    "    \n",
    "    return loci_df, frq_df, hardy"
   ]
  },
  {
   "cell_type": "code",
   "execution_count": 48,
   "metadata": {},
   "outputs": [
    {
     "data": {
      "text/plain": [
       "'/data/gpfs/assoc/denovo/tfaske/CHDO/SNPcall/filtering/snps_indv_removed.recode.vcf.gz'"
      ]
     },
     "execution_count": 48,
     "metadata": {},
     "output_type": "execute_result"
    }
   ],
   "source": [
    "vcf_bad_remove_gz"
   ]
  },
  {
   "cell_type": "code",
   "execution_count": 49,
   "metadata": {
    "scrolled": true
   },
   "outputs": [
    {
     "name": "stderr",
     "output_type": "stream",
     "text": [
      "/data/gpfs/assoc/parchmanlab/tfaske/anaconda3/envs/py36/lib/python3.6/site-packages/ipykernel_launcher.py:45: FutureWarning: \n",
      ".ix is deprecated. Please use\n",
      ".loc for label based indexing or\n",
      ".iloc for positional indexing\n",
      "\n",
      "See the documentation here:\n",
      "http://pandas.pydata.org/pandas-docs/stable/user_guide/indexing.html#ix-indexer-is-deprecated\n",
      "/data/gpfs/assoc/parchmanlab/tfaske/anaconda3/envs/py36/lib/python3.6/site-packages/pandas/core/indexing.py:822: FutureWarning: \n",
      ".ix is deprecated. Please use\n",
      ".loc for label based indexing or\n",
      ".iloc for positional indexing\n",
      "\n",
      "See the documentation here:\n",
      "http://pandas.pydata.org/pandas-docs/stable/user_guide/indexing.html#ix-indexer-is-deprecated\n",
      "  retval = getattr(retval, self.name)._getitem_axis(key, axis=i)\n"
     ]
    },
    {
     "name": "stdout",
     "output_type": "stream",
     "text": [
      "RangeIndex(start=0, stop=6, step=1)\n"
     ]
    }
   ],
   "source": [
    "loci_df, frq_df, hardy = combine_vcf_stats(analysis_dir,'snps_indv_removed.recode.vcf.gz')"
   ]
  },
  {
   "cell_type": "code",
   "execution_count": 50,
   "metadata": {},
   "outputs": [
    {
     "data": {
      "text/html": [
       "<div>\n",
       "<style scoped>\n",
       "    .dataframe tbody tr th:only-of-type {\n",
       "        vertical-align: middle;\n",
       "    }\n",
       "\n",
       "    .dataframe tbody tr th {\n",
       "        vertical-align: top;\n",
       "    }\n",
       "\n",
       "    .dataframe thead th {\n",
       "        text-align: right;\n",
       "    }\n",
       "</style>\n",
       "<table border=\"1\" class=\"dataframe\">\n",
       "  <thead>\n",
       "    <tr style=\"text-align: right;\">\n",
       "      <th></th>\n",
       "      <th>SUM_DEPTH</th>\n",
       "      <th>SUMSQ_DEPTH</th>\n",
       "      <th>MEAN_DEPTH</th>\n",
       "      <th>VAR_DEPTH</th>\n",
       "      <th>N_DATA</th>\n",
       "      <th>N_GENOTYPE_FILTERED</th>\n",
       "      <th>N_MISS</th>\n",
       "      <th>F_MISS</th>\n",
       "      <th>QUAL</th>\n",
       "      <th>N_ALLELES</th>\n",
       "      <th>...</th>\n",
       "      <th>ChiSq_HWE</th>\n",
       "      <th>P_HWE</th>\n",
       "      <th>P_HET_DEFICIT</th>\n",
       "      <th>P_HET_EXCESS</th>\n",
       "      <th>A1_allele</th>\n",
       "      <th>A2_allele</th>\n",
       "      <th>A1_freq</th>\n",
       "      <th>A2_freq</th>\n",
       "      <th>MAF</th>\n",
       "      <th>Fis</th>\n",
       "    </tr>\n",
       "  </thead>\n",
       "  <tbody>\n",
       "    <tr>\n",
       "      <th>dDocent_Contig_13-7</th>\n",
       "      <td>67213</td>\n",
       "      <td>16627797</td>\n",
       "      <td>247.10700</td>\n",
       "      <td>70.1842</td>\n",
       "      <td>544</td>\n",
       "      <td>0</td>\n",
       "      <td>0</td>\n",
       "      <td>0</td>\n",
       "      <td>999.0</td>\n",
       "      <td>2</td>\n",
       "      <td>...</td>\n",
       "      <td>19.368300</td>\n",
       "      <td>9.664597e-03</td>\n",
       "      <td>9.664597e-03</td>\n",
       "      <td>9.997265e-01</td>\n",
       "      <td>A</td>\n",
       "      <td>G</td>\n",
       "      <td>0.974265</td>\n",
       "      <td>0.025735</td>\n",
       "      <td>0.025735</td>\n",
       "      <td>0.268194</td>\n",
       "    </tr>\n",
       "    <tr>\n",
       "      <th>dDocent_Contig_42-41</th>\n",
       "      <td>65356</td>\n",
       "      <td>15972126</td>\n",
       "      <td>240.27900</td>\n",
       "      <td>990.4970</td>\n",
       "      <td>544</td>\n",
       "      <td>0</td>\n",
       "      <td>0</td>\n",
       "      <td>0</td>\n",
       "      <td>999.0</td>\n",
       "      <td>2</td>\n",
       "      <td>...</td>\n",
       "      <td>247.864300</td>\n",
       "      <td>3.208823e-19</td>\n",
       "      <td>3.208823e-19</td>\n",
       "      <td>1.000000e+00</td>\n",
       "      <td>C</td>\n",
       "      <td>T</td>\n",
       "      <td>0.957721</td>\n",
       "      <td>0.042279</td>\n",
       "      <td>0.042279</td>\n",
       "      <td>0.954686</td>\n",
       "    </tr>\n",
       "    <tr>\n",
       "      <th>dDocent_Contig_51-16</th>\n",
       "      <td>65069</td>\n",
       "      <td>15717005</td>\n",
       "      <td>239.22400</td>\n",
       "      <td>556.9050</td>\n",
       "      <td>544</td>\n",
       "      <td>0</td>\n",
       "      <td>0</td>\n",
       "      <td>0</td>\n",
       "      <td>999.0</td>\n",
       "      <td>2</td>\n",
       "      <td>...</td>\n",
       "      <td>2.786474</td>\n",
       "      <td>1.434578e-01</td>\n",
       "      <td>1.000000e+00</td>\n",
       "      <td>8.362602e-02</td>\n",
       "      <td>T</td>\n",
       "      <td>C</td>\n",
       "      <td>0.908088</td>\n",
       "      <td>0.091912</td>\n",
       "      <td>0.091912</td>\n",
       "      <td>-0.099190</td>\n",
       "    </tr>\n",
       "    <tr>\n",
       "      <th>dDocent_Contig_53-81</th>\n",
       "      <td>65456</td>\n",
       "      <td>16121284</td>\n",
       "      <td>240.64700</td>\n",
       "      <td>1363.4300</td>\n",
       "      <td>544</td>\n",
       "      <td>0</td>\n",
       "      <td>0</td>\n",
       "      <td>0</td>\n",
       "      <td>999.0</td>\n",
       "      <td>2</td>\n",
       "      <td>...</td>\n",
       "      <td>19.980090</td>\n",
       "      <td>2.492508e-07</td>\n",
       "      <td>1.000000e+00</td>\n",
       "      <td>1.430472e-07</td>\n",
       "      <td>T</td>\n",
       "      <td>C</td>\n",
       "      <td>0.786765</td>\n",
       "      <td>0.213235</td>\n",
       "      <td>0.213235</td>\n",
       "      <td>-0.268692</td>\n",
       "    </tr>\n",
       "    <tr>\n",
       "      <th>dDocent_Contig_60-23</th>\n",
       "      <td>25025</td>\n",
       "      <td>5437443</td>\n",
       "      <td>92.00370</td>\n",
       "      <td>11568.5000</td>\n",
       "      <td>544</td>\n",
       "      <td>0</td>\n",
       "      <td>0</td>\n",
       "      <td>0</td>\n",
       "      <td>999.0</td>\n",
       "      <td>2</td>\n",
       "      <td>...</td>\n",
       "      <td>1.713278</td>\n",
       "      <td>3.764539e-01</td>\n",
       "      <td>1.000000e+00</td>\n",
       "      <td>2.127437e-01</td>\n",
       "      <td>A</td>\n",
       "      <td>G</td>\n",
       "      <td>0.926471</td>\n",
       "      <td>0.073529</td>\n",
       "      <td>0.073529</td>\n",
       "      <td>-0.077381</td>\n",
       "    </tr>\n",
       "    <tr>\n",
       "      <th>...</th>\n",
       "      <td>...</td>\n",
       "      <td>...</td>\n",
       "      <td>...</td>\n",
       "      <td>...</td>\n",
       "      <td>...</td>\n",
       "      <td>...</td>\n",
       "      <td>...</td>\n",
       "      <td>...</td>\n",
       "      <td>...</td>\n",
       "      <td>...</td>\n",
       "      <td>...</td>\n",
       "      <td>...</td>\n",
       "      <td>...</td>\n",
       "      <td>...</td>\n",
       "      <td>...</td>\n",
       "      <td>...</td>\n",
       "      <td>...</td>\n",
       "      <td>...</td>\n",
       "      <td>...</td>\n",
       "      <td>...</td>\n",
       "      <td>...</td>\n",
       "    </tr>\n",
       "    <tr>\n",
       "      <th>dDocent_Contig_184313-15</th>\n",
       "      <td>1017</td>\n",
       "      <td>7357</td>\n",
       "      <td>3.73897</td>\n",
       "      <td>13.1161</td>\n",
       "      <td>544</td>\n",
       "      <td>0</td>\n",
       "      <td>0</td>\n",
       "      <td>0</td>\n",
       "      <td>999.0</td>\n",
       "      <td>2</td>\n",
       "      <td>...</td>\n",
       "      <td>2.803596</td>\n",
       "      <td>1.106027e-01</td>\n",
       "      <td>9.784852e-01</td>\n",
       "      <td>7.060737e-02</td>\n",
       "      <td>A</td>\n",
       "      <td>T</td>\n",
       "      <td>0.843750</td>\n",
       "      <td>0.156250</td>\n",
       "      <td>0.156250</td>\n",
       "      <td>-0.099500</td>\n",
       "    </tr>\n",
       "    <tr>\n",
       "      <th>dDocent_Contig_184319-37</th>\n",
       "      <td>722</td>\n",
       "      <td>7390</td>\n",
       "      <td>2.65441</td>\n",
       "      <td>20.1975</td>\n",
       "      <td>544</td>\n",
       "      <td>0</td>\n",
       "      <td>0</td>\n",
       "      <td>0</td>\n",
       "      <td>999.0</td>\n",
       "      <td>2</td>\n",
       "      <td>...</td>\n",
       "      <td>0.356252</td>\n",
       "      <td>1.000000e+00</td>\n",
       "      <td>1.000000e+00</td>\n",
       "      <td>7.221869e-01</td>\n",
       "      <td>A</td>\n",
       "      <td>G</td>\n",
       "      <td>0.965074</td>\n",
       "      <td>0.034926</td>\n",
       "      <td>0.034926</td>\n",
       "      <td>-0.034286</td>\n",
       "    </tr>\n",
       "    <tr>\n",
       "      <th>dDocent_Contig_184321-16</th>\n",
       "      <td>3063</td>\n",
       "      <td>47535</td>\n",
       "      <td>11.26100</td>\n",
       "      <td>48.1272</td>\n",
       "      <td>544</td>\n",
       "      <td>0</td>\n",
       "      <td>0</td>\n",
       "      <td>0</td>\n",
       "      <td>999.0</td>\n",
       "      <td>2</td>\n",
       "      <td>...</td>\n",
       "      <td>19.980090</td>\n",
       "      <td>2.492508e-07</td>\n",
       "      <td>1.000000e+00</td>\n",
       "      <td>1.430472e-07</td>\n",
       "      <td>G</td>\n",
       "      <td>T</td>\n",
       "      <td>0.786765</td>\n",
       "      <td>0.213235</td>\n",
       "      <td>0.213235</td>\n",
       "      <td>-0.268692</td>\n",
       "    </tr>\n",
       "    <tr>\n",
       "      <th>dDocent_Contig_184323-22</th>\n",
       "      <td>1140</td>\n",
       "      <td>8520</td>\n",
       "      <td>4.19118</td>\n",
       "      <td>13.8083</td>\n",
       "      <td>544</td>\n",
       "      <td>0</td>\n",
       "      <td>0</td>\n",
       "      <td>0</td>\n",
       "      <td>999.0</td>\n",
       "      <td>2</td>\n",
       "      <td>...</td>\n",
       "      <td>1.622241</td>\n",
       "      <td>3.763337e-01</td>\n",
       "      <td>1.000000e+00</td>\n",
       "      <td>2.305485e-01</td>\n",
       "      <td>G</td>\n",
       "      <td>A</td>\n",
       "      <td>0.928309</td>\n",
       "      <td>0.071691</td>\n",
       "      <td>0.071691</td>\n",
       "      <td>-0.075248</td>\n",
       "    </tr>\n",
       "    <tr>\n",
       "      <th>dDocent_Contig_184324-40</th>\n",
       "      <td>1118</td>\n",
       "      <td>11954</td>\n",
       "      <td>4.11029</td>\n",
       "      <td>27.1538</td>\n",
       "      <td>544</td>\n",
       "      <td>0</td>\n",
       "      <td>0</td>\n",
       "      <td>0</td>\n",
       "      <td>999.0</td>\n",
       "      <td>2</td>\n",
       "      <td>...</td>\n",
       "      <td>12.618220</td>\n",
       "      <td>1.025929e-02</td>\n",
       "      <td>1.025929e-02</td>\n",
       "      <td>9.992436e-01</td>\n",
       "      <td>C</td>\n",
       "      <td>T</td>\n",
       "      <td>0.955882</td>\n",
       "      <td>0.044118</td>\n",
       "      <td>0.044118</td>\n",
       "      <td>0.216827</td>\n",
       "    </tr>\n",
       "  </tbody>\n",
       "</table>\n",
       "<p>28564 rows × 25 columns</p>\n",
       "</div>"
      ],
      "text/plain": [
       "                          SUM_DEPTH  SUMSQ_DEPTH  MEAN_DEPTH   VAR_DEPTH  \\\n",
       "dDocent_Contig_13-7           67213     16627797   247.10700     70.1842   \n",
       "dDocent_Contig_42-41          65356     15972126   240.27900    990.4970   \n",
       "dDocent_Contig_51-16          65069     15717005   239.22400    556.9050   \n",
       "dDocent_Contig_53-81          65456     16121284   240.64700   1363.4300   \n",
       "dDocent_Contig_60-23          25025      5437443    92.00370  11568.5000   \n",
       "...                             ...          ...         ...         ...   \n",
       "dDocent_Contig_184313-15       1017         7357     3.73897     13.1161   \n",
       "dDocent_Contig_184319-37        722         7390     2.65441     20.1975   \n",
       "dDocent_Contig_184321-16       3063        47535    11.26100     48.1272   \n",
       "dDocent_Contig_184323-22       1140         8520     4.19118     13.8083   \n",
       "dDocent_Contig_184324-40       1118        11954     4.11029     27.1538   \n",
       "\n",
       "                          N_DATA  N_GENOTYPE_FILTERED  N_MISS  F_MISS   QUAL  \\\n",
       "dDocent_Contig_13-7          544                    0       0       0  999.0   \n",
       "dDocent_Contig_42-41         544                    0       0       0  999.0   \n",
       "dDocent_Contig_51-16         544                    0       0       0  999.0   \n",
       "dDocent_Contig_53-81         544                    0       0       0  999.0   \n",
       "dDocent_Contig_60-23         544                    0       0       0  999.0   \n",
       "...                          ...                  ...     ...     ...    ...   \n",
       "dDocent_Contig_184313-15     544                    0       0       0  999.0   \n",
       "dDocent_Contig_184319-37     544                    0       0       0  999.0   \n",
       "dDocent_Contig_184321-16     544                    0       0       0  999.0   \n",
       "dDocent_Contig_184323-22     544                    0       0       0  999.0   \n",
       "dDocent_Contig_184324-40     544                    0       0       0  999.0   \n",
       "\n",
       "                         N_ALLELES  ...   ChiSq_HWE         P_HWE  \\\n",
       "dDocent_Contig_13-7              2  ...   19.368300  9.664597e-03   \n",
       "dDocent_Contig_42-41             2  ...  247.864300  3.208823e-19   \n",
       "dDocent_Contig_51-16             2  ...    2.786474  1.434578e-01   \n",
       "dDocent_Contig_53-81             2  ...   19.980090  2.492508e-07   \n",
       "dDocent_Contig_60-23             2  ...    1.713278  3.764539e-01   \n",
       "...                            ...  ...         ...           ...   \n",
       "dDocent_Contig_184313-15         2  ...    2.803596  1.106027e-01   \n",
       "dDocent_Contig_184319-37         2  ...    0.356252  1.000000e+00   \n",
       "dDocent_Contig_184321-16         2  ...   19.980090  2.492508e-07   \n",
       "dDocent_Contig_184323-22         2  ...    1.622241  3.763337e-01   \n",
       "dDocent_Contig_184324-40         2  ...   12.618220  1.025929e-02   \n",
       "\n",
       "                         P_HET_DEFICIT  P_HET_EXCESS A1_allele  A2_allele  \\\n",
       "dDocent_Contig_13-7       9.664597e-03  9.997265e-01         A          G   \n",
       "dDocent_Contig_42-41      3.208823e-19  1.000000e+00         C          T   \n",
       "dDocent_Contig_51-16      1.000000e+00  8.362602e-02         T          C   \n",
       "dDocent_Contig_53-81      1.000000e+00  1.430472e-07         T          C   \n",
       "dDocent_Contig_60-23      1.000000e+00  2.127437e-01         A          G   \n",
       "...                                ...           ...       ...        ...   \n",
       "dDocent_Contig_184313-15  9.784852e-01  7.060737e-02         A          T   \n",
       "dDocent_Contig_184319-37  1.000000e+00  7.221869e-01         A          G   \n",
       "dDocent_Contig_184321-16  1.000000e+00  1.430472e-07         G          T   \n",
       "dDocent_Contig_184323-22  1.000000e+00  2.305485e-01         G          A   \n",
       "dDocent_Contig_184324-40  1.025929e-02  9.992436e-01         C          T   \n",
       "\n",
       "                           A1_freq   A2_freq       MAF       Fis  \n",
       "dDocent_Contig_13-7       0.974265  0.025735  0.025735  0.268194  \n",
       "dDocent_Contig_42-41      0.957721  0.042279  0.042279  0.954686  \n",
       "dDocent_Contig_51-16      0.908088  0.091912  0.091912 -0.099190  \n",
       "dDocent_Contig_53-81      0.786765  0.213235  0.213235 -0.268692  \n",
       "dDocent_Contig_60-23      0.926471  0.073529  0.073529 -0.077381  \n",
       "...                            ...       ...       ...       ...  \n",
       "dDocent_Contig_184313-15  0.843750  0.156250  0.156250 -0.099500  \n",
       "dDocent_Contig_184319-37  0.965074  0.034926  0.034926 -0.034286  \n",
       "dDocent_Contig_184321-16  0.786765  0.213235  0.213235 -0.268692  \n",
       "dDocent_Contig_184323-22  0.928309  0.071691  0.071691 -0.075248  \n",
       "dDocent_Contig_184324-40  0.955882  0.044118  0.044118  0.216827  \n",
       "\n",
       "[28564 rows x 25 columns]"
      ]
     },
     "execution_count": 50,
     "metadata": {},
     "output_type": "execute_result"
    }
   ],
   "source": [
    "loci_df"
   ]
  },
  {
   "cell_type": "code",
   "execution_count": 51,
   "metadata": {},
   "outputs": [
    {
     "data": {
      "text/html": [
       "<div>\n",
       "<style scoped>\n",
       "    .dataframe tbody tr th:only-of-type {\n",
       "        vertical-align: middle;\n",
       "    }\n",
       "\n",
       "    .dataframe tbody tr th {\n",
       "        vertical-align: top;\n",
       "    }\n",
       "\n",
       "    .dataframe thead th {\n",
       "        text-align: right;\n",
       "    }\n",
       "</style>\n",
       "<table border=\"1\" class=\"dataframe\">\n",
       "  <thead>\n",
       "    <tr style=\"text-align: right;\">\n",
       "      <th></th>\n",
       "      <th>CHROM</th>\n",
       "      <th>POS</th>\n",
       "      <th>N_ALLELES</th>\n",
       "      <th>N_CHR</th>\n",
       "      <th>A1_FREQ</th>\n",
       "      <th>A2_FREQ</th>\n",
       "    </tr>\n",
       "  </thead>\n",
       "  <tbody>\n",
       "    <tr>\n",
       "      <th>dDocent_Contig_13-7</th>\n",
       "      <td>dDocent_Contig_13</td>\n",
       "      <td>7</td>\n",
       "      <td>2</td>\n",
       "      <td>544</td>\n",
       "      <td>A:0.974265</td>\n",
       "      <td>G:0.0257353</td>\n",
       "    </tr>\n",
       "    <tr>\n",
       "      <th>dDocent_Contig_42-41</th>\n",
       "      <td>dDocent_Contig_42</td>\n",
       "      <td>41</td>\n",
       "      <td>2</td>\n",
       "      <td>544</td>\n",
       "      <td>C:0.957721</td>\n",
       "      <td>T:0.0422794</td>\n",
       "    </tr>\n",
       "    <tr>\n",
       "      <th>dDocent_Contig_51-16</th>\n",
       "      <td>dDocent_Contig_51</td>\n",
       "      <td>16</td>\n",
       "      <td>2</td>\n",
       "      <td>544</td>\n",
       "      <td>T:0.908088</td>\n",
       "      <td>C:0.0919118</td>\n",
       "    </tr>\n",
       "    <tr>\n",
       "      <th>dDocent_Contig_53-81</th>\n",
       "      <td>dDocent_Contig_53</td>\n",
       "      <td>81</td>\n",
       "      <td>2</td>\n",
       "      <td>544</td>\n",
       "      <td>T:0.786765</td>\n",
       "      <td>C:0.213235</td>\n",
       "    </tr>\n",
       "    <tr>\n",
       "      <th>dDocent_Contig_60-23</th>\n",
       "      <td>dDocent_Contig_60</td>\n",
       "      <td>23</td>\n",
       "      <td>2</td>\n",
       "      <td>544</td>\n",
       "      <td>A:0.926471</td>\n",
       "      <td>G:0.0735294</td>\n",
       "    </tr>\n",
       "    <tr>\n",
       "      <th>...</th>\n",
       "      <td>...</td>\n",
       "      <td>...</td>\n",
       "      <td>...</td>\n",
       "      <td>...</td>\n",
       "      <td>...</td>\n",
       "      <td>...</td>\n",
       "    </tr>\n",
       "    <tr>\n",
       "      <th>dDocent_Contig_184313-15</th>\n",
       "      <td>dDocent_Contig_184313</td>\n",
       "      <td>15</td>\n",
       "      <td>2</td>\n",
       "      <td>544</td>\n",
       "      <td>A:0.84375</td>\n",
       "      <td>T:0.15625</td>\n",
       "    </tr>\n",
       "    <tr>\n",
       "      <th>dDocent_Contig_184319-37</th>\n",
       "      <td>dDocent_Contig_184319</td>\n",
       "      <td>37</td>\n",
       "      <td>2</td>\n",
       "      <td>544</td>\n",
       "      <td>A:0.965074</td>\n",
       "      <td>G:0.0349265</td>\n",
       "    </tr>\n",
       "    <tr>\n",
       "      <th>dDocent_Contig_184321-16</th>\n",
       "      <td>dDocent_Contig_184321</td>\n",
       "      <td>16</td>\n",
       "      <td>2</td>\n",
       "      <td>544</td>\n",
       "      <td>G:0.786765</td>\n",
       "      <td>T:0.213235</td>\n",
       "    </tr>\n",
       "    <tr>\n",
       "      <th>dDocent_Contig_184323-22</th>\n",
       "      <td>dDocent_Contig_184323</td>\n",
       "      <td>22</td>\n",
       "      <td>2</td>\n",
       "      <td>544</td>\n",
       "      <td>G:0.928309</td>\n",
       "      <td>A:0.0716912</td>\n",
       "    </tr>\n",
       "    <tr>\n",
       "      <th>dDocent_Contig_184324-40</th>\n",
       "      <td>dDocent_Contig_184324</td>\n",
       "      <td>40</td>\n",
       "      <td>2</td>\n",
       "      <td>544</td>\n",
       "      <td>C:0.955882</td>\n",
       "      <td>T:0.0441176</td>\n",
       "    </tr>\n",
       "  </tbody>\n",
       "</table>\n",
       "<p>28564 rows × 6 columns</p>\n",
       "</div>"
      ],
      "text/plain": [
       "                                          CHROM POS N_ALLELES N_CHR  \\\n",
       "dDocent_Contig_13-7           dDocent_Contig_13   7         2   544   \n",
       "dDocent_Contig_42-41          dDocent_Contig_42  41         2   544   \n",
       "dDocent_Contig_51-16          dDocent_Contig_51  16         2   544   \n",
       "dDocent_Contig_53-81          dDocent_Contig_53  81         2   544   \n",
       "dDocent_Contig_60-23          dDocent_Contig_60  23         2   544   \n",
       "...                                         ...  ..       ...   ...   \n",
       "dDocent_Contig_184313-15  dDocent_Contig_184313  15         2   544   \n",
       "dDocent_Contig_184319-37  dDocent_Contig_184319  37         2   544   \n",
       "dDocent_Contig_184321-16  dDocent_Contig_184321  16         2   544   \n",
       "dDocent_Contig_184323-22  dDocent_Contig_184323  22         2   544   \n",
       "dDocent_Contig_184324-40  dDocent_Contig_184324  40         2   544   \n",
       "\n",
       "                             A1_FREQ      A2_FREQ  \n",
       "dDocent_Contig_13-7       A:0.974265  G:0.0257353  \n",
       "dDocent_Contig_42-41      C:0.957721  T:0.0422794  \n",
       "dDocent_Contig_51-16      T:0.908088  C:0.0919118  \n",
       "dDocent_Contig_53-81      T:0.786765   C:0.213235  \n",
       "dDocent_Contig_60-23      A:0.926471  G:0.0735294  \n",
       "...                              ...          ...  \n",
       "dDocent_Contig_184313-15   A:0.84375    T:0.15625  \n",
       "dDocent_Contig_184319-37  A:0.965074  G:0.0349265  \n",
       "dDocent_Contig_184321-16  G:0.786765   T:0.213235  \n",
       "dDocent_Contig_184323-22  G:0.928309  A:0.0716912  \n",
       "dDocent_Contig_184324-40  C:0.955882  T:0.0441176  \n",
       "\n",
       "[28564 rows x 6 columns]"
      ]
     },
     "execution_count": 51,
     "metadata": {},
     "output_type": "execute_result"
    }
   ],
   "source": [
    "frq_df"
   ]
  },
  {
   "cell_type": "code",
   "execution_count": 52,
   "metadata": {},
   "outputs": [
    {
     "data": {
      "text/html": [
       "<div>\n",
       "<style scoped>\n",
       "    .dataframe tbody tr th:only-of-type {\n",
       "        vertical-align: middle;\n",
       "    }\n",
       "\n",
       "    .dataframe tbody tr th {\n",
       "        vertical-align: top;\n",
       "    }\n",
       "\n",
       "    .dataframe thead th {\n",
       "        text-align: right;\n",
       "    }\n",
       "</style>\n",
       "<table border=\"1\" class=\"dataframe\">\n",
       "  <thead>\n",
       "    <tr style=\"text-align: right;\">\n",
       "      <th></th>\n",
       "      <th>CHROM</th>\n",
       "      <th>POS</th>\n",
       "      <th>OBS(HOM1/HET/HOM2)</th>\n",
       "      <th>E(HOM1/HET/HOM2)</th>\n",
       "      <th>ChiSq_HWE</th>\n",
       "      <th>P_HWE</th>\n",
       "      <th>P_HET_DEFICIT</th>\n",
       "      <th>P_HET_EXCESS</th>\n",
       "    </tr>\n",
       "  </thead>\n",
       "  <tbody>\n",
       "    <tr>\n",
       "      <th>dDocent_Contig_13-7</th>\n",
       "      <td>dDocent_Contig_13</td>\n",
       "      <td>7</td>\n",
       "      <td>260/10/2</td>\n",
       "      <td>258.18/13.64/0.18</td>\n",
       "      <td>19.368300</td>\n",
       "      <td>9.664597e-03</td>\n",
       "      <td>9.664597e-03</td>\n",
       "      <td>9.997265e-01</td>\n",
       "    </tr>\n",
       "    <tr>\n",
       "      <th>dDocent_Contig_42-41</th>\n",
       "      <td>dDocent_Contig_42</td>\n",
       "      <td>41</td>\n",
       "      <td>260/1/11</td>\n",
       "      <td>249.49/22.03/0.49</td>\n",
       "      <td>247.864300</td>\n",
       "      <td>3.208823e-19</td>\n",
       "      <td>3.208823e-19</td>\n",
       "      <td>1.000000e+00</td>\n",
       "    </tr>\n",
       "    <tr>\n",
       "      <th>dDocent_Contig_51-16</th>\n",
       "      <td>dDocent_Contig_51</td>\n",
       "      <td>16</td>\n",
       "      <td>222/50/0</td>\n",
       "      <td>224.30/45.40/2.30</td>\n",
       "      <td>2.786474</td>\n",
       "      <td>1.434578e-01</td>\n",
       "      <td>1.000000e+00</td>\n",
       "      <td>8.362602e-02</td>\n",
       "    </tr>\n",
       "    <tr>\n",
       "      <th>dDocent_Contig_53-81</th>\n",
       "      <td>dDocent_Contig_53</td>\n",
       "      <td>81</td>\n",
       "      <td>156/116/0</td>\n",
       "      <td>168.37/91.26/12.37</td>\n",
       "      <td>19.980090</td>\n",
       "      <td>2.492508e-07</td>\n",
       "      <td>1.000000e+00</td>\n",
       "      <td>1.430472e-07</td>\n",
       "    </tr>\n",
       "    <tr>\n",
       "      <th>dDocent_Contig_60-23</th>\n",
       "      <td>dDocent_Contig_60</td>\n",
       "      <td>23</td>\n",
       "      <td>232/40/0</td>\n",
       "      <td>233.47/37.06/1.47</td>\n",
       "      <td>1.713278</td>\n",
       "      <td>3.764539e-01</td>\n",
       "      <td>1.000000e+00</td>\n",
       "      <td>2.127437e-01</td>\n",
       "    </tr>\n",
       "    <tr>\n",
       "      <th>...</th>\n",
       "      <td>...</td>\n",
       "      <td>...</td>\n",
       "      <td>...</td>\n",
       "      <td>...</td>\n",
       "      <td>...</td>\n",
       "      <td>...</td>\n",
       "      <td>...</td>\n",
       "      <td>...</td>\n",
       "    </tr>\n",
       "    <tr>\n",
       "      <th>dDocent_Contig_184313-15</th>\n",
       "      <td>dDocent_Contig_184313</td>\n",
       "      <td>15</td>\n",
       "      <td>190/79/3</td>\n",
       "      <td>193.64/71.72/6.64</td>\n",
       "      <td>2.803596</td>\n",
       "      <td>1.106027e-01</td>\n",
       "      <td>9.784852e-01</td>\n",
       "      <td>7.060737e-02</td>\n",
       "    </tr>\n",
       "    <tr>\n",
       "      <th>dDocent_Contig_184319-37</th>\n",
       "      <td>dDocent_Contig_184319</td>\n",
       "      <td>37</td>\n",
       "      <td>253/19/0</td>\n",
       "      <td>253.33/18.34/0.33</td>\n",
       "      <td>0.356252</td>\n",
       "      <td>1.000000e+00</td>\n",
       "      <td>1.000000e+00</td>\n",
       "      <td>7.221869e-01</td>\n",
       "    </tr>\n",
       "    <tr>\n",
       "      <th>dDocent_Contig_184321-16</th>\n",
       "      <td>dDocent_Contig_184321</td>\n",
       "      <td>16</td>\n",
       "      <td>156/116/0</td>\n",
       "      <td>168.37/91.26/12.37</td>\n",
       "      <td>19.980090</td>\n",
       "      <td>2.492508e-07</td>\n",
       "      <td>1.000000e+00</td>\n",
       "      <td>1.430472e-07</td>\n",
       "    </tr>\n",
       "    <tr>\n",
       "      <th>dDocent_Contig_184323-22</th>\n",
       "      <td>dDocent_Contig_184323</td>\n",
       "      <td>22</td>\n",
       "      <td>233/39/0</td>\n",
       "      <td>234.40/36.20/1.40</td>\n",
       "      <td>1.622241</td>\n",
       "      <td>3.763337e-01</td>\n",
       "      <td>1.000000e+00</td>\n",
       "      <td>2.305485e-01</td>\n",
       "    </tr>\n",
       "    <tr>\n",
       "      <th>dDocent_Contig_184324-40</th>\n",
       "      <td>dDocent_Contig_184324</td>\n",
       "      <td>40</td>\n",
       "      <td>251/18/3</td>\n",
       "      <td>248.53/22.94/0.53</td>\n",
       "      <td>12.618220</td>\n",
       "      <td>1.025929e-02</td>\n",
       "      <td>1.025929e-02</td>\n",
       "      <td>9.992436e-01</td>\n",
       "    </tr>\n",
       "  </tbody>\n",
       "</table>\n",
       "<p>28564 rows × 8 columns</p>\n",
       "</div>"
      ],
      "text/plain": [
       "                                          CHROM  POS OBS(HOM1/HET/HOM2)  \\\n",
       "dDocent_Contig_13-7           dDocent_Contig_13    7           260/10/2   \n",
       "dDocent_Contig_42-41          dDocent_Contig_42   41           260/1/11   \n",
       "dDocent_Contig_51-16          dDocent_Contig_51   16           222/50/0   \n",
       "dDocent_Contig_53-81          dDocent_Contig_53   81          156/116/0   \n",
       "dDocent_Contig_60-23          dDocent_Contig_60   23           232/40/0   \n",
       "...                                         ...  ...                ...   \n",
       "dDocent_Contig_184313-15  dDocent_Contig_184313   15           190/79/3   \n",
       "dDocent_Contig_184319-37  dDocent_Contig_184319   37           253/19/0   \n",
       "dDocent_Contig_184321-16  dDocent_Contig_184321   16          156/116/0   \n",
       "dDocent_Contig_184323-22  dDocent_Contig_184323   22           233/39/0   \n",
       "dDocent_Contig_184324-40  dDocent_Contig_184324   40           251/18/3   \n",
       "\n",
       "                            E(HOM1/HET/HOM2)   ChiSq_HWE         P_HWE  \\\n",
       "dDocent_Contig_13-7        258.18/13.64/0.18   19.368300  9.664597e-03   \n",
       "dDocent_Contig_42-41       249.49/22.03/0.49  247.864300  3.208823e-19   \n",
       "dDocent_Contig_51-16       224.30/45.40/2.30    2.786474  1.434578e-01   \n",
       "dDocent_Contig_53-81      168.37/91.26/12.37   19.980090  2.492508e-07   \n",
       "dDocent_Contig_60-23       233.47/37.06/1.47    1.713278  3.764539e-01   \n",
       "...                                      ...         ...           ...   \n",
       "dDocent_Contig_184313-15   193.64/71.72/6.64    2.803596  1.106027e-01   \n",
       "dDocent_Contig_184319-37   253.33/18.34/0.33    0.356252  1.000000e+00   \n",
       "dDocent_Contig_184321-16  168.37/91.26/12.37   19.980090  2.492508e-07   \n",
       "dDocent_Contig_184323-22   234.40/36.20/1.40    1.622241  3.763337e-01   \n",
       "dDocent_Contig_184324-40   248.53/22.94/0.53   12.618220  1.025929e-02   \n",
       "\n",
       "                          P_HET_DEFICIT  P_HET_EXCESS  \n",
       "dDocent_Contig_13-7        9.664597e-03  9.997265e-01  \n",
       "dDocent_Contig_42-41       3.208823e-19  1.000000e+00  \n",
       "dDocent_Contig_51-16       1.000000e+00  8.362602e-02  \n",
       "dDocent_Contig_53-81       1.000000e+00  1.430472e-07  \n",
       "dDocent_Contig_60-23       1.000000e+00  2.127437e-01  \n",
       "...                                 ...           ...  \n",
       "dDocent_Contig_184313-15   9.784852e-01  7.060737e-02  \n",
       "dDocent_Contig_184319-37   1.000000e+00  7.221869e-01  \n",
       "dDocent_Contig_184321-16   1.000000e+00  1.430472e-07  \n",
       "dDocent_Contig_184323-22   1.000000e+00  2.305485e-01  \n",
       "dDocent_Contig_184324-40   1.025929e-02  9.992436e-01  \n",
       "\n",
       "[28564 rows x 8 columns]"
      ]
     },
     "execution_count": 52,
     "metadata": {},
     "output_type": "execute_result"
    }
   ],
   "source": [
    "hardy"
   ]
  },
  {
   "cell_type": "code",
   "execution_count": 53,
   "metadata": {},
   "outputs": [],
   "source": [
    "loci_out = os.path.join(analysis_dir,'loci_out.csv')\n",
    "frq_out = os.path.join(analysis_dir,'frq_out.csv')\n",
    "hardy_out = os.path.join(analysis_dir,'hardy_out.csv')\n",
    "\n",
    "loci_df.to_csv(path_or_buf=loci_out)\n",
    "frq_df.to_csv(path_or_buf=frq_out)\n",
    "hardy.to_csv(path_or_buf=hardy_out)\n"
   ]
  },
  {
   "cell_type": "code",
   "execution_count": 54,
   "metadata": {},
   "outputs": [
    {
     "data": {
      "text/plain": [
       "count    28564.000000\n",
       "mean      3691.213065\n",
       "std       6974.294091\n",
       "min        168.000000\n",
       "25%        923.000000\n",
       "50%       1437.000000\n",
       "75%       3092.250000\n",
       "max      68242.000000\n",
       "Name: SUM_DEPTH, dtype: float64"
      ]
     },
     "execution_count": 54,
     "metadata": {},
     "output_type": "execute_result"
    }
   ],
   "source": [
    "loci_df.SUM_DEPTH.describe()"
   ]
  },
  {
   "cell_type": "code",
   "execution_count": 55,
   "metadata": {},
   "outputs": [
    {
     "data": {
      "text/plain": [
       "count    28564.000000\n",
       "mean        13.570636\n",
       "std         25.640786\n",
       "min          0.617647\n",
       "25%          3.393380\n",
       "50%          5.283090\n",
       "75%         11.368525\n",
       "max        250.890000\n",
       "Name: MEAN_DEPTH, dtype: float64"
      ]
     },
     "execution_count": 55,
     "metadata": {},
     "output_type": "execute_result"
    }
   ],
   "source": [
    "loci_df.MEAN_DEPTH.describe()"
   ]
  },
  {
   "cell_type": "code",
   "execution_count": 56,
   "metadata": {},
   "outputs": [
    {
     "data": {
      "text/plain": [
       "count    28564.000000\n",
       "mean       977.769374\n",
       "std        135.635202\n",
       "min         12.812600\n",
       "25%        999.000000\n",
       "50%        999.000000\n",
       "75%        999.000000\n",
       "max        999.000000\n",
       "Name: QUAL, dtype: float64"
      ]
     },
     "execution_count": 56,
     "metadata": {},
     "output_type": "execute_result"
    }
   ],
   "source": [
    "loci_df.QUAL.describe()"
   ]
  },
  {
   "cell_type": "code",
   "execution_count": 57,
   "metadata": {
    "scrolled": true
   },
   "outputs": [
    {
     "data": {
      "image/png": "[encoded data removed]",
      "text/plain": [
       "<Figure size 432x288 with 1 Axes>"
      ]
     },
     "metadata": {
      "image/png": {
       "height": 248,
       "width": 401
      },
      "needs_background": "light"
     },
     "output_type": "display_data"
    }
   ],
   "source": [
    "loci_df.QUAL.plot(kind=\"hist\");"
   ]
  },
  {
   "cell_type": "code",
   "execution_count": 58,
   "metadata": {},
   "outputs": [
    {
     "data": {
      "image/png": "[encoded data removed]",
      "text/plain": [
       "<Figure size 432x288 with 1 Axes>"
      ]
     },
     "metadata": {
      "image/png": {
       "height": 248,
       "width": 401
      },
      "needs_background": "light"
     },
     "output_type": "display_data"
    }
   ],
   "source": [
    "loci_df.MEAN_DEPTH.plot(kind=\"hist\");"
   ]
  },
  {
   "cell_type": "code",
   "execution_count": 60,
   "metadata": {},
   "outputs": [
    {
     "data": {
      "text/plain": [
       "0"
      ]
     },
     "execution_count": 60,
     "metadata": {},
     "output_type": "execute_result"
    }
   ],
   "source": [
    "len(loci_df[loci_df.Fis == -9])"
   ]
  },
  {
   "cell_type": "code",
   "execution_count": 61,
   "metadata": {},
   "outputs": [
    {
     "data": {
      "text/plain": [
       "(23950, 28125)"
      ]
     },
     "execution_count": 61,
     "metadata": {},
     "output_type": "execute_result"
    }
   ],
   "source": [
    "len(loci_df[loci_df.SUM_DEPTH <5000]),len(loci_df[loci_df.SUM_DEPTH >=500])"
   ]
  },
  {
   "cell_type": "code",
   "execution_count": 62,
   "metadata": {},
   "outputs": [
    {
     "data": {
      "text/plain": [
       "(3398, 27808)"
      ]
     },
     "execution_count": 62,
     "metadata": {},
     "output_type": "execute_result"
    }
   ],
   "source": [
    "len(loci_df[loci_df.MEAN_DEPTH > 25 ]),len(loci_df[loci_df.MEAN_DEPTH >= 2])"
   ]
  },
  {
   "cell_type": "code",
   "execution_count": 63,
   "metadata": {},
   "outputs": [
    {
     "data": {
      "text/plain": [
       "5"
      ]
     },
     "execution_count": 63,
     "metadata": {},
     "output_type": "execute_result"
    }
   ],
   "source": [
    "len(loci_df[loci_df.QUAL >= 20]) - len(loci_df[loci_df.QUAL >= 30])"
   ]
  },
  {
   "cell_type": "code",
   "execution_count": 69,
   "metadata": {},
   "outputs": [
    {
     "data": {
      "text/plain": [
       "(27883, 27880, 27880)"
      ]
     },
     "execution_count": 69,
     "metadata": {},
     "output_type": "execute_result"
    }
   ],
   "source": [
    "len(loci_df[loci_df.QUAL >  200]), len(loci_df[loci_df.QUAL > 500]), len(loci_df[loci_df.QUAL == 999])"
   ]
  },
  {
   "cell_type": "code",
   "execution_count": 70,
   "metadata": {},
   "outputs": [
    {
     "data": {
      "text/plain": [
       "(27943, 104)"
      ]
     },
     "execution_count": 70,
     "metadata": {},
     "output_type": "execute_result"
    }
   ],
   "source": [
    " len(loci_df[loci_df.Fis >= -0.5]), len(loci_df[loci_df.MAF < 0.02])"
   ]
  },
  {
   "cell_type": "code",
   "execution_count": 71,
   "metadata": {},
   "outputs": [],
   "source": [
    "def filter_snps(df, imputed=False):\n",
    "    if imputed:\n",
    "        return df[(df.MAF >= 0.01) &  \n",
    "                  (df.Fis > -0.5)]\n",
    "    else:\n",
    "        return df[(df.MEAN_DEPTH >= 2) & \n",
    "                  (df.MEAN_DEPTH < 25) & \n",
    "                  (df.QUAL >= 999) & \n",
    "                  (df.MAF >= 0.02) &\n",
    "                  (df.Fis >= -0.5)]"
   ]
  },
  {
   "cell_type": "code",
   "execution_count": 72,
   "metadata": {},
   "outputs": [
    {
     "data": {
      "text/plain": [
       "(23442, 25)"
      ]
     },
     "execution_count": 72,
     "metadata": {},
     "output_type": "execute_result"
    }
   ],
   "source": [
    "#42513 with df.Fis >= -0.5\n",
    "#42688 without \n",
    "loci_stage1 = filter_snps(loci_df)\n",
    "loci_stage1.shape"
   ]
  },
  {
   "cell_type": "code",
   "execution_count": 73,
   "metadata": {},
   "outputs": [],
   "source": [
    "with open(os.path.join(analysis_dir, \"stage1_positions.txt\"), \"w\") as o:\n",
    "    for elem in loci_stage1.index:\n",
    "        o.write(\"%s\\n\" % \"\\t\".join(elem.split(\"-\")))"
   ]
  },
  {
   "cell_type": "code",
   "execution_count": 74,
   "metadata": {
    "run_control": {
     "marked": false
    }
   },
   "outputs": [
    {
     "name": "stdout",
     "output_type": "stream",
     "text": [
      "\n",
      "VCFtools - 0.1.16\n",
      "(C) Adam Auton and Anthony Marcketta 2009\n",
      "\n",
      "Parameters as interpreted:\n",
      "\t--gzvcf /data/gpfs/assoc/denovo/tfaske/CHDO/SNPcall/filtering/snps_indv_removed.recode.vcf.gz\n",
      "\t--recode-INFO-all\n",
      "\t--out /data/gpfs/assoc/denovo/tfaske/CHDO/SNPcall/filtering/good_snps\n",
      "\t--positions /data/gpfs/assoc/denovo/tfaske/CHDO/SNPcall/filtering/stage1_positions.txt\n",
      "\t--recode\n",
      "\t--remove-filtered-all\n",
      "\t--remove-indels\n",
      "\n",
      "Using zlib version: 1.2.11\n",
      "Warning: Expected at least 2 parts in INFO entry: ID=PV4,Number=4,Type=Float,Description=\"P-values for strand bias, baseQ bias, mapQ bias and tail distance bias\">\n",
      "Warning: Expected at least 2 parts in INFO entry: ID=PV4,Number=4,Type=Float,Description=\"P-values for strand bias, baseQ bias, mapQ bias and tail distance bias\">\n",
      "Warning: Expected at least 2 parts in INFO entry: ID=DP4,Number=4,Type=Integer,Description=\"Number of high-quality ref-forward , ref-reverse, alt-forward and alt-reverse bases\">\n",
      "Warning: Expected at least 2 parts in INFO entry: ID=DP4,Number=4,Type=Integer,Description=\"Number of high-quality ref-forward , ref-reverse, alt-forward and alt-reverse bases\">\n",
      "After filtering, kept 272 out of 272 Individuals\n",
      "Outputting VCF file...\n",
      "After filtering, kept 23442 out of a possible 28564 Sites\n",
      "Run Time = 14.00 seconds\n"
     ]
    }
   ],
   "source": [
    "!$vcftools --gzvcf $vcf_bad_remove_gz \\\n",
    "--remove-indels  \\\n",
    "--remove-filtered-all \\\n",
    "--recode \\\n",
    "--recode-INFO-all \\\n",
    "--positions {os.path.join(analysis_dir, \"stage1_positions.txt\")} \\\n",
    "--out {os.path.join(analysis_dir, \"good_snps\")}"
   ]
  },
  {
   "cell_type": "code",
   "execution_count": 75,
   "metadata": {},
   "outputs": [],
   "source": [
    "snps = os.path.join(analysis_dir, \"good_snps.recode.vcf\")\n",
    "snps_gz = snps + \".gz\"\n",
    "!$bgzip -c {snps} > {snps_gz}\n",
    "!$tabix {snps_gz}"
   ]
  },
  {
   "cell_type": "markdown",
   "metadata": {},
   "source": [
    "## recalculate missing data (loci / indv) & remove alleles not present in one ssp_ploidy group"
   ]
  },
  {
   "cell_type": "code",
   "execution_count": 76,
   "metadata": {},
   "outputs": [],
   "source": [
    "%%R\n",
    "vcf <- read.vcfR(\"good_snps.recode.vcf\", verbose = FALSE)\n",
    "\n",
    "#get positions\n",
    "chrom <- getCHROM(vcf)\n",
    "pos <- getPOS(vcf)\n",
    "pos_ID <- paste(chrom,pos,sep = ':')"
   ]
  },
  {
   "cell_type": "code",
   "execution_count": 77,
   "metadata": {},
   "outputs": [],
   "source": [
    "%%R\n",
    "#get DP \n",
    "dp <- extract.gt(vcf, element = 'DP')"
   ]
  },
  {
   "cell_type": "code",
   "execution_count": 78,
   "metadata": {},
   "outputs": [
    {
     "name": "stdout",
     "output_type": "stream",
     "text": [
      "[1] 23442\n",
      " [1] \"dDocent_Contig_794:58\"  \"dDocent_Contig_860:5\"   \"dDocent_Contig_1448:8\" \n",
      " [4] \"dDocent_Contig_2012:5\"  \"dDocent_Contig_2169:59\" \"dDocent_Contig_2541:34\"\n",
      " [7] \"dDocent_Contig_2679:47\" \"dDocent_Contig_2762:47\" \"dDocent_Contig_2933:69\"\n",
      "[10] \"dDocent_Contig_3152:79\"\n",
      "                       CD2_IP_10 CD2_IP_11 CD2_IP_12 CD2_IP_1 CD2_IP_2\n",
      "dDocent_Contig_794_58  \"4\"       \"6\"       \"0\"       \"0\"      \"2\"     \n",
      "dDocent_Contig_860_5   \"0\"       \"0\"       \"3\"       \"0\"      \"13\"    \n",
      "dDocent_Contig_1448_8  \"18\"      \"25\"      \"0\"       \"0\"      \"5\"     \n",
      "dDocent_Contig_2012_5  \"3\"       \"3\"       \"0\"       \"8\"      \"12\"    \n",
      "dDocent_Contig_2169_59 \"7\"       \"0\"       \"0\"       \"2\"      \"2\"     \n"
     ]
    }
   ],
   "source": [
    "%%R\n",
    "## check out PL and pos_ID\n",
    "print(length(pos_ID))\n",
    "print(pos_ID[1:10])\n",
    "dp[1:5,1:5]"
   ]
  },
  {
   "cell_type": "code",
   "execution_count": 82,
   "metadata": {},
   "outputs": [
    {
     "name": "stdout",
     "output_type": "stream",
     "text": [
      "[1] 272\n",
      " [1] \"CD2_IP_10\" \"CD2_IP_11\" \"CD2_IP_12\" \"CD2_IP_1\"  \"CD2_IP_2\"  \"CD2_IP_3\" \n",
      " [7] \"CD2_IP_4\"  \"CD2_IP_5\"  \"CD2_IP_6\"  \"CD2_IP_7\" \n",
      "CD2 CD2 CD2 CD2 CD2 CD2 CD2 CD2 CD2 CD2 \n",
      "\"2\" \"2\" \"2\" \"2\" \"2\" \"2\" \"2\" \"2\" \"2\" \"2\" \n",
      "[1] \"2\" \"4\" \"6\"\n"
     ]
    }
   ],
   "source": [
    "%%R\n",
    "ID <- colnames(dp)\n",
    "ssp_ploid <- as.character(sapply(ID,function(s) unlist(strsplit(as.character(s),'_'))[1]))\n",
    "ploidy <- sapply(ssp_ploid,function(s) gsub('(\\\\D)','',s,perl=TRUE))\n",
    "print(length(ID))\n",
    "print(ID[1:10])\n",
    "print(ploidy[1:10])\n",
    "print(unique(ploidy))"
   ]
  },
  {
   "cell_type": "markdown",
   "metadata": {},
   "source": [
    "#### Calculate missing loci and individual"
   ]
  },
  {
   "cell_type": "code",
   "execution_count": 99,
   "metadata": {},
   "outputs": [
    {
     "name": "stdout",
     "output_type": "stream",
     "text": [
      "[1] 23442   272\n",
      "[1] 23442\n",
      "[1] 272\n"
     ]
    }
   ],
   "source": [
    "%%R\n",
    "print(dim(dp))\n",
    "nindv <- ncol(dp)\n",
    "nloci <- nrow(dp)\n",
    "print(nloci)\n",
    "print(nindv)"
   ]
  },
  {
   "cell_type": "code",
   "execution_count": 81,
   "metadata": {},
   "outputs": [
    {
     "name": "stdout",
     "output_type": "stream",
     "text": [
      "[1] 23442\n",
      "   Min. 1st Qu.  Median    Mean 3rd Qu.    Max. \n",
      "0.00000 0.08456 0.19118 0.22276 0.34559 0.60294 \n"
     ]
    }
   ],
   "source": [
    "%%R\n",
    "miss_loci <- apply(dp,1, function(d) length(which(d == \"0\"))/nindv)\n",
    "#miss_loci <- apply(dp[,1:100],1, function(d) (length(which(d == \"0\"))/100))\n",
    "print(length(miss_loci))\n",
    "print(summary(miss_loci))"
   ]
  },
  {
   "cell_type": "code",
   "execution_count": 102,
   "metadata": {},
   "outputs": [
    {
     "name": "stdout",
     "output_type": "stream",
     "text": [
      "   Min. 1st Qu.  Median    Mean 3rd Qu.    Max. \n",
      "  0.000   0.130   0.270   0.294   0.440   0.980 \n",
      "   Min. 1st Qu.  Median    Mean 3rd Qu.    Max. \n",
      "0.00000 0.05634 0.14789 0.18462 0.28873 0.80986 \n",
      "   Min. 1st Qu.  Median    Mean 3rd Qu.    Max. \n",
      " 0.0000  0.0000  0.1000  0.1657  0.2667  1.0000 \n"
     ]
    }
   ],
   "source": [
    "%%R\n",
    "#calculaate missing within each ploidy\n",
    "\n",
    "#subset dp\n",
    "dp2 <- dp[,which(ploidy=='2')]\n",
    "dp4 <- dp[,which(ploidy=='4')]\n",
    "dp6 <- dp[,which(ploidy=='6')]\n",
    "\n",
    "\n",
    "#calc miss\n",
    "miss_loci_2 <- apply(dp2,1, function(d) length(which(d == \"0\"))/ncol(dp2))\n",
    "print(summary(miss_loci_2))\n",
    "                       \n",
    "miss_loci_4 <- apply(dp4,1, function(d) length(which(d == \"0\"))/ncol(dp4))\n",
    "print(summary(miss_loci_4))\n",
    "\n",
    "miss_loci_6 <- apply(dp6,1, function(d) length(which(d == \"0\"))/ncol(dp6))\n",
    "print(summary(miss_loci_6))"
   ]
  },
  {
   "cell_type": "code",
   "execution_count": 104,
   "metadata": {},
   "outputs": [
    {
     "name": "stdout",
     "output_type": "stream",
     "text": [
      " dDocent_Contig_42991_23  dDocent_Contig_57270_55  dDocent_Contig_73129_10 \n",
      "                    2514                     4083                     5999 \n",
      " dDocent_Contig_98348_46 dDocent_Contig_106512_15 dDocent_Contig_122130_63 \n",
      "                    9221                    10363                    12766 \n",
      "dDocent_Contig_122933_24 dDocent_Contig_144329_35 dDocent_Contig_152783_38 \n",
      "                   12877                    16374                    17732 \n",
      "dDocent_Contig_158888_43 dDocent_Contig_180546_43  dDocent_Contig_45101_23 \n",
      "                   18821                    22746                     2746 \n",
      " dDocent_Contig_65000_27  dDocent_Contig_74031_52   dDocent_Contig_96334_7 \n",
      "                    5006                     6097                     8934 \n",
      "dDocent_Contig_108570_42 dDocent_Contig_168919_14 \n",
      "                   10653                    20606 \n",
      "[1] 23442\n",
      "[1] 17\n",
      "[1] 23425\n"
     ]
    }
   ],
   "source": [
    "%%R \n",
    "miss_index_2 <- which(miss_loci_2 >= 0.95)\n",
    "miss_index_4 <- which(miss_loci_4 >= 0.95)\n",
    "miss_index_6 <- which(miss_loci_6 >= 0.95)\n",
    "\n",
    "miss_index <- c(miss_index_2,miss_index_4,miss_index_6)\n",
    "print(miss_index)\n",
    "\n",
    "keep_missP <- pos_ID[-miss_index]\n",
    "print(length(pos_ID))\n",
    "print(length(miss_index))\n",
    "print(length(keep_missP))"
   ]
  },
  {
   "cell_type": "code",
   "execution_count": 105,
   "metadata": {},
   "outputs": [
    {
     "name": "stdout",
     "output_type": "stream",
     "text": [
      "                                     chrom pos\n",
      "dDocent_Contig_794:58   dDocent_Contig_794  58\n",
      "dDocent_Contig_860:5    dDocent_Contig_860   5\n",
      "dDocent_Contig_1448:8  dDocent_Contig_1448   8\n",
      "dDocent_Contig_2012:5  dDocent_Contig_2012   5\n",
      "dDocent_Contig_2169:59 dDocent_Contig_2169  59\n",
      "dDocent_Contig_2541:34 dDocent_Contig_2541  34\n"
     ]
    }
   ],
   "source": [
    "%%R\n",
    "keep_missP_df <- data.frame(chrom=sapply(keep_missP,function(s) unlist(strsplit(as.character(s),':'))[1]),\n",
    "                             pos=sapply(keep_missP,function(s) unlist(strsplit(as.character(s),':'))[2]))\n",
    "print(head(keep_missP_df))    \n",
    "write.table(keep_missP_df,'keep_missPloidy5.txt',quote=F,row.names=F,col.names=F,sep='\\t')"
   ]
  },
  {
   "cell_type": "markdown",
   "metadata": {},
   "source": [
    "#### keep loci with less than 5% missing in each ploidy"
   ]
  },
  {
   "cell_type": "markdown",
   "metadata": {},
   "source": [
    "### Miss indv!"
   ]
  },
  {
   "cell_type": "code",
   "execution_count": 106,
   "metadata": {},
   "outputs": [
    {
     "name": "stdout",
     "output_type": "stream",
     "text": [
      "[1] 272\n",
      "   Min. 1st Qu.  Median    Mean 3rd Qu.    Max. \n",
      "0.02999 0.12560 0.21278 0.22276 0.29606 0.48260 \n"
     ]
    }
   ],
   "source": [
    "%%R\n",
    "nloci <- nrow(dp)\n",
    "#print(nloci)\n",
    "\n",
    "miss_indv <- apply(dp,2, function(d) length(which(d == \"0\"))/nloci)\n",
    "print(length(miss_indv))\n",
    "print(summary(miss_indv))"
   ]
  },
  {
   "cell_type": "code",
   "execution_count": 107,
   "metadata": {},
   "outputs": [
    {
     "name": "stdout",
     "output_type": "stream",
     "text": [
      "[1] \"number of individuals with greater than 10% missing data.....  245\"\n",
      "[1] \"number of individuals with greater than 20% missing data.....  144\"\n",
      "[1] \"number of individuals with greater than 30% missing data.....  65\"\n",
      "[1] \"number of individuals with greater than 40% missing data.....  10\"\n",
      "[1] \"number of individuals with greater than 50% missing data.....  0\"\n",
      "[1] \"number of individuals with greater than 60% missing data.....  0\"\n",
      "[1] \"number of individuals with greater than 70% missing data.....  0\"\n",
      "[1] \"number of individuals with greater than 80% missing data.....  0\"\n",
      "[1] \"number of individuals with greater than 90% missing data.....  0\"\n"
     ]
    }
   ],
   "source": [
    "%%R\n",
    "for (perc in seq(.1,.9,by=.1)){\n",
    "    print(paste0('number of individuals with greater than ',perc*100,'% missing data.....  ',\n",
    "                 length(which(miss_indv >= perc))))\n",
    "}"
   ]
  },
  {
   "cell_type": "markdown",
   "metadata": {},
   "source": [
    "### No individuals have more than 50% missing data.  Only removing miss oci"
   ]
  },
  {
   "cell_type": "code",
   "execution_count": 115,
   "metadata": {},
   "outputs": [
    {
     "name": "stdout",
     "output_type": "stream",
     "text": [
      "\n",
      "VCFtools - 0.1.16\n",
      "(C) Adam Auton and Anthony Marcketta 2009\n",
      "\n",
      "Parameters as interpreted:\n",
      "\t--gzvcf /data/gpfs/assoc/denovo/tfaske/CHDO/SNPcall/filtering/good_snps.recode.vcf.gz\n",
      "\t--recode-INFO-all\n",
      "\t--out /data/gpfs/assoc/denovo/tfaske/CHDO/SNPcall/filtering/final_snps\n",
      "\t--positions /data/gpfs/assoc/denovo/tfaske/CHDO/SNPcall/filtering/keep_missPloidy5.txt\n",
      "\t--recode\n",
      "\t--remove-filtered-all\n",
      "\n",
      "Using zlib version: 1.2.11\n",
      "Warning: Expected at least 2 parts in INFO entry: ID=PV4,Number=4,Type=Float,Description=\"P-values for strand bias, baseQ bias, mapQ bias and tail distance bias\">\n",
      "Warning: Expected at least 2 parts in INFO entry: ID=PV4,Number=4,Type=Float,Description=\"P-values for strand bias, baseQ bias, mapQ bias and tail distance bias\">\n",
      "Warning: Expected at least 2 parts in INFO entry: ID=DP4,Number=4,Type=Integer,Description=\"Number of high-quality ref-forward , ref-reverse, alt-forward and alt-reverse bases\">\n",
      "Warning: Expected at least 2 parts in INFO entry: ID=DP4,Number=4,Type=Integer,Description=\"Number of high-quality ref-forward , ref-reverse, alt-forward and alt-reverse bases\">\n",
      "After filtering, kept 272 out of 272 Individuals\n",
      "Outputting VCF file...\n",
      "After filtering, kept 23425 out of a possible 23442 Sites\n",
      "Run Time = 15.00 seconds\n"
     ]
    }
   ],
   "source": [
    "!$vcftools --gzvcf $snps_gz \\\n",
    "--remove-filtered-all \\\n",
    "--recode \\\n",
    "--recode-INFO-all \\\n",
    "--positions {os.path.join(analysis_dir, \"keep_missPloidy5.txt\")} \\\n",
    "--out {os.path.join(analysis_dir, \"final_snps\")}"
   ]
  },
  {
   "cell_type": "code",
   "execution_count": 116,
   "metadata": {},
   "outputs": [],
   "source": [
    "final_vcf = \"final_snps.recode.vcf\"\n",
    "final_vcf_gz = \"%s.gz\" % final_vcf\n",
    "!$bgzip -c $final_vcf > {final_vcf_gz}\n",
    "!$tabix {final_vcf_gz}"
   ]
  },
  {
   "cell_type": "markdown",
   "metadata": {},
   "source": [
    "# Make 012"
   ]
  },
  {
   "cell_type": "code",
   "execution_count": 117,
   "metadata": {},
   "outputs": [
    {
     "name": "stdout",
     "output_type": "stream",
     "text": [
      "\n",
      "VCFtools - 0.1.16\n",
      "(C) Adam Auton and Anthony Marcketta 2009\n",
      "\n",
      "Parameters as interpreted:\n",
      "\t--gzvcf /data/gpfs/assoc/denovo/tfaske/CHDO/SNPcall/filtering/final_snps.recode.vcf\n",
      "\t--012\n",
      "\t--out /data/gpfs/assoc/denovo/tfaske/CHDO/SNPcall/filtering/final_snps.recode.vcf\n",
      "\n",
      "Using zlib version: 1.2.11\n",
      "Warning: Expected at least 2 parts in INFO entry: ID=PV4,Number=4,Type=Float,Description=\"P-values for strand bias, baseQ bias, mapQ bias and tail distance bias\">\n",
      "Warning: Expected at least 2 parts in INFO entry: ID=PV4,Number=4,Type=Float,Description=\"P-values for strand bias, baseQ bias, mapQ bias and tail distance bias\">\n",
      "Warning: Expected at least 2 parts in INFO entry: ID=DP4,Number=4,Type=Integer,Description=\"Number of high-quality ref-forward , ref-reverse, alt-forward and alt-reverse bases\">\n",
      "Warning: Expected at least 2 parts in INFO entry: ID=DP4,Number=4,Type=Integer,Description=\"Number of high-quality ref-forward , ref-reverse, alt-forward and alt-reverse bases\">\n",
      "After filtering, kept 272 out of 272 Individuals\n",
      "Writing 012 matrix files ... Done.\n",
      "After filtering, kept 23425 out of a possible 23425 Sites\n",
      "Run Time = 3.00 seconds\n"
     ]
    }
   ],
   "source": [
    "f = os.path.join(analysis_dir, \"final_snps.recode.vcf\")\n",
    "!$vcftools --gzvcf {f} \\\n",
    "--out {f} \\\n",
    "--012"
   ]
  },
  {
   "cell_type": "markdown",
   "metadata": {},
   "source": [
    "# Get coverage per individual"
   ]
  },
  {
   "cell_type": "code",
   "execution_count": 118,
   "metadata": {
    "scrolled": true
   },
   "outputs": [
    {
     "name": "stdout",
     "output_type": "stream",
     "text": [
      "\n",
      "VCFtools - 0.1.16\n",
      "(C) Adam Auton and Anthony Marcketta 2009\n",
      "\n",
      "Parameters as interpreted:\n",
      "\t--gzvcf /data/gpfs/assoc/denovo/tfaske/CHDO/SNPcall/filtering/final_snps.recode.vcf\n",
      "\t--depth\n",
      "\t--out /data/gpfs/assoc/denovo/tfaske/CHDO/SNPcall/filtering/final_snps.recode.vcf\n",
      "\n",
      "Using zlib version: 1.2.11\n",
      "Warning: Expected at least 2 parts in INFO entry: ID=PV4,Number=4,Type=Float,Description=\"P-values for strand bias, baseQ bias, mapQ bias and tail distance bias\">\n",
      "Warning: Expected at least 2 parts in INFO entry: ID=PV4,Number=4,Type=Float,Description=\"P-values for strand bias, baseQ bias, mapQ bias and tail distance bias\">\n",
      "Warning: Expected at least 2 parts in INFO entry: ID=DP4,Number=4,Type=Integer,Description=\"Number of high-quality ref-forward , ref-reverse, alt-forward and alt-reverse bases\">\n",
      "Warning: Expected at least 2 parts in INFO entry: ID=DP4,Number=4,Type=Integer,Description=\"Number of high-quality ref-forward , ref-reverse, alt-forward and alt-reverse bases\">\n",
      "After filtering, kept 272 out of 272 Individuals\n",
      "Outputting Mean Depth by Individual\n",
      "After filtering, kept 23425 out of a possible 23425 Sites\n",
      "Run Time = 2.00 seconds\n"
     ]
    }
   ],
   "source": [
    "f = os.path.join(analysis_dir, \"final_snps.recode.vcf\")\n",
    "!$vcftools --gzvcf {f} \\\n",
    "--out {f} \\\n",
    "--depth"
   ]
  },
  {
   "cell_type": "code",
   "execution_count": 119,
   "metadata": {},
   "outputs": [
    {
     "data": {
      "text/html": [
       "<div>\n",
       "<style scoped>\n",
       "    .dataframe tbody tr th:only-of-type {\n",
       "        vertical-align: middle;\n",
       "    }\n",
       "\n",
       "    .dataframe tbody tr th {\n",
       "        vertical-align: top;\n",
       "    }\n",
       "\n",
       "    .dataframe thead th {\n",
       "        text-align: right;\n",
       "    }\n",
       "</style>\n",
       "<table border=\"1\" class=\"dataframe\">\n",
       "  <thead>\n",
       "    <tr style=\"text-align: right;\">\n",
       "      <th></th>\n",
       "      <th>INDV</th>\n",
       "      <th>N_SITES</th>\n",
       "      <th>MEAN_DEPTH</th>\n",
       "    </tr>\n",
       "  </thead>\n",
       "  <tbody>\n",
       "    <tr>\n",
       "      <th>0</th>\n",
       "      <td>CD2_IP_10</td>\n",
       "      <td>23425</td>\n",
       "      <td>3.40154</td>\n",
       "    </tr>\n",
       "    <tr>\n",
       "      <th>1</th>\n",
       "      <td>CD2_IP_11</td>\n",
       "      <td>23425</td>\n",
       "      <td>4.32120</td>\n",
       "    </tr>\n",
       "    <tr>\n",
       "      <th>2</th>\n",
       "      <td>CD2_IP_12</td>\n",
       "      <td>23425</td>\n",
       "      <td>2.15266</td>\n",
       "    </tr>\n",
       "    <tr>\n",
       "      <th>3</th>\n",
       "      <td>CD2_IP_1</td>\n",
       "      <td>23425</td>\n",
       "      <td>3.83799</td>\n",
       "    </tr>\n",
       "    <tr>\n",
       "      <th>4</th>\n",
       "      <td>CD2_IP_2</td>\n",
       "      <td>23425</td>\n",
       "      <td>7.09541</td>\n",
       "    </tr>\n",
       "  </tbody>\n",
       "</table>\n",
       "</div>"
      ],
      "text/plain": [
       "        INDV  N_SITES  MEAN_DEPTH\n",
       "0  CD2_IP_10    23425     3.40154\n",
       "1  CD2_IP_11    23425     4.32120\n",
       "2  CD2_IP_12    23425     2.15266\n",
       "3   CD2_IP_1    23425     3.83799\n",
       "4   CD2_IP_2    23425     7.09541"
      ]
     },
     "execution_count": 119,
     "metadata": {},
     "output_type": "execute_result"
    }
   ],
   "source": [
    "depth_file = os.path.join(analysis_dir, \"final_snps.recode.vcf.idepth\")\n",
    "depth_df = pd.read_csv(depth_file, sep=\"\\t\")\n",
    "depth_df.head()"
   ]
  },
  {
   "cell_type": "code",
   "execution_count": 120,
   "metadata": {},
   "outputs": [
    {
     "data": {
      "text/plain": [
       "count    272.000000\n",
       "mean       6.597381\n",
       "std        2.345765\n",
       "min        2.152660\n",
       "25%        4.650877\n",
       "50%        6.661770\n",
       "75%        8.303937\n",
       "max       12.592300\n",
       "Name: MEAN_DEPTH, dtype: float64"
      ]
     },
     "execution_count": 120,
     "metadata": {},
     "output_type": "execute_result"
    }
   ],
   "source": [
    "depth_df.MEAN_DEPTH.describe()"
   ]
  },
  {
   "cell_type": "markdown",
   "metadata": {},
   "source": [
    "# Remove unnecessary files"
   ]
  },
  {
   "cell_type": "code",
   "execution_count": 121,
   "metadata": {},
   "outputs": [],
   "source": [
    "!rm *vcf"
   ]
  },
  {
   "cell_type": "code",
   "execution_count": null,
   "metadata": {},
   "outputs": [],
   "source": []
  },
  {
   "cell_type": "code",
   "execution_count": null,
   "metadata": {},
   "outputs": [],
   "source": []
  }
 ],
 "metadata": {
  "kernelspec": {
   "display_name": "Python 3",
   "language": "python",
   "name": "python3"
  },
  "language_info": {
   "codemirror_mode": {
    "name": "ipython",
    "version": 3
   },
   "file_extension": ".py",
   "mimetype": "text/x-python",
   "name": "python",
   "nbconvert_exporter": "python",
   "pygments_lexer": "ipython3",
   "version": "3.6.7"
  }
 },
 "nbformat": 4,
 "nbformat_minor": 1
}
